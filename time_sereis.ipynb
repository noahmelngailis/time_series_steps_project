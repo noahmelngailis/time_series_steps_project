{
 "cells": [
  {
   "cell_type": "markdown",
   "metadata": {},
   "source": [
    "# Time Series Analysis Mini Project:  Let's explore my steps, and if we are feeling froggy maybe use FB prophet to model..."
   ]
  },
  {
   "cell_type": "code",
   "execution_count": null,
   "metadata": {},
   "outputs": [],
   "source": [
    "import pandas as pd\n",
    "import numpy as np\n",
    "import datetime\n",
    "\n",
    "import matplotlib.pyplot as plt\n",
    "import seaborn as sns"
   ]
  },
  {
   "cell_type": "markdown",
   "metadata": {},
   "source": [
    "# Acquire!\n",
    "\n",
    "### Imported steps from my personal Iphone pedometer. \n",
    "\n",
    "#### Steps to repeat:\n",
    "1. Export from Iphone pedometer in settings\n",
    "2. Save to file\n",
    "3. Upload using pandas!"
   ]
  },
  {
   "cell_type": "code",
   "execution_count": null,
   "metadata": {},
   "outputs": [],
   "source": [
    "df = pd.read_csv(\"Export.csv\")"
   ]
  },
  {
   "cell_type": "code",
   "execution_count": null,
   "metadata": {},
   "outputs": [],
   "source": [
    "df.head(2)"
   ]
  },
  {
   "cell_type": "code",
   "execution_count": null,
   "metadata": {},
   "outputs": [],
   "source": [
    "df.info()"
   ]
  },
  {
   "cell_type": "markdown",
   "metadata": {},
   "source": [
    "# Prepare!!\n",
    "\n",
    "### Initial thoughts:\n",
    "- This is a really simple data frame\n",
    "- Only 3 columns to explore in additon to datetime\n",
    "\n",
    "### Action Items:\n",
    "- Lets rename some columns in a pythonic manner (h/t Ryan Orsinger)\n",
    "- Lets set the index as datetime so we can do some time series analysis.\n",
    "\n",
    "### Personal Notes on Time-Series Analysis\n",
    "- For the past couple of projects I have been blowing off TSA by moving the target variable from the next time-series row into the current row.  For this mini-project I wanted to do \"pure\" TSA.\n",
    "- I also have been anxious to explore FB prophet, so I will be importing and exploring here.\n"
   ]
  },
  {
   "cell_type": "code",
   "execution_count": null,
   "metadata": {},
   "outputs": [],
   "source": [
    "#rename columns\n",
    "df = df.rename(columns={'Date':'date',\n",
    "                  'Steps': 'steps',\n",
    "                    'Distance': 'distance',\n",
    "                  'Floors Ascended': 'floors_ascended'})"
   ]
  },
  {
   "cell_type": "code",
   "execution_count": null,
   "metadata": {},
   "outputs": [],
   "source": [
    "# # set index to datetime\n",
    "df['date'] = pd.to_datetime(df.date)\n",
    "df = df.sort_values('date').set_index('date')"
   ]
  },
  {
   "cell_type": "code",
   "execution_count": null,
   "metadata": {},
   "outputs": [],
   "source": [
    "df.info()"
   ]
  },
  {
   "cell_type": "markdown",
   "metadata": {},
   "source": [
    "# Explore!!!\n",
    "\n",
    "### Questions to explore:\n",
    "1. What is the relationship between `steps` and `distance`\n",
    "2. Is there any value to the `floors_ascended` column\n",
    "3. What day of the week to I walk the most\n",
    "4. Do I purposefully try to get over my steps ceiling (10,000 steps)\n",
    "5. How often do I cross my steps ceiling?"
   ]
  },
  {
   "cell_type": "code",
   "execution_count": 8,
   "metadata": {},
   "outputs": [],
   "source": [
    "df['validate_steps'] = df.steps/ df.distance"
   ]
  },
  {
   "cell_type": "code",
   "execution_count": 9,
   "metadata": {},
   "outputs": [
    {
     "data": {
      "text/plain": [
       "count     588.000000\n",
       "mean     2288.413467\n",
       "std       142.308722\n",
       "min      1864.565217\n",
       "25%      2187.159515\n",
       "50%      2292.075758\n",
       "75%      2389.688735\n",
       "max      2704.000000\n",
       "Name: validate_steps, dtype: float64"
      ]
     },
     "execution_count": 9,
     "metadata": {},
     "output_type": "execute_result"
    }
   ],
   "source": [
    "df.validate_steps.describe()"
   ]
  },
  {
   "cell_type": "code",
   "execution_count": 10,
   "metadata": {},
   "outputs": [
    {
     "data": {
      "text/plain": [
       "Text(0.5, 1.0, 'Histogram of steps per mile by day')"
      ]
     },
     "execution_count": 10,
     "metadata": {},
     "output_type": "execute_result"
    },
    {
     "data": {
      "image/png": "[encoded data removed]",
      "text/plain": [
       "<Figure size 432x288 with 1 Axes>"
      ]
     },
     "metadata": {
      "needs_background": "light"
     },
     "output_type": "display_data"
    }
   ],
   "source": [
    "df.validate_steps.hist(color='red')\n",
    "plt.title(\"Histogram of steps per mile by day\")"
   ]
  },
  {
   "cell_type": "markdown",
   "metadata": {},
   "source": [
    "**Takeaways**: It looks like there is enough of a variation the steps and distance are not calculated off the same data, which means that both columns have value in exploration. \n",
    "\n",
    "    (Unnecessary explanation: if steps and distance had little to no variation then we could assume that they are being calculated by the same measure either gps location or a gyroscopic movement within the phone.  Since they are not, we can examine the relationship between the two features, or use either as a target. \n",
    "    \n",
    "**Next step**:  Prove it statistically"
   ]
  },
  {
   "cell_type": "code",
   "execution_count": 11,
   "metadata": {},
   "outputs": [
    {
     "data": {
      "text/plain": [
       "count    589.000000\n",
       "mean       1.298812\n",
       "std        2.159227\n",
       "min        0.000000\n",
       "25%        0.000000\n",
       "50%        0.000000\n",
       "75%        2.000000\n",
       "max       22.000000\n",
       "Name: floors_ascended, dtype: float64"
      ]
     },
     "execution_count": 11,
     "metadata": {},
     "output_type": "execute_result"
    }
   ],
   "source": [
    "# exploring floors_ascended:\n",
    "df.floors_ascended.describe()"
   ]
  },
  {
   "cell_type": "code",
   "execution_count": 12,
   "metadata": {},
   "outputs": [
    {
     "data": {
      "text/plain": [
       "Text(0.5, 1.0, 'How many floors do I walk up?')"
      ]
     },
     "execution_count": 12,
     "metadata": {},
     "output_type": "execute_result"
    },
    {
     "data": {
      "image/png": "[encoded data removed]",
      "text/plain": [
       "<Figure size 432x288 with 1 Axes>"
      ]
     },
     "metadata": {
      "needs_background": "light"
     },
     "output_type": "display_data"
    }
   ],
   "source": [
    "sns.boxplot(y='floors_ascended', data=df)\n",
    "plt.title('How many floors do I walk up?')"
   ]
  },
  {
   "cell_type": "markdown",
   "metadata": {},
   "source": [
    "**Takeaways**:  Anecdotal information:  My house is single story.  I don't walk up stairs to go to work.  My neighboorhood is flat.  More than 50% of the days, I do not walk up a flight of stairs.   However, there might be some valuable information in what days are the non-zero days.  Worth taking a look..."
   ]
  },
  {
   "cell_type": "code",
   "execution_count": 13,
   "metadata": {},
   "outputs": [
    {
     "name": "stdout",
     "output_type": "stream",
     "text": [
      "I do not ascend a full set of stairs 53.31 percent of the days in this data set\n"
     ]
    }
   ],
   "source": [
    "print(f'I do not ascend a full set of stairs {round((df.floors_ascended == 0).mean(),4 )*100} percent of the days in this data set')"
   ]
  },
  {
   "cell_type": "code",
   "execution_count": 14,
   "metadata": {},
   "outputs": [
    {
     "data": {
      "text/plain": [
       "count      589.000000\n",
       "mean      9956.735144\n",
       "std       5039.222937\n",
       "min          0.000000\n",
       "25%       6018.000000\n",
       "50%      10053.000000\n",
       "75%      13052.000000\n",
       "max      25356.000000\n",
       "Name: steps, dtype: float64"
      ]
     },
     "execution_count": 14,
     "metadata": {},
     "output_type": "execute_result"
    }
   ],
   "source": [
    "# How much do I walk?\n",
    "df.steps.describe()"
   ]
  },
  {
   "cell_type": "code",
   "execution_count": 15,
   "metadata": {},
   "outputs": [
    {
     "data": {
      "text/plain": [
       "Text(0.5, 1.0, 'Histogram of distribution of steps')"
      ]
     },
     "execution_count": 15,
     "metadata": {},
     "output_type": "execute_result"
    },
    {
     "data": {
      "image/png": "[encoded data removed]",
      "text/plain": [
       "<Figure size 432x288 with 1 Axes>"
      ]
     },
     "metadata": {
      "needs_background": "light"
     },
     "output_type": "display_data"
    }
   ],
   "source": [
    "df.steps.hist(bins=25, color='navy')\n",
    "plt.title('Histogram of distribution of steps')"
   ]
  },
  {
   "cell_type": "markdown",
   "metadata": {},
   "source": [
    "**Takeaways**: There is a spike right around 10,000 steps which is my daily goal. "
   ]
  },
  {
   "cell_type": "code",
   "execution_count": 16,
   "metadata": {},
   "outputs": [
    {
     "data": {
      "text/plain": [
       "<matplotlib.axes._subplots.AxesSubplot at 0x122922150>"
      ]
     },
     "execution_count": 16,
     "metadata": {},
     "output_type": "execute_result"
    },
    {
     "data": {
      "image/png": "[encoded data removed]",
      "text/plain": [
       "<Figure size 432x288 with 1 Axes>"
      ]
     },
     "metadata": {
      "needs_background": "light"
     },
     "output_type": "display_data"
    }
   ],
   "source": [
    "df.distance.hist(bins=12)"
   ]
  },
  {
   "cell_type": "markdown",
   "metadata": {},
   "source": [
    "### What day of the week do I walk the most steps"
   ]
  },
  {
   "cell_type": "code",
   "execution_count": 17,
   "metadata": {},
   "outputs": [],
   "source": [
    "df['weekday'] = df.index.day_name()"
   ]
  },
  {
   "cell_type": "code",
   "execution_count": 18,
   "metadata": {},
   "outputs": [
    {
     "data": {
      "text/plain": [
       "<matplotlib.axes._subplots.AxesSubplot at 0x122a2fa10>"
      ]
     },
     "execution_count": 18,
     "metadata": {},
     "output_type": "execute_result"
    },
    {
     "data": {
      "image/png": "[encoded data removed]",
      "text/plain": [
       "<Figure size 432x288 with 1 Axes>"
      ]
     },
     "metadata": {
      "needs_background": "light"
     },
     "output_type": "display_data"
    }
   ],
   "source": [
    "df.groupby('weekday').steps.mean().plot.bar()"
   ]
  },
  {
   "cell_type": "code",
   "execution_count": 36,
   "metadata": {},
   "outputs": [
    {
     "data": {
      "text/plain": [
       "Text(0.5, 1.0, 'Average Steps by Month')"
      ]
     },
     "execution_count": 36,
     "metadata": {},
     "output_type": "execute_result"
    },
    {
     "data": {
      "image/png": "[encoded data removed]",
      "text/plain": [
       "<Figure size 864x360 with 1 Axes>"
      ]
     },
     "metadata": {
      "needs_background": "light"
     },
     "output_type": "display_data"
    }
   ],
   "source": [
    "plt.figure(figsize=(12,5))\n",
    "df.steps.resample(\"M\").mean().plot()\n",
    "plt.title(\"Average Steps by Month\")"
   ]
  },
  {
   "cell_type": "code",
   "execution_count": 35,
   "metadata": {},
   "outputs": [
    {
     "data": {
      "text/plain": [
       "Text(0.5, 1.0, 'Average Steps by Week')"
      ]
     },
     "execution_count": 35,
     "metadata": {},
     "output_type": "execute_result"
    },
    {
     "data": {
      "image/png": "[encoded data removed]",
      "text/plain": [
       "<Figure size 864x360 with 1 Axes>"
      ]
     },
     "metadata": {
      "needs_background": "light"
     },
     "output_type": "display_data"
    }
   ],
   "source": [
    "plt.figure(figsize=(12,5))\n",
    "df.steps.resample(\"W\").mean().plot(color=\"Red\")\n",
    "plt.title(\"Average Steps by Week\")"
   ]
  },
  {
   "cell_type": "markdown",
   "metadata": {},
   "source": [
    "### What day of the week do I walk the most?"
   ]
  },
  {
   "cell_type": "code",
   "execution_count": 39,
   "metadata": {},
   "outputs": [
    {
     "data": {
      "text/html": [
       "<div>\n",
       "<style scoped>\n",
       "    .dataframe tbody tr th:only-of-type {\n",
       "        vertical-align: middle;\n",
       "    }\n",
       "\n",
       "    .dataframe tbody tr th {\n",
       "        vertical-align: top;\n",
       "    }\n",
       "\n",
       "    .dataframe thead th {\n",
       "        text-align: right;\n",
       "    }\n",
       "</style>\n",
       "<table border=\"1\" class=\"dataframe\">\n",
       "  <thead>\n",
       "    <tr style=\"text-align: right;\">\n",
       "      <th></th>\n",
       "      <th>count</th>\n",
       "      <th>mean</th>\n",
       "      <th>std</th>\n",
       "      <th>min</th>\n",
       "      <th>25%</th>\n",
       "      <th>50%</th>\n",
       "      <th>75%</th>\n",
       "      <th>max</th>\n",
       "    </tr>\n",
       "    <tr>\n",
       "      <th>weekday</th>\n",
       "      <th></th>\n",
       "      <th></th>\n",
       "      <th></th>\n",
       "      <th></th>\n",
       "      <th></th>\n",
       "      <th></th>\n",
       "      <th></th>\n",
       "      <th></th>\n",
       "    </tr>\n",
       "  </thead>\n",
       "  <tbody>\n",
       "    <tr>\n",
       "      <th>Friday</th>\n",
       "      <td>82.0</td>\n",
       "      <td>10545.609756</td>\n",
       "      <td>5257.514156</td>\n",
       "      <td>2184.0</td>\n",
       "      <td>6066.5</td>\n",
       "      <td>10346.0</td>\n",
       "      <td>14757.50</td>\n",
       "      <td>22464.0</td>\n",
       "    </tr>\n",
       "    <tr>\n",
       "      <th>Monday</th>\n",
       "      <td>85.0</td>\n",
       "      <td>8182.870588</td>\n",
       "      <td>4262.544877</td>\n",
       "      <td>482.0</td>\n",
       "      <td>4683.0</td>\n",
       "      <td>8159.0</td>\n",
       "      <td>10712.00</td>\n",
       "      <td>19111.0</td>\n",
       "    </tr>\n",
       "    <tr>\n",
       "      <th>Saturday</th>\n",
       "      <td>82.0</td>\n",
       "      <td>13461.829268</td>\n",
       "      <td>4995.104798</td>\n",
       "      <td>2128.0</td>\n",
       "      <td>10171.5</td>\n",
       "      <td>12963.0</td>\n",
       "      <td>16964.25</td>\n",
       "      <td>25356.0</td>\n",
       "    </tr>\n",
       "    <tr>\n",
       "      <th>Sunday</th>\n",
       "      <td>87.0</td>\n",
       "      <td>9573.045977</td>\n",
       "      <td>4299.389835</td>\n",
       "      <td>1277.0</td>\n",
       "      <td>6480.0</td>\n",
       "      <td>9630.0</td>\n",
       "      <td>11893.50</td>\n",
       "      <td>24639.0</td>\n",
       "    </tr>\n",
       "    <tr>\n",
       "      <th>Thursday</th>\n",
       "      <td>83.0</td>\n",
       "      <td>9358.710843</td>\n",
       "      <td>5084.233020</td>\n",
       "      <td>839.0</td>\n",
       "      <td>5075.5</td>\n",
       "      <td>8852.0</td>\n",
       "      <td>12954.50</td>\n",
       "      <td>22507.0</td>\n",
       "    </tr>\n",
       "    <tr>\n",
       "      <th>Tuesday</th>\n",
       "      <td>85.0</td>\n",
       "      <td>8834.364706</td>\n",
       "      <td>4950.241620</td>\n",
       "      <td>1479.0</td>\n",
       "      <td>5081.0</td>\n",
       "      <td>8597.0</td>\n",
       "      <td>11872.00</td>\n",
       "      <td>24234.0</td>\n",
       "    </tr>\n",
       "    <tr>\n",
       "      <th>Wednesday</th>\n",
       "      <td>85.0</td>\n",
       "      <td>9880.164706</td>\n",
       "      <td>4786.116009</td>\n",
       "      <td>0.0</td>\n",
       "      <td>5965.0</td>\n",
       "      <td>9998.0</td>\n",
       "      <td>13407.00</td>\n",
       "      <td>21305.0</td>\n",
       "    </tr>\n",
       "  </tbody>\n",
       "</table>\n",
       "</div>"
      ],
      "text/plain": [
       "           count          mean          std     min      25%      50%  \\\n",
       "weekday                                                                 \n",
       "Friday      82.0  10545.609756  5257.514156  2184.0   6066.5  10346.0   \n",
       "Monday      85.0   8182.870588  4262.544877   482.0   4683.0   8159.0   \n",
       "Saturday    82.0  13461.829268  4995.104798  2128.0  10171.5  12963.0   \n",
       "Sunday      87.0   9573.045977  4299.389835  1277.0   6480.0   9630.0   \n",
       "Thursday    83.0   9358.710843  5084.233020   839.0   5075.5   8852.0   \n",
       "Tuesday     85.0   8834.364706  4950.241620  1479.0   5081.0   8597.0   \n",
       "Wednesday   85.0   9880.164706  4786.116009     0.0   5965.0   9998.0   \n",
       "\n",
       "                75%      max  \n",
       "weekday                       \n",
       "Friday     14757.50  22464.0  \n",
       "Monday     10712.00  19111.0  \n",
       "Saturday   16964.25  25356.0  \n",
       "Sunday     11893.50  24639.0  \n",
       "Thursday   12954.50  22507.0  \n",
       "Tuesday    11872.00  24234.0  \n",
       "Wednesday  13407.00  21305.0  "
      ]
     },
     "execution_count": 39,
     "metadata": {},
     "output_type": "execute_result"
    }
   ],
   "source": [
    "df.groupby('weekday').steps.describe()"
   ]
  },
  {
   "cell_type": "code",
   "execution_count": null,
   "metadata": {},
   "outputs": [],
   "source": []
  }
 ],
 "metadata": {
  "kernelspec": {
   "display_name": "Python 3",
   "language": "python",
   "name": "python3"
  },
  "language_info": {
   "codemirror_mode": {
    "name": "ipython",
    "version": 3
   },
   "file_extension": ".py",
   "mimetype": "text/x-python",
   "name": "python",
   "nbconvert_exporter": "python",
   "pygments_lexer": "ipython3",
   "version": "3.7.4"
  }
 },
 "nbformat": 4,
 "nbformat_minor": 2
}
