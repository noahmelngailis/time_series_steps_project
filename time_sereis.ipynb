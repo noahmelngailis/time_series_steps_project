{
 "cells": [
  {
   "cell_type": "markdown",
   "metadata": {},
   "source": [
    "# Time Series Analysis Mini Project:  Let's explore my steps, and if we are feeling froggy maybe use FB prophet to model..."
   ]
  },
  {
   "cell_type": "code",
   "execution_count": 24,
   "metadata": {},
   "outputs": [],
   "source": [
    "import pandas as pd\n",
    "import numpy as np\n",
    "import datetime\n",
    "\n",
    "import matplotlib.pyplot as plt\n",
    "import seaborn as sns"
   ]
  },
  {
   "cell_type": "markdown",
   "metadata": {},
   "source": [
    "# Acquire!\n",
    "\n",
    "### Imported steps from my personal Iphone pedometer. \n",
    "\n",
    "#### Steps to repeat:\n",
    "1. Export from Iphone pedometer in settings\n",
    "2. Save to file\n",
    "3. Upload using pandas!"
   ]
  },
  {
   "cell_type": "code",
   "execution_count": 6,
   "metadata": {},
   "outputs": [],
   "source": [
    "df = pd.read_csv(\"Export.csv\")"
   ]
  },
  {
   "cell_type": "code",
   "execution_count": 9,
   "metadata": {},
   "outputs": [
    {
     "data": {
      "text/html": [
       "<div>\n",
       "<style scoped>\n",
       "    .dataframe tbody tr th:only-of-type {\n",
       "        vertical-align: middle;\n",
       "    }\n",
       "\n",
       "    .dataframe tbody tr th {\n",
       "        vertical-align: top;\n",
       "    }\n",
       "\n",
       "    .dataframe thead th {\n",
       "        text-align: right;\n",
       "    }\n",
       "</style>\n",
       "<table border=\"1\" class=\"dataframe\">\n",
       "  <thead>\n",
       "    <tr style=\"text-align: right;\">\n",
       "      <th></th>\n",
       "      <th>Date</th>\n",
       "      <th>Steps</th>\n",
       "      <th>Distance</th>\n",
       "      <th>Floors Ascended</th>\n",
       "    </tr>\n",
       "  </thead>\n",
       "  <tbody>\n",
       "    <tr>\n",
       "      <th>0</th>\n",
       "      <td>8/16/20</td>\n",
       "      <td>14656</td>\n",
       "      <td>6.7</td>\n",
       "      <td>0</td>\n",
       "    </tr>\n",
       "    <tr>\n",
       "      <th>1</th>\n",
       "      <td>8/15/20</td>\n",
       "      <td>10103</td>\n",
       "      <td>4.7</td>\n",
       "      <td>8</td>\n",
       "    </tr>\n",
       "  </tbody>\n",
       "</table>\n",
       "</div>"
      ],
      "text/plain": [
       "      Date  Steps  Distance  Floors Ascended\n",
       "0  8/16/20  14656       6.7                0\n",
       "1  8/15/20  10103       4.7                8"
      ]
     },
     "execution_count": 9,
     "metadata": {},
     "output_type": "execute_result"
    }
   ],
   "source": [
    "df.head(2)"
   ]
  },
  {
   "cell_type": "code",
   "execution_count": 7,
   "metadata": {},
   "outputs": [
    {
     "name": "stdout",
     "output_type": "stream",
     "text": [
      "<class 'pandas.core.frame.DataFrame'>\n",
      "RangeIndex: 589 entries, 0 to 588\n",
      "Data columns (total 4 columns):\n",
      "Date               589 non-null object\n",
      "Steps              589 non-null int64\n",
      "Distance           589 non-null float64\n",
      "Floors Ascended    589 non-null int64\n",
      "dtypes: float64(1), int64(2), object(1)\n",
      "memory usage: 18.5+ KB\n"
     ]
    }
   ],
   "source": [
    "df.info()"
   ]
  },
  {
   "cell_type": "markdown",
   "metadata": {},
   "source": [
    "# Prepare!!\n",
    "\n",
    "### Initial thoughts:\n",
    "- This is a really simple data frame\n",
    "- Only 3 columns to explore in additon to datetime\n",
    "\n",
    "### Action Items:\n",
    "- Lets rename some columns in a pythonic manner (h/t Ryan Orsinger)\n",
    "- Lets set the index as datetime so we can do some time series analysis.\n",
    "\n",
    "### Personal Notes on Time-Series Analysis\n",
    "- For the past couple of projects I have been blowing off TSA by moving the target variable from the next time-series row into the current row.  For this mini-project I wanted to do \"pure\" TSA.\n",
    "- I also have been anxious to explore FB prophet, so I will be importing and exploring here.\n"
   ]
  },
  {
   "cell_type": "code",
   "execution_count": 15,
   "metadata": {},
   "outputs": [],
   "source": [
    "#rename columns\n",
    "df = df.rename(columns={'Date':'date',\n",
    "                  'Steps': 'steps',\n",
    "                    'Distance': 'distance',\n",
    "                  'Floors Ascended': 'floors_ascended'})"
   ]
  },
  {
   "cell_type": "code",
   "execution_count": 27,
   "metadata": {},
   "outputs": [],
   "source": [
    "# # set index to datetime\n",
    "df['date'] = pd.to_datetime(df.date)\n",
    "df = df.sort_values('date').set_index('date')"
   ]
  },
  {
   "cell_type": "code",
   "execution_count": 28,
   "metadata": {},
   "outputs": [
    {
     "name": "stdout",
     "output_type": "stream",
     "text": [
      "<class 'pandas.core.frame.DataFrame'>\n",
      "DatetimeIndex: 589 entries, 2018-08-26 to 2020-08-16\n",
      "Data columns (total 3 columns):\n",
      "steps              589 non-null int64\n",
      "distance           589 non-null float64\n",
      "floors_ascended    589 non-null int64\n",
      "dtypes: float64(1), int64(2)\n",
      "memory usage: 18.4 KB\n"
     ]
    }
   ],
   "source": [
    "df.info()"
   ]
  },
  {
   "cell_type": "markdown",
   "metadata": {},
   "source": []
  },
  {
   "cell_type": "code",
   "execution_count": null,
   "metadata": {},
   "outputs": [],
   "source": []
  }
 ],
 "metadata": {
  "kernelspec": {
   "display_name": "Python 3",
   "language": "python",
   "name": "python3"
  },
  "language_info": {
   "codemirror_mode": {
    "name": "ipython",
    "version": 3
   },
   "file_extension": ".py",
   "mimetype": "text/x-python",
   "name": "python",
   "nbconvert_exporter": "python",
   "pygments_lexer": "ipython3",
   "version": "3.7.4"
  }
 },
 "nbformat": 4,
 "nbformat_minor": 2
}
