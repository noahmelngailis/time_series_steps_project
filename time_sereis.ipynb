{
 "cells": [
  {
   "cell_type": "markdown",
   "metadata": {},
   "source": [
    "# Time Series Analysis Mini Project:  Let's explore my steps, and if we are feeling froggy maybe use FB prophet to model..."
   ]
  },
  {
   "cell_type": "code",
   "execution_count": 1,
   "metadata": {},
   "outputs": [],
   "source": [
    "import pandas as pd\n",
    "import numpy as np\n",
    "import datetime\n",
    "\n",
    "import matplotlib.pyplot as plt\n",
    "import seaborn as sns"
   ]
  },
  {
   "cell_type": "markdown",
   "metadata": {},
   "source": [
    "# Acquire!\n",
    "\n",
    "### Imported steps from my personal Iphone pedometer. \n",
    "\n",
    "#### Steps to repeat:\n",
    "1. Export from Iphone pedometer in settings\n",
    "2. Save to file\n",
    "3. Upload using pandas!"
   ]
  },
  {
   "cell_type": "code",
   "execution_count": 2,
   "metadata": {},
   "outputs": [],
   "source": [
    "df = pd.read_csv(\"Export.csv\")"
   ]
  },
  {
   "cell_type": "code",
   "execution_count": 3,
   "metadata": {},
   "outputs": [
    {
     "data": {
      "text/html": [
       "<div>\n",
       "<style scoped>\n",
       "    .dataframe tbody tr th:only-of-type {\n",
       "        vertical-align: middle;\n",
       "    }\n",
       "\n",
       "    .dataframe tbody tr th {\n",
       "        vertical-align: top;\n",
       "    }\n",
       "\n",
       "    .dataframe thead th {\n",
       "        text-align: right;\n",
       "    }\n",
       "</style>\n",
       "<table border=\"1\" class=\"dataframe\">\n",
       "  <thead>\n",
       "    <tr style=\"text-align: right;\">\n",
       "      <th></th>\n",
       "      <th>Date</th>\n",
       "      <th>Steps</th>\n",
       "      <th>Distance</th>\n",
       "      <th>Floors Ascended</th>\n",
       "    </tr>\n",
       "  </thead>\n",
       "  <tbody>\n",
       "    <tr>\n",
       "      <th>0</th>\n",
       "      <td>8/16/20</td>\n",
       "      <td>14656</td>\n",
       "      <td>6.7</td>\n",
       "      <td>0</td>\n",
       "    </tr>\n",
       "    <tr>\n",
       "      <th>1</th>\n",
       "      <td>8/15/20</td>\n",
       "      <td>10103</td>\n",
       "      <td>4.7</td>\n",
       "      <td>8</td>\n",
       "    </tr>\n",
       "  </tbody>\n",
       "</table>\n",
       "</div>"
      ],
      "text/plain": [
       "      Date  Steps  Distance  Floors Ascended\n",
       "0  8/16/20  14656       6.7                0\n",
       "1  8/15/20  10103       4.7                8"
      ]
     },
     "execution_count": 3,
     "metadata": {},
     "output_type": "execute_result"
    }
   ],
   "source": [
    "df.head(2)"
   ]
  },
  {
   "cell_type": "code",
   "execution_count": 4,
   "metadata": {},
   "outputs": [
    {
     "name": "stdout",
     "output_type": "stream",
     "text": [
      "<class 'pandas.core.frame.DataFrame'>\n",
      "RangeIndex: 589 entries, 0 to 588\n",
      "Data columns (total 4 columns):\n",
      " #   Column           Non-Null Count  Dtype  \n",
      "---  ------           --------------  -----  \n",
      " 0   Date             589 non-null    object \n",
      " 1   Steps            589 non-null    int64  \n",
      " 2   Distance         589 non-null    float64\n",
      " 3   Floors Ascended  589 non-null    int64  \n",
      "dtypes: float64(1), int64(2), object(1)\n",
      "memory usage: 18.5+ KB\n"
     ]
    }
   ],
   "source": [
    "df.info()"
   ]
  },
  {
   "cell_type": "markdown",
   "metadata": {},
   "source": [
    "# Prepare!!\n",
    "\n",
    "### Initial thoughts:\n",
    "- This is a really simple data frame\n",
    "- Only 3 columns to explore in additon to datetime\n",
    "\n",
    "### Action Items:\n",
    "- Lets rename some columns in a pythonic manner (h/t Ryan Orsinger)\n",
    "- Lets set the index as datetime so we can do some time series analysis.\n",
    "\n",
    "### Personal Notes on Time-Series Analysis\n",
    "- For the past couple of projects I have been blowing off TSA by moving the target variable from the next time-series row into the current row.  For this mini-project I wanted to do \"pure\" TSA.\n",
    "- I also have been anxious to explore FB prophet, so I will be importing and exploring here.\n"
   ]
  },
  {
   "cell_type": "code",
   "execution_count": 5,
   "metadata": {},
   "outputs": [],
   "source": [
    "#rename columns\n",
    "df = df.rename(columns={'Date':'date',\n",
    "                  'Steps': 'steps',\n",
    "                    'Distance': 'distance',\n",
    "                  'Floors Ascended': 'floors_ascended'})"
   ]
  },
  {
   "cell_type": "code",
   "execution_count": 6,
   "metadata": {},
   "outputs": [],
   "source": [
    "# # set index to datetime\n",
    "df['date'] = pd.to_datetime(df.date)\n",
    "df = df.sort_values('date').set_index('date')"
   ]
  },
  {
   "cell_type": "code",
   "execution_count": null,
   "metadata": {},
   "outputs": [],
   "source": [
    "df.info()"
   ]
  },
  {
   "cell_type": "markdown",
   "metadata": {},
   "source": [
    "# Explore!!!\n",
    "\n",
    "### Questions to explore:\n",
    "1. What is the relationship between `steps` and `distance`\n",
    "2. Is there any value to the `floors_ascended` column\n",
    "3. What day of the week to I walk the most\n",
    "4. Do I purposefully try to get over my steps ceiling (10,000 steps)\n",
    "5. How often do I cross my steps ceiling?"
   ]
  },
  {
   "cell_type": "code",
   "execution_count": 7,
   "metadata": {},
   "outputs": [],
   "source": [
    "df['validate_steps'] = df.steps/ df.distance"
   ]
  },
  {
   "cell_type": "code",
   "execution_count": 8,
   "metadata": {},
   "outputs": [
    {
     "data": {
      "text/plain": [
       "count     588.000000\n",
       "mean     2288.413467\n",
       "std       142.308722\n",
       "min      1864.565217\n",
       "25%      2187.159515\n",
       "50%      2292.075758\n",
       "75%      2389.688735\n",
       "max      2704.000000\n",
       "Name: validate_steps, dtype: float64"
      ]
     },
     "execution_count": 8,
     "metadata": {},
     "output_type": "execute_result"
    }
   ],
   "source": [
    "df.validate_steps.describe()"
   ]
  },
  {
   "cell_type": "code",
   "execution_count": 9,
   "metadata": {},
   "outputs": [
    {
     "data": {
      "text/plain": [
       "Text(0.5, 1.0, 'Histogram of steps per mile by day')"
      ]
     },
     "execution_count": 9,
     "metadata": {},
     "output_type": "execute_result"
    },
    {
     "data": {
      "image/png": "[encoded data removed]",
      "text/plain": [
       "<Figure size 432x288 with 1 Axes>"
      ]
     },
     "metadata": {
      "needs_background": "light"
     },
     "output_type": "display_data"
    }
   ],
   "source": [
    "df.validate_steps.hist(color='red')\n",
    "plt.title(\"Histogram of steps per mile by day\")"
   ]
  },
  {
   "cell_type": "markdown",
   "metadata": {},
   "source": [
    "**Takeaways**: It looks like there is enough of a variation the steps and distance are not calculated off the same data, which means that both columns have value in exploration. \n",
    "\n",
    "    (Unnecessary explanation: if steps and distance had little to no variation then we could assume that they are being calculated by the same measure either gps location or a gyroscopic movement within the phone.  Since they are not, we can examine the relationship between the two features, or use either as a target. \n",
    "    \n",
    "**Next step**:  Prove it statistically"
   ]
  },
  {
   "cell_type": "code",
   "execution_count": 20,
   "metadata": {},
   "outputs": [
    {
     "name": "stdout",
     "output_type": "stream",
     "text": [
      "             steps  distance\n",
      "steps     1.000000  0.992054\n",
      "distance  0.992054  1.000000\n"
     ]
    },
    {
     "data": {
      "text/plain": [
       "<matplotlib.axes._subplots.AxesSubplot at 0x125212c90>"
      ]
     },
     "execution_count": 20,
     "metadata": {},
     "output_type": "execute_result"
    },
    {
     "data": {
      "image/png": "[encoded data removed]",
      "text/plain": [
       "<Figure size 432x288 with 2 Axes>"
      ]
     },
     "metadata": {
      "needs_background": "light"
     },
     "output_type": "display_data"
    }
   ],
   "source": [
    "print(df[['steps', 'distance']].corr())\n",
    "sns.heatmap(df[['steps', 'distance']].corr())"
   ]
  },
  {
   "cell_type": "code",
   "execution_count": 21,
   "metadata": {},
   "outputs": [
    {
     "data": {
      "text/plain": [
       "<matplotlib.axes._subplots.AxesSubplot at 0x12531a1d0>"
      ]
     },
     "execution_count": 21,
     "metadata": {},
     "output_type": "execute_result"
    },
    {
     "data": {
      "image/png": "[encoded data removed]",
      "text/plain": [
       "<Figure size 432x288 with 2 Axes>"
      ]
     },
     "metadata": {
      "needs_background": "light"
     },
     "output_type": "display_data"
    }
   ],
   "source": [
    "sns.heatmap(df.corr())"
   ]
  },
  {
   "cell_type": "code",
   "execution_count": 11,
   "metadata": {},
   "outputs": [
    {
     "data": {
      "text/plain": [
       "count    589.000000\n",
       "mean       1.298812\n",
       "std        2.159227\n",
       "min        0.000000\n",
       "25%        0.000000\n",
       "50%        0.000000\n",
       "75%        2.000000\n",
       "max       22.000000\n",
       "Name: floors_ascended, dtype: float64"
      ]
     },
     "execution_count": 11,
     "metadata": {},
     "output_type": "execute_result"
    }
   ],
   "source": [
    "# exploring floors_ascended:\n",
    "df.floors_ascended.describe()"
   ]
  },
  {
   "cell_type": "code",
   "execution_count": null,
   "metadata": {},
   "outputs": [],
   "source": []
  },
  {
   "cell_type": "markdown",
   "metadata": {},
   "source": [
    "### Is there a use for floors ascended?"
   ]
  },
  {
   "cell_type": "code",
   "execution_count": 12,
   "metadata": {},
   "outputs": [
    {
     "data": {
      "text/plain": [
       "Text(0.5, 1.0, 'How many floors do I walk up?')"
      ]
     },
     "execution_count": 12,
     "metadata": {},
     "output_type": "execute_result"
    },
    {
     "data": {
      "image/png": "[encoded data removed]",
      "text/plain": [
       "<Figure size 432x288 with 1 Axes>"
      ]
     },
     "metadata": {
      "needs_background": "light"
     },
     "output_type": "display_data"
    }
   ],
   "source": [
    "sns.boxplot(y='floors_ascended', data=df)\n",
    "plt.title('How many floors do I walk up?')"
   ]
  },
  {
   "cell_type": "markdown",
   "metadata": {},
   "source": [
    "**Takeaways**:  Anecdotal information:  My house is single story.  I don't walk up stairs to go to work.  My neighboorhood is flat.  More than 50% of the days, I do not walk up a flight of stairs.   However, there might be some valuable information in what days are the non-zero days.  Worth taking a look..."
   ]
  },
  {
   "cell_type": "code",
   "execution_count": 13,
   "metadata": {},
   "outputs": [
    {
     "name": "stdout",
     "output_type": "stream",
     "text": [
      "I do not ascend a full set of stairs 53.31 percent of the days in this data set\n"
     ]
    }
   ],
   "source": [
    "print(f'I do not ascend a full set of stairs {round((df.floors_ascended == 0).mean(),4 )*100} percent of the days in this data set')"
   ]
  },
  {
   "cell_type": "code",
   "execution_count": 29,
   "metadata": {},
   "outputs": [
    {
     "data": {
      "text/plain": [
       "Text(0, 0.5, 'Frequency')"
      ]
     },
     "execution_count": 29,
     "metadata": {},
     "output_type": "execute_result"
    },
    {
     "data": {
      "image/png": "[encoded data removed]",
      "text/plain": [
       "<Figure size 432x288 with 1 Axes>"
      ]
     },
     "metadata": {
      "needs_background": "light"
     },
     "output_type": "display_data"
    }
   ],
   "source": [
    "df.floors_ascended.hist(bins=23)\n",
    "plt.title(\"Frequency of Floors Ascended\")\n",
    "plt.xlabel('Number of Floors')\n",
    "plt.ylabel('Frequency')"
   ]
  },
  {
   "cell_type": "markdown",
   "metadata": {},
   "source": [
    "### Is there a relationship between distance I walked and weather I climbed a floor?"
   ]
  },
  {
   "cell_type": "code",
   "execution_count": 31,
   "metadata": {},
   "outputs": [],
   "source": [
    "# create bool column based on weather I have climbed a stair on that day\n",
    "df['has_ascended'] = df.floors_ascended > 0"
   ]
  },
  {
   "cell_type": "code",
   "execution_count": 34,
   "metadata": {},
   "outputs": [
    {
     "data": {
      "text/plain": [
       "<matplotlib.axes._subplots.AxesSubplot at 0x125c6c5d0>"
      ]
     },
     "execution_count": 34,
     "metadata": {},
     "output_type": "execute_result"
    },
    {
     "data": {
      "image/png": "[encoded data removed]",
      "text/plain": [
       "<Figure size 432x288 with 1 Axes>"
      ]
     },
     "metadata": {
      "needs_background": "light"
     },
     "output_type": "display_data"
    }
   ],
   "source": [
    "sns.boxplot(x='has_ascended', y='steps', data=df)"
   ]
  },
  {
   "cell_type": "code",
   "execution_count": 54,
   "metadata": {},
   "outputs": [
    {
     "data": {
      "text/html": [
       "<div>\n",
       "<style scoped>\n",
       "    .dataframe tbody tr th:only-of-type {\n",
       "        vertical-align: middle;\n",
       "    }\n",
       "\n",
       "    .dataframe tbody tr th {\n",
       "        vertical-align: top;\n",
       "    }\n",
       "\n",
       "    .dataframe thead th {\n",
       "        text-align: right;\n",
       "    }\n",
       "</style>\n",
       "<table border=\"1\" class=\"dataframe\">\n",
       "  <thead>\n",
       "    <tr style=\"text-align: right;\">\n",
       "      <th></th>\n",
       "      <th>count</th>\n",
       "      <th>mean</th>\n",
       "      <th>std</th>\n",
       "      <th>min</th>\n",
       "      <th>25%</th>\n",
       "      <th>50%</th>\n",
       "      <th>75%</th>\n",
       "      <th>max</th>\n",
       "    </tr>\n",
       "    <tr>\n",
       "      <th>has_ascended</th>\n",
       "      <th></th>\n",
       "      <th></th>\n",
       "      <th></th>\n",
       "      <th></th>\n",
       "      <th></th>\n",
       "      <th></th>\n",
       "      <th></th>\n",
       "      <th></th>\n",
       "    </tr>\n",
       "  </thead>\n",
       "  <tbody>\n",
       "    <tr>\n",
       "      <th>False</th>\n",
       "      <td>314.0</td>\n",
       "      <td>8811.127389</td>\n",
       "      <td>4632.416710</td>\n",
       "      <td>0.0</td>\n",
       "      <td>5109.25</td>\n",
       "      <td>8734.5</td>\n",
       "      <td>11703.5</td>\n",
       "      <td>25356.0</td>\n",
       "    </tr>\n",
       "    <tr>\n",
       "      <th>True</th>\n",
       "      <td>275.0</td>\n",
       "      <td>11264.810909</td>\n",
       "      <td>5172.970992</td>\n",
       "      <td>1481.0</td>\n",
       "      <td>7172.50</td>\n",
       "      <td>10480.0</td>\n",
       "      <td>15444.5</td>\n",
       "      <td>24234.0</td>\n",
       "    </tr>\n",
       "  </tbody>\n",
       "</table>\n",
       "</div>"
      ],
      "text/plain": [
       "              count          mean          std     min      25%      50%  \\\n",
       "has_ascended                                                               \n",
       "False         314.0   8811.127389  4632.416710     0.0  5109.25   8734.5   \n",
       "True          275.0  11264.810909  5172.970992  1481.0  7172.50  10480.0   \n",
       "\n",
       "                  75%      max  \n",
       "has_ascended                    \n",
       "False         11703.5  25356.0  \n",
       "True          15444.5  24234.0  "
      ]
     },
     "execution_count": 54,
     "metadata": {},
     "output_type": "execute_result"
    }
   ],
   "source": [
    "df.groupby('has_ascended').steps.describe()"
   ]
  },
  {
   "cell_type": "code",
   "execution_count": 51,
   "metadata": {},
   "outputs": [
    {
     "data": {
      "text/plain": [
       "<matplotlib.axes._subplots.AxesSubplot at 0x12678dd90>"
      ]
     },
     "execution_count": 51,
     "metadata": {},
     "output_type": "execute_result"
    },
    {
     "data": {
      "image/png": "[encoded data removed]",
      "text/plain": [
       "<Figure size 432x288 with 1 Axes>"
      ]
     },
     "metadata": {
      "needs_background": "light"
     },
     "output_type": "display_data"
    }
   ],
   "source": [
    "df[df.has_ascended == False].steps.resample('M').mean().plot.line()"
   ]
  },
  {
   "cell_type": "markdown",
   "metadata": {},
   "source": [
    "### Am I more likely to hit my goal on days I ascend stairs?"
   ]
  },
  {
   "cell_type": "code",
   "execution_count": 55,
   "metadata": {},
   "outputs": [],
   "source": [
    "#create new feature called hit_goal for walked more than 10,000 steps\n",
    "df['hit_goal'] = df.steps >= 10_000"
   ]
  },
  {
   "cell_type": "code",
   "execution_count": 74,
   "metadata": {},
   "outputs": [],
   "source": [
    "untrue = round(df.groupby('has_ascended').hit_goal.mean()[0]*100, 1)\n",
    "unfalse = round(df.groupby('has_ascended').hit_goal.mean()[1]*100, 1)"
   ]
  },
  {
   "cell_type": "code",
   "execution_count": 75,
   "metadata": {},
   "outputs": [
    {
     "name": "stdout",
     "output_type": "stream",
     "text": [
      "On days I ascend a flight of stairs I hit my steps goal 60.4% of the time,\n",
      "On days where I do not ascend a flight of stairs I hit my steps goal 43.6% of the time\n"
     ]
    }
   ],
   "source": [
    "print(f'On days I ascend a flight of stairs I hit my steps goal {unfalse}% of the time,')\n",
    "print(f'On days where I do not ascend a flight of stairs I hit my steps goal {untrue}% of the time')\n"
   ]
  },
  {
   "cell_type": "markdown",
   "metadata": {},
   "source": [
    "### What days of the week do I hit my goal?"
   ]
  },
  {
   "cell_type": "code",
   "execution_count": 82,
   "metadata": {},
   "outputs": [
    {
     "data": {
      "text/plain": [
       "<matplotlib.axes._subplots.AxesSubplot at 0x12692c150>"
      ]
     },
     "execution_count": 82,
     "metadata": {},
     "output_type": "execute_result"
    },
    {
     "data": {
      "image/png": "[encoded data removed]",
      "text/plain": [
       "<Figure size 432x288 with 1 Axes>"
      ]
     },
     "metadata": {
      "needs_background": "light"
     },
     "output_type": "display_data"
    }
   ],
   "source": [
    "df.groupby('weekday').hit_goal.mean().plot.bar()"
   ]
  },
  {
   "cell_type": "code",
   "execution_count": 77,
   "metadata": {},
   "outputs": [
    {
     "data": {
      "text/html": [
       "<div>\n",
       "<style scoped>\n",
       "    .dataframe tbody tr th:only-of-type {\n",
       "        vertical-align: middle;\n",
       "    }\n",
       "\n",
       "    .dataframe tbody tr th {\n",
       "        vertical-align: top;\n",
       "    }\n",
       "\n",
       "    .dataframe thead th {\n",
       "        text-align: right;\n",
       "    }\n",
       "</style>\n",
       "<table border=\"1\" class=\"dataframe\">\n",
       "  <thead>\n",
       "    <tr style=\"text-align: right;\">\n",
       "      <th></th>\n",
       "      <th>steps</th>\n",
       "      <th>distance</th>\n",
       "      <th>floors_ascended</th>\n",
       "      <th>validate_steps</th>\n",
       "      <th>has_ascended</th>\n",
       "      <th>hit_goal</th>\n",
       "    </tr>\n",
       "    <tr>\n",
       "      <th>date</th>\n",
       "      <th></th>\n",
       "      <th></th>\n",
       "      <th></th>\n",
       "      <th></th>\n",
       "      <th></th>\n",
       "      <th></th>\n",
       "    </tr>\n",
       "  </thead>\n",
       "  <tbody>\n",
       "    <tr>\n",
       "      <th>2018-08-26</th>\n",
       "      <td>4714</td>\n",
       "      <td>1.9</td>\n",
       "      <td>0</td>\n",
       "      <td>2481.052632</td>\n",
       "      <td>False</td>\n",
       "      <td>False</td>\n",
       "    </tr>\n",
       "    <tr>\n",
       "      <th>2018-08-27</th>\n",
       "      <td>3147</td>\n",
       "      <td>1.3</td>\n",
       "      <td>1</td>\n",
       "      <td>2420.769231</td>\n",
       "      <td>True</td>\n",
       "      <td>False</td>\n",
       "    </tr>\n",
       "    <tr>\n",
       "      <th>2018-08-28</th>\n",
       "      <td>3590</td>\n",
       "      <td>1.5</td>\n",
       "      <td>1</td>\n",
       "      <td>2393.333333</td>\n",
       "      <td>True</td>\n",
       "      <td>False</td>\n",
       "    </tr>\n",
       "    <tr>\n",
       "      <th>2018-08-29</th>\n",
       "      <td>5965</td>\n",
       "      <td>2.4</td>\n",
       "      <td>0</td>\n",
       "      <td>2485.416667</td>\n",
       "      <td>False</td>\n",
       "      <td>False</td>\n",
       "    </tr>\n",
       "    <tr>\n",
       "      <th>2018-08-30</th>\n",
       "      <td>3816</td>\n",
       "      <td>1.5</td>\n",
       "      <td>0</td>\n",
       "      <td>2544.000000</td>\n",
       "      <td>False</td>\n",
       "      <td>False</td>\n",
       "    </tr>\n",
       "    <tr>\n",
       "      <th>...</th>\n",
       "      <td>...</td>\n",
       "      <td>...</td>\n",
       "      <td>...</td>\n",
       "      <td>...</td>\n",
       "      <td>...</td>\n",
       "      <td>...</td>\n",
       "    </tr>\n",
       "    <tr>\n",
       "      <th>2020-08-12</th>\n",
       "      <td>10937</td>\n",
       "      <td>5.2</td>\n",
       "      <td>0</td>\n",
       "      <td>2103.269231</td>\n",
       "      <td>False</td>\n",
       "      <td>True</td>\n",
       "    </tr>\n",
       "    <tr>\n",
       "      <th>2020-08-13</th>\n",
       "      <td>8839</td>\n",
       "      <td>4.2</td>\n",
       "      <td>0</td>\n",
       "      <td>2104.523810</td>\n",
       "      <td>False</td>\n",
       "      <td>False</td>\n",
       "    </tr>\n",
       "    <tr>\n",
       "      <th>2020-08-14</th>\n",
       "      <td>10554</td>\n",
       "      <td>4.9</td>\n",
       "      <td>0</td>\n",
       "      <td>2153.877551</td>\n",
       "      <td>False</td>\n",
       "      <td>True</td>\n",
       "    </tr>\n",
       "    <tr>\n",
       "      <th>2020-08-15</th>\n",
       "      <td>10103</td>\n",
       "      <td>4.7</td>\n",
       "      <td>8</td>\n",
       "      <td>2149.574468</td>\n",
       "      <td>True</td>\n",
       "      <td>True</td>\n",
       "    </tr>\n",
       "    <tr>\n",
       "      <th>2020-08-16</th>\n",
       "      <td>14656</td>\n",
       "      <td>6.7</td>\n",
       "      <td>0</td>\n",
       "      <td>2187.462687</td>\n",
       "      <td>False</td>\n",
       "      <td>True</td>\n",
       "    </tr>\n",
       "  </tbody>\n",
       "</table>\n",
       "<p>589 rows × 6 columns</p>\n",
       "</div>"
      ],
      "text/plain": [
       "            steps  distance  floors_ascended  validate_steps  has_ascended  \\\n",
       "date                                                                         \n",
       "2018-08-26   4714       1.9                0     2481.052632         False   \n",
       "2018-08-27   3147       1.3                1     2420.769231          True   \n",
       "2018-08-28   3590       1.5                1     2393.333333          True   \n",
       "2018-08-29   5965       2.4                0     2485.416667         False   \n",
       "2018-08-30   3816       1.5                0     2544.000000         False   \n",
       "...           ...       ...              ...             ...           ...   \n",
       "2020-08-12  10937       5.2                0     2103.269231         False   \n",
       "2020-08-13   8839       4.2                0     2104.523810         False   \n",
       "2020-08-14  10554       4.9                0     2153.877551         False   \n",
       "2020-08-15  10103       4.7                8     2149.574468          True   \n",
       "2020-08-16  14656       6.7                0     2187.462687         False   \n",
       "\n",
       "            hit_goal  \n",
       "date                  \n",
       "2018-08-26     False  \n",
       "2018-08-27     False  \n",
       "2018-08-28     False  \n",
       "2018-08-29     False  \n",
       "2018-08-30     False  \n",
       "...              ...  \n",
       "2020-08-12      True  \n",
       "2020-08-13     False  \n",
       "2020-08-14      True  \n",
       "2020-08-15      True  \n",
       "2020-08-16      True  \n",
       "\n",
       "[589 rows x 6 columns]"
      ]
     },
     "execution_count": 77,
     "metadata": {},
     "output_type": "execute_result"
    }
   ],
   "source": [
    "df"
   ]
  },
  {
   "cell_type": "code",
   "execution_count": 22,
   "metadata": {},
   "outputs": [
    {
     "data": {
      "text/plain": [
       "count      589.000000\n",
       "mean      9956.735144\n",
       "std       5039.222937\n",
       "min          0.000000\n",
       "25%       6018.000000\n",
       "50%      10053.000000\n",
       "75%      13052.000000\n",
       "max      25356.000000\n",
       "Name: steps, dtype: float64"
      ]
     },
     "execution_count": 22,
     "metadata": {},
     "output_type": "execute_result"
    }
   ],
   "source": [
    "# How much do I walk?\n",
    "df.steps.describe()"
   ]
  },
  {
   "cell_type": "code",
   "execution_count": 15,
   "metadata": {},
   "outputs": [
    {
     "data": {
      "text/plain": [
       "Text(0.5, 1.0, 'Histogram of distribution of steps')"
      ]
     },
     "execution_count": 15,
     "metadata": {},
     "output_type": "execute_result"
    },
    {
     "data": {
      "image/png": "[encoded data removed]",
      "text/plain": [
       "<Figure size 432x288 with 1 Axes>"
      ]
     },
     "metadata": {
      "needs_background": "light"
     },
     "output_type": "display_data"
    }
   ],
   "source": [
    "df.steps.hist(bins=25, color='navy')\n",
    "plt.title('Histogram of distribution of steps')"
   ]
  },
  {
   "cell_type": "markdown",
   "metadata": {},
   "source": [
    "**Takeaways**: There is a spike right around 10,000 steps which is my daily goal. "
   ]
  },
  {
   "cell_type": "code",
   "execution_count": 16,
   "metadata": {},
   "outputs": [
    {
     "data": {
      "text/plain": [
       "<matplotlib.axes._subplots.AxesSubplot at 0x122922150>"
      ]
     },
     "execution_count": 16,
     "metadata": {},
     "output_type": "execute_result"
    },
    {
     "data": {
      "image/png": "[encoded data removed]",
      "text/plain": [
       "<Figure size 432x288 with 1 Axes>"
      ]
     },
     "metadata": {
      "needs_background": "light"
     },
     "output_type": "display_data"
    }
   ],
   "source": [
    "df.distance.hist(bins=12)"
   ]
  },
  {
   "cell_type": "markdown",
   "metadata": {},
   "source": [
    "### What day of the week do I walk the most steps"
   ]
  },
  {
   "cell_type": "code",
   "execution_count": 89,
   "metadata": {},
   "outputs": [],
   "source": [
    "df['weekday'] = df.index.day_name()"
   ]
  },
  {
   "cell_type": "code",
   "execution_count": 90,
   "metadata": {},
   "outputs": [
    {
     "ename": "TypeError",
     "evalue": "'Int64Index' object is not callable",
     "output_type": "error",
     "traceback": [
      "\u001b[0;31m---------------------------------------------------------------------------\u001b[0m",
      "\u001b[0;31mTypeError\u001b[0m                                 Traceback (most recent call last)",
      "\u001b[0;32m<ipython-input-90-6cb78456d9ac>\u001b[0m in \u001b[0;36m<module>\u001b[0;34m\u001b[0m\n\u001b[0;32m----> 1\u001b[0;31m \u001b[0mdf\u001b[0m\u001b[0;34m[\u001b[0m\u001b[0;34m'day_of_the_week'\u001b[0m\u001b[0;34m]\u001b[0m \u001b[0;34m=\u001b[0m \u001b[0mdf\u001b[0m\u001b[0;34m.\u001b[0m\u001b[0mindex\u001b[0m\u001b[0;34m.\u001b[0m\u001b[0mdayofweek\u001b[0m\u001b[0;34m(\u001b[0m\u001b[0;34m)\u001b[0m\u001b[0;34m\u001b[0m\u001b[0;34m\u001b[0m\u001b[0m\n\u001b[0m",
      "\u001b[0;31mTypeError\u001b[0m: 'Int64Index' object is not callable"
     ]
    }
   ],
   "source": [
    "df['day_of_the_week'] = df.index.dayofweek()"
   ]
  },
  {
   "cell_type": "code",
   "execution_count": 91,
   "metadata": {},
   "outputs": [
    {
     "ename": "TypeError",
     "evalue": "'Int64Index' object is not callable",
     "output_type": "error",
     "traceback": [
      "\u001b[0;31m---------------------------------------------------------------------------\u001b[0m",
      "\u001b[0;31mTypeError\u001b[0m                                 Traceback (most recent call last)",
      "\u001b[0;32m<ipython-input-91-11d6bc121475>\u001b[0m in \u001b[0;36m<module>\u001b[0;34m\u001b[0m\n\u001b[0;32m----> 1\u001b[0;31m \u001b[0mdf\u001b[0m\u001b[0;34m[\u001b[0m\u001b[0;34m'day_total'\u001b[0m\u001b[0;34m]\u001b[0m \u001b[0;34m=\u001b[0m \u001b[0mdf\u001b[0m\u001b[0;34m.\u001b[0m\u001b[0mindex\u001b[0m\u001b[0;34m.\u001b[0m\u001b[0mweekday\u001b[0m\u001b[0;34m(\u001b[0m\u001b[0;34m)\u001b[0m\u001b[0;34m\u001b[0m\u001b[0;34m\u001b[0m\u001b[0m\n\u001b[0m",
      "\u001b[0;31mTypeError\u001b[0m: 'Int64Index' object is not callable"
     ]
    }
   ],
   "source": [
    "df['day_total'] = df.index.weekday()"
   ]
  },
  {
   "cell_type": "code",
   "execution_count": 92,
   "metadata": {},
   "outputs": [
    {
     "data": {
      "text/html": [
       "<div>\n",
       "<style scoped>\n",
       "    .dataframe tbody tr th:only-of-type {\n",
       "        vertical-align: middle;\n",
       "    }\n",
       "\n",
       "    .dataframe tbody tr th {\n",
       "        vertical-align: top;\n",
       "    }\n",
       "\n",
       "    .dataframe thead th {\n",
       "        text-align: right;\n",
       "    }\n",
       "</style>\n",
       "<table border=\"1\" class=\"dataframe\">\n",
       "  <thead>\n",
       "    <tr style=\"text-align: right;\">\n",
       "      <th></th>\n",
       "      <th>steps</th>\n",
       "      <th>distance</th>\n",
       "      <th>floors_ascended</th>\n",
       "      <th>validate_steps</th>\n",
       "      <th>has_ascended</th>\n",
       "      <th>hit_goal</th>\n",
       "      <th>weekday</th>\n",
       "    </tr>\n",
       "    <tr>\n",
       "      <th>date</th>\n",
       "      <th></th>\n",
       "      <th></th>\n",
       "      <th></th>\n",
       "      <th></th>\n",
       "      <th></th>\n",
       "      <th></th>\n",
       "      <th></th>\n",
       "    </tr>\n",
       "  </thead>\n",
       "  <tbody>\n",
       "    <tr>\n",
       "      <th>2018-08-26</th>\n",
       "      <td>4714</td>\n",
       "      <td>1.9</td>\n",
       "      <td>0</td>\n",
       "      <td>2481.052632</td>\n",
       "      <td>False</td>\n",
       "      <td>False</td>\n",
       "      <td>Sunday</td>\n",
       "    </tr>\n",
       "    <tr>\n",
       "      <th>2018-08-27</th>\n",
       "      <td>3147</td>\n",
       "      <td>1.3</td>\n",
       "      <td>1</td>\n",
       "      <td>2420.769231</td>\n",
       "      <td>True</td>\n",
       "      <td>False</td>\n",
       "      <td>Monday</td>\n",
       "    </tr>\n",
       "    <tr>\n",
       "      <th>2018-08-28</th>\n",
       "      <td>3590</td>\n",
       "      <td>1.5</td>\n",
       "      <td>1</td>\n",
       "      <td>2393.333333</td>\n",
       "      <td>True</td>\n",
       "      <td>False</td>\n",
       "      <td>Tuesday</td>\n",
       "    </tr>\n",
       "    <tr>\n",
       "      <th>2018-08-29</th>\n",
       "      <td>5965</td>\n",
       "      <td>2.4</td>\n",
       "      <td>0</td>\n",
       "      <td>2485.416667</td>\n",
       "      <td>False</td>\n",
       "      <td>False</td>\n",
       "      <td>Wednesday</td>\n",
       "    </tr>\n",
       "    <tr>\n",
       "      <th>2018-08-30</th>\n",
       "      <td>3816</td>\n",
       "      <td>1.5</td>\n",
       "      <td>0</td>\n",
       "      <td>2544.000000</td>\n",
       "      <td>False</td>\n",
       "      <td>False</td>\n",
       "      <td>Thursday</td>\n",
       "    </tr>\n",
       "    <tr>\n",
       "      <th>...</th>\n",
       "      <td>...</td>\n",
       "      <td>...</td>\n",
       "      <td>...</td>\n",
       "      <td>...</td>\n",
       "      <td>...</td>\n",
       "      <td>...</td>\n",
       "      <td>...</td>\n",
       "    </tr>\n",
       "    <tr>\n",
       "      <th>2020-08-12</th>\n",
       "      <td>10937</td>\n",
       "      <td>5.2</td>\n",
       "      <td>0</td>\n",
       "      <td>2103.269231</td>\n",
       "      <td>False</td>\n",
       "      <td>True</td>\n",
       "      <td>Wednesday</td>\n",
       "    </tr>\n",
       "    <tr>\n",
       "      <th>2020-08-13</th>\n",
       "      <td>8839</td>\n",
       "      <td>4.2</td>\n",
       "      <td>0</td>\n",
       "      <td>2104.523810</td>\n",
       "      <td>False</td>\n",
       "      <td>False</td>\n",
       "      <td>Thursday</td>\n",
       "    </tr>\n",
       "    <tr>\n",
       "      <th>2020-08-14</th>\n",
       "      <td>10554</td>\n",
       "      <td>4.9</td>\n",
       "      <td>0</td>\n",
       "      <td>2153.877551</td>\n",
       "      <td>False</td>\n",
       "      <td>True</td>\n",
       "      <td>Friday</td>\n",
       "    </tr>\n",
       "    <tr>\n",
       "      <th>2020-08-15</th>\n",
       "      <td>10103</td>\n",
       "      <td>4.7</td>\n",
       "      <td>8</td>\n",
       "      <td>2149.574468</td>\n",
       "      <td>True</td>\n",
       "      <td>True</td>\n",
       "      <td>Saturday</td>\n",
       "    </tr>\n",
       "    <tr>\n",
       "      <th>2020-08-16</th>\n",
       "      <td>14656</td>\n",
       "      <td>6.7</td>\n",
       "      <td>0</td>\n",
       "      <td>2187.462687</td>\n",
       "      <td>False</td>\n",
       "      <td>True</td>\n",
       "      <td>Sunday</td>\n",
       "    </tr>\n",
       "  </tbody>\n",
       "</table>\n",
       "<p>589 rows × 7 columns</p>\n",
       "</div>"
      ],
      "text/plain": [
       "            steps  distance  floors_ascended  validate_steps  has_ascended  \\\n",
       "date                                                                         \n",
       "2018-08-26   4714       1.9                0     2481.052632         False   \n",
       "2018-08-27   3147       1.3                1     2420.769231          True   \n",
       "2018-08-28   3590       1.5                1     2393.333333          True   \n",
       "2018-08-29   5965       2.4                0     2485.416667         False   \n",
       "2018-08-30   3816       1.5                0     2544.000000         False   \n",
       "...           ...       ...              ...             ...           ...   \n",
       "2020-08-12  10937       5.2                0     2103.269231         False   \n",
       "2020-08-13   8839       4.2                0     2104.523810         False   \n",
       "2020-08-14  10554       4.9                0     2153.877551         False   \n",
       "2020-08-15  10103       4.7                8     2149.574468          True   \n",
       "2020-08-16  14656       6.7                0     2187.462687         False   \n",
       "\n",
       "            hit_goal    weekday  \n",
       "date                             \n",
       "2018-08-26     False     Sunday  \n",
       "2018-08-27     False     Monday  \n",
       "2018-08-28     False    Tuesday  \n",
       "2018-08-29     False  Wednesday  \n",
       "2018-08-30     False   Thursday  \n",
       "...              ...        ...  \n",
       "2020-08-12      True  Wednesday  \n",
       "2020-08-13     False   Thursday  \n",
       "2020-08-14      True     Friday  \n",
       "2020-08-15      True   Saturday  \n",
       "2020-08-16      True     Sunday  \n",
       "\n",
       "[589 rows x 7 columns]"
      ]
     },
     "execution_count": 92,
     "metadata": {},
     "output_type": "execute_result"
    }
   ],
   "source": [
    "df"
   ]
  },
  {
   "cell_type": "code",
   "execution_count": 18,
   "metadata": {},
   "outputs": [
    {
     "data": {
      "text/plain": [
       "<matplotlib.axes._subplots.AxesSubplot at 0x122a2fa10>"
      ]
     },
     "execution_count": 18,
     "metadata": {},
     "output_type": "execute_result"
    },
    {
     "data": {
      "image/png": "[encoded data removed]",
      "text/plain": [
       "<Figure size 432x288 with 1 Axes>"
      ]
     },
     "metadata": {
      "needs_background": "light"
     },
     "output_type": "display_data"
    }
   ],
   "source": [
    "df.groupby('weekday').steps.mean().plot.bar()"
   ]
  },
  {
   "cell_type": "code",
   "execution_count": 36,
   "metadata": {},
   "outputs": [
    {
     "data": {
      "text/plain": [
       "Text(0.5, 1.0, 'Average Steps by Month')"
      ]
     },
     "execution_count": 36,
     "metadata": {},
     "output_type": "execute_result"
    },
    {
     "data": {
      "image/png": "[encoded data removed]",
      "text/plain": [
       "<Figure size 864x360 with 1 Axes>"
      ]
     },
     "metadata": {
      "needs_background": "light"
     },
     "output_type": "display_data"
    }
   ],
   "source": [
    "plt.figure(figsize=(12,5))\n",
    "df.steps.resample(\"M\").mean().plot()\n",
    "plt.title(\"Average Steps by Month\")"
   ]
  },
  {
   "cell_type": "code",
   "execution_count": 35,
   "metadata": {},
   "outputs": [
    {
     "data": {
      "text/plain": [
       "Text(0.5, 1.0, 'Average Steps by Week')"
      ]
     },
     "execution_count": 35,
     "metadata": {},
     "output_type": "execute_result"
    },
    {
     "data": {
      "image/png": "[encoded data removed]",
      "text/plain": [
       "<Figure size 864x360 with 1 Axes>"
      ]
     },
     "metadata": {
      "needs_background": "light"
     },
     "output_type": "display_data"
    }
   ],
   "source": [
    "plt.figure(figsize=(12,5))\n",
    "df.steps.resample(\"W\").mean().plot(color=\"Red\")\n",
    "plt.title(\"Average Steps by Week\")"
   ]
  },
  {
   "cell_type": "markdown",
   "metadata": {},
   "source": [
    "### What day of the week do I walk the most?"
   ]
  },
  {
   "cell_type": "code",
   "execution_count": 39,
   "metadata": {},
   "outputs": [
    {
     "data": {
      "text/html": [
       "<div>\n",
       "<style scoped>\n",
       "    .dataframe tbody tr th:only-of-type {\n",
       "        vertical-align: middle;\n",
       "    }\n",
       "\n",
       "    .dataframe tbody tr th {\n",
       "        vertical-align: top;\n",
       "    }\n",
       "\n",
       "    .dataframe thead th {\n",
       "        text-align: right;\n",
       "    }\n",
       "</style>\n",
       "<table border=\"1\" class=\"dataframe\">\n",
       "  <thead>\n",
       "    <tr style=\"text-align: right;\">\n",
       "      <th></th>\n",
       "      <th>count</th>\n",
       "      <th>mean</th>\n",
       "      <th>std</th>\n",
       "      <th>min</th>\n",
       "      <th>25%</th>\n",
       "      <th>50%</th>\n",
       "      <th>75%</th>\n",
       "      <th>max</th>\n",
       "    </tr>\n",
       "    <tr>\n",
       "      <th>weekday</th>\n",
       "      <th></th>\n",
       "      <th></th>\n",
       "      <th></th>\n",
       "      <th></th>\n",
       "      <th></th>\n",
       "      <th></th>\n",
       "      <th></th>\n",
       "      <th></th>\n",
       "    </tr>\n",
       "  </thead>\n",
       "  <tbody>\n",
       "    <tr>\n",
       "      <th>Friday</th>\n",
       "      <td>82.0</td>\n",
       "      <td>10545.609756</td>\n",
       "      <td>5257.514156</td>\n",
       "      <td>2184.0</td>\n",
       "      <td>6066.5</td>\n",
       "      <td>10346.0</td>\n",
       "      <td>14757.50</td>\n",
       "      <td>22464.0</td>\n",
       "    </tr>\n",
       "    <tr>\n",
       "      <th>Monday</th>\n",
       "      <td>85.0</td>\n",
       "      <td>8182.870588</td>\n",
       "      <td>4262.544877</td>\n",
       "      <td>482.0</td>\n",
       "      <td>4683.0</td>\n",
       "      <td>8159.0</td>\n",
       "      <td>10712.00</td>\n",
       "      <td>19111.0</td>\n",
       "    </tr>\n",
       "    <tr>\n",
       "      <th>Saturday</th>\n",
       "      <td>82.0</td>\n",
       "      <td>13461.829268</td>\n",
       "      <td>4995.104798</td>\n",
       "      <td>2128.0</td>\n",
       "      <td>10171.5</td>\n",
       "      <td>12963.0</td>\n",
       "      <td>16964.25</td>\n",
       "      <td>25356.0</td>\n",
       "    </tr>\n",
       "    <tr>\n",
       "      <th>Sunday</th>\n",
       "      <td>87.0</td>\n",
       "      <td>9573.045977</td>\n",
       "      <td>4299.389835</td>\n",
       "      <td>1277.0</td>\n",
       "      <td>6480.0</td>\n",
       "      <td>9630.0</td>\n",
       "      <td>11893.50</td>\n",
       "      <td>24639.0</td>\n",
       "    </tr>\n",
       "    <tr>\n",
       "      <th>Thursday</th>\n",
       "      <td>83.0</td>\n",
       "      <td>9358.710843</td>\n",
       "      <td>5084.233020</td>\n",
       "      <td>839.0</td>\n",
       "      <td>5075.5</td>\n",
       "      <td>8852.0</td>\n",
       "      <td>12954.50</td>\n",
       "      <td>22507.0</td>\n",
       "    </tr>\n",
       "    <tr>\n",
       "      <th>Tuesday</th>\n",
       "      <td>85.0</td>\n",
       "      <td>8834.364706</td>\n",
       "      <td>4950.241620</td>\n",
       "      <td>1479.0</td>\n",
       "      <td>5081.0</td>\n",
       "      <td>8597.0</td>\n",
       "      <td>11872.00</td>\n",
       "      <td>24234.0</td>\n",
       "    </tr>\n",
       "    <tr>\n",
       "      <th>Wednesday</th>\n",
       "      <td>85.0</td>\n",
       "      <td>9880.164706</td>\n",
       "      <td>4786.116009</td>\n",
       "      <td>0.0</td>\n",
       "      <td>5965.0</td>\n",
       "      <td>9998.0</td>\n",
       "      <td>13407.00</td>\n",
       "      <td>21305.0</td>\n",
       "    </tr>\n",
       "  </tbody>\n",
       "</table>\n",
       "</div>"
      ],
      "text/plain": [
       "           count          mean          std     min      25%      50%  \\\n",
       "weekday                                                                 \n",
       "Friday      82.0  10545.609756  5257.514156  2184.0   6066.5  10346.0   \n",
       "Monday      85.0   8182.870588  4262.544877   482.0   4683.0   8159.0   \n",
       "Saturday    82.0  13461.829268  4995.104798  2128.0  10171.5  12963.0   \n",
       "Sunday      87.0   9573.045977  4299.389835  1277.0   6480.0   9630.0   \n",
       "Thursday    83.0   9358.710843  5084.233020   839.0   5075.5   8852.0   \n",
       "Tuesday     85.0   8834.364706  4950.241620  1479.0   5081.0   8597.0   \n",
       "Wednesday   85.0   9880.164706  4786.116009     0.0   5965.0   9998.0   \n",
       "\n",
       "                75%      max  \n",
       "weekday                       \n",
       "Friday     14757.50  22464.0  \n",
       "Monday     10712.00  19111.0  \n",
       "Saturday   16964.25  25356.0  \n",
       "Sunday     11893.50  24639.0  \n",
       "Thursday   12954.50  22507.0  \n",
       "Tuesday    11872.00  24234.0  \n",
       "Wednesday  13407.00  21305.0  "
      ]
     },
     "execution_count": 39,
     "metadata": {},
     "output_type": "execute_result"
    }
   ],
   "source": [
    "df.groupby('weekday').steps.describe()"
   ]
  },
  {
   "cell_type": "code",
   "execution_count": null,
   "metadata": {},
   "outputs": [],
   "source": []
  }
 ],
 "metadata": {
  "kernelspec": {
   "display_name": "Python 3",
   "language": "python",
   "name": "python3"
  },
  "language_info": {
   "codemirror_mode": {
    "name": "ipython",
    "version": 3
   },
   "file_extension": ".py",
   "mimetype": "text/x-python",
   "name": "python",
   "nbconvert_exporter": "python",
   "pygments_lexer": "ipython3",
   "version": "3.7.4"
  }
 },
 "nbformat": 4,
 "nbformat_minor": 2
}
