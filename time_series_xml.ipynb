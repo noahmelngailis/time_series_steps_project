{
 "cells": [
  {
   "cell_type": "code",
   "execution_count": 1,
   "metadata": {},
   "outputs": [],
   "source": [
    "import pandas as pd\n",
    "import numpy as np\n",
    "import datetime\n",
    "\n",
    "import matplotlib.pyplot as plt\n",
    "import seaborn as sns"
   ]
  },
  {
   "cell_type": "code",
   "execution_count": 2,
   "metadata": {},
   "outputs": [],
   "source": [
    "from wrangle_xml import wrangle_xml, preprocessing_xml, create_validate_xml_df"
   ]
  },
  {
   "cell_type": "code",
   "execution_count": 3,
   "metadata": {},
   "outputs": [],
   "source": [
    "import warnings\n",
    "warnings.filterwarnings('ignore')"
   ]
  },
  {
   "cell_type": "code",
   "execution_count": 4,
   "metadata": {},
   "outputs": [],
   "source": [
    "df = wrangle_xml()"
   ]
  },
  {
   "cell_type": "code",
   "execution_count": 5,
   "metadata": {},
   "outputs": [
    {
     "data": {
      "text/html": [
       "<div>\n",
       "<style scoped>\n",
       "    .dataframe tbody tr th:only-of-type {\n",
       "        vertical-align: middle;\n",
       "    }\n",
       "\n",
       "    .dataframe tbody tr th {\n",
       "        vertical-align: top;\n",
       "    }\n",
       "\n",
       "    .dataframe thead th {\n",
       "        text-align: right;\n",
       "    }\n",
       "</style>\n",
       "<table border=\"1\" class=\"dataframe\">\n",
       "  <thead>\n",
       "    <tr style=\"text-align: right;\">\n",
       "      <th></th>\n",
       "      <th>creationDate</th>\n",
       "      <th>device</th>\n",
       "      <th>endDate</th>\n",
       "      <th>sourceName</th>\n",
       "      <th>sourceVersion</th>\n",
       "      <th>startDate</th>\n",
       "      <th>type</th>\n",
       "      <th>unit</th>\n",
       "      <th>value</th>\n",
       "    </tr>\n",
       "  </thead>\n",
       "  <tbody>\n",
       "    <tr>\n",
       "      <th>0</th>\n",
       "      <td>2016-06-03 17:38:46 -0500</td>\n",
       "      <td>&lt;&lt;HKDevice: 0x2825a8410&gt;, name:iPhone, manufac...</td>\n",
       "      <td>2016-06-03 16:40:52 -0500</td>\n",
       "      <td>Noah's iPhone</td>\n",
       "      <td>9.3.1</td>\n",
       "      <td>2016-06-03 16:40:09 -0500</td>\n",
       "      <td>HKQuantityTypeIdentifierStepCount</td>\n",
       "      <td>count</td>\n",
       "      <td>70.0</td>\n",
       "    </tr>\n",
       "    <tr>\n",
       "      <th>1</th>\n",
       "      <td>2016-06-03 17:38:46 -0500</td>\n",
       "      <td>&lt;&lt;HKDevice: 0x2825a83c0&gt;, name:iPhone, manufac...</td>\n",
       "      <td>2016-06-03 16:58:26 -0500</td>\n",
       "      <td>Noah's iPhone</td>\n",
       "      <td>9.3.1</td>\n",
       "      <td>2016-06-03 16:57:23 -0500</td>\n",
       "      <td>HKQuantityTypeIdentifierStepCount</td>\n",
       "      <td>count</td>\n",
       "      <td>68.0</td>\n",
       "    </tr>\n",
       "  </tbody>\n",
       "</table>\n",
       "</div>"
      ],
      "text/plain": [
       "                creationDate  \\\n",
       "0  2016-06-03 17:38:46 -0500   \n",
       "1  2016-06-03 17:38:46 -0500   \n",
       "\n",
       "                                              device  \\\n",
       "0  <<HKDevice: 0x2825a8410>, name:iPhone, manufac...   \n",
       "1  <<HKDevice: 0x2825a83c0>, name:iPhone, manufac...   \n",
       "\n",
       "                     endDate     sourceName sourceVersion  \\\n",
       "0  2016-06-03 16:40:52 -0500  Noah's iPhone         9.3.1   \n",
       "1  2016-06-03 16:58:26 -0500  Noah's iPhone         9.3.1   \n",
       "\n",
       "                   startDate                               type   unit  value  \n",
       "0  2016-06-03 16:40:09 -0500  HKQuantityTypeIdentifierStepCount  count   70.0  \n",
       "1  2016-06-03 16:57:23 -0500  HKQuantityTypeIdentifierStepCount  count   68.0  "
      ]
     },
     "execution_count": 5,
     "metadata": {},
     "output_type": "execute_result"
    }
   ],
   "source": [
    "df.head(2)"
   ]
  },
  {
   "cell_type": "code",
   "execution_count": 6,
   "metadata": {},
   "outputs": [],
   "source": [
    "df = preprocessing_xml(df)"
   ]
  },
  {
   "cell_type": "code",
   "execution_count": 7,
   "metadata": {},
   "outputs": [
    {
     "data": {
      "text/html": [
       "<div>\n",
       "<style scoped>\n",
       "    .dataframe tbody tr th:only-of-type {\n",
       "        vertical-align: middle;\n",
       "    }\n",
       "\n",
       "    .dataframe tbody tr th {\n",
       "        vertical-align: top;\n",
       "    }\n",
       "\n",
       "    .dataframe thead th {\n",
       "        text-align: right;\n",
       "    }\n",
       "</style>\n",
       "<table border=\"1\" class=\"dataframe\">\n",
       "  <thead>\n",
       "    <tr style=\"text-align: right;\">\n",
       "      <th></th>\n",
       "      <th>creationDate</th>\n",
       "      <th>device</th>\n",
       "      <th>endDate</th>\n",
       "      <th>sourceName</th>\n",
       "      <th>sourceVersion</th>\n",
       "      <th>type</th>\n",
       "      <th>unit</th>\n",
       "      <th>value</th>\n",
       "    </tr>\n",
       "    <tr>\n",
       "      <th>startDate</th>\n",
       "      <th></th>\n",
       "      <th></th>\n",
       "      <th></th>\n",
       "      <th></th>\n",
       "      <th></th>\n",
       "      <th></th>\n",
       "      <th></th>\n",
       "      <th></th>\n",
       "    </tr>\n",
       "  </thead>\n",
       "  <tbody>\n",
       "    <tr>\n",
       "      <th>2016-06-03 16:40:09</th>\n",
       "      <td>2016-06-03 17:38:46</td>\n",
       "      <td>&lt;&lt;HKDevice: 0x2825a8410&gt;, name:iPhone, manufac...</td>\n",
       "      <td>2016-06-03 16:40:52</td>\n",
       "      <td>Noah's iPhone</td>\n",
       "      <td>9.3.1</td>\n",
       "      <td>HKQuantityTypeIdentifierStepCount</td>\n",
       "      <td>count</td>\n",
       "      <td>70.0</td>\n",
       "    </tr>\n",
       "    <tr>\n",
       "      <th>2016-06-03 16:57:23</th>\n",
       "      <td>2016-06-03 17:38:46</td>\n",
       "      <td>&lt;&lt;HKDevice: 0x2825a83c0&gt;, name:iPhone, manufac...</td>\n",
       "      <td>2016-06-03 16:58:26</td>\n",
       "      <td>Noah's iPhone</td>\n",
       "      <td>9.3.1</td>\n",
       "      <td>HKQuantityTypeIdentifierStepCount</td>\n",
       "      <td>count</td>\n",
       "      <td>68.0</td>\n",
       "    </tr>\n",
       "  </tbody>\n",
       "</table>\n",
       "</div>"
      ],
      "text/plain": [
       "                           creationDate  \\\n",
       "startDate                                 \n",
       "2016-06-03 16:40:09 2016-06-03 17:38:46   \n",
       "2016-06-03 16:57:23 2016-06-03 17:38:46   \n",
       "\n",
       "                                                                device  \\\n",
       "startDate                                                                \n",
       "2016-06-03 16:40:09  <<HKDevice: 0x2825a8410>, name:iPhone, manufac...   \n",
       "2016-06-03 16:57:23  <<HKDevice: 0x2825a83c0>, name:iPhone, manufac...   \n",
       "\n",
       "                                endDate     sourceName sourceVersion  \\\n",
       "startDate                                                              \n",
       "2016-06-03 16:40:09 2016-06-03 16:40:52  Noah's iPhone         9.3.1   \n",
       "2016-06-03 16:57:23 2016-06-03 16:58:26  Noah's iPhone         9.3.1   \n",
       "\n",
       "                                                  type   unit  value  \n",
       "startDate                                                             \n",
       "2016-06-03 16:40:09  HKQuantityTypeIdentifierStepCount  count   70.0  \n",
       "2016-06-03 16:57:23  HKQuantityTypeIdentifierStepCount  count   68.0  "
      ]
     },
     "execution_count": 7,
     "metadata": {},
     "output_type": "execute_result"
    }
   ],
   "source": [
    "df.head(2)"
   ]
  },
  {
   "cell_type": "code",
   "execution_count": 8,
   "metadata": {},
   "outputs": [],
   "source": [
    "df_validate = create_validate_xml_df()"
   ]
  },
  {
   "cell_type": "code",
   "execution_count": 9,
   "metadata": {},
   "outputs": [
    {
     "data": {
      "text/html": [
       "<div>\n",
       "<style scoped>\n",
       "    .dataframe tbody tr th:only-of-type {\n",
       "        vertical-align: middle;\n",
       "    }\n",
       "\n",
       "    .dataframe tbody tr th {\n",
       "        vertical-align: top;\n",
       "    }\n",
       "\n",
       "    .dataframe thead th {\n",
       "        text-align: right;\n",
       "    }\n",
       "</style>\n",
       "<table border=\"1\" class=\"dataframe\">\n",
       "  <thead>\n",
       "    <tr style=\"text-align: right;\">\n",
       "      <th></th>\n",
       "      <th>Date</th>\n",
       "      <th>Steps</th>\n",
       "      <th>Distance</th>\n",
       "      <th>Floors Ascended</th>\n",
       "      <th>start_value</th>\n",
       "      <th>create_value</th>\n",
       "      <th>end_value</th>\n",
       "    </tr>\n",
       "  </thead>\n",
       "  <tbody>\n",
       "    <tr>\n",
       "      <th>0</th>\n",
       "      <td>2020-08-16</td>\n",
       "      <td>14656</td>\n",
       "      <td>6.7</td>\n",
       "      <td>0</td>\n",
       "      <td>14705.0</td>\n",
       "      <td>14705.0</td>\n",
       "      <td>14705.0</td>\n",
       "    </tr>\n",
       "    <tr>\n",
       "      <th>1</th>\n",
       "      <td>2020-08-15</td>\n",
       "      <td>10103</td>\n",
       "      <td>4.7</td>\n",
       "      <td>8</td>\n",
       "      <td>10103.0</td>\n",
       "      <td>10103.0</td>\n",
       "      <td>10103.0</td>\n",
       "    </tr>\n",
       "  </tbody>\n",
       "</table>\n",
       "</div>"
      ],
      "text/plain": [
       "        Date  Steps  Distance  Floors Ascended  start_value  create_value  \\\n",
       "0 2020-08-16  14656       6.7                0      14705.0       14705.0   \n",
       "1 2020-08-15  10103       4.7                8      10103.0       10103.0   \n",
       "\n",
       "   end_value  \n",
       "0    14705.0  \n",
       "1    10103.0  "
      ]
     },
     "execution_count": 9,
     "metadata": {},
     "output_type": "execute_result"
    }
   ],
   "source": [
    "df_validate.head(2)"
   ]
  },
  {
   "cell_type": "code",
   "execution_count": 10,
   "metadata": {},
   "outputs": [
    {
     "name": "stdout",
     "output_type": "stream",
     "text": [
      "start_value has 124 dates exactly the same\n",
      "create_value has 93 dates exactly the same\n",
      "end_value has 124 dates exactly the same\n"
     ]
    }
   ],
   "source": [
    "# How many items are the same for each column?\n",
    "for i in df_validate.columns[4:]:\n",
    "    var = (df_validate.Steps == df_validate[i]).sum()\n",
    "    print(f'{i} has {var} dates exactly the same')"
   ]
  },
  {
   "cell_type": "code",
   "execution_count": 11,
   "metadata": {},
   "outputs": [
    {
     "name": "stdout",
     "output_type": "stream",
     "text": [
      "start_value has an absolute difference of 753943.0 from pedometer data\n",
      "create_value has an absolute difference of 878594.0 from pedometer data\n",
      "end_value has an absolute difference of 736764.0 from pedometer data\n"
     ]
    }
   ],
   "source": [
    "for i in df_validate.columns[4:]:\n",
    "    var = abs(df_validate.Steps - df_validate[i]).sum()\n",
    "    print(f'{i} has an absolute difference of {var} from pedometer data')"
   ]
  },
  {
   "cell_type": "code",
   "execution_count": 12,
   "metadata": {},
   "outputs": [
    {
     "name": "stdout",
     "output_type": "stream",
     "text": [
      "start_value has a total difference of -71843.0 from pedometer data\n",
      "create_value has a total difference of -72180.0 from pedometer data\n",
      "end_value has a total difference of -71826.0 from pedometer data\n"
     ]
    }
   ],
   "source": [
    "for i in df_validate.columns[4:]:\n",
    "    var = (df_validate.Steps - df_validate[i]).sum()\n",
    "    print(f'{i} has a total difference of {var} from pedometer data')"
   ]
  },
  {
   "cell_type": "code",
   "execution_count": 13,
   "metadata": {},
   "outputs": [
    {
     "name": "stdout",
     "output_type": "stream",
     "text": [
      "start_value has an absolute difference of 21548.0 from pedometer data\n",
      "create_value has an absolute difference of 21548.0 from pedometer data\n",
      "end_value has an absolute difference of 21548.0 from pedometer data\n"
     ]
    }
   ],
   "source": [
    "for i in df_validate.columns[4:]:\n",
    "    var = (df_validate.Steps - df_validate[i]).max()\n",
    "    print(f'{i} has an absolute difference of {var} from pedometer data')"
   ]
  },
  {
   "cell_type": "code",
   "execution_count": 14,
   "metadata": {},
   "outputs": [],
   "source": [
    "df_validate['start_dif'] = df_validate.Steps - df_validate.start_value"
   ]
  },
  {
   "cell_type": "code",
   "execution_count": 15,
   "metadata": {},
   "outputs": [
    {
     "data": {
      "text/html": [
       "<div>\n",
       "<style scoped>\n",
       "    .dataframe tbody tr th:only-of-type {\n",
       "        vertical-align: middle;\n",
       "    }\n",
       "\n",
       "    .dataframe tbody tr th {\n",
       "        vertical-align: top;\n",
       "    }\n",
       "\n",
       "    .dataframe thead th {\n",
       "        text-align: right;\n",
       "    }\n",
       "</style>\n",
       "<table border=\"1\" class=\"dataframe\">\n",
       "  <thead>\n",
       "    <tr style=\"text-align: right;\">\n",
       "      <th></th>\n",
       "      <th>Date</th>\n",
       "      <th>Steps</th>\n",
       "      <th>Distance</th>\n",
       "      <th>Floors Ascended</th>\n",
       "      <th>start_value</th>\n",
       "      <th>create_value</th>\n",
       "      <th>end_value</th>\n",
       "      <th>start_dif</th>\n",
       "    </tr>\n",
       "  </thead>\n",
       "  <tbody>\n",
       "    <tr>\n",
       "      <th>531</th>\n",
       "      <td>2018-10-22</td>\n",
       "      <td>5363</td>\n",
       "      <td>2.3</td>\n",
       "      <td>3</td>\n",
       "      <td>73234.0</td>\n",
       "      <td>34313.0</td>\n",
       "      <td>1645.0</td>\n",
       "      <td>-67871.0</td>\n",
       "    </tr>\n",
       "    <tr>\n",
       "      <th>545</th>\n",
       "      <td>2018-10-08</td>\n",
       "      <td>2896</td>\n",
       "      <td>1.1</td>\n",
       "      <td>3</td>\n",
       "      <td>65756.0</td>\n",
       "      <td>42937.0</td>\n",
       "      <td>57.0</td>\n",
       "      <td>-62860.0</td>\n",
       "    </tr>\n",
       "    <tr>\n",
       "      <th>556</th>\n",
       "      <td>2018-09-27</td>\n",
       "      <td>5103</td>\n",
       "      <td>2.1</td>\n",
       "      <td>0</td>\n",
       "      <td>56741.0</td>\n",
       "      <td>5797.0</td>\n",
       "      <td>179.0</td>\n",
       "      <td>-51638.0</td>\n",
       "    </tr>\n",
       "    <tr>\n",
       "      <th>549</th>\n",
       "      <td>2018-10-04</td>\n",
       "      <td>5215</td>\n",
       "      <td>2.2</td>\n",
       "      <td>2</td>\n",
       "      <td>39324.0</td>\n",
       "      <td>4561.0</td>\n",
       "      <td>615.0</td>\n",
       "      <td>-34109.0</td>\n",
       "    </tr>\n",
       "    <tr>\n",
       "      <th>534</th>\n",
       "      <td>2018-10-19</td>\n",
       "      <td>5245</td>\n",
       "      <td>2.3</td>\n",
       "      <td>3</td>\n",
       "      <td>32512.0</td>\n",
       "      <td>18505.0</td>\n",
       "      <td>435.0</td>\n",
       "      <td>-27267.0</td>\n",
       "    </tr>\n",
       "    <tr>\n",
       "      <th>...</th>\n",
       "      <td>...</td>\n",
       "      <td>...</td>\n",
       "      <td>...</td>\n",
       "      <td>...</td>\n",
       "      <td>...</td>\n",
       "      <td>...</td>\n",
       "      <td>...</td>\n",
       "      <td>...</td>\n",
       "    </tr>\n",
       "    <tr>\n",
       "      <th>525</th>\n",
       "      <td>2018-10-28</td>\n",
       "      <td>17420</td>\n",
       "      <td>8.1</td>\n",
       "      <td>7</td>\n",
       "      <td>281.0</td>\n",
       "      <td>71870.0</td>\n",
       "      <td>71870.0</td>\n",
       "      <td>17139.0</td>\n",
       "    </tr>\n",
       "    <tr>\n",
       "      <th>547</th>\n",
       "      <td>2018-10-06</td>\n",
       "      <td>17611</td>\n",
       "      <td>7.3</td>\n",
       "      <td>3</td>\n",
       "      <td>0.0</td>\n",
       "      <td>0.0</td>\n",
       "      <td>0.0</td>\n",
       "      <td>17611.0</td>\n",
       "    </tr>\n",
       "    <tr>\n",
       "      <th>540</th>\n",
       "      <td>2018-10-13</td>\n",
       "      <td>17764</td>\n",
       "      <td>7.6</td>\n",
       "      <td>5</td>\n",
       "      <td>0.0</td>\n",
       "      <td>0.0</td>\n",
       "      <td>0.0</td>\n",
       "      <td>17764.0</td>\n",
       "    </tr>\n",
       "    <tr>\n",
       "      <th>533</th>\n",
       "      <td>2018-10-20</td>\n",
       "      <td>18040</td>\n",
       "      <td>7.9</td>\n",
       "      <td>5</td>\n",
       "      <td>0.0</td>\n",
       "      <td>0.0</td>\n",
       "      <td>0.0</td>\n",
       "      <td>18040.0</td>\n",
       "    </tr>\n",
       "    <tr>\n",
       "      <th>526</th>\n",
       "      <td>2018-10-27</td>\n",
       "      <td>21548</td>\n",
       "      <td>10.1</td>\n",
       "      <td>3</td>\n",
       "      <td>0.0</td>\n",
       "      <td>0.0</td>\n",
       "      <td>0.0</td>\n",
       "      <td>21548.0</td>\n",
       "    </tr>\n",
       "  </tbody>\n",
       "</table>\n",
       "<p>589 rows × 8 columns</p>\n",
       "</div>"
      ],
      "text/plain": [
       "          Date  Steps  Distance  Floors Ascended  start_value  create_value  \\\n",
       "531 2018-10-22   5363       2.3                3      73234.0       34313.0   \n",
       "545 2018-10-08   2896       1.1                3      65756.0       42937.0   \n",
       "556 2018-09-27   5103       2.1                0      56741.0        5797.0   \n",
       "549 2018-10-04   5215       2.2                2      39324.0        4561.0   \n",
       "534 2018-10-19   5245       2.3                3      32512.0       18505.0   \n",
       "..         ...    ...       ...              ...          ...           ...   \n",
       "525 2018-10-28  17420       8.1                7        281.0       71870.0   \n",
       "547 2018-10-06  17611       7.3                3          0.0           0.0   \n",
       "540 2018-10-13  17764       7.6                5          0.0           0.0   \n",
       "533 2018-10-20  18040       7.9                5          0.0           0.0   \n",
       "526 2018-10-27  21548      10.1                3          0.0           0.0   \n",
       "\n",
       "     end_value  start_dif  \n",
       "531     1645.0   -67871.0  \n",
       "545       57.0   -62860.0  \n",
       "556      179.0   -51638.0  \n",
       "549      615.0   -34109.0  \n",
       "534      435.0   -27267.0  \n",
       "..         ...        ...  \n",
       "525    71870.0    17139.0  \n",
       "547        0.0    17611.0  \n",
       "540        0.0    17764.0  \n",
       "533        0.0    18040.0  \n",
       "526        0.0    21548.0  \n",
       "\n",
       "[589 rows x 8 columns]"
      ]
     },
     "execution_count": 15,
     "metadata": {},
     "output_type": "execute_result"
    }
   ],
   "source": [
    "df_validate.sort_values('start_dif')"
   ]
  },
  {
   "cell_type": "code",
   "execution_count": 16,
   "metadata": {},
   "outputs": [
    {
     "data": {
      "text/plain": [
       "<matplotlib.axes._subplots.AxesSubplot at 0x132325e10>"
      ]
     },
     "execution_count": 16,
     "metadata": {},
     "output_type": "execute_result"
    },
    {
     "data": {
      "image/png": "[encoded data removed]",
      "text/plain": [
       "<Figure size 432x288 with 1 Axes>"
      ]
     },
     "metadata": {
      "needs_background": "light"
     },
     "output_type": "display_data"
    }
   ],
   "source": [
    "df_validate.Steps.hist()"
   ]
  },
  {
   "cell_type": "code",
   "execution_count": 17,
   "metadata": {},
   "outputs": [
    {
     "data": {
      "text/plain": [
       "<matplotlib.axes._subplots.AxesSubplot at 0x1256f2f50>"
      ]
     },
     "execution_count": 17,
     "metadata": {},
     "output_type": "execute_result"
    },
    {
     "data": {
      "image/png": "[encoded data removed]",
      "text/plain": [
       "<Figure size 432x288 with 1 Axes>"
      ]
     },
     "metadata": {
      "needs_background": "light"
     },
     "output_type": "display_data"
    }
   ],
   "source": [
    "df_validate.start_value.hist()"
   ]
  },
  {
   "cell_type": "code",
   "execution_count": 18,
   "metadata": {},
   "outputs": [
    {
     "data": {
      "text/plain": [
       "startDate\n",
       "2018-10-24        0.000000\n",
       "2018-09-29        0.000000\n",
       "2018-09-30        0.000000\n",
       "2018-10-01        0.000000\n",
       "2018-10-06        0.000000\n",
       "                  ...     \n",
       "2018-10-19    32526.649745\n",
       "2018-10-04    39340.326998\n",
       "2018-09-27    56764.630502\n",
       "2018-10-08    65784.717293\n",
       "2018-10-22    73267.383074\n",
       "Name: value, Length: 1538, dtype: float64"
      ]
     },
     "execution_count": 18,
     "metadata": {},
     "output_type": "execute_result"
    }
   ],
   "source": [
    "df.resample(\"D\").value.sum().sort_values()"
   ]
  },
  {
   "cell_type": "code",
   "execution_count": 19,
   "metadata": {},
   "outputs": [
    {
     "data": {
      "text/html": [
       "<div>\n",
       "<style scoped>\n",
       "    .dataframe tbody tr th:only-of-type {\n",
       "        vertical-align: middle;\n",
       "    }\n",
       "\n",
       "    .dataframe tbody tr th {\n",
       "        vertical-align: top;\n",
       "    }\n",
       "\n",
       "    .dataframe thead th {\n",
       "        text-align: right;\n",
       "    }\n",
       "</style>\n",
       "<table border=\"1\" class=\"dataframe\">\n",
       "  <thead>\n",
       "    <tr style=\"text-align: right;\">\n",
       "      <th></th>\n",
       "      <th>creationDate</th>\n",
       "      <th>device</th>\n",
       "      <th>endDate</th>\n",
       "      <th>sourceName</th>\n",
       "      <th>sourceVersion</th>\n",
       "      <th>type</th>\n",
       "      <th>unit</th>\n",
       "      <th>value</th>\n",
       "    </tr>\n",
       "    <tr>\n",
       "      <th>startDate</th>\n",
       "      <th></th>\n",
       "      <th></th>\n",
       "      <th></th>\n",
       "      <th></th>\n",
       "      <th></th>\n",
       "      <th></th>\n",
       "      <th></th>\n",
       "      <th></th>\n",
       "    </tr>\n",
       "  </thead>\n",
       "  <tbody>\n",
       "    <tr>\n",
       "      <th>2016-06-03 16:40:09</th>\n",
       "      <td>2016-06-03 17:38:46</td>\n",
       "      <td>&lt;&lt;HKDevice: 0x2825a8410&gt;, name:iPhone, manufac...</td>\n",
       "      <td>2016-06-03 16:40:52</td>\n",
       "      <td>Noah's iPhone</td>\n",
       "      <td>9.3.1</td>\n",
       "      <td>HKQuantityTypeIdentifierStepCount</td>\n",
       "      <td>count</td>\n",
       "      <td>70.0</td>\n",
       "    </tr>\n",
       "    <tr>\n",
       "      <th>2016-06-03 16:57:23</th>\n",
       "      <td>2016-06-03 17:38:46</td>\n",
       "      <td>&lt;&lt;HKDevice: 0x2825a83c0&gt;, name:iPhone, manufac...</td>\n",
       "      <td>2016-06-03 16:58:26</td>\n",
       "      <td>Noah's iPhone</td>\n",
       "      <td>9.3.1</td>\n",
       "      <td>HKQuantityTypeIdentifierStepCount</td>\n",
       "      <td>count</td>\n",
       "      <td>68.0</td>\n",
       "    </tr>\n",
       "    <tr>\n",
       "      <th>2016-06-03 17:34:29</th>\n",
       "      <td>2016-06-03 18:39:21</td>\n",
       "      <td>&lt;&lt;HKDevice: 0x2825a9270&gt;, name:iPhone, manufac...</td>\n",
       "      <td>2016-06-03 17:35:45</td>\n",
       "      <td>Noah's iPhone</td>\n",
       "      <td>9.3.1</td>\n",
       "      <td>HKQuantityTypeIdentifierStepCount</td>\n",
       "      <td>count</td>\n",
       "      <td>55.0</td>\n",
       "    </tr>\n",
       "    <tr>\n",
       "      <th>2016-06-03 17:43:01</th>\n",
       "      <td>2016-06-03 18:39:21</td>\n",
       "      <td>&lt;&lt;HKDevice: 0x2825aa030&gt;, name:iPhone, manufac...</td>\n",
       "      <td>2016-06-03 17:48:03</td>\n",
       "      <td>Noah's iPhone</td>\n",
       "      <td>9.3.1</td>\n",
       "      <td>HKQuantityTypeIdentifierStepCount</td>\n",
       "      <td>count</td>\n",
       "      <td>42.0</td>\n",
       "    </tr>\n",
       "    <tr>\n",
       "      <th>2016-06-03 17:48:03</th>\n",
       "      <td>2016-06-03 18:39:21</td>\n",
       "      <td>&lt;&lt;HKDevice: 0x2825a8cd0&gt;, name:iPhone, manufac...</td>\n",
       "      <td>2016-06-03 17:49:54</td>\n",
       "      <td>Noah's iPhone</td>\n",
       "      <td>9.3.1</td>\n",
       "      <td>HKQuantityTypeIdentifierStepCount</td>\n",
       "      <td>count</td>\n",
       "      <td>43.0</td>\n",
       "    </tr>\n",
       "  </tbody>\n",
       "</table>\n",
       "</div>"
      ],
      "text/plain": [
       "                           creationDate  \\\n",
       "startDate                                 \n",
       "2016-06-03 16:40:09 2016-06-03 17:38:46   \n",
       "2016-06-03 16:57:23 2016-06-03 17:38:46   \n",
       "2016-06-03 17:34:29 2016-06-03 18:39:21   \n",
       "2016-06-03 17:43:01 2016-06-03 18:39:21   \n",
       "2016-06-03 17:48:03 2016-06-03 18:39:21   \n",
       "\n",
       "                                                                device  \\\n",
       "startDate                                                                \n",
       "2016-06-03 16:40:09  <<HKDevice: 0x2825a8410>, name:iPhone, manufac...   \n",
       "2016-06-03 16:57:23  <<HKDevice: 0x2825a83c0>, name:iPhone, manufac...   \n",
       "2016-06-03 17:34:29  <<HKDevice: 0x2825a9270>, name:iPhone, manufac...   \n",
       "2016-06-03 17:43:01  <<HKDevice: 0x2825aa030>, name:iPhone, manufac...   \n",
       "2016-06-03 17:48:03  <<HKDevice: 0x2825a8cd0>, name:iPhone, manufac...   \n",
       "\n",
       "                                endDate     sourceName sourceVersion  \\\n",
       "startDate                                                              \n",
       "2016-06-03 16:40:09 2016-06-03 16:40:52  Noah's iPhone         9.3.1   \n",
       "2016-06-03 16:57:23 2016-06-03 16:58:26  Noah's iPhone         9.3.1   \n",
       "2016-06-03 17:34:29 2016-06-03 17:35:45  Noah's iPhone         9.3.1   \n",
       "2016-06-03 17:43:01 2016-06-03 17:48:03  Noah's iPhone         9.3.1   \n",
       "2016-06-03 17:48:03 2016-06-03 17:49:54  Noah's iPhone         9.3.1   \n",
       "\n",
       "                                                  type   unit  value  \n",
       "startDate                                                             \n",
       "2016-06-03 16:40:09  HKQuantityTypeIdentifierStepCount  count   70.0  \n",
       "2016-06-03 16:57:23  HKQuantityTypeIdentifierStepCount  count   68.0  \n",
       "2016-06-03 17:34:29  HKQuantityTypeIdentifierStepCount  count   55.0  \n",
       "2016-06-03 17:43:01  HKQuantityTypeIdentifierStepCount  count   42.0  \n",
       "2016-06-03 17:48:03  HKQuantityTypeIdentifierStepCount  count   43.0  "
      ]
     },
     "execution_count": 19,
     "metadata": {},
     "output_type": "execute_result"
    }
   ],
   "source": [
    "df.head()"
   ]
  },
  {
   "cell_type": "code",
   "execution_count": 20,
   "metadata": {},
   "outputs": [
    {
     "data": {
      "text/plain": [
       "count    69116\n",
       "mi       67908\n",
       "Name: unit, dtype: int64"
      ]
     },
     "execution_count": 20,
     "metadata": {},
     "output_type": "execute_result"
    }
   ],
   "source": [
    "df.unit.value_counts()"
   ]
  },
  {
   "cell_type": "code",
   "execution_count": 21,
   "metadata": {},
   "outputs": [],
   "source": [
    "df_distance = df[df.unit == \"mi\"]"
   ]
  },
  {
   "cell_type": "code",
   "execution_count": 22,
   "metadata": {},
   "outputs": [
    {
     "data": {
      "text/plain": [
       "startDate\n",
       "2018-10-14     0.000000\n",
       "2018-10-30     0.000000\n",
       "2018-10-27     0.000000\n",
       "2018-10-26     0.000000\n",
       "2018-10-25     0.000000\n",
       "                ...    \n",
       "2018-11-10    15.053501\n",
       "2018-10-04    16.326998\n",
       "2018-09-27    23.630502\n",
       "2018-10-08    28.717293\n",
       "2018-10-22    33.383074\n",
       "Name: value, Length: 1538, dtype: float64"
      ]
     },
     "execution_count": 22,
     "metadata": {},
     "output_type": "execute_result"
    }
   ],
   "source": [
    "df_distance.resample(\"D\").value.sum().sort_values()"
   ]
  },
  {
   "cell_type": "code",
   "execution_count": 23,
   "metadata": {},
   "outputs": [
    {
     "data": {
      "text/plain": [
       "min     0.0\n",
       "max    11.7\n",
       "Name: Distance, dtype: float64"
      ]
     },
     "execution_count": 23,
     "metadata": {},
     "output_type": "execute_result"
    }
   ],
   "source": [
    "df_validate.Distance.agg(['min', 'max'])"
   ]
  },
  {
   "cell_type": "code",
   "execution_count": 24,
   "metadata": {},
   "outputs": [
    {
     "data": {
      "text/html": [
       "<div>\n",
       "<style scoped>\n",
       "    .dataframe tbody tr th:only-of-type {\n",
       "        vertical-align: middle;\n",
       "    }\n",
       "\n",
       "    .dataframe tbody tr th {\n",
       "        vertical-align: top;\n",
       "    }\n",
       "\n",
       "    .dataframe thead th {\n",
       "        text-align: right;\n",
       "    }\n",
       "</style>\n",
       "<table border=\"1\" class=\"dataframe\">\n",
       "  <thead>\n",
       "    <tr style=\"text-align: right;\">\n",
       "      <th></th>\n",
       "      <th>Date</th>\n",
       "      <th>Steps</th>\n",
       "      <th>Distance</th>\n",
       "      <th>Floors Ascended</th>\n",
       "      <th>start_value</th>\n",
       "      <th>create_value</th>\n",
       "      <th>end_value</th>\n",
       "      <th>start_dif</th>\n",
       "    </tr>\n",
       "  </thead>\n",
       "  <tbody>\n",
       "    <tr>\n",
       "      <th>80</th>\n",
       "      <td>2020-05-28</td>\n",
       "      <td>839</td>\n",
       "      <td>0.4</td>\n",
       "      <td>0</td>\n",
       "      <td>839.0</td>\n",
       "      <td>839.0</td>\n",
       "      <td>839.0</td>\n",
       "      <td>0.0</td>\n",
       "    </tr>\n",
       "    <tr>\n",
       "      <th>174</th>\n",
       "      <td>2020-01-13</td>\n",
       "      <td>482</td>\n",
       "      <td>0.2</td>\n",
       "      <td>0</td>\n",
       "      <td>1741.0</td>\n",
       "      <td>1741.0</td>\n",
       "      <td>1741.0</td>\n",
       "      <td>-1259.0</td>\n",
       "    </tr>\n",
       "    <tr>\n",
       "      <th>231</th>\n",
       "      <td>2019-10-30</td>\n",
       "      <td>0</td>\n",
       "      <td>0.0</td>\n",
       "      <td>0</td>\n",
       "      <td>7430.0</td>\n",
       "      <td>7430.0</td>\n",
       "      <td>7430.0</td>\n",
       "      <td>-7430.0</td>\n",
       "    </tr>\n",
       "  </tbody>\n",
       "</table>\n",
       "</div>"
      ],
      "text/plain": [
       "          Date  Steps  Distance  Floors Ascended  start_value  create_value  \\\n",
       "80  2020-05-28    839       0.4                0        839.0         839.0   \n",
       "174 2020-01-13    482       0.2                0       1741.0        1741.0   \n",
       "231 2019-10-30      0       0.0                0       7430.0        7430.0   \n",
       "\n",
       "     end_value  start_dif  \n",
       "80       839.0        0.0  \n",
       "174     1741.0    -1259.0  \n",
       "231     7430.0    -7430.0  "
      ]
     },
     "execution_count": 24,
     "metadata": {},
     "output_type": "execute_result"
    }
   ],
   "source": [
    "df_validate[df_validate.Distance < .5]"
   ]
  },
  {
   "cell_type": "code",
   "execution_count": 25,
   "metadata": {},
   "outputs": [
    {
     "data": {
      "text/html": [
       "<div>\n",
       "<style scoped>\n",
       "    .dataframe tbody tr th:only-of-type {\n",
       "        vertical-align: middle;\n",
       "    }\n",
       "\n",
       "    .dataframe tbody tr th {\n",
       "        vertical-align: top;\n",
       "    }\n",
       "\n",
       "    .dataframe thead th {\n",
       "        text-align: right;\n",
       "    }\n",
       "</style>\n",
       "<table border=\"1\" class=\"dataframe\">\n",
       "  <thead>\n",
       "    <tr style=\"text-align: right;\">\n",
       "      <th></th>\n",
       "      <th>Date</th>\n",
       "      <th>Steps</th>\n",
       "      <th>Distance</th>\n",
       "      <th>Floors Ascended</th>\n",
       "      <th>start_value</th>\n",
       "      <th>create_value</th>\n",
       "      <th>end_value</th>\n",
       "      <th>start_dif</th>\n",
       "    </tr>\n",
       "  </thead>\n",
       "  <tbody>\n",
       "    <tr>\n",
       "      <th>302</th>\n",
       "      <td>2019-06-08</td>\n",
       "      <td>25356</td>\n",
       "      <td>11.1</td>\n",
       "      <td>0</td>\n",
       "      <td>25324.0</td>\n",
       "      <td>25079.0</td>\n",
       "      <td>25324.0</td>\n",
       "      <td>32.0</td>\n",
       "    </tr>\n",
       "    <tr>\n",
       "      <th>508</th>\n",
       "      <td>2018-11-14</td>\n",
       "      <td>10660</td>\n",
       "      <td>5.2</td>\n",
       "      <td>6</td>\n",
       "      <td>10414.0</td>\n",
       "      <td>31002.0</td>\n",
       "      <td>10414.0</td>\n",
       "      <td>246.0</td>\n",
       "    </tr>\n",
       "    <tr>\n",
       "      <th>510</th>\n",
       "      <td>2018-11-12</td>\n",
       "      <td>13999</td>\n",
       "      <td>6.3</td>\n",
       "      <td>6</td>\n",
       "      <td>20808.0</td>\n",
       "      <td>31892.0</td>\n",
       "      <td>31892.0</td>\n",
       "      <td>-6809.0</td>\n",
       "    </tr>\n",
       "    <tr>\n",
       "      <th>512</th>\n",
       "      <td>2018-11-10</td>\n",
       "      <td>16555</td>\n",
       "      <td>8.0</td>\n",
       "      <td>8</td>\n",
       "      <td>30535.0</td>\n",
       "      <td>5407.0</td>\n",
       "      <td>926.0</td>\n",
       "      <td>-13980.0</td>\n",
       "    </tr>\n",
       "    <tr>\n",
       "      <th>519</th>\n",
       "      <td>2018-11-03</td>\n",
       "      <td>7190</td>\n",
       "      <td>3.1</td>\n",
       "      <td>5</td>\n",
       "      <td>20643.0</td>\n",
       "      <td>34547.0</td>\n",
       "      <td>34547.0</td>\n",
       "      <td>-13453.0</td>\n",
       "    </tr>\n",
       "    <tr>\n",
       "      <th>524</th>\n",
       "      <td>2018-10-29</td>\n",
       "      <td>10829</td>\n",
       "      <td>5.5</td>\n",
       "      <td>5</td>\n",
       "      <td>29373.0</td>\n",
       "      <td>55.0</td>\n",
       "      <td>55.0</td>\n",
       "      <td>-18544.0</td>\n",
       "    </tr>\n",
       "    <tr>\n",
       "      <th>525</th>\n",
       "      <td>2018-10-28</td>\n",
       "      <td>17420</td>\n",
       "      <td>8.1</td>\n",
       "      <td>7</td>\n",
       "      <td>281.0</td>\n",
       "      <td>71870.0</td>\n",
       "      <td>71870.0</td>\n",
       "      <td>17139.0</td>\n",
       "    </tr>\n",
       "    <tr>\n",
       "      <th>531</th>\n",
       "      <td>2018-10-22</td>\n",
       "      <td>5363</td>\n",
       "      <td>2.3</td>\n",
       "      <td>3</td>\n",
       "      <td>73234.0</td>\n",
       "      <td>34313.0</td>\n",
       "      <td>1645.0</td>\n",
       "      <td>-67871.0</td>\n",
       "    </tr>\n",
       "    <tr>\n",
       "      <th>532</th>\n",
       "      <td>2018-10-21</td>\n",
       "      <td>9355</td>\n",
       "      <td>4.5</td>\n",
       "      <td>2</td>\n",
       "      <td>591.0</td>\n",
       "      <td>0.0</td>\n",
       "      <td>32668.0</td>\n",
       "      <td>8764.0</td>\n",
       "    </tr>\n",
       "    <tr>\n",
       "      <th>534</th>\n",
       "      <td>2018-10-19</td>\n",
       "      <td>5245</td>\n",
       "      <td>2.3</td>\n",
       "      <td>3</td>\n",
       "      <td>32512.0</td>\n",
       "      <td>18505.0</td>\n",
       "      <td>435.0</td>\n",
       "      <td>-27267.0</td>\n",
       "    </tr>\n",
       "    <tr>\n",
       "      <th>537</th>\n",
       "      <td>2018-10-16</td>\n",
       "      <td>11431</td>\n",
       "      <td>5.4</td>\n",
       "      <td>7</td>\n",
       "      <td>17002.0</td>\n",
       "      <td>65736.0</td>\n",
       "      <td>65736.0</td>\n",
       "      <td>-5571.0</td>\n",
       "    </tr>\n",
       "    <tr>\n",
       "      <th>545</th>\n",
       "      <td>2018-10-08</td>\n",
       "      <td>2896</td>\n",
       "      <td>1.1</td>\n",
       "      <td>3</td>\n",
       "      <td>65756.0</td>\n",
       "      <td>42937.0</td>\n",
       "      <td>57.0</td>\n",
       "      <td>-62860.0</td>\n",
       "    </tr>\n",
       "    <tr>\n",
       "      <th>546</th>\n",
       "      <td>2018-10-07</td>\n",
       "      <td>8752</td>\n",
       "      <td>4.0</td>\n",
       "      <td>1</td>\n",
       "      <td>4171.0</td>\n",
       "      <td>0.0</td>\n",
       "      <td>42880.0</td>\n",
       "      <td>4581.0</td>\n",
       "    </tr>\n",
       "    <tr>\n",
       "      <th>549</th>\n",
       "      <td>2018-10-04</td>\n",
       "      <td>5215</td>\n",
       "      <td>2.2</td>\n",
       "      <td>2</td>\n",
       "      <td>39324.0</td>\n",
       "      <td>4561.0</td>\n",
       "      <td>615.0</td>\n",
       "      <td>-34109.0</td>\n",
       "    </tr>\n",
       "    <tr>\n",
       "      <th>550</th>\n",
       "      <td>2018-10-03</td>\n",
       "      <td>4339</td>\n",
       "      <td>1.7</td>\n",
       "      <td>4</td>\n",
       "      <td>4409.0</td>\n",
       "      <td>59378.0</td>\n",
       "      <td>4409.0</td>\n",
       "      <td>-70.0</td>\n",
       "    </tr>\n",
       "    <tr>\n",
       "      <th>551</th>\n",
       "      <td>2018-10-02</td>\n",
       "      <td>10342</td>\n",
       "      <td>4.3</td>\n",
       "      <td>7</td>\n",
       "      <td>2353.0</td>\n",
       "      <td>0.0</td>\n",
       "      <td>58915.0</td>\n",
       "      <td>7989.0</td>\n",
       "    </tr>\n",
       "    <tr>\n",
       "      <th>556</th>\n",
       "      <td>2018-09-27</td>\n",
       "      <td>5103</td>\n",
       "      <td>2.1</td>\n",
       "      <td>0</td>\n",
       "      <td>56741.0</td>\n",
       "      <td>5797.0</td>\n",
       "      <td>179.0</td>\n",
       "      <td>-51638.0</td>\n",
       "    </tr>\n",
       "  </tbody>\n",
       "</table>\n",
       "</div>"
      ],
      "text/plain": [
       "          Date  Steps  Distance  Floors Ascended  start_value  create_value  \\\n",
       "302 2019-06-08  25356      11.1                0      25324.0       25079.0   \n",
       "508 2018-11-14  10660       5.2                6      10414.0       31002.0   \n",
       "510 2018-11-12  13999       6.3                6      20808.0       31892.0   \n",
       "512 2018-11-10  16555       8.0                8      30535.0        5407.0   \n",
       "519 2018-11-03   7190       3.1                5      20643.0       34547.0   \n",
       "524 2018-10-29  10829       5.5                5      29373.0          55.0   \n",
       "525 2018-10-28  17420       8.1                7        281.0       71870.0   \n",
       "531 2018-10-22   5363       2.3                3      73234.0       34313.0   \n",
       "532 2018-10-21   9355       4.5                2        591.0           0.0   \n",
       "534 2018-10-19   5245       2.3                3      32512.0       18505.0   \n",
       "537 2018-10-16  11431       5.4                7      17002.0       65736.0   \n",
       "545 2018-10-08   2896       1.1                3      65756.0       42937.0   \n",
       "546 2018-10-07   8752       4.0                1       4171.0           0.0   \n",
       "549 2018-10-04   5215       2.2                2      39324.0        4561.0   \n",
       "550 2018-10-03   4339       1.7                4       4409.0       59378.0   \n",
       "551 2018-10-02  10342       4.3                7       2353.0           0.0   \n",
       "556 2018-09-27   5103       2.1                0      56741.0        5797.0   \n",
       "\n",
       "     end_value  start_dif  \n",
       "302    25324.0       32.0  \n",
       "508    10414.0      246.0  \n",
       "510    31892.0    -6809.0  \n",
       "512      926.0   -13980.0  \n",
       "519    34547.0   -13453.0  \n",
       "524       55.0   -18544.0  \n",
       "525    71870.0    17139.0  \n",
       "531     1645.0   -67871.0  \n",
       "532    32668.0     8764.0  \n",
       "534      435.0   -27267.0  \n",
       "537    65736.0    -5571.0  \n",
       "545       57.0   -62860.0  \n",
       "546    42880.0     4581.0  \n",
       "549      615.0   -34109.0  \n",
       "550     4409.0      -70.0  \n",
       "551    58915.0     7989.0  \n",
       "556      179.0   -51638.0  "
      ]
     },
     "execution_count": 25,
     "metadata": {},
     "output_type": "execute_result"
    }
   ],
   "source": [
    "df_validate[(df_validate.start_value >= 24639) |  (df_validate.end_value >= 24639) | (df_validate.create_value >= 24639)]"
   ]
  },
  {
   "cell_type": "code",
   "execution_count": 27,
   "metadata": {},
   "outputs": [
    {
     "data": {
      "text/plain": [
       "Steps               9956.735144\n",
       "Distance               4.388964\n",
       "Floors Ascended        1.298812\n",
       "start_value        10078.709677\n",
       "create_value       10079.281834\n",
       "end_value          10078.680815\n",
       "start_dif           -121.974533\n",
       "dtype: float64"
      ]
     },
     "execution_count": 27,
     "metadata": {},
     "output_type": "execute_result"
    }
   ],
   "source": [
    "df_validate.mean()"
   ]
  },
  {
   "cell_type": "code",
   "execution_count": null,
   "metadata": {},
   "outputs": [],
   "source": []
  }
 ],
 "metadata": {
  "kernelspec": {
   "display_name": "Python 3",
   "language": "python",
   "name": "python3"
  },
  "language_info": {
   "codemirror_mode": {
    "name": "ipython",
    "version": 3
   },
   "file_extension": ".py",
   "mimetype": "text/x-python",
   "name": "python",
   "nbconvert_exporter": "python",
   "pygments_lexer": "ipython3",
   "version": "3.7.4"
  }
 },
 "nbformat": 4,
 "nbformat_minor": 2
}
