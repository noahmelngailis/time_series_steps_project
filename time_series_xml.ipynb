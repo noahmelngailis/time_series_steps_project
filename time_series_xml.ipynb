{
 "cells": [
  {
   "cell_type": "code",
   "execution_count": 7,
   "metadata": {},
   "outputs": [],
   "source": [
    "import pandas as pd\n",
    "import numpy as np\n",
    "import datetime\n",
    "\n",
    "import matplotlib.pyplot as plt\n",
    "import seaborn as sns\n",
    "\n",
    "import os.path"
   ]
  },
  {
   "cell_type": "code",
   "execution_count": 1,
   "metadata": {},
   "outputs": [],
   "source": [
    "from wrangle_xml import wrangle_xml, preprocessing_xml"
   ]
  },
  {
   "cell_type": "code",
   "execution_count": 2,
   "metadata": {},
   "outputs": [],
   "source": [
    "df = wrangle_xml()"
   ]
  },
  {
   "cell_type": "code",
   "execution_count": 3,
   "metadata": {},
   "outputs": [
    {
     "data": {
      "text/html": [
       "<div>\n",
       "<style scoped>\n",
       "    .dataframe tbody tr th:only-of-type {\n",
       "        vertical-align: middle;\n",
       "    }\n",
       "\n",
       "    .dataframe tbody tr th {\n",
       "        vertical-align: top;\n",
       "    }\n",
       "\n",
       "    .dataframe thead th {\n",
       "        text-align: right;\n",
       "    }\n",
       "</style>\n",
       "<table border=\"1\" class=\"dataframe\">\n",
       "  <thead>\n",
       "    <tr style=\"text-align: right;\">\n",
       "      <th></th>\n",
       "      <th>creationDate</th>\n",
       "      <th>device</th>\n",
       "      <th>endDate</th>\n",
       "      <th>sourceName</th>\n",
       "      <th>sourceVersion</th>\n",
       "      <th>startDate</th>\n",
       "      <th>type</th>\n",
       "      <th>unit</th>\n",
       "      <th>value</th>\n",
       "    </tr>\n",
       "  </thead>\n",
       "  <tbody>\n",
       "    <tr>\n",
       "      <th>0</th>\n",
       "      <td>2016-06-03 17:38:46 -0500</td>\n",
       "      <td>&lt;&lt;HKDevice: 0x2825a8410&gt;, name:iPhone, manufac...</td>\n",
       "      <td>2016-06-03 16:40:52 -0500</td>\n",
       "      <td>Noah's iPhone</td>\n",
       "      <td>9.3.1</td>\n",
       "      <td>2016-06-03 16:40:09 -0500</td>\n",
       "      <td>HKQuantityTypeIdentifierStepCount</td>\n",
       "      <td>count</td>\n",
       "      <td>70.0</td>\n",
       "    </tr>\n",
       "    <tr>\n",
       "      <th>1</th>\n",
       "      <td>2016-06-03 17:38:46 -0500</td>\n",
       "      <td>&lt;&lt;HKDevice: 0x2825a83c0&gt;, name:iPhone, manufac...</td>\n",
       "      <td>2016-06-03 16:58:26 -0500</td>\n",
       "      <td>Noah's iPhone</td>\n",
       "      <td>9.3.1</td>\n",
       "      <td>2016-06-03 16:57:23 -0500</td>\n",
       "      <td>HKQuantityTypeIdentifierStepCount</td>\n",
       "      <td>count</td>\n",
       "      <td>68.0</td>\n",
       "    </tr>\n",
       "  </tbody>\n",
       "</table>\n",
       "</div>"
      ],
      "text/plain": [
       "                creationDate  \\\n",
       "0  2016-06-03 17:38:46 -0500   \n",
       "1  2016-06-03 17:38:46 -0500   \n",
       "\n",
       "                                              device  \\\n",
       "0  <<HKDevice: 0x2825a8410>, name:iPhone, manufac...   \n",
       "1  <<HKDevice: 0x2825a83c0>, name:iPhone, manufac...   \n",
       "\n",
       "                     endDate     sourceName sourceVersion  \\\n",
       "0  2016-06-03 16:40:52 -0500  Noah's iPhone         9.3.1   \n",
       "1  2016-06-03 16:58:26 -0500  Noah's iPhone         9.3.1   \n",
       "\n",
       "                   startDate                               type   unit  value  \n",
       "0  2016-06-03 16:40:09 -0500  HKQuantityTypeIdentifierStepCount  count   70.0  \n",
       "1  2016-06-03 16:57:23 -0500  HKQuantityTypeIdentifierStepCount  count   68.0  "
      ]
     },
     "execution_count": 3,
     "metadata": {},
     "output_type": "execute_result"
    }
   ],
   "source": [
    "df.head(2)"
   ]
  },
  {
   "cell_type": "code",
   "execution_count": 4,
   "metadata": {},
   "outputs": [],
   "source": [
    "df = preprocessing_xml(df)"
   ]
  },
  {
   "cell_type": "code",
   "execution_count": 5,
   "metadata": {},
   "outputs": [
    {
     "data": {
      "text/html": [
       "<div>\n",
       "<style scoped>\n",
       "    .dataframe tbody tr th:only-of-type {\n",
       "        vertical-align: middle;\n",
       "    }\n",
       "\n",
       "    .dataframe tbody tr th {\n",
       "        vertical-align: top;\n",
       "    }\n",
       "\n",
       "    .dataframe thead th {\n",
       "        text-align: right;\n",
       "    }\n",
       "</style>\n",
       "<table border=\"1\" class=\"dataframe\">\n",
       "  <thead>\n",
       "    <tr style=\"text-align: right;\">\n",
       "      <th></th>\n",
       "      <th>creationDate</th>\n",
       "      <th>device</th>\n",
       "      <th>endDate</th>\n",
       "      <th>sourceName</th>\n",
       "      <th>sourceVersion</th>\n",
       "      <th>type</th>\n",
       "      <th>unit</th>\n",
       "      <th>value</th>\n",
       "    </tr>\n",
       "    <tr>\n",
       "      <th>startDate</th>\n",
       "      <th></th>\n",
       "      <th></th>\n",
       "      <th></th>\n",
       "      <th></th>\n",
       "      <th></th>\n",
       "      <th></th>\n",
       "      <th></th>\n",
       "      <th></th>\n",
       "    </tr>\n",
       "  </thead>\n",
       "  <tbody>\n",
       "    <tr>\n",
       "      <th>2016-06-03 16:40:09</th>\n",
       "      <td>2016-06-03 17:38:46</td>\n",
       "      <td>&lt;&lt;HKDevice: 0x2825a8410&gt;, name:iPhone, manufac...</td>\n",
       "      <td>2016-06-03 16:40:52</td>\n",
       "      <td>Noah's iPhone</td>\n",
       "      <td>9.3.1</td>\n",
       "      <td>HKQuantityTypeIdentifierStepCount</td>\n",
       "      <td>count</td>\n",
       "      <td>70.0</td>\n",
       "    </tr>\n",
       "    <tr>\n",
       "      <th>2016-06-03 16:57:23</th>\n",
       "      <td>2016-06-03 17:38:46</td>\n",
       "      <td>&lt;&lt;HKDevice: 0x2825a83c0&gt;, name:iPhone, manufac...</td>\n",
       "      <td>2016-06-03 16:58:26</td>\n",
       "      <td>Noah's iPhone</td>\n",
       "      <td>9.3.1</td>\n",
       "      <td>HKQuantityTypeIdentifierStepCount</td>\n",
       "      <td>count</td>\n",
       "      <td>68.0</td>\n",
       "    </tr>\n",
       "  </tbody>\n",
       "</table>\n",
       "</div>"
      ],
      "text/plain": [
       "                           creationDate  \\\n",
       "startDate                                 \n",
       "2016-06-03 16:40:09 2016-06-03 17:38:46   \n",
       "2016-06-03 16:57:23 2016-06-03 17:38:46   \n",
       "\n",
       "                                                                device  \\\n",
       "startDate                                                                \n",
       "2016-06-03 16:40:09  <<HKDevice: 0x2825a8410>, name:iPhone, manufac...   \n",
       "2016-06-03 16:57:23  <<HKDevice: 0x2825a83c0>, name:iPhone, manufac...   \n",
       "\n",
       "                                endDate     sourceName sourceVersion  \\\n",
       "startDate                                                              \n",
       "2016-06-03 16:40:09 2016-06-03 16:40:52  Noah's iPhone         9.3.1   \n",
       "2016-06-03 16:57:23 2016-06-03 16:58:26  Noah's iPhone         9.3.1   \n",
       "\n",
       "                                                  type   unit  value  \n",
       "startDate                                                             \n",
       "2016-06-03 16:40:09  HKQuantityTypeIdentifierStepCount  count   70.0  \n",
       "2016-06-03 16:57:23  HKQuantityTypeIdentifierStepCount  count   68.0  "
      ]
     },
     "execution_count": 5,
     "metadata": {},
     "output_type": "execute_result"
    }
   ],
   "source": [
    "df.head(2)"
   ]
  },
  {
   "cell_type": "code",
   "execution_count": 8,
   "metadata": {},
   "outputs": [],
   "source": [
    "df_2 = pd.read_csv(\"Export.csv\")"
   ]
  },
  {
   "cell_type": "code",
   "execution_count": 9,
   "metadata": {},
   "outputs": [],
   "source": [
    "df_2['Date'] = pd.to_datetime(df_2.Date)"
   ]
  },
  {
   "cell_type": "code",
   "execution_count": 10,
   "metadata": {},
   "outputs": [
    {
     "data": {
      "text/plain": [
       "min   2018-08-26\n",
       "max   2020-08-16\n",
       "Name: Date, dtype: datetime64[ns]"
      ]
     },
     "execution_count": 10,
     "metadata": {},
     "output_type": "execute_result"
    }
   ],
   "source": [
    "df_2.Date.agg([min, max])"
   ]
  },
  {
   "cell_type": "code",
   "execution_count": 14,
   "metadata": {},
   "outputs": [
    {
     "ename": "TypeError",
     "evalue": "'Series' object is not callable",
     "output_type": "error",
     "traceback": [
      "\u001b[0;31m---------------------------------------------------------------------------\u001b[0m",
      "\u001b[0;31mTypeError\u001b[0m                                 Traceback (most recent call last)",
      "\u001b[0;32m<ipython-input-14-67a4999e937a>\u001b[0m in \u001b[0;36m<module>\u001b[0;34m\u001b[0m\n\u001b[0;32m----> 1\u001b[0;31m \u001b[0mdf_2\u001b[0m\u001b[0;34m[\u001b[0m\u001b[0mdf_2\u001b[0m\u001b[0;34m.\u001b[0m\u001b[0mDate\u001b[0m\u001b[0;34m(\u001b[0m\u001b[0;34m'Y'\u001b[0m\u001b[0;34m)\u001b[0m \u001b[0;34m==\u001b[0m \u001b[0;36m2018\u001b[0m\u001b[0;34m]\u001b[0m\u001b[0;34m\u001b[0m\u001b[0;34m\u001b[0m\u001b[0m\n\u001b[0m",
      "\u001b[0;31mTypeError\u001b[0m: 'Series' object is not callable"
     ]
    }
   ],
   "source": [
    "df_2[df_2.Date('Y') == 2018]"
   ]
  },
  {
   "cell_type": "code",
   "execution_count": 12,
   "metadata": {},
   "outputs": [
    {
     "data": {
      "text/plain": [
       "HKQuantityTypeIdentifierStepCount                 67915\n",
       "HKQuantityTypeIdentifierDistanceWalkingRunning    67908\n",
       "HKQuantityTypeIdentifierFlightsClimbed             1201\n",
       "Name: type, dtype: int64"
      ]
     },
     "execution_count": 12,
     "metadata": {},
     "output_type": "execute_result"
    }
   ],
   "source": [
    "df.type.value_counts()"
   ]
  },
  {
   "cell_type": "code",
   "execution_count": null,
   "metadata": {},
   "outputs": [],
   "source": [
    "df = pd.read_csv(\"xml.csv\")"
   ]
  },
  {
   "cell_type": "code",
   "execution_count": null,
   "metadata": {},
   "outputs": [],
   "source": [
    "df.type.value_counts()"
   ]
  },
  {
   "cell_type": "code",
   "execution_count": null,
   "metadata": {},
   "outputs": [],
   "source": [
    "df_steps = df[df.type == 'HKQuantityTypeIdentifierStepCount']"
   ]
  },
  {
   "cell_type": "code",
   "execution_count": null,
   "metadata": {},
   "outputs": [],
   "source": [
    "df_steps"
   ]
  },
  {
   "cell_type": "code",
   "execution_count": null,
   "metadata": {},
   "outputs": [],
   "source": [
    "df_steps = df_steps[['creationDate', 'endDate', 'startDate', 'value']]"
   ]
  },
  {
   "cell_type": "code",
   "execution_count": null,
   "metadata": {},
   "outputs": [],
   "source": [
    "df_start = pd.DataFrame(df_steps.set_index('startDate').resample('d').value.sum())"
   ]
  },
  {
   "cell_type": "code",
   "execution_count": null,
   "metadata": {},
   "outputs": [],
   "source": [
    "df_start"
   ]
  },
  {
   "cell_type": "code",
   "execution_count": null,
   "metadata": {},
   "outputs": [],
   "source": []
  }
 ],
 "metadata": {
  "kernelspec": {
   "display_name": "Python 3",
   "language": "python",
   "name": "python3"
  },
  "language_info": {
   "codemirror_mode": {
    "name": "ipython",
    "version": 3
   },
   "file_extension": ".py",
   "mimetype": "text/x-python",
   "name": "python",
   "nbconvert_exporter": "python",
   "pygments_lexer": "ipython3",
   "version": "3.7.4"
  }
 },
 "nbformat": 4,
 "nbformat_minor": 2
}
