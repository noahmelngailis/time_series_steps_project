{
 "cells": [
  {
   "cell_type": "code",
   "execution_count": 1,
   "metadata": {},
   "outputs": [],
   "source": [
    "import pandas as pd\n",
    "import numpy as np\n",
    "import datetime\n",
    "\n",
    "import matplotlib.pyplot as plt\n",
    "import seaborn as sns"
   ]
  },
  {
   "cell_type": "code",
   "execution_count": 2,
   "metadata": {},
   "outputs": [],
   "source": [
    "import pandas_read_xml as pdx\n",
    "from pandas_read_xml import auto_separate_tables"
   ]
  },
  {
   "cell_type": "code",
   "execution_count": 3,
   "metadata": {},
   "outputs": [],
   "source": [
    "df_2 = pdx.read_xml('export.xml', transpose=True)"
   ]
  },
  {
   "cell_type": "code",
   "execution_count": 4,
   "metadata": {},
   "outputs": [
    {
     "data": {
      "text/html": [
       "<div>\n",
       "<style scoped>\n",
       "    .dataframe tbody tr th:only-of-type {\n",
       "        vertical-align: middle;\n",
       "    }\n",
       "\n",
       "    .dataframe tbody tr th {\n",
       "        vertical-align: top;\n",
       "    }\n",
       "\n",
       "    .dataframe thead th {\n",
       "        text-align: right;\n",
       "    }\n",
       "</style>\n",
       "<table border=\"1\" class=\"dataframe\">\n",
       "  <thead>\n",
       "    <tr style=\"text-align: right;\">\n",
       "      <th></th>\n",
       "      <th>HealthData</th>\n",
       "    </tr>\n",
       "  </thead>\n",
       "  <tbody>\n",
       "    <tr>\n",
       "      <th>@locale</th>\n",
       "      <td>en_US</td>\n",
       "    </tr>\n",
       "    <tr>\n",
       "      <th>ExportDate</th>\n",
       "      <td>{'@value': '2020-08-18 21:01:15 -0500'}</td>\n",
       "    </tr>\n",
       "    <tr>\n",
       "      <th>Me</th>\n",
       "      <td>{'@HKCharacteristicTypeIdentifierDateOfBirth':...</td>\n",
       "    </tr>\n",
       "    <tr>\n",
       "      <th>Record</th>\n",
       "      <td>[{'@type': 'HKQuantityTypeIdentifierHeight', '...</td>\n",
       "    </tr>\n",
       "  </tbody>\n",
       "</table>\n",
       "</div>"
      ],
      "text/plain": [
       "                                                   HealthData\n",
       "@locale                                                 en_US\n",
       "ExportDate            {'@value': '2020-08-18 21:01:15 -0500'}\n",
       "Me          {'@HKCharacteristicTypeIdentifierDateOfBirth':...\n",
       "Record      [{'@type': 'HKQuantityTypeIdentifierHeight', '..."
      ]
     },
     "execution_count": 4,
     "metadata": {},
     "output_type": "execute_result"
    }
   ],
   "source": [
    "df_2"
   ]
  },
  {
   "cell_type": "code",
   "execution_count": 14,
   "metadata": {},
   "outputs": [
    {
     "name": "stdout",
     "output_type": "stream",
     "text": [
      "<class 'pandas.core.frame.DataFrame'>\n",
      "Index: 4 entries, @locale to Record\n",
      "Data columns (total 1 columns):\n",
      " #   Column      Non-Null Count  Dtype \n",
      "---  ------      --------------  ----- \n",
      " 0   HealthData  4 non-null      object\n",
      "dtypes: object(1)\n",
      "memory usage: 64.0+ bytes\n"
     ]
    }
   ],
   "source": [
    "df_2.info()"
   ]
  },
  {
   "cell_type": "code",
   "execution_count": null,
   "metadata": {},
   "outputs": [],
   "source": []
  },
  {
   "cell_type": "code",
   "execution_count": null,
   "metadata": {},
   "outputs": [],
   "source": []
  },
  {
   "cell_type": "code",
   "execution_count": null,
   "metadata": {},
   "outputs": [],
   "source": []
  },
  {
   "cell_type": "code",
   "execution_count": null,
   "metadata": {},
   "outputs": [],
   "source": []
  },
  {
   "cell_type": "code",
   "execution_count": 5,
   "metadata": {},
   "outputs": [],
   "source": [
    "def list_separate_tables(df: pd.DataFrame) -> list:\n",
    "    potential_separate_table = list(set([\n",
    "        '|'.join(column.split('|')[:-1])\n",
    "        for column in df.columns\n",
    "        if determine_flatten_action_for_column(df, column).__name__ != \"do_nothing\"\n",
    "    ]))\n",
    "    potential_separate_table.sort()\n",
    "\n",
    "    separate_tables_list = potential_separate_table\n",
    "    for i, potential in enumerate(potential_separate_table):\n",
    "        if (i < len(potential_separate_table) - 1) and (potential_separate_table[i+1].startswith(potential)):\n",
    "            separate_tables_list.remove(potential_separate_table[i+1])\n",
    "    if separate_tables_list == ['']:\n",
    "        return ['main']+potential_separate_table\n",
    "    else:\n",
    "        return [column for column in df.columns\n",
    "                if determine_flatten_action_for_column(df, column).__name__ != \"do_nothing\"]"
   ]
  },
  {
   "cell_type": "code",
   "execution_count": 7,
   "metadata": {},
   "outputs": [
    {
     "ename": "NameError",
     "evalue": "name 'determine_flatten_action_for_column' is not defined",
     "output_type": "error",
     "traceback": [
      "\u001b[0;31m---------------------------------------------------------------------------\u001b[0m",
      "\u001b[0;31mNameError\u001b[0m                                 Traceback (most recent call last)",
      "\u001b[0;32m<ipython-input-7-42c4d6506c40>\u001b[0m in \u001b[0;36m<module>\u001b[0;34m\u001b[0m\n\u001b[0;32m----> 1\u001b[0;31m \u001b[0mlist_separate_tables\u001b[0m\u001b[0;34m(\u001b[0m\u001b[0mdf_2\u001b[0m\u001b[0;34m)\u001b[0m\u001b[0;34m\u001b[0m\u001b[0;34m\u001b[0m\u001b[0m\n\u001b[0m",
      "\u001b[0;32m<ipython-input-5-1130f7fbf164>\u001b[0m in \u001b[0;36mlist_separate_tables\u001b[0;34m(df)\u001b[0m\n\u001b[1;32m      2\u001b[0m     potential_separate_table = list(set([\n\u001b[1;32m      3\u001b[0m         \u001b[0;34m'|'\u001b[0m\u001b[0;34m.\u001b[0m\u001b[0mjoin\u001b[0m\u001b[0;34m(\u001b[0m\u001b[0mcolumn\u001b[0m\u001b[0;34m.\u001b[0m\u001b[0msplit\u001b[0m\u001b[0;34m(\u001b[0m\u001b[0;34m'|'\u001b[0m\u001b[0;34m)\u001b[0m\u001b[0;34m[\u001b[0m\u001b[0;34m:\u001b[0m\u001b[0;34m-\u001b[0m\u001b[0;36m1\u001b[0m\u001b[0;34m]\u001b[0m\u001b[0;34m)\u001b[0m\u001b[0;34m\u001b[0m\u001b[0;34m\u001b[0m\u001b[0m\n\u001b[0;32m----> 4\u001b[0;31m         \u001b[0;32mfor\u001b[0m \u001b[0mcolumn\u001b[0m \u001b[0;32min\u001b[0m \u001b[0mdf\u001b[0m\u001b[0;34m.\u001b[0m\u001b[0mcolumns\u001b[0m\u001b[0;34m\u001b[0m\u001b[0;34m\u001b[0m\u001b[0m\n\u001b[0m\u001b[1;32m      5\u001b[0m         \u001b[0;32mif\u001b[0m \u001b[0mdetermine_flatten_action_for_column\u001b[0m\u001b[0;34m(\u001b[0m\u001b[0mdf\u001b[0m\u001b[0;34m,\u001b[0m \u001b[0mcolumn\u001b[0m\u001b[0;34m)\u001b[0m\u001b[0;34m.\u001b[0m\u001b[0m__name__\u001b[0m \u001b[0;34m!=\u001b[0m \u001b[0;34m\"do_nothing\"\u001b[0m\u001b[0;34m\u001b[0m\u001b[0;34m\u001b[0m\u001b[0m\n\u001b[1;32m      6\u001b[0m     ]))\n",
      "\u001b[0;32m<ipython-input-5-1130f7fbf164>\u001b[0m in \u001b[0;36m<listcomp>\u001b[0;34m(.0)\u001b[0m\n\u001b[1;32m      3\u001b[0m         \u001b[0;34m'|'\u001b[0m\u001b[0;34m.\u001b[0m\u001b[0mjoin\u001b[0m\u001b[0;34m(\u001b[0m\u001b[0mcolumn\u001b[0m\u001b[0;34m.\u001b[0m\u001b[0msplit\u001b[0m\u001b[0;34m(\u001b[0m\u001b[0;34m'|'\u001b[0m\u001b[0;34m)\u001b[0m\u001b[0;34m[\u001b[0m\u001b[0;34m:\u001b[0m\u001b[0;34m-\u001b[0m\u001b[0;36m1\u001b[0m\u001b[0;34m]\u001b[0m\u001b[0;34m)\u001b[0m\u001b[0;34m\u001b[0m\u001b[0;34m\u001b[0m\u001b[0m\n\u001b[1;32m      4\u001b[0m         \u001b[0;32mfor\u001b[0m \u001b[0mcolumn\u001b[0m \u001b[0;32min\u001b[0m \u001b[0mdf\u001b[0m\u001b[0;34m.\u001b[0m\u001b[0mcolumns\u001b[0m\u001b[0;34m\u001b[0m\u001b[0;34m\u001b[0m\u001b[0m\n\u001b[0;32m----> 5\u001b[0;31m         \u001b[0;32mif\u001b[0m \u001b[0mdetermine_flatten_action_for_column\u001b[0m\u001b[0;34m(\u001b[0m\u001b[0mdf\u001b[0m\u001b[0;34m,\u001b[0m \u001b[0mcolumn\u001b[0m\u001b[0;34m)\u001b[0m\u001b[0;34m.\u001b[0m\u001b[0m__name__\u001b[0m \u001b[0;34m!=\u001b[0m \u001b[0;34m\"do_nothing\"\u001b[0m\u001b[0;34m\u001b[0m\u001b[0;34m\u001b[0m\u001b[0m\n\u001b[0m\u001b[1;32m      6\u001b[0m     ]))\n\u001b[1;32m      7\u001b[0m     \u001b[0mpotential_separate_table\u001b[0m\u001b[0;34m.\u001b[0m\u001b[0msort\u001b[0m\u001b[0;34m(\u001b[0m\u001b[0;34m)\u001b[0m\u001b[0;34m\u001b[0m\u001b[0;34m\u001b[0m\u001b[0m\n",
      "\u001b[0;31mNameError\u001b[0m: name 'determine_flatten_action_for_column' is not defined"
     ]
    }
   ],
   "source": [
    "list_separate_tables(df_2)"
   ]
  },
  {
   "cell_type": "code",
   "execution_count": 15,
   "metadata": {},
   "outputs": [
    {
     "ename": "NameError",
     "evalue": "name 'key_columns' is not defined",
     "output_type": "error",
     "traceback": [
      "\u001b[0;31m---------------------------------------------------------------------------\u001b[0m",
      "\u001b[0;31mNameError\u001b[0m                                 Traceback (most recent call last)",
      "\u001b[0;32m<ipython-input-15-4345b5e2bc6c>\u001b[0m in \u001b[0;36m<module>\u001b[0;34m\u001b[0m\n\u001b[0;32m----> 1\u001b[0;31m \u001b[0mdata\u001b[0m \u001b[0;34m=\u001b[0m \u001b[0mdf_2\u001b[0m\u001b[0;34m.\u001b[0m\u001b[0mpipe\u001b[0m\u001b[0;34m(\u001b[0m\u001b[0mauto_separate_tables\u001b[0m\u001b[0;34m,\u001b[0m \u001b[0mkey_columns\u001b[0m\u001b[0;34m)\u001b[0m\u001b[0;34m\u001b[0m\u001b[0;34m\u001b[0m\u001b[0m\n\u001b[0m",
      "\u001b[0;31mNameError\u001b[0m: name 'key_columns' is not defined"
     ]
    }
   ],
   "source": [
    "data = df_2.pipe(auto_separate_tables, key_columns)"
   ]
  },
  {
   "cell_type": "code",
   "execution_count": 16,
   "metadata": {},
   "outputs": [],
   "source": [
    "#https://pypi.org/project/pandas-read-xml/"
   ]
  },
  {
   "cell_type": "code",
   "execution_count": 17,
   "metadata": {},
   "outputs": [
    {
     "ename": "NameError",
     "evalue": "name 'root' is not defined",
     "output_type": "error",
     "traceback": [
      "\u001b[0;31m---------------------------------------------------------------------------\u001b[0m",
      "\u001b[0;31mNameError\u001b[0m                                 Traceback (most recent call last)",
      "\u001b[0;32m<ipython-input-17-67d7ac4a1f6a>\u001b[0m in \u001b[0;36m<module>\u001b[0;34m\u001b[0m\n\u001b[1;32m      3\u001b[0m \u001b[0mdatatframe\u001b[0m \u001b[0;34m=\u001b[0m \u001b[0mpd\u001b[0m\u001b[0;34m.\u001b[0m\u001b[0mDataFrame\u001b[0m\u001b[0;34m(\u001b[0m\u001b[0mcolumns\u001b[0m \u001b[0;34m=\u001b[0m \u001b[0mcolumns\u001b[0m\u001b[0;34m)\u001b[0m\u001b[0;34m\u001b[0m\u001b[0;34m\u001b[0m\u001b[0m\n\u001b[1;32m      4\u001b[0m \u001b[0;34m\u001b[0m\u001b[0m\n\u001b[0;32m----> 5\u001b[0;31m \u001b[0;32mfor\u001b[0m \u001b[0mnode\u001b[0m \u001b[0;32min\u001b[0m \u001b[0mroot\u001b[0m\u001b[0;34m:\u001b[0m\u001b[0;34m\u001b[0m\u001b[0;34m\u001b[0m\u001b[0m\n\u001b[0m\u001b[1;32m      6\u001b[0m \u001b[0;34m\u001b[0m\u001b[0m\n\u001b[1;32m      7\u001b[0m     \u001b[0mname\u001b[0m \u001b[0;34m=\u001b[0m \u001b[0mnode\u001b[0m\u001b[0;34m.\u001b[0m\u001b[0mattrib\u001b[0m\u001b[0;34m.\u001b[0m\u001b[0mget\u001b[0m\u001b[0;34m(\u001b[0m\u001b[0;34m\"name\"\u001b[0m\u001b[0;34m)\u001b[0m\u001b[0;34m\u001b[0m\u001b[0;34m\u001b[0m\u001b[0m\n",
      "\u001b[0;31mNameError\u001b[0m: name 'root' is not defined"
     ]
    }
   ],
   "source": [
    "\n",
    "\n",
    "\n",
    "\n",
    "columns = [\"name\", \"email\", \"age\"]\n",
    "\n",
    "datatframe = pd.DataFrame(columns = columns)\n",
    "\n",
    "for node in root: \n",
    "\n",
    "    name = node.attrib.get(\"name\")\n",
    "\n",
    "    mail = node.find(\"email\").text if node is not None else None\n",
    "\n",
    "    age = node.find(\"age\").text if node is not None else None\n",
    "\n",
    "    datatframe = datatframe.append(pd.Series([name, mail, age], index = columns), ignore_index = True)"
   ]
  },
  {
   "cell_type": "code",
   "execution_count": 18,
   "metadata": {},
   "outputs": [],
   "source": [
    "import xml.etree.ElementTree as etree"
   ]
  },
  {
   "cell_type": "code",
   "execution_count": 19,
   "metadata": {},
   "outputs": [],
   "source": [
    "tree = etree.parse(\"export.xml\")"
   ]
  },
  {
   "cell_type": "code",
   "execution_count": 20,
   "metadata": {},
   "outputs": [],
   "source": [
    "root = tree.getroot()"
   ]
  },
  {
   "cell_type": "code",
   "execution_count": 21,
   "metadata": {},
   "outputs": [
    {
     "data": {
      "text/plain": [
       "('HealthData', {'locale': 'en_US'})"
      ]
     },
     "execution_count": 21,
     "metadata": {},
     "output_type": "execute_result"
    }
   ],
   "source": [
    "root.tag, root.attrib"
   ]
  },
  {
   "cell_type": "code",
   "execution_count": 63,
   "metadata": {},
   "outputs": [
    {
     "ename": "TypeError",
     "evalue": "unsupported operand type(s) for +: 'dict' and 'dict'",
     "output_type": "error",
     "traceback": [
      "\u001b[0;31m---------------------------------------------------------------------------\u001b[0m",
      "\u001b[0;31mTypeError\u001b[0m                                 Traceback (most recent call last)",
      "\u001b[0;32m<ipython-input-63-0cd8b2b9e62a>\u001b[0m in \u001b[0;36m<module>\u001b[0;34m\u001b[0m\n\u001b[0;32m----> 1\u001b[0;31m \u001b[0mroot\u001b[0m\u001b[0;34m[\u001b[0m\u001b[0;36m5\u001b[0m\u001b[0;34m]\u001b[0m\u001b[0;34m.\u001b[0m\u001b[0mattrib\u001b[0m \u001b[0;34m+\u001b[0m \u001b[0mroot\u001b[0m\u001b[0;34m[\u001b[0m\u001b[0;36m6\u001b[0m\u001b[0;34m]\u001b[0m\u001b[0;34m.\u001b[0m\u001b[0mattrib\u001b[0m\u001b[0;34m\u001b[0m\u001b[0;34m\u001b[0m\u001b[0m\n\u001b[0m",
      "\u001b[0;31mTypeError\u001b[0m: unsupported operand type(s) for +: 'dict' and 'dict'"
     ]
    }
   ],
   "source": [
    "root[5].attrib"
   ]
  },
  {
   "cell_type": "code",
   "execution_count": 60,
   "metadata": {},
   "outputs": [],
   "source": [
    "df = pd.DataFrame(root[4].attrib, index=[0])"
   ]
  },
  {
   "cell_type": "code",
   "execution_count": 78,
   "metadata": {},
   "outputs": [
    {
     "data": {
      "text/plain": [
       "'HKQuantityTypeIdentifierStepCount'"
      ]
     },
     "execution_count": 78,
     "metadata": {},
     "output_type": "execute_result"
    }
   ],
   "source": [
    "root[5].attrib['type']"
   ]
  },
  {
   "cell_type": "code",
   "execution_count": null,
   "metadata": {
    "scrolled": false
   },
   "outputs": [],
   "source": [
    "## check to see if attribute is step counter\n",
    "i = 4\n",
    "while i < 67920:\n",
    "    if root[i].attrib['type'] == 'HKQuantityTypeIdentifierStepCount':\n",
    "    else:\n",
    "        print(i)\n",
    "        break\n",
    "    i += 1\n",
    "    "
   ]
  },
  {
   "cell_type": "code",
   "execution_count": 90,
   "metadata": {},
   "outputs": [
    {
     "data": {
      "text/plain": [
       "{'type': 'HKQuantityTypeIdentifierDistanceWalkingRunning',\n",
       " 'sourceName': \"Noah's iPhone\",\n",
       " 'sourceVersion': '9.3.1',\n",
       " 'device': '<<HKDevice: 0x282513d90>, name:iPhone, manufacturer:Apple, model:iPhone, hardware:iPhone8,1, software:9.3.1>',\n",
       " 'unit': 'mi',\n",
       " 'creationDate': '2016-06-03 17:38:46 -0500',\n",
       " 'startDate': '2016-06-03 16:40:09 -0500',\n",
       " 'endDate': '2016-06-03 16:40:52 -0500',\n",
       " 'value': '0.0351199'}"
      ]
     },
     "execution_count": 90,
     "metadata": {},
     "output_type": "execute_result"
    }
   ],
   "source": [
    "root[67919].attrib"
   ]
  },
  {
   "cell_type": "code",
   "execution_count": null,
   "metadata": {},
   "outputs": [],
   "source": [
    "i = 67919\n",
    "while i < 1_000_000:\n",
    "    if root[i].attrib['type'] == 'HKQuantityTypeIdentifierDistanceWalkingRunning':\n",
    "    else:\n",
    "        print(f'{i} is false and break')\n",
    "        break\n",
    "    i += 1"
   ]
  },
  {
   "cell_type": "code",
   "execution_count": 94,
   "metadata": {},
   "outputs": [
    {
     "data": {
      "text/plain": [
       "{'type': 'HKQuantityTypeIdentifierFlightsClimbed',\n",
       " 'sourceName': \"Noah's iPhone\",\n",
       " 'sourceVersion': '9.3.1',\n",
       " 'device': '<<HKDevice: 0x282592030>, name:iPhone, manufacturer:Apple, model:iPhone, hardware:iPhone8,1, software:9.3.1>',\n",
       " 'unit': 'count',\n",
       " 'creationDate': '2016-06-04 16:30:41 -0500',\n",
       " 'startDate': '2016-06-04 15:45:08 -0500',\n",
       " 'endDate': '2016-06-04 15:45:08 -0500',\n",
       " 'value': '1'}"
      ]
     },
     "execution_count": 94,
     "metadata": {},
     "output_type": "execute_result"
    }
   ],
   "source": [
    "root[135827].attrib"
   ]
  },
  {
   "cell_type": "code",
   "execution_count": null,
   "metadata": {},
   "outputs": [],
   "source": [
    "i = 135827\n",
    "while i < 1_000_000:\n",
    "    if root[i].attrib['type'] == 'HKQuantityTypeIdentifierFlightsClimbed':\n",
    "    else:\n",
    "        print(f'{i} is false and break')\n",
    "        break\n",
    "    i += 1"
   ]
  },
  {
   "cell_type": "code",
   "execution_count": 97,
   "metadata": {},
   "outputs": [
    {
     "data": {
      "text/plain": [
       "{'type': 'HKQuantityTypeIdentifierHeadphoneAudioExposure',\n",
       " 'sourceName': \"Noah's iPhone\",\n",
       " 'sourceVersion': '13.2.2',\n",
       " 'device': '<<HKDevice: 0x282501b30>, name:AirPods, manufacturer:Apple Inc., model:0x200f, localIdentifier:4C:6B:E8:3A:54:08-tacl>',\n",
       " 'unit': 'dBASPL',\n",
       " 'creationDate': '2019-11-11 07:27:51 -0500',\n",
       " 'startDate': '2019-11-11 07:16:51 -0500',\n",
       " 'endDate': '2019-11-11 07:37:57 -0500',\n",
       " 'value': '61.3887'}"
      ]
     },
     "execution_count": 97,
     "metadata": {},
     "output_type": "execute_result"
    }
   ],
   "source": [
    "root[137028].attrib"
   ]
  },
  {
   "cell_type": "code",
   "execution_count": null,
   "metadata": {},
   "outputs": [],
   "source": [
    "i = 4\n",
    "type_list = []\n",
    "while i < 1_000_000:\n",
    "    if root[i].attrib['type'] in type_list:\n",
    "\n",
    "    else:\n",
    "        type_list.append(root[i].attrib['type'])\n",
    "    i +=1\n",
    "        "
   ]
  },
  {
   "cell_type": "code",
   "execution_count": 104,
   "metadata": {},
   "outputs": [
    {
     "data": {
      "text/plain": [
       "['HKQuantityTypeIdentifierStepCount',\n",
       " 'HKQuantityTypeIdentifierDistanceWalkingRunning',\n",
       " 'HKQuantityTypeIdentifierFlightsClimbed',\n",
       " 'HKQuantityTypeIdentifierHeadphoneAudioExposure',\n",
       " 'HKCategoryTypeIdentifierSleepAnalysis']"
      ]
     },
     "execution_count": 104,
     "metadata": {},
     "output_type": "execute_result"
    }
   ],
   "source": [
    "type_list"
   ]
  },
  {
   "cell_type": "code",
   "execution_count": 107,
   "metadata": {},
   "outputs": [],
   "source": [
    "df = pd.DataFrame()\n",
    "for i in range(4,137028):\n",
    "    dict_new = root[i].attrib\n",
    "    df = df.append(dict_new, ignore_index=True)\n"
   ]
  },
  {
   "cell_type": "code",
   "execution_count": 108,
   "metadata": {},
   "outputs": [
    {
     "data": {
      "text/html": [
       "<div>\n",
       "<style scoped>\n",
       "    .dataframe tbody tr th:only-of-type {\n",
       "        vertical-align: middle;\n",
       "    }\n",
       "\n",
       "    .dataframe tbody tr th {\n",
       "        vertical-align: top;\n",
       "    }\n",
       "\n",
       "    .dataframe thead th {\n",
       "        text-align: right;\n",
       "    }\n",
       "</style>\n",
       "<table border=\"1\" class=\"dataframe\">\n",
       "  <thead>\n",
       "    <tr style=\"text-align: right;\">\n",
       "      <th></th>\n",
       "      <th>creationDate</th>\n",
       "      <th>device</th>\n",
       "      <th>endDate</th>\n",
       "      <th>sourceName</th>\n",
       "      <th>sourceVersion</th>\n",
       "      <th>startDate</th>\n",
       "      <th>type</th>\n",
       "      <th>unit</th>\n",
       "      <th>value</th>\n",
       "    </tr>\n",
       "  </thead>\n",
       "  <tbody>\n",
       "    <tr>\n",
       "      <th>0</th>\n",
       "      <td>2016-06-03 17:38:46 -0500</td>\n",
       "      <td>&lt;&lt;HKDevice: 0x2825a8410&gt;, name:iPhone, manufac...</td>\n",
       "      <td>2016-06-03 16:40:52 -0500</td>\n",
       "      <td>Noah's iPhone</td>\n",
       "      <td>9.3.1</td>\n",
       "      <td>2016-06-03 16:40:09 -0500</td>\n",
       "      <td>HKQuantityTypeIdentifierStepCount</td>\n",
       "      <td>count</td>\n",
       "      <td>70</td>\n",
       "    </tr>\n",
       "    <tr>\n",
       "      <th>1</th>\n",
       "      <td>2016-06-03 17:38:46 -0500</td>\n",
       "      <td>&lt;&lt;HKDevice: 0x2825a83c0&gt;, name:iPhone, manufac...</td>\n",
       "      <td>2016-06-03 16:58:26 -0500</td>\n",
       "      <td>Noah's iPhone</td>\n",
       "      <td>9.3.1</td>\n",
       "      <td>2016-06-03 16:57:23 -0500</td>\n",
       "      <td>HKQuantityTypeIdentifierStepCount</td>\n",
       "      <td>count</td>\n",
       "      <td>68</td>\n",
       "    </tr>\n",
       "    <tr>\n",
       "      <th>2</th>\n",
       "      <td>2016-06-03 18:39:21 -0500</td>\n",
       "      <td>&lt;&lt;HKDevice: 0x2825a9270&gt;, name:iPhone, manufac...</td>\n",
       "      <td>2016-06-03 17:35:45 -0500</td>\n",
       "      <td>Noah's iPhone</td>\n",
       "      <td>9.3.1</td>\n",
       "      <td>2016-06-03 17:34:29 -0500</td>\n",
       "      <td>HKQuantityTypeIdentifierStepCount</td>\n",
       "      <td>count</td>\n",
       "      <td>55</td>\n",
       "    </tr>\n",
       "    <tr>\n",
       "      <th>3</th>\n",
       "      <td>2016-06-03 18:39:21 -0500</td>\n",
       "      <td>&lt;&lt;HKDevice: 0x2825aa030&gt;, name:iPhone, manufac...</td>\n",
       "      <td>2016-06-03 17:48:03 -0500</td>\n",
       "      <td>Noah's iPhone</td>\n",
       "      <td>9.3.1</td>\n",
       "      <td>2016-06-03 17:43:01 -0500</td>\n",
       "      <td>HKQuantityTypeIdentifierStepCount</td>\n",
       "      <td>count</td>\n",
       "      <td>42</td>\n",
       "    </tr>\n",
       "    <tr>\n",
       "      <th>4</th>\n",
       "      <td>2016-06-03 18:39:21 -0500</td>\n",
       "      <td>&lt;&lt;HKDevice: 0x2825a8cd0&gt;, name:iPhone, manufac...</td>\n",
       "      <td>2016-06-03 17:49:54 -0500</td>\n",
       "      <td>Noah's iPhone</td>\n",
       "      <td>9.3.1</td>\n",
       "      <td>2016-06-03 17:48:03 -0500</td>\n",
       "      <td>HKQuantityTypeIdentifierStepCount</td>\n",
       "      <td>count</td>\n",
       "      <td>43</td>\n",
       "    </tr>\n",
       "    <tr>\n",
       "      <th>...</th>\n",
       "      <td>...</td>\n",
       "      <td>...</td>\n",
       "      <td>...</td>\n",
       "      <td>...</td>\n",
       "      <td>...</td>\n",
       "      <td>...</td>\n",
       "      <td>...</td>\n",
       "      <td>...</td>\n",
       "      <td>...</td>\n",
       "    </tr>\n",
       "    <tr>\n",
       "      <th>137019</th>\n",
       "      <td>2020-08-02 23:59:24 -0500</td>\n",
       "      <td>&lt;&lt;HKDevice: 0x282501220&gt;, name:iPhone, manufac...</td>\n",
       "      <td>2020-08-02 23:48:24 -0500</td>\n",
       "      <td>Noah's iPhone</td>\n",
       "      <td>13.5.1</td>\n",
       "      <td>2020-08-02 23:48:21 -0500</td>\n",
       "      <td>HKQuantityTypeIdentifierFlightsClimbed</td>\n",
       "      <td>count</td>\n",
       "      <td>1</td>\n",
       "    </tr>\n",
       "    <tr>\n",
       "      <th>137020</th>\n",
       "      <td>2020-08-03 08:46:39 -0500</td>\n",
       "      <td>&lt;&lt;HKDevice: 0x2825033e0&gt;, name:iPhone, manufac...</td>\n",
       "      <td>2020-08-03 08:35:06 -0500</td>\n",
       "      <td>Noah's iPhone</td>\n",
       "      <td>13.5.1</td>\n",
       "      <td>2020-08-03 08:35:03 -0500</td>\n",
       "      <td>HKQuantityTypeIdentifierFlightsClimbed</td>\n",
       "      <td>count</td>\n",
       "      <td>1</td>\n",
       "    </tr>\n",
       "    <tr>\n",
       "      <th>137021</th>\n",
       "      <td>2020-08-03 11:47:24 -0500</td>\n",
       "      <td>&lt;&lt;HKDevice: 0x282503200&gt;, name:iPhone, manufac...</td>\n",
       "      <td>2020-08-03 11:30:20 -0500</td>\n",
       "      <td>Noah's iPhone</td>\n",
       "      <td>13.5.1</td>\n",
       "      <td>2020-08-03 11:30:17 -0500</td>\n",
       "      <td>HKQuantityTypeIdentifierFlightsClimbed</td>\n",
       "      <td>count</td>\n",
       "      <td>1</td>\n",
       "    </tr>\n",
       "    <tr>\n",
       "      <th>137022</th>\n",
       "      <td>2020-08-15 09:36:32 -0500</td>\n",
       "      <td>&lt;&lt;HKDevice: 0x282500780&gt;, name:iPhone, manufac...</td>\n",
       "      <td>2020-08-15 09:33:55 -0500</td>\n",
       "      <td>Noah's iPhone</td>\n",
       "      <td>13.5.1</td>\n",
       "      <td>2020-08-15 09:24:02 -0500</td>\n",
       "      <td>HKQuantityTypeIdentifierFlightsClimbed</td>\n",
       "      <td>count</td>\n",
       "      <td>3</td>\n",
       "    </tr>\n",
       "    <tr>\n",
       "      <th>137023</th>\n",
       "      <td>2020-08-15 09:44:40 -0500</td>\n",
       "      <td>&lt;&lt;HKDevice: 0x282502260&gt;, name:iPhone, manufac...</td>\n",
       "      <td>2020-08-15 09:37:26 -0500</td>\n",
       "      <td>Noah's iPhone</td>\n",
       "      <td>13.5.1</td>\n",
       "      <td>2020-08-15 09:34:26 -0500</td>\n",
       "      <td>HKQuantityTypeIdentifierFlightsClimbed</td>\n",
       "      <td>count</td>\n",
       "      <td>5</td>\n",
       "    </tr>\n",
       "  </tbody>\n",
       "</table>\n",
       "<p>137024 rows × 9 columns</p>\n",
       "</div>"
      ],
      "text/plain": [
       "                     creationDate  \\\n",
       "0       2016-06-03 17:38:46 -0500   \n",
       "1       2016-06-03 17:38:46 -0500   \n",
       "2       2016-06-03 18:39:21 -0500   \n",
       "3       2016-06-03 18:39:21 -0500   \n",
       "4       2016-06-03 18:39:21 -0500   \n",
       "...                           ...   \n",
       "137019  2020-08-02 23:59:24 -0500   \n",
       "137020  2020-08-03 08:46:39 -0500   \n",
       "137021  2020-08-03 11:47:24 -0500   \n",
       "137022  2020-08-15 09:36:32 -0500   \n",
       "137023  2020-08-15 09:44:40 -0500   \n",
       "\n",
       "                                                   device  \\\n",
       "0       <<HKDevice: 0x2825a8410>, name:iPhone, manufac...   \n",
       "1       <<HKDevice: 0x2825a83c0>, name:iPhone, manufac...   \n",
       "2       <<HKDevice: 0x2825a9270>, name:iPhone, manufac...   \n",
       "3       <<HKDevice: 0x2825aa030>, name:iPhone, manufac...   \n",
       "4       <<HKDevice: 0x2825a8cd0>, name:iPhone, manufac...   \n",
       "...                                                   ...   \n",
       "137019  <<HKDevice: 0x282501220>, name:iPhone, manufac...   \n",
       "137020  <<HKDevice: 0x2825033e0>, name:iPhone, manufac...   \n",
       "137021  <<HKDevice: 0x282503200>, name:iPhone, manufac...   \n",
       "137022  <<HKDevice: 0x282500780>, name:iPhone, manufac...   \n",
       "137023  <<HKDevice: 0x282502260>, name:iPhone, manufac...   \n",
       "\n",
       "                          endDate     sourceName sourceVersion  \\\n",
       "0       2016-06-03 16:40:52 -0500  Noah's iPhone         9.3.1   \n",
       "1       2016-06-03 16:58:26 -0500  Noah's iPhone         9.3.1   \n",
       "2       2016-06-03 17:35:45 -0500  Noah's iPhone         9.3.1   \n",
       "3       2016-06-03 17:48:03 -0500  Noah's iPhone         9.3.1   \n",
       "4       2016-06-03 17:49:54 -0500  Noah's iPhone         9.3.1   \n",
       "...                           ...            ...           ...   \n",
       "137019  2020-08-02 23:48:24 -0500  Noah's iPhone        13.5.1   \n",
       "137020  2020-08-03 08:35:06 -0500  Noah's iPhone        13.5.1   \n",
       "137021  2020-08-03 11:30:20 -0500  Noah's iPhone        13.5.1   \n",
       "137022  2020-08-15 09:33:55 -0500  Noah's iPhone        13.5.1   \n",
       "137023  2020-08-15 09:37:26 -0500  Noah's iPhone        13.5.1   \n",
       "\n",
       "                        startDate                                    type  \\\n",
       "0       2016-06-03 16:40:09 -0500       HKQuantityTypeIdentifierStepCount   \n",
       "1       2016-06-03 16:57:23 -0500       HKQuantityTypeIdentifierStepCount   \n",
       "2       2016-06-03 17:34:29 -0500       HKQuantityTypeIdentifierStepCount   \n",
       "3       2016-06-03 17:43:01 -0500       HKQuantityTypeIdentifierStepCount   \n",
       "4       2016-06-03 17:48:03 -0500       HKQuantityTypeIdentifierStepCount   \n",
       "...                           ...                                     ...   \n",
       "137019  2020-08-02 23:48:21 -0500  HKQuantityTypeIdentifierFlightsClimbed   \n",
       "137020  2020-08-03 08:35:03 -0500  HKQuantityTypeIdentifierFlightsClimbed   \n",
       "137021  2020-08-03 11:30:17 -0500  HKQuantityTypeIdentifierFlightsClimbed   \n",
       "137022  2020-08-15 09:24:02 -0500  HKQuantityTypeIdentifierFlightsClimbed   \n",
       "137023  2020-08-15 09:34:26 -0500  HKQuantityTypeIdentifierFlightsClimbed   \n",
       "\n",
       "         unit value  \n",
       "0       count    70  \n",
       "1       count    68  \n",
       "2       count    55  \n",
       "3       count    42  \n",
       "4       count    43  \n",
       "...       ...   ...  \n",
       "137019  count     1  \n",
       "137020  count     1  \n",
       "137021  count     1  \n",
       "137022  count     3  \n",
       "137023  count     5  \n",
       "\n",
       "[137024 rows x 9 columns]"
      ]
     },
     "execution_count": 108,
     "metadata": {},
     "output_type": "execute_result"
    }
   ],
   "source": []
  },
  {
   "cell_type": "code",
   "execution_count": 109,
   "metadata": {},
   "outputs": [],
   "source": [
    "df.to_csv('xml.csv')"
   ]
  },
  {
   "cell_type": "code",
   "execution_count": 111,
   "metadata": {},
   "outputs": [
    {
     "data": {
      "text/plain": [
       "2      24891\n",
       "1       4206\n",
       "4       2978\n",
       "6       1470\n",
       "8       1042\n",
       "       ...  \n",
       "231        1\n",
       "142        1\n",
       "55         1\n",
       "106        1\n",
       "104        1\n",
       "Name: creationDate, Length: 81, dtype: int64"
      ]
     },
     "execution_count": 111,
     "metadata": {},
     "output_type": "execute_result"
    }
   ],
   "source": [
    "df.creationDate.value_counts().value_counts()"
   ]
  },
  {
   "cell_type": "code",
   "execution_count": 112,
   "metadata": {},
   "outputs": [
    {
     "data": {
      "text/plain": [
       "2    67087\n",
       "1     2735\n",
       "3       33\n",
       "4        4\n",
       "Name: startDate, dtype: int64"
      ]
     },
     "execution_count": 112,
     "metadata": {},
     "output_type": "execute_result"
    }
   ],
   "source": [
    "df.startDate.value_counts().value_counts()"
   ]
  },
  {
   "cell_type": "code",
   "execution_count": 113,
   "metadata": {},
   "outputs": [
    {
     "data": {
      "text/plain": [
       "2    66893\n",
       "1     3114\n",
       "3       24\n",
       "4       13\n",
       "Name: endDate, dtype: int64"
      ]
     },
     "execution_count": 113,
     "metadata": {},
     "output_type": "execute_result"
    }
   ],
   "source": [
    "df.endDate.value_counts().value_counts()"
   ]
  },
  {
   "cell_type": "code",
   "execution_count": 117,
   "metadata": {},
   "outputs": [
    {
     "name": "stdout",
     "output_type": "stream",
     "text": [
      "<class 'pandas.core.frame.DataFrame'>\n",
      "RangeIndex: 137024 entries, 0 to 137023\n",
      "Data columns (total 9 columns):\n",
      " #   Column         Non-Null Count   Dtype \n",
      "---  ------         --------------   ----- \n",
      " 0   creationDate   137024 non-null  object\n",
      " 1   device         137024 non-null  object\n",
      " 2   endDate        137024 non-null  object\n",
      " 3   sourceName     137024 non-null  object\n",
      " 4   sourceVersion  137024 non-null  object\n",
      " 5   startDate      137024 non-null  object\n",
      " 6   type           137024 non-null  object\n",
      " 7   unit           137024 non-null  object\n",
      " 8   value          137024 non-null  object\n",
      "dtypes: object(9)\n",
      "memory usage: 9.4+ MB\n"
     ]
    }
   ],
   "source": [
    "df.info()"
   ]
  },
  {
   "cell_type": "code",
   "execution_count": 127,
   "metadata": {},
   "outputs": [],
   "source": [
    "df['endDate'] = pd.to_datetime(df.endDate)\n",
    "df['startDate'] = pd.to_datetime(df.startDate)\n",
    "df['creationDate'] = pd.to_datetime(df.creationDate)"
   ]
  },
  {
   "cell_type": "code",
   "execution_count": 128,
   "metadata": {},
   "outputs": [
    {
     "name": "stdout",
     "output_type": "stream",
     "text": [
      "<class 'pandas.core.frame.DataFrame'>\n",
      "RangeIndex: 137024 entries, 0 to 137023\n",
      "Data columns (total 9 columns):\n",
      " #   Column         Non-Null Count   Dtype                                 \n",
      "---  ------         --------------   -----                                 \n",
      " 0   creationDate   137024 non-null  datetime64[ns, pytz.FixedOffset(-300)]\n",
      " 1   device         137024 non-null  object                                \n",
      " 2   endDate        137024 non-null  datetime64[ns, pytz.FixedOffset(-300)]\n",
      " 3   sourceName     137024 non-null  object                                \n",
      " 4   sourceVersion  137024 non-null  object                                \n",
      " 5   startDate      137024 non-null  datetime64[ns, pytz.FixedOffset(-300)]\n",
      " 6   type           137024 non-null  object                                \n",
      " 7   unit           137024 non-null  object                                \n",
      " 8   value          137024 non-null  object                                \n",
      "dtypes: datetime64[ns, pytz.FixedOffset(-300)](3), object(6)\n",
      "memory usage: 9.4+ MB\n"
     ]
    }
   ],
   "source": [
    "df.info()"
   ]
  },
  {
   "cell_type": "code",
   "execution_count": 132,
   "metadata": {},
   "outputs": [],
   "source": [
    "df = df.set_index('startDate')"
   ]
  },
  {
   "cell_type": "code",
   "execution_count": 134,
   "metadata": {},
   "outputs": [
    {
     "data": {
      "text/plain": [
       "startDate\n",
       "2016-06-03 00:00:00-05:00    700.0351199680.0305528550.0219841420.014975430...\n",
       "2016-06-04 00:00:00-05:00    1580.06191962020.0776652530.0165409340.0100786...\n",
       "2016-06-05 00:00:00-05:00    740.0275333440.141697360.0171312980.0363689220...\n",
       "2016-06-06 00:00:00-05:00    860.02736523000.116408370.01412381110.04280636...\n",
       "2016-06-07 00:00:00-05:00    1310.0417561210.0103085590.02143734070.1609291...\n",
       "                                                   ...                        \n",
       "2020-08-14 00:00:00-05:00    380.0161805180.0086122510.0246001760.036350269...\n",
       "2020-08-15 00:00:00-05:00    750.0354989470.0227919210.0102899170.008338818...\n",
       "2020-08-16 00:00:00-05:00    280.01339052710.1049312550.101831410.054978910...\n",
       "2020-08-17 00:00:00-05:00    360.017485420.000969339200.009494551100.045695...\n",
       "2020-08-18 00:00:00-05:00    190.00843201120.005648262890.1143821740.069531...\n",
       "Freq: D, Name: value, Length: 1538, dtype: object"
      ]
     },
     "execution_count": 134,
     "metadata": {},
     "output_type": "execute_result"
    }
   ],
   "source": [
    "df.value.resample('D').sum()"
   ]
  },
  {
   "cell_type": "code",
   "execution_count": 136,
   "metadata": {},
   "outputs": [
    {
     "data": {
      "text/plain": [
       "Noah's iPhone    137018\n",
       "iPhone                6\n",
       "Name: sourceName, dtype: int64"
      ]
     },
     "execution_count": 136,
     "metadata": {},
     "output_type": "execute_result"
    }
   ],
   "source": [
    "df.sourceName.value_counts()"
   ]
  },
  {
   "cell_type": "code",
   "execution_count": 137,
   "metadata": {},
   "outputs": [
    {
     "data": {
      "text/plain": [
       "10.3.3    7841\n",
       "13.3.1    7459\n",
       "12.3.1    7349\n",
       "10.2.1    7316\n",
       "12.1.2    7301\n",
       "11.3.1    6830\n",
       "11.4.1    6610\n",
       "10.2      5293\n",
       "10.3.2    4993\n",
       "10.3.1    4949\n",
       "13.5.1    4902\n",
       "10.0.2    4896\n",
       "12.4.1    4874\n",
       "12.1      4723\n",
       "9.3.2     4394\n",
       "12.2      4331\n",
       "13.3      4138\n",
       "12.1.4    3797\n",
       "11.2.6    3587\n",
       "11.0.3    3562\n",
       "11.2.1    3533\n",
       "11.2.5    3108\n",
       "11.3      3100\n",
       "12.4      2560\n",
       "11.1.2    2356\n",
       "9.3.4     2226\n",
       "9.3.5     2176\n",
       "10.1.1    2026\n",
       "13.2.3    1633\n",
       "13.4.1    1537\n",
       "13.2.2    1305\n",
       "9.3.1      827\n",
       "9.3.3      816\n",
       "12.0.1     290\n",
       "13.6       256\n",
       "12.0       130\n",
       "Name: sourceVersion, dtype: int64"
      ]
     },
     "execution_count": 137,
     "metadata": {},
     "output_type": "execute_result"
    }
   ],
   "source": [
    "df.sourceVersion.value_counts()"
   ]
  },
  {
   "cell_type": "code",
   "execution_count": 138,
   "metadata": {},
   "outputs": [
    {
     "data": {
      "text/plain": [
       "HKQuantityTypeIdentifierStepCount                 67915\n",
       "HKQuantityTypeIdentifierDistanceWalkingRunning    67908\n",
       "HKQuantityTypeIdentifierFlightsClimbed             1201\n",
       "Name: type, dtype: int64"
      ]
     },
     "execution_count": 138,
     "metadata": {},
     "output_type": "execute_result"
    }
   ],
   "source": [
    "df.type.value_counts()"
   ]
  },
  {
   "cell_type": "code",
   "execution_count": 139,
   "metadata": {},
   "outputs": [
    {
     "data": {
      "text/plain": [
       "count    69116\n",
       "mi       67908\n",
       "Name: unit, dtype: int64"
      ]
     },
     "execution_count": 139,
     "metadata": {},
     "output_type": "execute_result"
    }
   ],
   "source": [
    "df.unit.value_counts()"
   ]
  },
  {
   "cell_type": "code",
   "execution_count": null,
   "metadata": {},
   "outputs": [],
   "source": []
  }
 ],
 "metadata": {
  "kernelspec": {
   "display_name": "Python 3",
   "language": "python",
   "name": "python3"
  },
  "language_info": {
   "codemirror_mode": {
    "name": "ipython",
    "version": 3
   },
   "file_extension": ".py",
   "mimetype": "text/x-python",
   "name": "python",
   "nbconvert_exporter": "python",
   "pygments_lexer": "ipython3",
   "version": "3.7.4"
  }
 },
 "nbformat": 4,
 "nbformat_minor": 2
}
