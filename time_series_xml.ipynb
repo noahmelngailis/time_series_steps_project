{
 "cells": [
  {
   "cell_type": "code",
   "execution_count": null,
   "metadata": {},
   "outputs": [],
   "source": [
    "import pandas as pd\n",
    "import numpy as np\n",
    "import datetime\n",
    "\n",
    "import matplotlib.pyplot as plt\n",
    "import seaborn as sns"
   ]
  },
  {
   "cell_type": "code",
   "execution_count": null,
   "metadata": {},
   "outputs": [],
   "source": [
    "from wrangle_xml import wrangle_xml, preprocessing_xml, create_validate_xml_df"
   ]
  },
  {
   "cell_type": "code",
   "execution_count": 3,
   "metadata": {},
   "outputs": [],
   "source": [
    "import warnings\n",
    "warnings.filterwarnings('ignore')"
   ]
  },
  {
   "cell_type": "code",
   "execution_count": 4,
   "metadata": {},
   "outputs": [],
   "source": [
    "df = wrangle_xml()"
   ]
  },
  {
   "cell_type": "code",
   "execution_count": 5,
   "metadata": {},
   "outputs": [
    {
     "data": {
      "text/html": [
       "<div>\n",
       "<style scoped>\n",
       "    .dataframe tbody tr th:only-of-type {\n",
       "        vertical-align: middle;\n",
       "    }\n",
       "\n",
       "    .dataframe tbody tr th {\n",
       "        vertical-align: top;\n",
       "    }\n",
       "\n",
       "    .dataframe thead th {\n",
       "        text-align: right;\n",
       "    }\n",
       "</style>\n",
       "<table border=\"1\" class=\"dataframe\">\n",
       "  <thead>\n",
       "    <tr style=\"text-align: right;\">\n",
       "      <th></th>\n",
       "      <th>creationDate</th>\n",
       "      <th>device</th>\n",
       "      <th>endDate</th>\n",
       "      <th>sourceName</th>\n",
       "      <th>sourceVersion</th>\n",
       "      <th>startDate</th>\n",
       "      <th>type</th>\n",
       "      <th>unit</th>\n",
       "      <th>value</th>\n",
       "    </tr>\n",
       "  </thead>\n",
       "  <tbody>\n",
       "    <tr>\n",
       "      <th>0</th>\n",
       "      <td>2016-06-03 17:38:46 -0500</td>\n",
       "      <td>&lt;&lt;HKDevice: 0x2825a8410&gt;, name:iPhone, manufac...</td>\n",
       "      <td>2016-06-03 16:40:52 -0500</td>\n",
       "      <td>Noah's iPhone</td>\n",
       "      <td>9.3.1</td>\n",
       "      <td>2016-06-03 16:40:09 -0500</td>\n",
       "      <td>HKQuantityTypeIdentifierStepCount</td>\n",
       "      <td>count</td>\n",
       "      <td>70.0</td>\n",
       "    </tr>\n",
       "    <tr>\n",
       "      <th>1</th>\n",
       "      <td>2016-06-03 17:38:46 -0500</td>\n",
       "      <td>&lt;&lt;HKDevice: 0x2825a83c0&gt;, name:iPhone, manufac...</td>\n",
       "      <td>2016-06-03 16:58:26 -0500</td>\n",
       "      <td>Noah's iPhone</td>\n",
       "      <td>9.3.1</td>\n",
       "      <td>2016-06-03 16:57:23 -0500</td>\n",
       "      <td>HKQuantityTypeIdentifierStepCount</td>\n",
       "      <td>count</td>\n",
       "      <td>68.0</td>\n",
       "    </tr>\n",
       "  </tbody>\n",
       "</table>\n",
       "</div>"
      ],
      "text/plain": [
       "                creationDate  \\\n",
       "0  2016-06-03 17:38:46 -0500   \n",
       "1  2016-06-03 17:38:46 -0500   \n",
       "\n",
       "                                              device  \\\n",
       "0  <<HKDevice: 0x2825a8410>, name:iPhone, manufac...   \n",
       "1  <<HKDevice: 0x2825a83c0>, name:iPhone, manufac...   \n",
       "\n",
       "                     endDate     sourceName sourceVersion  \\\n",
       "0  2016-06-03 16:40:52 -0500  Noah's iPhone         9.3.1   \n",
       "1  2016-06-03 16:58:26 -0500  Noah's iPhone         9.3.1   \n",
       "\n",
       "                   startDate                               type   unit  value  \n",
       "0  2016-06-03 16:40:09 -0500  HKQuantityTypeIdentifierStepCount  count   70.0  \n",
       "1  2016-06-03 16:57:23 -0500  HKQuantityTypeIdentifierStepCount  count   68.0  "
      ]
     },
     "execution_count": 5,
     "metadata": {},
     "output_type": "execute_result"
    }
   ],
   "source": [
    "df.head(2)"
   ]
  },
  {
   "cell_type": "code",
   "execution_count": 6,
   "metadata": {},
   "outputs": [],
   "source": [
    "df = preprocessing_xml(df)"
   ]
  },
  {
   "cell_type": "code",
   "execution_count": 7,
   "metadata": {},
   "outputs": [
    {
     "data": {
      "text/html": [
       "<div>\n",
       "<style scoped>\n",
       "    .dataframe tbody tr th:only-of-type {\n",
       "        vertical-align: middle;\n",
       "    }\n",
       "\n",
       "    .dataframe tbody tr th {\n",
       "        vertical-align: top;\n",
       "    }\n",
       "\n",
       "    .dataframe thead th {\n",
       "        text-align: right;\n",
       "    }\n",
       "</style>\n",
       "<table border=\"1\" class=\"dataframe\">\n",
       "  <thead>\n",
       "    <tr style=\"text-align: right;\">\n",
       "      <th></th>\n",
       "      <th>startDate</th>\n",
       "      <th>creationDate</th>\n",
       "      <th>device</th>\n",
       "      <th>endDate</th>\n",
       "      <th>sourceName</th>\n",
       "      <th>sourceVersion</th>\n",
       "      <th>type</th>\n",
       "      <th>unit</th>\n",
       "      <th>value</th>\n",
       "    </tr>\n",
       "  </thead>\n",
       "  <tbody>\n",
       "    <tr>\n",
       "      <th>0</th>\n",
       "      <td>2016-06-03 16:40:09</td>\n",
       "      <td>2016-06-03 17:38:46</td>\n",
       "      <td>&lt;&lt;HKDevice: 0x2825a8410&gt;, name:iPhone, manufac...</td>\n",
       "      <td>2016-06-03 16:40:52</td>\n",
       "      <td>Noah's iPhone</td>\n",
       "      <td>9.3.1</td>\n",
       "      <td>HKQuantityTypeIdentifierStepCount</td>\n",
       "      <td>count</td>\n",
       "      <td>70.0</td>\n",
       "    </tr>\n",
       "    <tr>\n",
       "      <th>1</th>\n",
       "      <td>2016-06-03 16:57:23</td>\n",
       "      <td>2016-06-03 17:38:46</td>\n",
       "      <td>&lt;&lt;HKDevice: 0x2825a83c0&gt;, name:iPhone, manufac...</td>\n",
       "      <td>2016-06-03 16:58:26</td>\n",
       "      <td>Noah's iPhone</td>\n",
       "      <td>9.3.1</td>\n",
       "      <td>HKQuantityTypeIdentifierStepCount</td>\n",
       "      <td>count</td>\n",
       "      <td>68.0</td>\n",
       "    </tr>\n",
       "  </tbody>\n",
       "</table>\n",
       "</div>"
      ],
      "text/plain": [
       "            startDate        creationDate  \\\n",
       "0 2016-06-03 16:40:09 2016-06-03 17:38:46   \n",
       "1 2016-06-03 16:57:23 2016-06-03 17:38:46   \n",
       "\n",
       "                                              device             endDate  \\\n",
       "0  <<HKDevice: 0x2825a8410>, name:iPhone, manufac... 2016-06-03 16:40:52   \n",
       "1  <<HKDevice: 0x2825a83c0>, name:iPhone, manufac... 2016-06-03 16:58:26   \n",
       "\n",
       "      sourceName sourceVersion                               type   unit  \\\n",
       "0  Noah's iPhone         9.3.1  HKQuantityTypeIdentifierStepCount  count   \n",
       "1  Noah's iPhone         9.3.1  HKQuantityTypeIdentifierStepCount  count   \n",
       "\n",
       "   value  \n",
       "0   70.0  \n",
       "1   68.0  "
      ]
     },
     "execution_count": 7,
     "metadata": {},
     "output_type": "execute_result"
    }
   ],
   "source": [
    "df.head(2)"
   ]
  },
  {
   "cell_type": "code",
   "execution_count": 8,
   "metadata": {},
   "outputs": [],
   "source": [
    "df_validate = create_validate_xml_df()"
   ]
  },
  {
   "cell_type": "code",
   "execution_count": 9,
   "metadata": {},
   "outputs": [
    {
     "data": {
      "text/html": [
       "<div>\n",
       "<style scoped>\n",
       "    .dataframe tbody tr th:only-of-type {\n",
       "        vertical-align: middle;\n",
       "    }\n",
       "\n",
       "    .dataframe tbody tr th {\n",
       "        vertical-align: top;\n",
       "    }\n",
       "\n",
       "    .dataframe thead th {\n",
       "        text-align: right;\n",
       "    }\n",
       "</style>\n",
       "<table border=\"1\" class=\"dataframe\">\n",
       "  <thead>\n",
       "    <tr style=\"text-align: right;\">\n",
       "      <th></th>\n",
       "      <th>Date</th>\n",
       "      <th>Steps</th>\n",
       "      <th>Distance</th>\n",
       "      <th>Floors Ascended</th>\n",
       "      <th>start_value</th>\n",
       "      <th>create_value</th>\n",
       "      <th>end_value</th>\n",
       "    </tr>\n",
       "  </thead>\n",
       "  <tbody>\n",
       "    <tr>\n",
       "      <th>0</th>\n",
       "      <td>2020-08-16</td>\n",
       "      <td>14656</td>\n",
       "      <td>6.7</td>\n",
       "      <td>0</td>\n",
       "      <td>14705.0</td>\n",
       "      <td>14705.0</td>\n",
       "      <td>14705.0</td>\n",
       "    </tr>\n",
       "    <tr>\n",
       "      <th>1</th>\n",
       "      <td>2020-08-15</td>\n",
       "      <td>10103</td>\n",
       "      <td>4.7</td>\n",
       "      <td>8</td>\n",
       "      <td>10103.0</td>\n",
       "      <td>10103.0</td>\n",
       "      <td>10103.0</td>\n",
       "    </tr>\n",
       "  </tbody>\n",
       "</table>\n",
       "</div>"
      ],
      "text/plain": [
       "        Date  Steps  Distance  Floors Ascended  start_value  create_value  \\\n",
       "0 2020-08-16  14656       6.7                0      14705.0       14705.0   \n",
       "1 2020-08-15  10103       4.7                8      10103.0       10103.0   \n",
       "\n",
       "   end_value  \n",
       "0    14705.0  \n",
       "1    10103.0  "
      ]
     },
     "execution_count": 9,
     "metadata": {},
     "output_type": "execute_result"
    }
   ],
   "source": [
    "df_validate.head(2)"
   ]
  },
  {
   "cell_type": "code",
   "execution_count": 10,
   "metadata": {},
   "outputs": [
    {
     "name": "stdout",
     "output_type": "stream",
     "text": [
      "start_value has 124 dates exactly the same\n",
      "create_value has 93 dates exactly the same\n",
      "end_value has 124 dates exactly the same\n"
     ]
    }
   ],
   "source": [
    "# How many items are the same for each column?\n",
    "for i in df_validate.columns[4:]:\n",
    "    var = (df_validate.Steps == df_validate[i]).sum()\n",
    "    print(f'{i} has {var} dates exactly the same')"
   ]
  },
  {
   "cell_type": "code",
   "execution_count": 11,
   "metadata": {},
   "outputs": [
    {
     "name": "stdout",
     "output_type": "stream",
     "text": [
      "start_value has an absolute difference of 753943.0 from pedometer data\n",
      "create_value has an absolute difference of 878594.0 from pedometer data\n",
      "end_value has an absolute difference of 736764.0 from pedometer data\n"
     ]
    }
   ],
   "source": [
    "for i in df_validate.columns[4:]:\n",
    "    var = abs(df_validate.Steps - df_validate[i]).sum()\n",
    "    print(f'{i} has an absolute difference of {var} from pedometer data')"
   ]
  },
  {
   "cell_type": "code",
   "execution_count": 12,
   "metadata": {},
   "outputs": [
    {
     "name": "stdout",
     "output_type": "stream",
     "text": [
      "start_value has a total difference of -71843.0 from pedometer data\n",
      "create_value has a total difference of -72180.0 from pedometer data\n",
      "end_value has a total difference of -71826.0 from pedometer data\n"
     ]
    }
   ],
   "source": [
    "for i in df_validate.columns[4:]:\n",
    "    var = (df_validate.Steps - df_validate[i]).sum()\n",
    "    print(f'{i} has a total difference of {var} from pedometer data')"
   ]
  },
  {
   "cell_type": "code",
   "execution_count": 13,
   "metadata": {},
   "outputs": [
    {
     "name": "stdout",
     "output_type": "stream",
     "text": [
      "start_value has an absolute difference of 21548.0 from pedometer data\n",
      "create_value has an absolute difference of 21548.0 from pedometer data\n",
      "end_value has an absolute difference of 21548.0 from pedometer data\n"
     ]
    }
   ],
   "source": [
    "for i in df_validate.columns[4:]:\n",
    "    var = (df_validate.Steps - df_validate[i]).max()\n",
    "    print(f'{i} has an absolute difference of {var} from pedometer data')"
   ]
  },
  {
   "cell_type": "code",
   "execution_count": 14,
   "metadata": {},
   "outputs": [],
   "source": [
    "df_validate['start_dif'] = df_validate.Steps - df_validate.start_value"
   ]
  },
  {
   "cell_type": "code",
   "execution_count": 15,
   "metadata": {},
   "outputs": [
    {
     "data": {
      "text/html": [
       "<div>\n",
       "<style scoped>\n",
       "    .dataframe tbody tr th:only-of-type {\n",
       "        vertical-align: middle;\n",
       "    }\n",
       "\n",
       "    .dataframe tbody tr th {\n",
       "        vertical-align: top;\n",
       "    }\n",
       "\n",
       "    .dataframe thead th {\n",
       "        text-align: right;\n",
       "    }\n",
       "</style>\n",
       "<table border=\"1\" class=\"dataframe\">\n",
       "  <thead>\n",
       "    <tr style=\"text-align: right;\">\n",
       "      <th></th>\n",
       "      <th>Date</th>\n",
       "      <th>Steps</th>\n",
       "      <th>Distance</th>\n",
       "      <th>Floors Ascended</th>\n",
       "      <th>start_value</th>\n",
       "      <th>create_value</th>\n",
       "      <th>end_value</th>\n",
       "      <th>start_dif</th>\n",
       "    </tr>\n",
       "  </thead>\n",
       "  <tbody>\n",
       "    <tr>\n",
       "      <th>531</th>\n",
       "      <td>2018-10-22</td>\n",
       "      <td>5363</td>\n",
       "      <td>2.3</td>\n",
       "      <td>3</td>\n",
       "      <td>73234.0</td>\n",
       "      <td>34313.0</td>\n",
       "      <td>1645.0</td>\n",
       "      <td>-67871.0</td>\n",
       "    </tr>\n",
       "    <tr>\n",
       "      <th>545</th>\n",
       "      <td>2018-10-08</td>\n",
       "      <td>2896</td>\n",
       "      <td>1.1</td>\n",
       "      <td>3</td>\n",
       "      <td>65756.0</td>\n",
       "      <td>42937.0</td>\n",
       "      <td>57.0</td>\n",
       "      <td>-62860.0</td>\n",
       "    </tr>\n",
       "    <tr>\n",
       "      <th>556</th>\n",
       "      <td>2018-09-27</td>\n",
       "      <td>5103</td>\n",
       "      <td>2.1</td>\n",
       "      <td>0</td>\n",
       "      <td>56741.0</td>\n",
       "      <td>5797.0</td>\n",
       "      <td>179.0</td>\n",
       "      <td>-51638.0</td>\n",
       "    </tr>\n",
       "    <tr>\n",
       "      <th>549</th>\n",
       "      <td>2018-10-04</td>\n",
       "      <td>5215</td>\n",
       "      <td>2.2</td>\n",
       "      <td>2</td>\n",
       "      <td>39324.0</td>\n",
       "      <td>4561.0</td>\n",
       "      <td>615.0</td>\n",
       "      <td>-34109.0</td>\n",
       "    </tr>\n",
       "    <tr>\n",
       "      <th>534</th>\n",
       "      <td>2018-10-19</td>\n",
       "      <td>5245</td>\n",
       "      <td>2.3</td>\n",
       "      <td>3</td>\n",
       "      <td>32512.0</td>\n",
       "      <td>18505.0</td>\n",
       "      <td>435.0</td>\n",
       "      <td>-27267.0</td>\n",
       "    </tr>\n",
       "    <tr>\n",
       "      <th>...</th>\n",
       "      <td>...</td>\n",
       "      <td>...</td>\n",
       "      <td>...</td>\n",
       "      <td>...</td>\n",
       "      <td>...</td>\n",
       "      <td>...</td>\n",
       "      <td>...</td>\n",
       "      <td>...</td>\n",
       "    </tr>\n",
       "    <tr>\n",
       "      <th>525</th>\n",
       "      <td>2018-10-28</td>\n",
       "      <td>17420</td>\n",
       "      <td>8.1</td>\n",
       "      <td>7</td>\n",
       "      <td>281.0</td>\n",
       "      <td>71870.0</td>\n",
       "      <td>71870.0</td>\n",
       "      <td>17139.0</td>\n",
       "    </tr>\n",
       "    <tr>\n",
       "      <th>547</th>\n",
       "      <td>2018-10-06</td>\n",
       "      <td>17611</td>\n",
       "      <td>7.3</td>\n",
       "      <td>3</td>\n",
       "      <td>0.0</td>\n",
       "      <td>0.0</td>\n",
       "      <td>0.0</td>\n",
       "      <td>17611.0</td>\n",
       "    </tr>\n",
       "    <tr>\n",
       "      <th>540</th>\n",
       "      <td>2018-10-13</td>\n",
       "      <td>17764</td>\n",
       "      <td>7.6</td>\n",
       "      <td>5</td>\n",
       "      <td>0.0</td>\n",
       "      <td>0.0</td>\n",
       "      <td>0.0</td>\n",
       "      <td>17764.0</td>\n",
       "    </tr>\n",
       "    <tr>\n",
       "      <th>533</th>\n",
       "      <td>2018-10-20</td>\n",
       "      <td>18040</td>\n",
       "      <td>7.9</td>\n",
       "      <td>5</td>\n",
       "      <td>0.0</td>\n",
       "      <td>0.0</td>\n",
       "      <td>0.0</td>\n",
       "      <td>18040.0</td>\n",
       "    </tr>\n",
       "    <tr>\n",
       "      <th>526</th>\n",
       "      <td>2018-10-27</td>\n",
       "      <td>21548</td>\n",
       "      <td>10.1</td>\n",
       "      <td>3</td>\n",
       "      <td>0.0</td>\n",
       "      <td>0.0</td>\n",
       "      <td>0.0</td>\n",
       "      <td>21548.0</td>\n",
       "    </tr>\n",
       "  </tbody>\n",
       "</table>\n",
       "<p>589 rows × 8 columns</p>\n",
       "</div>"
      ],
      "text/plain": [
       "          Date  Steps  Distance  Floors Ascended  start_value  create_value  \\\n",
       "531 2018-10-22   5363       2.3                3      73234.0       34313.0   \n",
       "545 2018-10-08   2896       1.1                3      65756.0       42937.0   \n",
       "556 2018-09-27   5103       2.1                0      56741.0        5797.0   \n",
       "549 2018-10-04   5215       2.2                2      39324.0        4561.0   \n",
       "534 2018-10-19   5245       2.3                3      32512.0       18505.0   \n",
       "..         ...    ...       ...              ...          ...           ...   \n",
       "525 2018-10-28  17420       8.1                7        281.0       71870.0   \n",
       "547 2018-10-06  17611       7.3                3          0.0           0.0   \n",
       "540 2018-10-13  17764       7.6                5          0.0           0.0   \n",
       "533 2018-10-20  18040       7.9                5          0.0           0.0   \n",
       "526 2018-10-27  21548      10.1                3          0.0           0.0   \n",
       "\n",
       "     end_value  start_dif  \n",
       "531     1645.0   -67871.0  \n",
       "545       57.0   -62860.0  \n",
       "556      179.0   -51638.0  \n",
       "549      615.0   -34109.0  \n",
       "534      435.0   -27267.0  \n",
       "..         ...        ...  \n",
       "525    71870.0    17139.0  \n",
       "547        0.0    17611.0  \n",
       "540        0.0    17764.0  \n",
       "533        0.0    18040.0  \n",
       "526        0.0    21548.0  \n",
       "\n",
       "[589 rows x 8 columns]"
      ]
     },
     "execution_count": 15,
     "metadata": {},
     "output_type": "execute_result"
    }
   ],
   "source": [
    "df_validate.sort_values('start_dif')"
   ]
  },
  {
   "cell_type": "code",
   "execution_count": 16,
   "metadata": {},
   "outputs": [
    {
     "data": {
      "text/plain": [
       "<matplotlib.axes._subplots.AxesSubplot at 0x12d441310>"
      ]
     },
     "execution_count": 16,
     "metadata": {},
     "output_type": "execute_result"
    },
    {
     "data": {
      "image/png": "[encoded data removed]",
      "text/plain": [
       "<Figure size 432x288 with 1 Axes>"
      ]
     },
     "metadata": {
      "needs_background": "light"
     },
     "output_type": "display_data"
    }
   ],
   "source": [
    "df_validate.Steps.hist()"
   ]
  },
  {
   "cell_type": "code",
   "execution_count": 17,
   "metadata": {},
   "outputs": [
    {
     "data": {
      "text/plain": [
       "<matplotlib.axes._subplots.AxesSubplot at 0x1224a8e10>"
      ]
     },
     "execution_count": 17,
     "metadata": {},
     "output_type": "execute_result"
    },
    {
     "data": {
      "image/png": "[encoded data removed]",
      "text/plain": [
       "<Figure size 432x288 with 1 Axes>"
      ]
     },
     "metadata": {
      "needs_background": "light"
     },
     "output_type": "display_data"
    }
   ],
   "source": [
    "df_validate.start_value.hist()"
   ]
  },
  {
   "cell_type": "code",
   "execution_count": 18,
   "metadata": {},
   "outputs": [],
   "source": [
    "df = df.set_index('startDate')"
   ]
  },
  {
   "cell_type": "code",
   "execution_count": 19,
   "metadata": {},
   "outputs": [
    {
     "data": {
      "text/plain": [
       "startDate\n",
       "2018-10-24        0.000000\n",
       "2018-09-29        0.000000\n",
       "2018-09-30        0.000000\n",
       "2018-10-01        0.000000\n",
       "2018-10-06        0.000000\n",
       "                  ...     \n",
       "2018-10-19    32526.649745\n",
       "2018-10-04    39340.326998\n",
       "2018-09-27    56764.630502\n",
       "2018-10-08    65784.717293\n",
       "2018-10-22    73267.383074\n",
       "Name: value, Length: 1538, dtype: float64"
      ]
     },
     "execution_count": 19,
     "metadata": {},
     "output_type": "execute_result"
    }
   ],
   "source": [
    "df.resample(\"D\").value.sum().sort_values()"
   ]
  },
  {
   "cell_type": "code",
   "execution_count": 27,
   "metadata": {},
   "outputs": [],
   "source": [
    "def create_distance_df(df):\n",
    "    \"\"\"function creates dataframe for distance travelled (in miles)\"\"\"\n",
    "    \n",
    "    # filter only miles records\n",
    "    df_distance = df[df.unit == \"mi\"]\n",
    "    \n",
    "    # resample to date in days\n",
    "    df_distance = df_distance.resample(\"D\").value.sum().sort_values()\n",
    "    \n",
    "    return df_distance"
   ]
  },
  {
   "cell_type": "code",
   "execution_count": 28,
   "metadata": {},
   "outputs": [],
   "source": [
    "df_distance = create_distance_df(df)"
   ]
  },
  {
   "cell_type": "code",
   "execution_count": 30,
   "metadata": {},
   "outputs": [
    {
     "data": {
      "text/plain": [
       "startDate\n",
       "2018-10-14     0.000000\n",
       "2018-10-30     0.000000\n",
       "2018-10-27     0.000000\n",
       "2018-10-26     0.000000\n",
       "2018-10-25     0.000000\n",
       "                ...    \n",
       "2018-11-10    15.053501\n",
       "2018-10-04    16.326998\n",
       "2018-09-27    23.630502\n",
       "2018-10-08    28.717293\n",
       "2018-10-22    33.383074\n",
       "Name: value, Length: 1538, dtype: float64"
      ]
     },
     "execution_count": 30,
     "metadata": {},
     "output_type": "execute_result"
    }
   ],
   "source": [
    "df_distance"
   ]
  },
  {
   "cell_type": "code",
   "execution_count": 24,
   "metadata": {},
   "outputs": [
    {
     "data": {
      "text/plain": [
       "min     0.0\n",
       "max    11.7\n",
       "Name: Distance, dtype: float64"
      ]
     },
     "execution_count": 24,
     "metadata": {},
     "output_type": "execute_result"
    }
   ],
   "source": [
    "df_validate.Distance.agg(['min', 'max'])"
   ]
  },
  {
   "cell_type": "code",
   "execution_count": null,
   "metadata": {},
   "outputs": [],
   "source": [
    "df_validate[df_validate.Distance < .5]"
   ]
  },
  {
   "cell_type": "code",
   "execution_count": null,
   "metadata": {},
   "outputs": [],
   "source": [
    "df_validate[(df_validate.start_value >= 24639) |  (df_validate.end_value >= 24639) | (df_validate.create_value >= 24639)]"
   ]
  },
  {
   "cell_type": "code",
   "execution_count": null,
   "metadata": {},
   "outputs": [],
   "source": [
    "df_validate.mean()"
   ]
  },
  {
   "cell_type": "markdown",
   "metadata": {},
   "source": [
    "### Look at the hourly breakdown of steps to find out where data is bad"
   ]
  },
  {
   "cell_type": "code",
   "execution_count": 86,
   "metadata": {},
   "outputs": [],
   "source": [
    "def create_hourly(df): \n",
    "    \"\"\"create df for steps per hour that will have 0 steps for non movement hours and will then fix bad data\"\"\"\n",
    "    \n",
    "    # filter by step count\n",
    "    df_steps = df[df.type == 'HKQuantityTypeIdentifierStepCount']\n",
    "    \n",
    "    # resample df into hourly\n",
    "    hourly = pd.DataFrame(df_steps.resample(\"h\").value.sum())\n",
    "    \n",
    "    return hourly"
   ]
  },
  {
   "cell_type": "code",
   "execution_count": 32,
   "metadata": {},
   "outputs": [],
   "source": []
  },
  {
   "cell_type": "code",
   "execution_count": 33,
   "metadata": {},
   "outputs": [
    {
     "data": {
      "text/html": [
       "<div>\n",
       "<style scoped>\n",
       "    .dataframe tbody tr th:only-of-type {\n",
       "        vertical-align: middle;\n",
       "    }\n",
       "\n",
       "    .dataframe tbody tr th {\n",
       "        vertical-align: top;\n",
       "    }\n",
       "\n",
       "    .dataframe thead th {\n",
       "        text-align: right;\n",
       "    }\n",
       "</style>\n",
       "<table border=\"1\" class=\"dataframe\">\n",
       "  <thead>\n",
       "    <tr style=\"text-align: right;\">\n",
       "      <th></th>\n",
       "      <th>value</th>\n",
       "    </tr>\n",
       "    <tr>\n",
       "      <th>startDate</th>\n",
       "      <th></th>\n",
       "    </tr>\n",
       "  </thead>\n",
       "  <tbody>\n",
       "    <tr>\n",
       "      <th>2016-06-03 16:00:00</th>\n",
       "      <td>138.0</td>\n",
       "    </tr>\n",
       "    <tr>\n",
       "      <th>2016-06-03 17:00:00</th>\n",
       "      <td>140.0</td>\n",
       "    </tr>\n",
       "    <tr>\n",
       "      <th>2016-06-03 18:00:00</th>\n",
       "      <td>160.0</td>\n",
       "    </tr>\n",
       "    <tr>\n",
       "      <th>2016-06-03 19:00:00</th>\n",
       "      <td>0.0</td>\n",
       "    </tr>\n",
       "    <tr>\n",
       "      <th>2016-06-03 20:00:00</th>\n",
       "      <td>13.0</td>\n",
       "    </tr>\n",
       "    <tr>\n",
       "      <th>...</th>\n",
       "      <td>...</td>\n",
       "    </tr>\n",
       "    <tr>\n",
       "      <th>2020-08-18 16:00:00</th>\n",
       "      <td>110.0</td>\n",
       "    </tr>\n",
       "    <tr>\n",
       "      <th>2020-08-18 17:00:00</th>\n",
       "      <td>38.0</td>\n",
       "    </tr>\n",
       "    <tr>\n",
       "      <th>2020-08-18 18:00:00</th>\n",
       "      <td>111.0</td>\n",
       "    </tr>\n",
       "    <tr>\n",
       "      <th>2020-08-18 19:00:00</th>\n",
       "      <td>79.0</td>\n",
       "    </tr>\n",
       "    <tr>\n",
       "      <th>2020-08-18 20:00:00</th>\n",
       "      <td>173.0</td>\n",
       "    </tr>\n",
       "  </tbody>\n",
       "</table>\n",
       "<p>36893 rows × 1 columns</p>\n",
       "</div>"
      ],
      "text/plain": [
       "                     value\n",
       "startDate                 \n",
       "2016-06-03 16:00:00  138.0\n",
       "2016-06-03 17:00:00  140.0\n",
       "2016-06-03 18:00:00  160.0\n",
       "2016-06-03 19:00:00    0.0\n",
       "2016-06-03 20:00:00   13.0\n",
       "...                    ...\n",
       "2020-08-18 16:00:00  110.0\n",
       "2020-08-18 17:00:00   38.0\n",
       "2020-08-18 18:00:00  111.0\n",
       "2020-08-18 19:00:00   79.0\n",
       "2020-08-18 20:00:00  173.0\n",
       "\n",
       "[36893 rows x 1 columns]"
      ]
     },
     "execution_count": 33,
     "metadata": {},
     "output_type": "execute_result"
    }
   ],
   "source": [
    "hourly"
   ]
  },
  {
   "cell_type": "code",
   "execution_count": 91,
   "metadata": {},
   "outputs": [],
   "source": [
    "def create_every_hour():\n",
    "    \"\"\"takes in a dataframe and returns a dataframe with every hour accounted for\"\"\"\n",
    "    \n",
    "    # create a series with every hour within the date range\n",
    "    date_index = pd.date_range(start='2016-06-04 00:00:00', end='2020-08-14 00:00:00', freq='h')\n",
    "    \n",
    "    # turn the date range into a data frame\n",
    "    date_index = pd.DataFrame(date_index)\n",
    "    \n",
    "    # make an extra column for df\n",
    "    date_index['zero_column'] = 0\n",
    "    \n",
    "    # rename columns to make better looking df\n",
    "    date_index = date_index.rename(columns={0:'date'})\n",
    "    \n",
    "    # set index\n",
    "    date_index.set_index('date', inplace=True)\n",
    "    \n",
    "    # create hourly df\n",
    "    hourly = create_hourly_steps(df)\n",
    "    \n",
    "    # join hourly df to create df with zeros for hours with no activity\n",
    "    date_index = date_index.join(hourly)\n",
    "    \n",
    "    #set hourly df\n",
    "    hourly = date_index\n",
    "    \n",
    "    hourly.drop(columns=('zero_column'), inplace=True)\n",
    "    \n",
    "    return hourly"
   ]
  },
  {
   "cell_type": "code",
   "execution_count": 92,
   "metadata": {},
   "outputs": [],
   "source": [
    "hourly = create_every_hour()"
   ]
  },
  {
   "cell_type": "code",
   "execution_count": 93,
   "metadata": {},
   "outputs": [
    {
     "data": {
      "text/html": [
       "<div>\n",
       "<style scoped>\n",
       "    .dataframe tbody tr th:only-of-type {\n",
       "        vertical-align: middle;\n",
       "    }\n",
       "\n",
       "    .dataframe tbody tr th {\n",
       "        vertical-align: top;\n",
       "    }\n",
       "\n",
       "    .dataframe thead th {\n",
       "        text-align: right;\n",
       "    }\n",
       "</style>\n",
       "<table border=\"1\" class=\"dataframe\">\n",
       "  <thead>\n",
       "    <tr style=\"text-align: right;\">\n",
       "      <th></th>\n",
       "      <th>value</th>\n",
       "    </tr>\n",
       "    <tr>\n",
       "      <th>date</th>\n",
       "      <th></th>\n",
       "    </tr>\n",
       "  </thead>\n",
       "  <tbody>\n",
       "    <tr>\n",
       "      <th>2016-06-04 00:00:00</th>\n",
       "      <td>0.0</td>\n",
       "    </tr>\n",
       "    <tr>\n",
       "      <th>2016-06-04 01:00:00</th>\n",
       "      <td>0.0</td>\n",
       "    </tr>\n",
       "    <tr>\n",
       "      <th>2016-06-04 02:00:00</th>\n",
       "      <td>0.0</td>\n",
       "    </tr>\n",
       "    <tr>\n",
       "      <th>2016-06-04 03:00:00</th>\n",
       "      <td>0.0</td>\n",
       "    </tr>\n",
       "    <tr>\n",
       "      <th>2016-06-04 04:00:00</th>\n",
       "      <td>0.0</td>\n",
       "    </tr>\n",
       "    <tr>\n",
       "      <th>...</th>\n",
       "      <td>...</td>\n",
       "    </tr>\n",
       "    <tr>\n",
       "      <th>2020-08-13 20:00:00</th>\n",
       "      <td>74.0</td>\n",
       "    </tr>\n",
       "    <tr>\n",
       "      <th>2020-08-13 21:00:00</th>\n",
       "      <td>117.0</td>\n",
       "    </tr>\n",
       "    <tr>\n",
       "      <th>2020-08-13 22:00:00</th>\n",
       "      <td>17.0</td>\n",
       "    </tr>\n",
       "    <tr>\n",
       "      <th>2020-08-13 23:00:00</th>\n",
       "      <td>0.0</td>\n",
       "    </tr>\n",
       "    <tr>\n",
       "      <th>2020-08-14 00:00:00</th>\n",
       "      <td>38.0</td>\n",
       "    </tr>\n",
       "  </tbody>\n",
       "</table>\n",
       "<p>36769 rows × 1 columns</p>\n",
       "</div>"
      ],
      "text/plain": [
       "                     value\n",
       "date                      \n",
       "2016-06-04 00:00:00    0.0\n",
       "2016-06-04 01:00:00    0.0\n",
       "2016-06-04 02:00:00    0.0\n",
       "2016-06-04 03:00:00    0.0\n",
       "2016-06-04 04:00:00    0.0\n",
       "...                    ...\n",
       "2020-08-13 20:00:00   74.0\n",
       "2020-08-13 21:00:00  117.0\n",
       "2020-08-13 22:00:00   17.0\n",
       "2020-08-13 23:00:00    0.0\n",
       "2020-08-14 00:00:00   38.0\n",
       "\n",
       "[36769 rows x 1 columns]"
      ]
     },
     "execution_count": 93,
     "metadata": {},
     "output_type": "execute_result"
    }
   ],
   "source": [
    "hourly"
   ]
  },
  {
   "cell_type": "code",
   "execution_count": null,
   "metadata": {},
   "outputs": [],
   "source": []
  },
  {
   "cell_type": "code",
   "execution_count": null,
   "metadata": {},
   "outputs": [],
   "source": []
  },
  {
   "cell_type": "code",
   "execution_count": 94,
   "metadata": {},
   "outputs": [
    {
     "name": "stdout",
     "output_type": "stream",
     "text": [
      "These are the outliers\n"
     ]
    },
    {
     "data": {
      "text/plain": [
       "date\n",
       "2018-10-22 16:00:00    71589.0\n",
       "2018-10-08 07:00:00    65756.0\n",
       "2018-09-27 09:00:00    56614.0\n",
       "2018-10-04 11:00:00    39099.0\n",
       "2018-10-19 14:00:00    32309.0\n",
       "2018-11-10 09:00:00    30485.0\n",
       "2018-10-29 05:00:00    29373.0\n",
       "2018-11-12 19:00:00    18525.0\n",
       "2018-10-16 13:00:00    17002.0\n",
       "2018-11-06 13:00:00    15795.0\n",
       "2018-11-03 17:00:00    15757.0\n",
       "Name: value, dtype: float64"
      ]
     },
     "execution_count": 94,
     "metadata": {},
     "output_type": "execute_result"
    }
   ],
   "source": [
    "print(\"These are the outliers\")\n",
    "hourly.value.nlargest(11)"
   ]
  },
  {
   "cell_type": "code",
   "execution_count": null,
   "metadata": {},
   "outputs": [],
   "source": [
    "df_miles = df[df.unit == 'mi']"
   ]
  },
  {
   "cell_type": "code",
   "execution_count": null,
   "metadata": {},
   "outputs": [],
   "source": [
    "miles = pd.DataFrame(df_miles.resample(\"h\").value.sum())"
   ]
  },
  {
   "cell_type": "code",
   "execution_count": null,
   "metadata": {},
   "outputs": [],
   "source": [
    "miles.value.nlargest(11)"
   ]
  },
  {
   "cell_type": "code",
   "execution_count": null,
   "metadata": {},
   "outputs": [],
   "source": [
    "df.value.nlargest(11)"
   ]
  },
  {
   "cell_type": "code",
   "execution_count": null,
   "metadata": {},
   "outputs": [],
   "source": [
    "df.sort_values(\"index\")"
   ]
  },
  {
   "cell_type": "code",
   "execution_count": null,
   "metadata": {},
   "outputs": [],
   "source": [
    "steps = df[df.type == 'HKQuantityTypeIdentifierStepCount'].reset_index().sort_values('startDate')"
   ]
  },
  {
   "cell_type": "code",
   "execution_count": null,
   "metadata": {},
   "outputs": [],
   "source": [
    "steps['next_record'] = steps.startDate.shift(-1) - steps.startDate"
   ]
  },
  {
   "cell_type": "code",
   "execution_count": null,
   "metadata": {},
   "outputs": [],
   "source": [
    "steps.next_record.nlargest(11)"
   ]
  },
  {
   "cell_type": "code",
   "execution_count": null,
   "metadata": {},
   "outputs": [],
   "source": [
    "distance = df[df.type == 'HKQuantityTypeIdentifierDistanceWalkingRunning'].reset_index().sort_values('startDate')"
   ]
  },
  {
   "cell_type": "code",
   "execution_count": null,
   "metadata": {},
   "outputs": [],
   "source": [
    "distance.head()"
   ]
  },
  {
   "cell_type": "code",
   "execution_count": null,
   "metadata": {},
   "outputs": [],
   "source": [
    "steps.head()"
   ]
  },
  {
   "cell_type": "code",
   "execution_count": null,
   "metadata": {},
   "outputs": [],
   "source": [
    "steps[(steps.startDate > \"2018-09-27 00:00:00\") & (steps.startDate < \"2018-11-13 00:00:00\")]"
   ]
  },
  {
   "cell_type": "code",
   "execution_count": null,
   "metadata": {},
   "outputs": [],
   "source": [
    "steps.sort_values('value', ascending=False)"
   ]
  },
  {
   "cell_type": "code",
   "execution_count": null,
   "metadata": {},
   "outputs": [],
   "source": [
    "hourly['hour'] = hourly.index.hour"
   ]
  },
  {
   "cell_type": "code",
   "execution_count": null,
   "metadata": {},
   "outputs": [],
   "source": [
    "hourly"
   ]
  },
  {
   "cell_type": "code",
   "execution_count": null,
   "metadata": {},
   "outputs": [],
   "source": [
    "hourly['new_value'] = hourly.value.apply(lambda x: 1000 if x > 10000 else x)"
   ]
  },
  {
   "cell_type": "code",
   "execution_count": null,
   "metadata": {},
   "outputs": [],
   "source": [
    "hourly.value.mean()"
   ]
  },
  {
   "cell_type": "code",
   "execution_count": null,
   "metadata": {},
   "outputs": [],
   "source": [
    "hourly.new_value.mean()"
   ]
  },
  {
   "cell_type": "code",
   "execution_count": null,
   "metadata": {},
   "outputs": [],
   "source": [
    "hourly.groupby('hour').new_value.sum().plot.bar()"
   ]
  },
  {
   "cell_type": "code",
   "execution_count": null,
   "metadata": {},
   "outputs": [],
   "source": [
    "hourly.groupby('hour').new_value.mean().plot.bar()"
   ]
  },
  {
   "cell_type": "code",
   "execution_count": null,
   "metadata": {},
   "outputs": [],
   "source": [
    "hourly.groupby('hour').new_value.median().plot.bar()"
   ]
  },
  {
   "cell_type": "code",
   "execution_count": null,
   "metadata": {},
   "outputs": [],
   "source": [
    "median_percentage = pd.DataFrame(hourly.groupby('hour').new_value.median())"
   ]
  },
  {
   "cell_type": "code",
   "execution_count": null,
   "metadata": {},
   "outputs": [],
   "source": [
    "median_percentage['percentage'] = median_percentage / median_percentage.sum()"
   ]
  },
  {
   "cell_type": "code",
   "execution_count": null,
   "metadata": {},
   "outputs": [],
   "source": [
    "df.next_record"
   ]
  },
  {
   "cell_type": "code",
   "execution_count": null,
   "metadata": {},
   "outputs": [],
   "source": []
  }
 ],
 "metadata": {
  "kernelspec": {
   "display_name": "Python 3",
   "language": "python",
   "name": "python3"
  },
  "language_info": {
   "codemirror_mode": {
    "name": "ipython",
    "version": 3
   },
   "file_extension": ".py",
   "mimetype": "text/x-python",
   "name": "python",
   "nbconvert_exporter": "python",
   "pygments_lexer": "ipython3",
   "version": "3.7.4"
  }
 },
 "nbformat": 4,
 "nbformat_minor": 2
}
