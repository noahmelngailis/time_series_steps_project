{
 "cells": [
  {
   "cell_type": "code",
   "execution_count": 1,
   "metadata": {},
   "outputs": [],
   "source": [
    "import pandas as pd\n",
    "import numpy as np\n",
    "import datetime\n",
    "\n",
    "import matplotlib.pyplot as plt\n",
    "import seaborn as sns"
   ]
  },
  {
   "cell_type": "code",
   "execution_count": 2,
   "metadata": {},
   "outputs": [],
   "source": [
    "from wrangle_xml import wrangle_xml, preprocessing_xml"
   ]
  },
  {
   "cell_type": "code",
   "execution_count": 3,
   "metadata": {},
   "outputs": [],
   "source": [
    "df = wrangle_xml()"
   ]
  },
  {
   "cell_type": "code",
   "execution_count": 4,
   "metadata": {},
   "outputs": [
    {
     "data": {
      "text/html": [
       "<div>\n",
       "<style scoped>\n",
       "    .dataframe tbody tr th:only-of-type {\n",
       "        vertical-align: middle;\n",
       "    }\n",
       "\n",
       "    .dataframe tbody tr th {\n",
       "        vertical-align: top;\n",
       "    }\n",
       "\n",
       "    .dataframe thead th {\n",
       "        text-align: right;\n",
       "    }\n",
       "</style>\n",
       "<table border=\"1\" class=\"dataframe\">\n",
       "  <thead>\n",
       "    <tr style=\"text-align: right;\">\n",
       "      <th></th>\n",
       "      <th>creationDate</th>\n",
       "      <th>device</th>\n",
       "      <th>endDate</th>\n",
       "      <th>sourceName</th>\n",
       "      <th>sourceVersion</th>\n",
       "      <th>startDate</th>\n",
       "      <th>type</th>\n",
       "      <th>unit</th>\n",
       "      <th>value</th>\n",
       "    </tr>\n",
       "  </thead>\n",
       "  <tbody>\n",
       "    <tr>\n",
       "      <th>0</th>\n",
       "      <td>2016-06-03 17:38:46 -0500</td>\n",
       "      <td>&lt;&lt;HKDevice: 0x2825a8410&gt;, name:iPhone, manufac...</td>\n",
       "      <td>2016-06-03 16:40:52 -0500</td>\n",
       "      <td>Noah's iPhone</td>\n",
       "      <td>9.3.1</td>\n",
       "      <td>2016-06-03 16:40:09 -0500</td>\n",
       "      <td>HKQuantityTypeIdentifierStepCount</td>\n",
       "      <td>count</td>\n",
       "      <td>70.0</td>\n",
       "    </tr>\n",
       "    <tr>\n",
       "      <th>1</th>\n",
       "      <td>2016-06-03 17:38:46 -0500</td>\n",
       "      <td>&lt;&lt;HKDevice: 0x2825a83c0&gt;, name:iPhone, manufac...</td>\n",
       "      <td>2016-06-03 16:58:26 -0500</td>\n",
       "      <td>Noah's iPhone</td>\n",
       "      <td>9.3.1</td>\n",
       "      <td>2016-06-03 16:57:23 -0500</td>\n",
       "      <td>HKQuantityTypeIdentifierStepCount</td>\n",
       "      <td>count</td>\n",
       "      <td>68.0</td>\n",
       "    </tr>\n",
       "  </tbody>\n",
       "</table>\n",
       "</div>"
      ],
      "text/plain": [
       "                creationDate  \\\n",
       "0  2016-06-03 17:38:46 -0500   \n",
       "1  2016-06-03 17:38:46 -0500   \n",
       "\n",
       "                                              device  \\\n",
       "0  <<HKDevice: 0x2825a8410>, name:iPhone, manufac...   \n",
       "1  <<HKDevice: 0x2825a83c0>, name:iPhone, manufac...   \n",
       "\n",
       "                     endDate     sourceName sourceVersion  \\\n",
       "0  2016-06-03 16:40:52 -0500  Noah's iPhone         9.3.1   \n",
       "1  2016-06-03 16:58:26 -0500  Noah's iPhone         9.3.1   \n",
       "\n",
       "                   startDate                               type   unit  value  \n",
       "0  2016-06-03 16:40:09 -0500  HKQuantityTypeIdentifierStepCount  count   70.0  \n",
       "1  2016-06-03 16:57:23 -0500  HKQuantityTypeIdentifierStepCount  count   68.0  "
      ]
     },
     "execution_count": 4,
     "metadata": {},
     "output_type": "execute_result"
    }
   ],
   "source": [
    "df.head(2)"
   ]
  },
  {
   "cell_type": "code",
   "execution_count": 5,
   "metadata": {},
   "outputs": [],
   "source": [
    "df = preprocessing_xml(df)"
   ]
  },
  {
   "cell_type": "code",
   "execution_count": 6,
   "metadata": {},
   "outputs": [
    {
     "data": {
      "text/html": [
       "<div>\n",
       "<style scoped>\n",
       "    .dataframe tbody tr th:only-of-type {\n",
       "        vertical-align: middle;\n",
       "    }\n",
       "\n",
       "    .dataframe tbody tr th {\n",
       "        vertical-align: top;\n",
       "    }\n",
       "\n",
       "    .dataframe thead th {\n",
       "        text-align: right;\n",
       "    }\n",
       "</style>\n",
       "<table border=\"1\" class=\"dataframe\">\n",
       "  <thead>\n",
       "    <tr style=\"text-align: right;\">\n",
       "      <th></th>\n",
       "      <th>creationDate</th>\n",
       "      <th>device</th>\n",
       "      <th>endDate</th>\n",
       "      <th>sourceName</th>\n",
       "      <th>sourceVersion</th>\n",
       "      <th>type</th>\n",
       "      <th>unit</th>\n",
       "      <th>value</th>\n",
       "    </tr>\n",
       "    <tr>\n",
       "      <th>startDate</th>\n",
       "      <th></th>\n",
       "      <th></th>\n",
       "      <th></th>\n",
       "      <th></th>\n",
       "      <th></th>\n",
       "      <th></th>\n",
       "      <th></th>\n",
       "      <th></th>\n",
       "    </tr>\n",
       "  </thead>\n",
       "  <tbody>\n",
       "    <tr>\n",
       "      <th>2016-06-03 16:40:09</th>\n",
       "      <td>2016-06-03 17:38:46</td>\n",
       "      <td>&lt;&lt;HKDevice: 0x2825a8410&gt;, name:iPhone, manufac...</td>\n",
       "      <td>2016-06-03 16:40:52</td>\n",
       "      <td>Noah's iPhone</td>\n",
       "      <td>9.3.1</td>\n",
       "      <td>HKQuantityTypeIdentifierStepCount</td>\n",
       "      <td>count</td>\n",
       "      <td>70.0</td>\n",
       "    </tr>\n",
       "    <tr>\n",
       "      <th>2016-06-03 16:57:23</th>\n",
       "      <td>2016-06-03 17:38:46</td>\n",
       "      <td>&lt;&lt;HKDevice: 0x2825a83c0&gt;, name:iPhone, manufac...</td>\n",
       "      <td>2016-06-03 16:58:26</td>\n",
       "      <td>Noah's iPhone</td>\n",
       "      <td>9.3.1</td>\n",
       "      <td>HKQuantityTypeIdentifierStepCount</td>\n",
       "      <td>count</td>\n",
       "      <td>68.0</td>\n",
       "    </tr>\n",
       "  </tbody>\n",
       "</table>\n",
       "</div>"
      ],
      "text/plain": [
       "                           creationDate  \\\n",
       "startDate                                 \n",
       "2016-06-03 16:40:09 2016-06-03 17:38:46   \n",
       "2016-06-03 16:57:23 2016-06-03 17:38:46   \n",
       "\n",
       "                                                                device  \\\n",
       "startDate                                                                \n",
       "2016-06-03 16:40:09  <<HKDevice: 0x2825a8410>, name:iPhone, manufac...   \n",
       "2016-06-03 16:57:23  <<HKDevice: 0x2825a83c0>, name:iPhone, manufac...   \n",
       "\n",
       "                                endDate     sourceName sourceVersion  \\\n",
       "startDate                                                              \n",
       "2016-06-03 16:40:09 2016-06-03 16:40:52  Noah's iPhone         9.3.1   \n",
       "2016-06-03 16:57:23 2016-06-03 16:58:26  Noah's iPhone         9.3.1   \n",
       "\n",
       "                                                  type   unit  value  \n",
       "startDate                                                             \n",
       "2016-06-03 16:40:09  HKQuantityTypeIdentifierStepCount  count   70.0  \n",
       "2016-06-03 16:57:23  HKQuantityTypeIdentifierStepCount  count   68.0  "
      ]
     },
     "execution_count": 6,
     "metadata": {},
     "output_type": "execute_result"
    }
   ],
   "source": [
    "df.head(2)"
   ]
  },
  {
   "cell_type": "code",
   "execution_count": 7,
   "metadata": {},
   "outputs": [],
   "source": [
    "df_2 = pd.read_csv(\"Export.csv\")"
   ]
  },
  {
   "cell_type": "code",
   "execution_count": 8,
   "metadata": {},
   "outputs": [],
   "source": [
    "df_2['Date'] = pd.to_datetime(df_2.Date)"
   ]
  },
  {
   "cell_type": "code",
   "execution_count": 9,
   "metadata": {},
   "outputs": [
    {
     "data": {
      "text/plain": [
       "min   2018-08-26\n",
       "max   2020-08-16\n",
       "Name: Date, dtype: datetime64[ns]"
      ]
     },
     "execution_count": 9,
     "metadata": {},
     "output_type": "execute_result"
    }
   ],
   "source": [
    "df_2.Date.agg([min, max])"
   ]
  },
  {
   "cell_type": "code",
   "execution_count": 10,
   "metadata": {},
   "outputs": [
    {
     "data": {
      "text/plain": [
       "0       True\n",
       "1       True\n",
       "2       True\n",
       "3       True\n",
       "4       True\n",
       "       ...  \n",
       "584    False\n",
       "585    False\n",
       "586    False\n",
       "587    False\n",
       "588    False\n",
       "Name: Date, Length: 589, dtype: bool"
      ]
     },
     "execution_count": 10,
     "metadata": {},
     "output_type": "execute_result"
    }
   ],
   "source": [
    "df_2.Date > \"2020-01-01\""
   ]
  },
  {
   "cell_type": "code",
   "execution_count": 11,
   "metadata": {},
   "outputs": [
    {
     "data": {
      "text/plain": [
       "HKQuantityTypeIdentifierStepCount                 67915\n",
       "HKQuantityTypeIdentifierDistanceWalkingRunning    67908\n",
       "HKQuantityTypeIdentifierFlightsClimbed             1201\n",
       "Name: type, dtype: int64"
      ]
     },
     "execution_count": 11,
     "metadata": {},
     "output_type": "execute_result"
    }
   ],
   "source": [
    "df.type.value_counts()"
   ]
  },
  {
   "cell_type": "code",
   "execution_count": 12,
   "metadata": {},
   "outputs": [],
   "source": [
    "df = pd.read_csv(\"xml.csv\")"
   ]
  },
  {
   "cell_type": "code",
   "execution_count": 13,
   "metadata": {},
   "outputs": [
    {
     "data": {
      "text/plain": [
       "HKQuantityTypeIdentifierStepCount                 67915\n",
       "HKQuantityTypeIdentifierDistanceWalkingRunning    67908\n",
       "HKQuantityTypeIdentifierFlightsClimbed             1201\n",
       "Name: type, dtype: int64"
      ]
     },
     "execution_count": 13,
     "metadata": {},
     "output_type": "execute_result"
    }
   ],
   "source": [
    "df.type.value_counts()"
   ]
  },
  {
   "cell_type": "code",
   "execution_count": 24,
   "metadata": {},
   "outputs": [],
   "source": [
    "df = wrangle_xml()"
   ]
  },
  {
   "cell_type": "code",
   "execution_count": 25,
   "metadata": {},
   "outputs": [],
   "source": [
    "df_steps = df[df.type == 'HKQuantityTypeIdentifierStepCount']"
   ]
  },
  {
   "cell_type": "code",
   "execution_count": 26,
   "metadata": {},
   "outputs": [
    {
     "name": "stderr",
     "output_type": "stream",
     "text": [
      "/Users/noahsdisk/codeup-data-science/time_series_steps_project/wrangle_xml.py:103: SettingWithCopyWarning: \n",
      "A value is trying to be set on a copy of a slice from a DataFrame.\n",
      "Try using .loc[row_indexer,col_indexer] = value instead\n",
      "\n",
      "See the caveats in the documentation: https://pandas.pydata.org/pandas-docs/stable/user_guide/indexing.html#returning-a-view-versus-a-copy\n",
      "  df['endDate'] = df.endDate.str.replace(\"-0500\", \"\")\n",
      "/Users/noahsdisk/codeup-data-science/time_series_steps_project/wrangle_xml.py:104: SettingWithCopyWarning: \n",
      "A value is trying to be set on a copy of a slice from a DataFrame.\n",
      "Try using .loc[row_indexer,col_indexer] = value instead\n",
      "\n",
      "See the caveats in the documentation: https://pandas.pydata.org/pandas-docs/stable/user_guide/indexing.html#returning-a-view-versus-a-copy\n",
      "  df['startDate'] = df.startDate.str.replace(\"-0500\", \"\")\n",
      "/Users/noahsdisk/codeup-data-science/time_series_steps_project/wrangle_xml.py:105: SettingWithCopyWarning: \n",
      "A value is trying to be set on a copy of a slice from a DataFrame.\n",
      "Try using .loc[row_indexer,col_indexer] = value instead\n",
      "\n",
      "See the caveats in the documentation: https://pandas.pydata.org/pandas-docs/stable/user_guide/indexing.html#returning-a-view-versus-a-copy\n",
      "  df['creationDate'] = df.creationDate.str.replace(\"-0500\", \"\")\n",
      "/Users/noahsdisk/codeup-data-science/time_series_steps_project/wrangle_xml.py:108: SettingWithCopyWarning: \n",
      "A value is trying to be set on a copy of a slice from a DataFrame.\n",
      "Try using .loc[row_indexer,col_indexer] = value instead\n",
      "\n",
      "See the caveats in the documentation: https://pandas.pydata.org/pandas-docs/stable/user_guide/indexing.html#returning-a-view-versus-a-copy\n",
      "  df['endDate'] = pd.to_datetime(df.endDate)\n",
      "/Users/noahsdisk/codeup-data-science/time_series_steps_project/wrangle_xml.py:109: SettingWithCopyWarning: \n",
      "A value is trying to be set on a copy of a slice from a DataFrame.\n",
      "Try using .loc[row_indexer,col_indexer] = value instead\n",
      "\n",
      "See the caveats in the documentation: https://pandas.pydata.org/pandas-docs/stable/user_guide/indexing.html#returning-a-view-versus-a-copy\n",
      "  df['startDate'] = pd.to_datetime(df.startDate)\n",
      "/Users/noahsdisk/codeup-data-science/time_series_steps_project/wrangle_xml.py:110: SettingWithCopyWarning: \n",
      "A value is trying to be set on a copy of a slice from a DataFrame.\n",
      "Try using .loc[row_indexer,col_indexer] = value instead\n",
      "\n",
      "See the caveats in the documentation: https://pandas.pydata.org/pandas-docs/stable/user_guide/indexing.html#returning-a-view-versus-a-copy\n",
      "  df['creationDate'] = pd.to_datetime(df.creationDate)\n"
     ]
    }
   ],
   "source": [
    "df_steps = preprocessing_xml(df_steps)"
   ]
  },
  {
   "cell_type": "code",
   "execution_count": 28,
   "metadata": {},
   "outputs": [],
   "source": [
    "df_steps = df_steps.reset_index()"
   ]
  },
  {
   "cell_type": "code",
   "execution_count": 29,
   "metadata": {},
   "outputs": [],
   "source": [
    "create = df_steps.set_index('creationDate').resample(\"D\").value.sum()"
   ]
  },
  {
   "cell_type": "code",
   "execution_count": 30,
   "metadata": {},
   "outputs": [],
   "source": [
    "start = df_steps.set_index('startDate').resample(\"D\").value.sum()"
   ]
  },
  {
   "cell_type": "code",
   "execution_count": 31,
   "metadata": {},
   "outputs": [],
   "source": [
    "end = df_steps.set_index('endDate').resample(\"D\").value.sum()"
   ]
  },
  {
   "cell_type": "code",
   "execution_count": 70,
   "metadata": {},
   "outputs": [],
   "source": [
    "df_validate = pd.read_csv(\"Export.csv\")"
   ]
  },
  {
   "cell_type": "code",
   "execution_count": 71,
   "metadata": {},
   "outputs": [],
   "source": [
    "df_validate['Date'] = pd.to_datetime(df_validate.Date)"
   ]
  },
  {
   "cell_type": "code",
   "execution_count": 72,
   "metadata": {},
   "outputs": [],
   "source": [
    "df_validate = df_validate.join(start, how='inner')"
   ]
  },
  {
   "cell_type": "code",
   "execution_count": null,
   "metadata": {},
   "outputs": [],
   "source": []
  },
  {
   "cell_type": "code",
   "execution_count": 73,
   "metadata": {},
   "outputs": [
    {
     "name": "stdout",
     "output_type": "stream",
     "text": [
      "<class 'pandas.core.frame.DataFrame'>\n",
      "Index: 0 entries\n",
      "Data columns (total 5 columns):\n",
      " #   Column           Non-Null Count  Dtype         \n",
      "---  ------           --------------  -----         \n",
      " 0   Date             0 non-null      datetime64[ns]\n",
      " 1   Steps            0 non-null      int64         \n",
      " 2   Distance         0 non-null      float64       \n",
      " 3   Floors Ascended  0 non-null      int64         \n",
      " 4   value            0 non-null      float64       \n",
      "dtypes: datetime64[ns](1), float64(2), int64(2)\n",
      "memory usage: 0.0+ bytes\n"
     ]
    }
   ],
   "source": [
    "df_validate.info()"
   ]
  },
  {
   "cell_type": "code",
   "execution_count": 56,
   "metadata": {},
   "outputs": [
    {
     "data": {
      "text/html": [
       "<div>\n",
       "<style scoped>\n",
       "    .dataframe tbody tr th:only-of-type {\n",
       "        vertical-align: middle;\n",
       "    }\n",
       "\n",
       "    .dataframe tbody tr th {\n",
       "        vertical-align: top;\n",
       "    }\n",
       "\n",
       "    .dataframe thead th {\n",
       "        text-align: right;\n",
       "    }\n",
       "</style>\n",
       "<table border=\"1\" class=\"dataframe\">\n",
       "  <thead>\n",
       "    <tr style=\"text-align: right;\">\n",
       "      <th></th>\n",
       "      <th>value</th>\n",
       "    </tr>\n",
       "    <tr>\n",
       "      <th>startDate</th>\n",
       "      <th></th>\n",
       "    </tr>\n",
       "  </thead>\n",
       "  <tbody>\n",
       "    <tr>\n",
       "      <th>2016-06-03</th>\n",
       "      <td>469.0</td>\n",
       "    </tr>\n",
       "    <tr>\n",
       "      <th>2016-06-04</th>\n",
       "      <td>4355.0</td>\n",
       "    </tr>\n",
       "    <tr>\n",
       "      <th>2016-06-05</th>\n",
       "      <td>4395.0</td>\n",
       "    </tr>\n",
       "    <tr>\n",
       "      <th>2016-06-06</th>\n",
       "      <td>6535.0</td>\n",
       "    </tr>\n",
       "    <tr>\n",
       "      <th>2016-06-07</th>\n",
       "      <td>6588.0</td>\n",
       "    </tr>\n",
       "  </tbody>\n",
       "</table>\n",
       "</div>"
      ],
      "text/plain": [
       "             value\n",
       "startDate         \n",
       "2016-06-03   469.0\n",
       "2016-06-04  4355.0\n",
       "2016-06-05  4395.0\n",
       "2016-06-06  6535.0\n",
       "2016-06-07  6588.0"
      ]
     },
     "execution_count": 56,
     "metadata": {},
     "output_type": "execute_result"
    }
   ],
   "source": [
    "start = pd.DataFrame(start)\n",
    "start.head()"
   ]
  },
  {
   "cell_type": "code",
   "execution_count": 42,
   "metadata": {},
   "outputs": [
    {
     "name": "stdout",
     "output_type": "stream",
     "text": [
      "<class 'pandas.core.frame.DataFrame'>\n",
      "RangeIndex: 589 entries, 0 to 588\n",
      "Data columns (total 4 columns):\n",
      " #   Column           Non-Null Count  Dtype  \n",
      "---  ------           --------------  -----  \n",
      " 0   Date             589 non-null    object \n",
      " 1   Steps            589 non-null    int64  \n",
      " 2   Distance         589 non-null    float64\n",
      " 3   Floors Ascended  589 non-null    int64  \n",
      "dtypes: float64(1), int64(2), object(1)\n",
      "memory usage: 18.5+ KB\n"
     ]
    }
   ],
   "source": [
    "df_validate.info()"
   ]
  },
  {
   "cell_type": "code",
   "execution_count": null,
   "metadata": {},
   "outputs": [],
   "source": []
  }
 ],
 "metadata": {
  "kernelspec": {
   "display_name": "Python 3",
   "language": "python",
   "name": "python3"
  },
  "language_info": {
   "codemirror_mode": {
    "name": "ipython",
    "version": 3
   },
   "file_extension": ".py",
   "mimetype": "text/x-python",
   "name": "python",
   "nbconvert_exporter": "python",
   "pygments_lexer": "ipython3",
   "version": "3.7.4"
  }
 },
 "nbformat": 4,
 "nbformat_minor": 2
}
