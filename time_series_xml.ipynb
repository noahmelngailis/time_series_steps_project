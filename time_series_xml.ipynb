{
 "cells": [
  {
   "cell_type": "code",
   "execution_count": 1,
   "metadata": {},
   "outputs": [],
   "source": [
    "import pandas as pd\n",
    "import numpy as np\n",
    "import datetime\n",
    "\n",
    "import matplotlib.pyplot as plt\n",
    "import seaborn as sns\n",
    "\n",
    "import os.path"
   ]
  },
  {
   "cell_type": "code",
   "execution_count": 2,
   "metadata": {},
   "outputs": [],
   "source": [
    "import xml.etree.ElementTree as etree"
   ]
  },
  {
   "cell_type": "code",
   "execution_count": 5,
   "metadata": {},
   "outputs": [],
   "source": [
    "from wrangle_xml import wrangle_xml"
   ]
  },
  {
   "cell_type": "code",
   "execution_count": 7,
   "metadata": {},
   "outputs": [],
   "source": [
    "df = wrangle_xml()"
   ]
  },
  {
   "cell_type": "code",
   "execution_count": 8,
   "metadata": {},
   "outputs": [
    {
     "data": {
      "text/html": [
       "<div>\n",
       "<style scoped>\n",
       "    .dataframe tbody tr th:only-of-type {\n",
       "        vertical-align: middle;\n",
       "    }\n",
       "\n",
       "    .dataframe tbody tr th {\n",
       "        vertical-align: top;\n",
       "    }\n",
       "\n",
       "    .dataframe thead th {\n",
       "        text-align: right;\n",
       "    }\n",
       "</style>\n",
       "<table border=\"1\" class=\"dataframe\">\n",
       "  <thead>\n",
       "    <tr style=\"text-align: right;\">\n",
       "      <th></th>\n",
       "      <th>Unnamed: 0</th>\n",
       "      <th>creationDate</th>\n",
       "      <th>device</th>\n",
       "      <th>endDate</th>\n",
       "      <th>sourceName</th>\n",
       "      <th>sourceVersion</th>\n",
       "      <th>startDate</th>\n",
       "      <th>type</th>\n",
       "      <th>unit</th>\n",
       "      <th>value</th>\n",
       "    </tr>\n",
       "  </thead>\n",
       "  <tbody>\n",
       "    <tr>\n",
       "      <th>0</th>\n",
       "      <td>0</td>\n",
       "      <td>2016-06-03 17:38:46 -0500</td>\n",
       "      <td>&lt;&lt;HKDevice: 0x2825a8410&gt;, name:iPhone, manufac...</td>\n",
       "      <td>2016-06-03 16:40:52 -0500</td>\n",
       "      <td>Noah's iPhone</td>\n",
       "      <td>9.3.1</td>\n",
       "      <td>2016-06-03 16:40:09 -0500</td>\n",
       "      <td>HKQuantityTypeIdentifierStepCount</td>\n",
       "      <td>count</td>\n",
       "      <td>70.0</td>\n",
       "    </tr>\n",
       "    <tr>\n",
       "      <th>1</th>\n",
       "      <td>1</td>\n",
       "      <td>2016-06-03 17:38:46 -0500</td>\n",
       "      <td>&lt;&lt;HKDevice: 0x2825a83c0&gt;, name:iPhone, manufac...</td>\n",
       "      <td>2016-06-03 16:58:26 -0500</td>\n",
       "      <td>Noah's iPhone</td>\n",
       "      <td>9.3.1</td>\n",
       "      <td>2016-06-03 16:57:23 -0500</td>\n",
       "      <td>HKQuantityTypeIdentifierStepCount</td>\n",
       "      <td>count</td>\n",
       "      <td>68.0</td>\n",
       "    </tr>\n",
       "    <tr>\n",
       "      <th>2</th>\n",
       "      <td>2</td>\n",
       "      <td>2016-06-03 18:39:21 -0500</td>\n",
       "      <td>&lt;&lt;HKDevice: 0x2825a9270&gt;, name:iPhone, manufac...</td>\n",
       "      <td>2016-06-03 17:35:45 -0500</td>\n",
       "      <td>Noah's iPhone</td>\n",
       "      <td>9.3.1</td>\n",
       "      <td>2016-06-03 17:34:29 -0500</td>\n",
       "      <td>HKQuantityTypeIdentifierStepCount</td>\n",
       "      <td>count</td>\n",
       "      <td>55.0</td>\n",
       "    </tr>\n",
       "    <tr>\n",
       "      <th>3</th>\n",
       "      <td>3</td>\n",
       "      <td>2016-06-03 18:39:21 -0500</td>\n",
       "      <td>&lt;&lt;HKDevice: 0x2825aa030&gt;, name:iPhone, manufac...</td>\n",
       "      <td>2016-06-03 17:48:03 -0500</td>\n",
       "      <td>Noah's iPhone</td>\n",
       "      <td>9.3.1</td>\n",
       "      <td>2016-06-03 17:43:01 -0500</td>\n",
       "      <td>HKQuantityTypeIdentifierStepCount</td>\n",
       "      <td>count</td>\n",
       "      <td>42.0</td>\n",
       "    </tr>\n",
       "    <tr>\n",
       "      <th>4</th>\n",
       "      <td>4</td>\n",
       "      <td>2016-06-03 18:39:21 -0500</td>\n",
       "      <td>&lt;&lt;HKDevice: 0x2825a8cd0&gt;, name:iPhone, manufac...</td>\n",
       "      <td>2016-06-03 17:49:54 -0500</td>\n",
       "      <td>Noah's iPhone</td>\n",
       "      <td>9.3.1</td>\n",
       "      <td>2016-06-03 17:48:03 -0500</td>\n",
       "      <td>HKQuantityTypeIdentifierStepCount</td>\n",
       "      <td>count</td>\n",
       "      <td>43.0</td>\n",
       "    </tr>\n",
       "    <tr>\n",
       "      <th>...</th>\n",
       "      <td>...</td>\n",
       "      <td>...</td>\n",
       "      <td>...</td>\n",
       "      <td>...</td>\n",
       "      <td>...</td>\n",
       "      <td>...</td>\n",
       "      <td>...</td>\n",
       "      <td>...</td>\n",
       "      <td>...</td>\n",
       "      <td>...</td>\n",
       "    </tr>\n",
       "    <tr>\n",
       "      <th>137019</th>\n",
       "      <td>137019</td>\n",
       "      <td>2020-08-02 23:59:24 -0500</td>\n",
       "      <td>&lt;&lt;HKDevice: 0x282501220&gt;, name:iPhone, manufac...</td>\n",
       "      <td>2020-08-02 23:48:24 -0500</td>\n",
       "      <td>Noah's iPhone</td>\n",
       "      <td>13.5.1</td>\n",
       "      <td>2020-08-02 23:48:21 -0500</td>\n",
       "      <td>HKQuantityTypeIdentifierFlightsClimbed</td>\n",
       "      <td>count</td>\n",
       "      <td>1.0</td>\n",
       "    </tr>\n",
       "    <tr>\n",
       "      <th>137020</th>\n",
       "      <td>137020</td>\n",
       "      <td>2020-08-03 08:46:39 -0500</td>\n",
       "      <td>&lt;&lt;HKDevice: 0x2825033e0&gt;, name:iPhone, manufac...</td>\n",
       "      <td>2020-08-03 08:35:06 -0500</td>\n",
       "      <td>Noah's iPhone</td>\n",
       "      <td>13.5.1</td>\n",
       "      <td>2020-08-03 08:35:03 -0500</td>\n",
       "      <td>HKQuantityTypeIdentifierFlightsClimbed</td>\n",
       "      <td>count</td>\n",
       "      <td>1.0</td>\n",
       "    </tr>\n",
       "    <tr>\n",
       "      <th>137021</th>\n",
       "      <td>137021</td>\n",
       "      <td>2020-08-03 11:47:24 -0500</td>\n",
       "      <td>&lt;&lt;HKDevice: 0x282503200&gt;, name:iPhone, manufac...</td>\n",
       "      <td>2020-08-03 11:30:20 -0500</td>\n",
       "      <td>Noah's iPhone</td>\n",
       "      <td>13.5.1</td>\n",
       "      <td>2020-08-03 11:30:17 -0500</td>\n",
       "      <td>HKQuantityTypeIdentifierFlightsClimbed</td>\n",
       "      <td>count</td>\n",
       "      <td>1.0</td>\n",
       "    </tr>\n",
       "    <tr>\n",
       "      <th>137022</th>\n",
       "      <td>137022</td>\n",
       "      <td>2020-08-15 09:36:32 -0500</td>\n",
       "      <td>&lt;&lt;HKDevice: 0x282500780&gt;, name:iPhone, manufac...</td>\n",
       "      <td>2020-08-15 09:33:55 -0500</td>\n",
       "      <td>Noah's iPhone</td>\n",
       "      <td>13.5.1</td>\n",
       "      <td>2020-08-15 09:24:02 -0500</td>\n",
       "      <td>HKQuantityTypeIdentifierFlightsClimbed</td>\n",
       "      <td>count</td>\n",
       "      <td>3.0</td>\n",
       "    </tr>\n",
       "    <tr>\n",
       "      <th>137023</th>\n",
       "      <td>137023</td>\n",
       "      <td>2020-08-15 09:44:40 -0500</td>\n",
       "      <td>&lt;&lt;HKDevice: 0x282502260&gt;, name:iPhone, manufac...</td>\n",
       "      <td>2020-08-15 09:37:26 -0500</td>\n",
       "      <td>Noah's iPhone</td>\n",
       "      <td>13.5.1</td>\n",
       "      <td>2020-08-15 09:34:26 -0500</td>\n",
       "      <td>HKQuantityTypeIdentifierFlightsClimbed</td>\n",
       "      <td>count</td>\n",
       "      <td>5.0</td>\n",
       "    </tr>\n",
       "  </tbody>\n",
       "</table>\n",
       "<p>137024 rows × 10 columns</p>\n",
       "</div>"
      ],
      "text/plain": [
       "        Unnamed: 0               creationDate  \\\n",
       "0                0  2016-06-03 17:38:46 -0500   \n",
       "1                1  2016-06-03 17:38:46 -0500   \n",
       "2                2  2016-06-03 18:39:21 -0500   \n",
       "3                3  2016-06-03 18:39:21 -0500   \n",
       "4                4  2016-06-03 18:39:21 -0500   \n",
       "...            ...                        ...   \n",
       "137019      137019  2020-08-02 23:59:24 -0500   \n",
       "137020      137020  2020-08-03 08:46:39 -0500   \n",
       "137021      137021  2020-08-03 11:47:24 -0500   \n",
       "137022      137022  2020-08-15 09:36:32 -0500   \n",
       "137023      137023  2020-08-15 09:44:40 -0500   \n",
       "\n",
       "                                                   device  \\\n",
       "0       <<HKDevice: 0x2825a8410>, name:iPhone, manufac...   \n",
       "1       <<HKDevice: 0x2825a83c0>, name:iPhone, manufac...   \n",
       "2       <<HKDevice: 0x2825a9270>, name:iPhone, manufac...   \n",
       "3       <<HKDevice: 0x2825aa030>, name:iPhone, manufac...   \n",
       "4       <<HKDevice: 0x2825a8cd0>, name:iPhone, manufac...   \n",
       "...                                                   ...   \n",
       "137019  <<HKDevice: 0x282501220>, name:iPhone, manufac...   \n",
       "137020  <<HKDevice: 0x2825033e0>, name:iPhone, manufac...   \n",
       "137021  <<HKDevice: 0x282503200>, name:iPhone, manufac...   \n",
       "137022  <<HKDevice: 0x282500780>, name:iPhone, manufac...   \n",
       "137023  <<HKDevice: 0x282502260>, name:iPhone, manufac...   \n",
       "\n",
       "                          endDate     sourceName sourceVersion  \\\n",
       "0       2016-06-03 16:40:52 -0500  Noah's iPhone         9.3.1   \n",
       "1       2016-06-03 16:58:26 -0500  Noah's iPhone         9.3.1   \n",
       "2       2016-06-03 17:35:45 -0500  Noah's iPhone         9.3.1   \n",
       "3       2016-06-03 17:48:03 -0500  Noah's iPhone         9.3.1   \n",
       "4       2016-06-03 17:49:54 -0500  Noah's iPhone         9.3.1   \n",
       "...                           ...            ...           ...   \n",
       "137019  2020-08-02 23:48:24 -0500  Noah's iPhone        13.5.1   \n",
       "137020  2020-08-03 08:35:06 -0500  Noah's iPhone        13.5.1   \n",
       "137021  2020-08-03 11:30:20 -0500  Noah's iPhone        13.5.1   \n",
       "137022  2020-08-15 09:33:55 -0500  Noah's iPhone        13.5.1   \n",
       "137023  2020-08-15 09:37:26 -0500  Noah's iPhone        13.5.1   \n",
       "\n",
       "                        startDate                                    type  \\\n",
       "0       2016-06-03 16:40:09 -0500       HKQuantityTypeIdentifierStepCount   \n",
       "1       2016-06-03 16:57:23 -0500       HKQuantityTypeIdentifierStepCount   \n",
       "2       2016-06-03 17:34:29 -0500       HKQuantityTypeIdentifierStepCount   \n",
       "3       2016-06-03 17:43:01 -0500       HKQuantityTypeIdentifierStepCount   \n",
       "4       2016-06-03 17:48:03 -0500       HKQuantityTypeIdentifierStepCount   \n",
       "...                           ...                                     ...   \n",
       "137019  2020-08-02 23:48:21 -0500  HKQuantityTypeIdentifierFlightsClimbed   \n",
       "137020  2020-08-03 08:35:03 -0500  HKQuantityTypeIdentifierFlightsClimbed   \n",
       "137021  2020-08-03 11:30:17 -0500  HKQuantityTypeIdentifierFlightsClimbed   \n",
       "137022  2020-08-15 09:24:02 -0500  HKQuantityTypeIdentifierFlightsClimbed   \n",
       "137023  2020-08-15 09:34:26 -0500  HKQuantityTypeIdentifierFlightsClimbed   \n",
       "\n",
       "         unit  value  \n",
       "0       count   70.0  \n",
       "1       count   68.0  \n",
       "2       count   55.0  \n",
       "3       count   42.0  \n",
       "4       count   43.0  \n",
       "...       ...    ...  \n",
       "137019  count    1.0  \n",
       "137020  count    1.0  \n",
       "137021  count    1.0  \n",
       "137022  count    3.0  \n",
       "137023  count    5.0  \n",
       "\n",
       "[137024 rows x 10 columns]"
      ]
     },
     "execution_count": 8,
     "metadata": {},
     "output_type": "execute_result"
    }
   ],
   "source": [
    "df"
   ]
  },
  {
   "cell_type": "code",
   "execution_count": null,
   "metadata": {},
   "outputs": [],
   "source": []
  },
  {
   "cell_type": "code",
   "execution_count": 9,
   "metadata": {},
   "outputs": [],
   "source": [
    "df['endDate'] = pd.to_datetime(df.endDate)\n",
    "df['startDate'] = pd.to_datetime(df.startDate)\n",
    "df['creationDate'] = pd.to_datetime(df.creationDate)"
   ]
  },
  {
   "cell_type": "code",
   "execution_count": 10,
   "metadata": {},
   "outputs": [],
   "source": [
    "df = df.set_index('startDate')"
   ]
  },
  {
   "cell_type": "code",
   "execution_count": 12,
   "metadata": {},
   "outputs": [],
   "source": [
    "df['value'] = "
   ]
  },
  {
   "cell_type": "code",
   "execution_count": 14,
   "metadata": {},
   "outputs": [],
   "source": [
    "df_validate = "
   ]
  },
  {
   "cell_type": "code",
   "execution_count": 15,
   "metadata": {},
   "outputs": [],
   "source": [
    "df_2 = pd.read_csv(\"Export.csv\")"
   ]
  },
  {
   "cell_type": "code",
   "execution_count": 17,
   "metadata": {},
   "outputs": [],
   "source": [
    "df_2['steps_validate'] =  df.value.resample('D').sum()"
   ]
  },
  {
   "cell_type": "code",
   "execution_count": 19,
   "metadata": {},
   "outputs": [],
   "source": [
    "np.where?"
   ]
  },
  {
   "cell_type": "code",
   "execution_count": null,
   "metadata": {},
   "outputs": [],
   "source": [
    "df.type.value_counts()"
   ]
  },
  {
   "cell_type": "code",
   "execution_count": null,
   "metadata": {},
   "outputs": [],
   "source": [
    "df = pd.read_csv(\"xml.csv\")"
   ]
  },
  {
   "cell_type": "code",
   "execution_count": null,
   "metadata": {},
   "outputs": [],
   "source": [
    "df.type.value_counts()"
   ]
  },
  {
   "cell_type": "code",
   "execution_count": null,
   "metadata": {},
   "outputs": [],
   "source": [
    "df_steps = df[df.type == 'HKQuantityTypeIdentifierStepCount']"
   ]
  },
  {
   "cell_type": "code",
   "execution_count": null,
   "metadata": {},
   "outputs": [],
   "source": [
    "df_steps"
   ]
  },
  {
   "cell_type": "code",
   "execution_count": null,
   "metadata": {},
   "outputs": [],
   "source": [
    "df_steps['endDate'] = pd.to_datetime(df_steps.endDate)\n",
    "df_steps['startDate'] = pd.to_datetime(df_steps.startDate)\n",
    "df_steps['creationDate'] = pd.to_datetime(df_steps.creationDate)"
   ]
  },
  {
   "cell_type": "code",
   "execution_count": null,
   "metadata": {},
   "outputs": [],
   "source": [
    "df_steps = df_steps[['creationDate', 'endDate', 'startDate', 'value']]"
   ]
  },
  {
   "cell_type": "code",
   "execution_count": null,
   "metadata": {},
   "outputs": [],
   "source": [
    "df_start = pd.DataFrame(df_steps.set_index('startDate').resample('d').value.sum())"
   ]
  },
  {
   "cell_type": "code",
   "execution_count": null,
   "metadata": {},
   "outputs": [],
   "source": [
    "df_start"
   ]
  },
  {
   "cell_type": "code",
   "execution_count": null,
   "metadata": {},
   "outputs": [],
   "source": []
  }
 ],
 "metadata": {
  "kernelspec": {
   "display_name": "Python 3",
   "language": "python",
   "name": "python3"
  },
  "language_info": {
   "codemirror_mode": {
    "name": "ipython",
    "version": 3
   },
   "file_extension": ".py",
   "mimetype": "text/x-python",
   "name": "python",
   "nbconvert_exporter": "python",
   "pygments_lexer": "ipython3",
   "version": "3.7.4"
  }
 },
 "nbformat": 4,
 "nbformat_minor": 2
}
