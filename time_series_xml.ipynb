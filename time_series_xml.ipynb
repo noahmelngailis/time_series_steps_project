{
 "cells": [
  {
   "cell_type": "code",
   "execution_count": null,
   "metadata": {},
   "outputs": [],
   "source": [
    "import pandas as pd\n",
    "import numpy as np\n",
    "import datetime\n",
    "\n",
    "import matplotlib.pyplot as plt\n",
    "import seaborn as sns"
   ]
  },
  {
   "cell_type": "code",
   "execution_count": 2,
   "metadata": {},
   "outputs": [],
   "source": [
    "from wrangle_xml import wrangle_xml, preprocessing_xml, create_validate_xml_df"
   ]
  },
  {
   "cell_type": "code",
   "execution_count": 3,
   "metadata": {},
   "outputs": [],
   "source": [
    "import warnings\n",
    "warnings.filterwarnings('ignore')"
   ]
  },
  {
   "cell_type": "code",
   "execution_count": 4,
   "metadata": {},
   "outputs": [],
   "source": [
    "df = wrangle_xml()"
   ]
  },
  {
   "cell_type": "code",
   "execution_count": 5,
   "metadata": {},
   "outputs": [
    {
     "data": {
      "text/html": [
       "<div>\n",
       "<style scoped>\n",
       "    .dataframe tbody tr th:only-of-type {\n",
       "        vertical-align: middle;\n",
       "    }\n",
       "\n",
       "    .dataframe tbody tr th {\n",
       "        vertical-align: top;\n",
       "    }\n",
       "\n",
       "    .dataframe thead th {\n",
       "        text-align: right;\n",
       "    }\n",
       "</style>\n",
       "<table border=\"1\" class=\"dataframe\">\n",
       "  <thead>\n",
       "    <tr style=\"text-align: right;\">\n",
       "      <th></th>\n",
       "      <th>creationDate</th>\n",
       "      <th>device</th>\n",
       "      <th>endDate</th>\n",
       "      <th>sourceName</th>\n",
       "      <th>sourceVersion</th>\n",
       "      <th>startDate</th>\n",
       "      <th>type</th>\n",
       "      <th>unit</th>\n",
       "      <th>value</th>\n",
       "    </tr>\n",
       "  </thead>\n",
       "  <tbody>\n",
       "    <tr>\n",
       "      <th>0</th>\n",
       "      <td>2016-06-03 17:38:46 -0500</td>\n",
       "      <td>&lt;&lt;HKDevice: 0x2825a8410&gt;, name:iPhone, manufac...</td>\n",
       "      <td>2016-06-03 16:40:52 -0500</td>\n",
       "      <td>Noah's iPhone</td>\n",
       "      <td>9.3.1</td>\n",
       "      <td>2016-06-03 16:40:09 -0500</td>\n",
       "      <td>HKQuantityTypeIdentifierStepCount</td>\n",
       "      <td>count</td>\n",
       "      <td>70.0</td>\n",
       "    </tr>\n",
       "    <tr>\n",
       "      <th>1</th>\n",
       "      <td>2016-06-03 17:38:46 -0500</td>\n",
       "      <td>&lt;&lt;HKDevice: 0x2825a83c0&gt;, name:iPhone, manufac...</td>\n",
       "      <td>2016-06-03 16:58:26 -0500</td>\n",
       "      <td>Noah's iPhone</td>\n",
       "      <td>9.3.1</td>\n",
       "      <td>2016-06-03 16:57:23 -0500</td>\n",
       "      <td>HKQuantityTypeIdentifierStepCount</td>\n",
       "      <td>count</td>\n",
       "      <td>68.0</td>\n",
       "    </tr>\n",
       "  </tbody>\n",
       "</table>\n",
       "</div>"
      ],
      "text/plain": [
       "                creationDate  \\\n",
       "0  2016-06-03 17:38:46 -0500   \n",
       "1  2016-06-03 17:38:46 -0500   \n",
       "\n",
       "                                              device  \\\n",
       "0  <<HKDevice: 0x2825a8410>, name:iPhone, manufac...   \n",
       "1  <<HKDevice: 0x2825a83c0>, name:iPhone, manufac...   \n",
       "\n",
       "                     endDate     sourceName sourceVersion  \\\n",
       "0  2016-06-03 16:40:52 -0500  Noah's iPhone         9.3.1   \n",
       "1  2016-06-03 16:58:26 -0500  Noah's iPhone         9.3.1   \n",
       "\n",
       "                   startDate                               type   unit  value  \n",
       "0  2016-06-03 16:40:09 -0500  HKQuantityTypeIdentifierStepCount  count   70.0  \n",
       "1  2016-06-03 16:57:23 -0500  HKQuantityTypeIdentifierStepCount  count   68.0  "
      ]
     },
     "execution_count": 5,
     "metadata": {},
     "output_type": "execute_result"
    }
   ],
   "source": [
    "df.head(2)"
   ]
  },
  {
   "cell_type": "code",
   "execution_count": 6,
   "metadata": {},
   "outputs": [],
   "source": [
    "df = preprocessing_xml(df)"
   ]
  },
  {
   "cell_type": "code",
   "execution_count": 7,
   "metadata": {},
   "outputs": [
    {
     "data": {
      "text/html": [
       "<div>\n",
       "<style scoped>\n",
       "    .dataframe tbody tr th:only-of-type {\n",
       "        vertical-align: middle;\n",
       "    }\n",
       "\n",
       "    .dataframe tbody tr th {\n",
       "        vertical-align: top;\n",
       "    }\n",
       "\n",
       "    .dataframe thead th {\n",
       "        text-align: right;\n",
       "    }\n",
       "</style>\n",
       "<table border=\"1\" class=\"dataframe\">\n",
       "  <thead>\n",
       "    <tr style=\"text-align: right;\">\n",
       "      <th></th>\n",
       "      <th>startDate</th>\n",
       "      <th>creationDate</th>\n",
       "      <th>device</th>\n",
       "      <th>endDate</th>\n",
       "      <th>sourceName</th>\n",
       "      <th>sourceVersion</th>\n",
       "      <th>type</th>\n",
       "      <th>unit</th>\n",
       "      <th>value</th>\n",
       "    </tr>\n",
       "  </thead>\n",
       "  <tbody>\n",
       "    <tr>\n",
       "      <th>0</th>\n",
       "      <td>2016-06-03 16:40:09</td>\n",
       "      <td>2016-06-03 17:38:46</td>\n",
       "      <td>&lt;&lt;HKDevice: 0x2825a8410&gt;, name:iPhone, manufac...</td>\n",
       "      <td>2016-06-03 16:40:52</td>\n",
       "      <td>Noah's iPhone</td>\n",
       "      <td>9.3.1</td>\n",
       "      <td>HKQuantityTypeIdentifierStepCount</td>\n",
       "      <td>count</td>\n",
       "      <td>70.0</td>\n",
       "    </tr>\n",
       "    <tr>\n",
       "      <th>1</th>\n",
       "      <td>2016-06-03 16:57:23</td>\n",
       "      <td>2016-06-03 17:38:46</td>\n",
       "      <td>&lt;&lt;HKDevice: 0x2825a83c0&gt;, name:iPhone, manufac...</td>\n",
       "      <td>2016-06-03 16:58:26</td>\n",
       "      <td>Noah's iPhone</td>\n",
       "      <td>9.3.1</td>\n",
       "      <td>HKQuantityTypeIdentifierStepCount</td>\n",
       "      <td>count</td>\n",
       "      <td>68.0</td>\n",
       "    </tr>\n",
       "  </tbody>\n",
       "</table>\n",
       "</div>"
      ],
      "text/plain": [
       "            startDate        creationDate  \\\n",
       "0 2016-06-03 16:40:09 2016-06-03 17:38:46   \n",
       "1 2016-06-03 16:57:23 2016-06-03 17:38:46   \n",
       "\n",
       "                                              device             endDate  \\\n",
       "0  <<HKDevice: 0x2825a8410>, name:iPhone, manufac... 2016-06-03 16:40:52   \n",
       "1  <<HKDevice: 0x2825a83c0>, name:iPhone, manufac... 2016-06-03 16:58:26   \n",
       "\n",
       "      sourceName sourceVersion                               type   unit  \\\n",
       "0  Noah's iPhone         9.3.1  HKQuantityTypeIdentifierStepCount  count   \n",
       "1  Noah's iPhone         9.3.1  HKQuantityTypeIdentifierStepCount  count   \n",
       "\n",
       "   value  \n",
       "0   70.0  \n",
       "1   68.0  "
      ]
     },
     "execution_count": 7,
     "metadata": {},
     "output_type": "execute_result"
    }
   ],
   "source": [
    "df.head(2)"
   ]
  },
  {
   "cell_type": "code",
   "execution_count": 8,
   "metadata": {},
   "outputs": [],
   "source": [
    "df_validate = create_validate_xml_df()"
   ]
  },
  {
   "cell_type": "code",
   "execution_count": 9,
   "metadata": {},
   "outputs": [
    {
     "data": {
      "text/html": [
       "<div>\n",
       "<style scoped>\n",
       "    .dataframe tbody tr th:only-of-type {\n",
       "        vertical-align: middle;\n",
       "    }\n",
       "\n",
       "    .dataframe tbody tr th {\n",
       "        vertical-align: top;\n",
       "    }\n",
       "\n",
       "    .dataframe thead th {\n",
       "        text-align: right;\n",
       "    }\n",
       "</style>\n",
       "<table border=\"1\" class=\"dataframe\">\n",
       "  <thead>\n",
       "    <tr style=\"text-align: right;\">\n",
       "      <th></th>\n",
       "      <th>Date</th>\n",
       "      <th>Steps</th>\n",
       "      <th>Distance</th>\n",
       "      <th>Floors Ascended</th>\n",
       "      <th>start_value</th>\n",
       "      <th>create_value</th>\n",
       "      <th>end_value</th>\n",
       "    </tr>\n",
       "  </thead>\n",
       "  <tbody>\n",
       "    <tr>\n",
       "      <th>0</th>\n",
       "      <td>2020-08-16</td>\n",
       "      <td>14656</td>\n",
       "      <td>6.7</td>\n",
       "      <td>0</td>\n",
       "      <td>14705.0</td>\n",
       "      <td>14705.0</td>\n",
       "      <td>14705.0</td>\n",
       "    </tr>\n",
       "    <tr>\n",
       "      <th>1</th>\n",
       "      <td>2020-08-15</td>\n",
       "      <td>10103</td>\n",
       "      <td>4.7</td>\n",
       "      <td>8</td>\n",
       "      <td>10103.0</td>\n",
       "      <td>10103.0</td>\n",
       "      <td>10103.0</td>\n",
       "    </tr>\n",
       "  </tbody>\n",
       "</table>\n",
       "</div>"
      ],
      "text/plain": [
       "        Date  Steps  Distance  Floors Ascended  start_value  create_value  \\\n",
       "0 2020-08-16  14656       6.7                0      14705.0       14705.0   \n",
       "1 2020-08-15  10103       4.7                8      10103.0       10103.0   \n",
       "\n",
       "   end_value  \n",
       "0    14705.0  \n",
       "1    10103.0  "
      ]
     },
     "execution_count": 9,
     "metadata": {},
     "output_type": "execute_result"
    }
   ],
   "source": [
    "df_validate.head(2)"
   ]
  },
  {
   "cell_type": "code",
   "execution_count": 10,
   "metadata": {},
   "outputs": [
    {
     "name": "stdout",
     "output_type": "stream",
     "text": [
      "start_value has 124 dates exactly the same\n",
      "create_value has 93 dates exactly the same\n",
      "end_value has 124 dates exactly the same\n"
     ]
    }
   ],
   "source": [
    "# How many items are the same for each column?\n",
    "for i in df_validate.columns[4:]:\n",
    "    var = (df_validate.Steps == df_validate[i]).sum()\n",
    "    print(f'{i} has {var} dates exactly the same')"
   ]
  },
  {
   "cell_type": "code",
   "execution_count": 11,
   "metadata": {},
   "outputs": [
    {
     "name": "stdout",
     "output_type": "stream",
     "text": [
      "start_value has an absolute difference of 753943.0 from pedometer data\n",
      "create_value has an absolute difference of 878594.0 from pedometer data\n",
      "end_value has an absolute difference of 736764.0 from pedometer data\n"
     ]
    }
   ],
   "source": [
    "for i in df_validate.columns[4:]:\n",
    "    var = abs(df_validate.Steps - df_validate[i]).sum()\n",
    "    print(f'{i} has an absolute difference of {var} from pedometer data')"
   ]
  },
  {
   "cell_type": "code",
   "execution_count": 12,
   "metadata": {},
   "outputs": [
    {
     "name": "stdout",
     "output_type": "stream",
     "text": [
      "start_value has a total difference of -71843.0 from pedometer data\n",
      "create_value has a total difference of -72180.0 from pedometer data\n",
      "end_value has a total difference of -71826.0 from pedometer data\n"
     ]
    }
   ],
   "source": [
    "for i in df_validate.columns[4:]:\n",
    "    var = (df_validate.Steps - df_validate[i]).sum()\n",
    "    print(f'{i} has a total difference of {var} from pedometer data')"
   ]
  },
  {
   "cell_type": "code",
   "execution_count": 13,
   "metadata": {},
   "outputs": [
    {
     "name": "stdout",
     "output_type": "stream",
     "text": [
      "start_value has an absolute difference of 21548.0 from pedometer data\n",
      "create_value has an absolute difference of 21548.0 from pedometer data\n",
      "end_value has an absolute difference of 21548.0 from pedometer data\n"
     ]
    }
   ],
   "source": [
    "for i in df_validate.columns[4:]:\n",
    "    var = (df_validate.Steps - df_validate[i]).max()\n",
    "    print(f'{i} has an absolute difference of {var} from pedometer data')"
   ]
  },
  {
   "cell_type": "code",
   "execution_count": 14,
   "metadata": {},
   "outputs": [],
   "source": [
    "df_validate['start_dif'] = df_validate.Steps - df_validate.start_value"
   ]
  },
  {
   "cell_type": "code",
   "execution_count": 15,
   "metadata": {},
   "outputs": [
    {
     "data": {
      "text/html": [
       "<div>\n",
       "<style scoped>\n",
       "    .dataframe tbody tr th:only-of-type {\n",
       "        vertical-align: middle;\n",
       "    }\n",
       "\n",
       "    .dataframe tbody tr th {\n",
       "        vertical-align: top;\n",
       "    }\n",
       "\n",
       "    .dataframe thead th {\n",
       "        text-align: right;\n",
       "    }\n",
       "</style>\n",
       "<table border=\"1\" class=\"dataframe\">\n",
       "  <thead>\n",
       "    <tr style=\"text-align: right;\">\n",
       "      <th></th>\n",
       "      <th>Date</th>\n",
       "      <th>Steps</th>\n",
       "      <th>Distance</th>\n",
       "      <th>Floors Ascended</th>\n",
       "      <th>start_value</th>\n",
       "      <th>create_value</th>\n",
       "      <th>end_value</th>\n",
       "      <th>start_dif</th>\n",
       "    </tr>\n",
       "  </thead>\n",
       "  <tbody>\n",
       "    <tr>\n",
       "      <th>531</th>\n",
       "      <td>2018-10-22</td>\n",
       "      <td>5363</td>\n",
       "      <td>2.3</td>\n",
       "      <td>3</td>\n",
       "      <td>73234.0</td>\n",
       "      <td>34313.0</td>\n",
       "      <td>1645.0</td>\n",
       "      <td>-67871.0</td>\n",
       "    </tr>\n",
       "    <tr>\n",
       "      <th>545</th>\n",
       "      <td>2018-10-08</td>\n",
       "      <td>2896</td>\n",
       "      <td>1.1</td>\n",
       "      <td>3</td>\n",
       "      <td>65756.0</td>\n",
       "      <td>42937.0</td>\n",
       "      <td>57.0</td>\n",
       "      <td>-62860.0</td>\n",
       "    </tr>\n",
       "    <tr>\n",
       "      <th>556</th>\n",
       "      <td>2018-09-27</td>\n",
       "      <td>5103</td>\n",
       "      <td>2.1</td>\n",
       "      <td>0</td>\n",
       "      <td>56741.0</td>\n",
       "      <td>5797.0</td>\n",
       "      <td>179.0</td>\n",
       "      <td>-51638.0</td>\n",
       "    </tr>\n",
       "    <tr>\n",
       "      <th>549</th>\n",
       "      <td>2018-10-04</td>\n",
       "      <td>5215</td>\n",
       "      <td>2.2</td>\n",
       "      <td>2</td>\n",
       "      <td>39324.0</td>\n",
       "      <td>4561.0</td>\n",
       "      <td>615.0</td>\n",
       "      <td>-34109.0</td>\n",
       "    </tr>\n",
       "    <tr>\n",
       "      <th>534</th>\n",
       "      <td>2018-10-19</td>\n",
       "      <td>5245</td>\n",
       "      <td>2.3</td>\n",
       "      <td>3</td>\n",
       "      <td>32512.0</td>\n",
       "      <td>18505.0</td>\n",
       "      <td>435.0</td>\n",
       "      <td>-27267.0</td>\n",
       "    </tr>\n",
       "    <tr>\n",
       "      <th>...</th>\n",
       "      <td>...</td>\n",
       "      <td>...</td>\n",
       "      <td>...</td>\n",
       "      <td>...</td>\n",
       "      <td>...</td>\n",
       "      <td>...</td>\n",
       "      <td>...</td>\n",
       "      <td>...</td>\n",
       "    </tr>\n",
       "    <tr>\n",
       "      <th>525</th>\n",
       "      <td>2018-10-28</td>\n",
       "      <td>17420</td>\n",
       "      <td>8.1</td>\n",
       "      <td>7</td>\n",
       "      <td>281.0</td>\n",
       "      <td>71870.0</td>\n",
       "      <td>71870.0</td>\n",
       "      <td>17139.0</td>\n",
       "    </tr>\n",
       "    <tr>\n",
       "      <th>547</th>\n",
       "      <td>2018-10-06</td>\n",
       "      <td>17611</td>\n",
       "      <td>7.3</td>\n",
       "      <td>3</td>\n",
       "      <td>0.0</td>\n",
       "      <td>0.0</td>\n",
       "      <td>0.0</td>\n",
       "      <td>17611.0</td>\n",
       "    </tr>\n",
       "    <tr>\n",
       "      <th>540</th>\n",
       "      <td>2018-10-13</td>\n",
       "      <td>17764</td>\n",
       "      <td>7.6</td>\n",
       "      <td>5</td>\n",
       "      <td>0.0</td>\n",
       "      <td>0.0</td>\n",
       "      <td>0.0</td>\n",
       "      <td>17764.0</td>\n",
       "    </tr>\n",
       "    <tr>\n",
       "      <th>533</th>\n",
       "      <td>2018-10-20</td>\n",
       "      <td>18040</td>\n",
       "      <td>7.9</td>\n",
       "      <td>5</td>\n",
       "      <td>0.0</td>\n",
       "      <td>0.0</td>\n",
       "      <td>0.0</td>\n",
       "      <td>18040.0</td>\n",
       "    </tr>\n",
       "    <tr>\n",
       "      <th>526</th>\n",
       "      <td>2018-10-27</td>\n",
       "      <td>21548</td>\n",
       "      <td>10.1</td>\n",
       "      <td>3</td>\n",
       "      <td>0.0</td>\n",
       "      <td>0.0</td>\n",
       "      <td>0.0</td>\n",
       "      <td>21548.0</td>\n",
       "    </tr>\n",
       "  </tbody>\n",
       "</table>\n",
       "<p>589 rows × 8 columns</p>\n",
       "</div>"
      ],
      "text/plain": [
       "          Date  Steps  Distance  Floors Ascended  start_value  create_value  \\\n",
       "531 2018-10-22   5363       2.3                3      73234.0       34313.0   \n",
       "545 2018-10-08   2896       1.1                3      65756.0       42937.0   \n",
       "556 2018-09-27   5103       2.1                0      56741.0        5797.0   \n",
       "549 2018-10-04   5215       2.2                2      39324.0        4561.0   \n",
       "534 2018-10-19   5245       2.3                3      32512.0       18505.0   \n",
       "..         ...    ...       ...              ...          ...           ...   \n",
       "525 2018-10-28  17420       8.1                7        281.0       71870.0   \n",
       "547 2018-10-06  17611       7.3                3          0.0           0.0   \n",
       "540 2018-10-13  17764       7.6                5          0.0           0.0   \n",
       "533 2018-10-20  18040       7.9                5          0.0           0.0   \n",
       "526 2018-10-27  21548      10.1                3          0.0           0.0   \n",
       "\n",
       "     end_value  start_dif  \n",
       "531     1645.0   -67871.0  \n",
       "545       57.0   -62860.0  \n",
       "556      179.0   -51638.0  \n",
       "549      615.0   -34109.0  \n",
       "534      435.0   -27267.0  \n",
       "..         ...        ...  \n",
       "525    71870.0    17139.0  \n",
       "547        0.0    17611.0  \n",
       "540        0.0    17764.0  \n",
       "533        0.0    18040.0  \n",
       "526        0.0    21548.0  \n",
       "\n",
       "[589 rows x 8 columns]"
      ]
     },
     "execution_count": 15,
     "metadata": {},
     "output_type": "execute_result"
    }
   ],
   "source": [
    "df_validate.sort_values('start_dif')"
   ]
  },
  {
   "cell_type": "code",
   "execution_count": 16,
   "metadata": {},
   "outputs": [
    {
     "data": {
      "text/plain": [
       "<matplotlib.axes._subplots.AxesSubplot at 0x12bee5a10>"
      ]
     },
     "execution_count": 16,
     "metadata": {},
     "output_type": "execute_result"
    },
    {
     "data": {
      "image/png": "[encoded data removed]",
      "text/plain": [
       "<Figure size 432x288 with 1 Axes>"
      ]
     },
     "metadata": {
      "needs_background": "light"
     },
     "output_type": "display_data"
    }
   ],
   "source": [
    "df_validate.Steps.hist()"
   ]
  },
  {
   "cell_type": "code",
   "execution_count": 17,
   "metadata": {},
   "outputs": [
    {
     "data": {
      "text/plain": [
       "<matplotlib.axes._subplots.AxesSubplot at 0x11f631810>"
      ]
     },
     "execution_count": 17,
     "metadata": {},
     "output_type": "execute_result"
    },
    {
     "data": {
      "image/png": "[encoded data removed]",
      "text/plain": [
       "<Figure size 432x288 with 1 Axes>"
      ]
     },
     "metadata": {
      "needs_background": "light"
     },
     "output_type": "display_data"
    }
   ],
   "source": [
    "df_validate.start_value.hist()"
   ]
  },
  {
   "cell_type": "code",
   "execution_count": 31,
   "metadata": {},
   "outputs": [],
   "source": [
    "df = df.set_index('startDate')"
   ]
  },
  {
   "cell_type": "code",
   "execution_count": 32,
   "metadata": {},
   "outputs": [
    {
     "data": {
      "text/plain": [
       "startDate\n",
       "2018-10-24        0.000000\n",
       "2018-09-29        0.000000\n",
       "2018-09-30        0.000000\n",
       "2018-10-01        0.000000\n",
       "2018-10-06        0.000000\n",
       "                  ...     \n",
       "2018-10-19    32526.649745\n",
       "2018-10-04    39340.326998\n",
       "2018-09-27    56764.630502\n",
       "2018-10-08    65784.717293\n",
       "2018-10-22    73267.383074\n",
       "Name: value, Length: 1538, dtype: float64"
      ]
     },
     "execution_count": 32,
     "metadata": {},
     "output_type": "execute_result"
    }
   ],
   "source": [
    "df.resample(\"D\").value.sum().sort_values()"
   ]
  },
  {
   "cell_type": "code",
   "execution_count": 33,
   "metadata": {},
   "outputs": [
    {
     "data": {
      "text/html": [
       "<div>\n",
       "<style scoped>\n",
       "    .dataframe tbody tr th:only-of-type {\n",
       "        vertical-align: middle;\n",
       "    }\n",
       "\n",
       "    .dataframe tbody tr th {\n",
       "        vertical-align: top;\n",
       "    }\n",
       "\n",
       "    .dataframe thead th {\n",
       "        text-align: right;\n",
       "    }\n",
       "</style>\n",
       "<table border=\"1\" class=\"dataframe\">\n",
       "  <thead>\n",
       "    <tr style=\"text-align: right;\">\n",
       "      <th></th>\n",
       "      <th>creationDate</th>\n",
       "      <th>device</th>\n",
       "      <th>endDate</th>\n",
       "      <th>sourceName</th>\n",
       "      <th>sourceVersion</th>\n",
       "      <th>type</th>\n",
       "      <th>unit</th>\n",
       "      <th>value</th>\n",
       "    </tr>\n",
       "    <tr>\n",
       "      <th>startDate</th>\n",
       "      <th></th>\n",
       "      <th></th>\n",
       "      <th></th>\n",
       "      <th></th>\n",
       "      <th></th>\n",
       "      <th></th>\n",
       "      <th></th>\n",
       "      <th></th>\n",
       "    </tr>\n",
       "  </thead>\n",
       "  <tbody>\n",
       "    <tr>\n",
       "      <th>2016-06-03 16:40:09</th>\n",
       "      <td>2016-06-03 17:38:46</td>\n",
       "      <td>&lt;&lt;HKDevice: 0x2825a8410&gt;, name:iPhone, manufac...</td>\n",
       "      <td>2016-06-03 16:40:52</td>\n",
       "      <td>Noah's iPhone</td>\n",
       "      <td>9.3.1</td>\n",
       "      <td>HKQuantityTypeIdentifierStepCount</td>\n",
       "      <td>count</td>\n",
       "      <td>70.0</td>\n",
       "    </tr>\n",
       "    <tr>\n",
       "      <th>2016-06-03 16:57:23</th>\n",
       "      <td>2016-06-03 17:38:46</td>\n",
       "      <td>&lt;&lt;HKDevice: 0x2825a83c0&gt;, name:iPhone, manufac...</td>\n",
       "      <td>2016-06-03 16:58:26</td>\n",
       "      <td>Noah's iPhone</td>\n",
       "      <td>9.3.1</td>\n",
       "      <td>HKQuantityTypeIdentifierStepCount</td>\n",
       "      <td>count</td>\n",
       "      <td>68.0</td>\n",
       "    </tr>\n",
       "    <tr>\n",
       "      <th>2016-06-03 17:34:29</th>\n",
       "      <td>2016-06-03 18:39:21</td>\n",
       "      <td>&lt;&lt;HKDevice: 0x2825a9270&gt;, name:iPhone, manufac...</td>\n",
       "      <td>2016-06-03 17:35:45</td>\n",
       "      <td>Noah's iPhone</td>\n",
       "      <td>9.3.1</td>\n",
       "      <td>HKQuantityTypeIdentifierStepCount</td>\n",
       "      <td>count</td>\n",
       "      <td>55.0</td>\n",
       "    </tr>\n",
       "    <tr>\n",
       "      <th>2016-06-03 17:43:01</th>\n",
       "      <td>2016-06-03 18:39:21</td>\n",
       "      <td>&lt;&lt;HKDevice: 0x2825aa030&gt;, name:iPhone, manufac...</td>\n",
       "      <td>2016-06-03 17:48:03</td>\n",
       "      <td>Noah's iPhone</td>\n",
       "      <td>9.3.1</td>\n",
       "      <td>HKQuantityTypeIdentifierStepCount</td>\n",
       "      <td>count</td>\n",
       "      <td>42.0</td>\n",
       "    </tr>\n",
       "    <tr>\n",
       "      <th>2016-06-03 17:48:03</th>\n",
       "      <td>2016-06-03 18:39:21</td>\n",
       "      <td>&lt;&lt;HKDevice: 0x2825a8cd0&gt;, name:iPhone, manufac...</td>\n",
       "      <td>2016-06-03 17:49:54</td>\n",
       "      <td>Noah's iPhone</td>\n",
       "      <td>9.3.1</td>\n",
       "      <td>HKQuantityTypeIdentifierStepCount</td>\n",
       "      <td>count</td>\n",
       "      <td>43.0</td>\n",
       "    </tr>\n",
       "  </tbody>\n",
       "</table>\n",
       "</div>"
      ],
      "text/plain": [
       "                           creationDate  \\\n",
       "startDate                                 \n",
       "2016-06-03 16:40:09 2016-06-03 17:38:46   \n",
       "2016-06-03 16:57:23 2016-06-03 17:38:46   \n",
       "2016-06-03 17:34:29 2016-06-03 18:39:21   \n",
       "2016-06-03 17:43:01 2016-06-03 18:39:21   \n",
       "2016-06-03 17:48:03 2016-06-03 18:39:21   \n",
       "\n",
       "                                                                device  \\\n",
       "startDate                                                                \n",
       "2016-06-03 16:40:09  <<HKDevice: 0x2825a8410>, name:iPhone, manufac...   \n",
       "2016-06-03 16:57:23  <<HKDevice: 0x2825a83c0>, name:iPhone, manufac...   \n",
       "2016-06-03 17:34:29  <<HKDevice: 0x2825a9270>, name:iPhone, manufac...   \n",
       "2016-06-03 17:43:01  <<HKDevice: 0x2825aa030>, name:iPhone, manufac...   \n",
       "2016-06-03 17:48:03  <<HKDevice: 0x2825a8cd0>, name:iPhone, manufac...   \n",
       "\n",
       "                                endDate     sourceName sourceVersion  \\\n",
       "startDate                                                              \n",
       "2016-06-03 16:40:09 2016-06-03 16:40:52  Noah's iPhone         9.3.1   \n",
       "2016-06-03 16:57:23 2016-06-03 16:58:26  Noah's iPhone         9.3.1   \n",
       "2016-06-03 17:34:29 2016-06-03 17:35:45  Noah's iPhone         9.3.1   \n",
       "2016-06-03 17:43:01 2016-06-03 17:48:03  Noah's iPhone         9.3.1   \n",
       "2016-06-03 17:48:03 2016-06-03 17:49:54  Noah's iPhone         9.3.1   \n",
       "\n",
       "                                                  type   unit  value  \n",
       "startDate                                                             \n",
       "2016-06-03 16:40:09  HKQuantityTypeIdentifierStepCount  count   70.0  \n",
       "2016-06-03 16:57:23  HKQuantityTypeIdentifierStepCount  count   68.0  \n",
       "2016-06-03 17:34:29  HKQuantityTypeIdentifierStepCount  count   55.0  \n",
       "2016-06-03 17:43:01  HKQuantityTypeIdentifierStepCount  count   42.0  \n",
       "2016-06-03 17:48:03  HKQuantityTypeIdentifierStepCount  count   43.0  "
      ]
     },
     "execution_count": 33,
     "metadata": {},
     "output_type": "execute_result"
    }
   ],
   "source": [
    "df.head()"
   ]
  },
  {
   "cell_type": "code",
   "execution_count": 34,
   "metadata": {},
   "outputs": [
    {
     "data": {
      "text/plain": [
       "count    69116\n",
       "mi       67908\n",
       "Name: unit, dtype: int64"
      ]
     },
     "execution_count": 34,
     "metadata": {},
     "output_type": "execute_result"
    }
   ],
   "source": [
    "df.unit.value_counts()"
   ]
  },
  {
   "cell_type": "code",
   "execution_count": 35,
   "metadata": {},
   "outputs": [],
   "source": [
    "df_distance = df[df.unit == \"mi\"]"
   ]
  },
  {
   "cell_type": "code",
   "execution_count": 36,
   "metadata": {},
   "outputs": [
    {
     "data": {
      "text/plain": [
       "startDate\n",
       "2018-10-14     0.000000\n",
       "2018-10-30     0.000000\n",
       "2018-10-27     0.000000\n",
       "2018-10-26     0.000000\n",
       "2018-10-25     0.000000\n",
       "                ...    \n",
       "2018-11-10    15.053501\n",
       "2018-10-04    16.326998\n",
       "2018-09-27    23.630502\n",
       "2018-10-08    28.717293\n",
       "2018-10-22    33.383074\n",
       "Name: value, Length: 1538, dtype: float64"
      ]
     },
     "execution_count": 36,
     "metadata": {},
     "output_type": "execute_result"
    }
   ],
   "source": [
    "df_distance.resample(\"D\").value.sum().sort_values()"
   ]
  },
  {
   "cell_type": "code",
   "execution_count": 37,
   "metadata": {},
   "outputs": [
    {
     "data": {
      "text/plain": [
       "min     0.0\n",
       "max    11.7\n",
       "Name: Distance, dtype: float64"
      ]
     },
     "execution_count": 37,
     "metadata": {},
     "output_type": "execute_result"
    }
   ],
   "source": [
    "df_validate.Distance.agg(['min', 'max'])"
   ]
  },
  {
   "cell_type": "code",
   "execution_count": 38,
   "metadata": {},
   "outputs": [
    {
     "data": {
      "text/html": [
       "<div>\n",
       "<style scoped>\n",
       "    .dataframe tbody tr th:only-of-type {\n",
       "        vertical-align: middle;\n",
       "    }\n",
       "\n",
       "    .dataframe tbody tr th {\n",
       "        vertical-align: top;\n",
       "    }\n",
       "\n",
       "    .dataframe thead th {\n",
       "        text-align: right;\n",
       "    }\n",
       "</style>\n",
       "<table border=\"1\" class=\"dataframe\">\n",
       "  <thead>\n",
       "    <tr style=\"text-align: right;\">\n",
       "      <th></th>\n",
       "      <th>Date</th>\n",
       "      <th>Steps</th>\n",
       "      <th>Distance</th>\n",
       "      <th>Floors Ascended</th>\n",
       "      <th>start_value</th>\n",
       "      <th>create_value</th>\n",
       "      <th>end_value</th>\n",
       "      <th>start_dif</th>\n",
       "    </tr>\n",
       "  </thead>\n",
       "  <tbody>\n",
       "    <tr>\n",
       "      <th>80</th>\n",
       "      <td>2020-05-28</td>\n",
       "      <td>839</td>\n",
       "      <td>0.4</td>\n",
       "      <td>0</td>\n",
       "      <td>839.0</td>\n",
       "      <td>839.0</td>\n",
       "      <td>839.0</td>\n",
       "      <td>0.0</td>\n",
       "    </tr>\n",
       "    <tr>\n",
       "      <th>174</th>\n",
       "      <td>2020-01-13</td>\n",
       "      <td>482</td>\n",
       "      <td>0.2</td>\n",
       "      <td>0</td>\n",
       "      <td>1741.0</td>\n",
       "      <td>1741.0</td>\n",
       "      <td>1741.0</td>\n",
       "      <td>-1259.0</td>\n",
       "    </tr>\n",
       "    <tr>\n",
       "      <th>231</th>\n",
       "      <td>2019-10-30</td>\n",
       "      <td>0</td>\n",
       "      <td>0.0</td>\n",
       "      <td>0</td>\n",
       "      <td>7430.0</td>\n",
       "      <td>7430.0</td>\n",
       "      <td>7430.0</td>\n",
       "      <td>-7430.0</td>\n",
       "    </tr>\n",
       "  </tbody>\n",
       "</table>\n",
       "</div>"
      ],
      "text/plain": [
       "          Date  Steps  Distance  Floors Ascended  start_value  create_value  \\\n",
       "80  2020-05-28    839       0.4                0        839.0         839.0   \n",
       "174 2020-01-13    482       0.2                0       1741.0        1741.0   \n",
       "231 2019-10-30      0       0.0                0       7430.0        7430.0   \n",
       "\n",
       "     end_value  start_dif  \n",
       "80       839.0        0.0  \n",
       "174     1741.0    -1259.0  \n",
       "231     7430.0    -7430.0  "
      ]
     },
     "execution_count": 38,
     "metadata": {},
     "output_type": "execute_result"
    }
   ],
   "source": [
    "df_validate[df_validate.Distance < .5]"
   ]
  },
  {
   "cell_type": "code",
   "execution_count": 39,
   "metadata": {},
   "outputs": [
    {
     "data": {
      "text/html": [
       "<div>\n",
       "<style scoped>\n",
       "    .dataframe tbody tr th:only-of-type {\n",
       "        vertical-align: middle;\n",
       "    }\n",
       "\n",
       "    .dataframe tbody tr th {\n",
       "        vertical-align: top;\n",
       "    }\n",
       "\n",
       "    .dataframe thead th {\n",
       "        text-align: right;\n",
       "    }\n",
       "</style>\n",
       "<table border=\"1\" class=\"dataframe\">\n",
       "  <thead>\n",
       "    <tr style=\"text-align: right;\">\n",
       "      <th></th>\n",
       "      <th>Date</th>\n",
       "      <th>Steps</th>\n",
       "      <th>Distance</th>\n",
       "      <th>Floors Ascended</th>\n",
       "      <th>start_value</th>\n",
       "      <th>create_value</th>\n",
       "      <th>end_value</th>\n",
       "      <th>start_dif</th>\n",
       "    </tr>\n",
       "  </thead>\n",
       "  <tbody>\n",
       "    <tr>\n",
       "      <th>302</th>\n",
       "      <td>2019-06-08</td>\n",
       "      <td>25356</td>\n",
       "      <td>11.1</td>\n",
       "      <td>0</td>\n",
       "      <td>25324.0</td>\n",
       "      <td>25079.0</td>\n",
       "      <td>25324.0</td>\n",
       "      <td>32.0</td>\n",
       "    </tr>\n",
       "    <tr>\n",
       "      <th>508</th>\n",
       "      <td>2018-11-14</td>\n",
       "      <td>10660</td>\n",
       "      <td>5.2</td>\n",
       "      <td>6</td>\n",
       "      <td>10414.0</td>\n",
       "      <td>31002.0</td>\n",
       "      <td>10414.0</td>\n",
       "      <td>246.0</td>\n",
       "    </tr>\n",
       "    <tr>\n",
       "      <th>510</th>\n",
       "      <td>2018-11-12</td>\n",
       "      <td>13999</td>\n",
       "      <td>6.3</td>\n",
       "      <td>6</td>\n",
       "      <td>20808.0</td>\n",
       "      <td>31892.0</td>\n",
       "      <td>31892.0</td>\n",
       "      <td>-6809.0</td>\n",
       "    </tr>\n",
       "    <tr>\n",
       "      <th>512</th>\n",
       "      <td>2018-11-10</td>\n",
       "      <td>16555</td>\n",
       "      <td>8.0</td>\n",
       "      <td>8</td>\n",
       "      <td>30535.0</td>\n",
       "      <td>5407.0</td>\n",
       "      <td>926.0</td>\n",
       "      <td>-13980.0</td>\n",
       "    </tr>\n",
       "    <tr>\n",
       "      <th>519</th>\n",
       "      <td>2018-11-03</td>\n",
       "      <td>7190</td>\n",
       "      <td>3.1</td>\n",
       "      <td>5</td>\n",
       "      <td>20643.0</td>\n",
       "      <td>34547.0</td>\n",
       "      <td>34547.0</td>\n",
       "      <td>-13453.0</td>\n",
       "    </tr>\n",
       "    <tr>\n",
       "      <th>524</th>\n",
       "      <td>2018-10-29</td>\n",
       "      <td>10829</td>\n",
       "      <td>5.5</td>\n",
       "      <td>5</td>\n",
       "      <td>29373.0</td>\n",
       "      <td>55.0</td>\n",
       "      <td>55.0</td>\n",
       "      <td>-18544.0</td>\n",
       "    </tr>\n",
       "    <tr>\n",
       "      <th>525</th>\n",
       "      <td>2018-10-28</td>\n",
       "      <td>17420</td>\n",
       "      <td>8.1</td>\n",
       "      <td>7</td>\n",
       "      <td>281.0</td>\n",
       "      <td>71870.0</td>\n",
       "      <td>71870.0</td>\n",
       "      <td>17139.0</td>\n",
       "    </tr>\n",
       "    <tr>\n",
       "      <th>531</th>\n",
       "      <td>2018-10-22</td>\n",
       "      <td>5363</td>\n",
       "      <td>2.3</td>\n",
       "      <td>3</td>\n",
       "      <td>73234.0</td>\n",
       "      <td>34313.0</td>\n",
       "      <td>1645.0</td>\n",
       "      <td>-67871.0</td>\n",
       "    </tr>\n",
       "    <tr>\n",
       "      <th>532</th>\n",
       "      <td>2018-10-21</td>\n",
       "      <td>9355</td>\n",
       "      <td>4.5</td>\n",
       "      <td>2</td>\n",
       "      <td>591.0</td>\n",
       "      <td>0.0</td>\n",
       "      <td>32668.0</td>\n",
       "      <td>8764.0</td>\n",
       "    </tr>\n",
       "    <tr>\n",
       "      <th>534</th>\n",
       "      <td>2018-10-19</td>\n",
       "      <td>5245</td>\n",
       "      <td>2.3</td>\n",
       "      <td>3</td>\n",
       "      <td>32512.0</td>\n",
       "      <td>18505.0</td>\n",
       "      <td>435.0</td>\n",
       "      <td>-27267.0</td>\n",
       "    </tr>\n",
       "    <tr>\n",
       "      <th>537</th>\n",
       "      <td>2018-10-16</td>\n",
       "      <td>11431</td>\n",
       "      <td>5.4</td>\n",
       "      <td>7</td>\n",
       "      <td>17002.0</td>\n",
       "      <td>65736.0</td>\n",
       "      <td>65736.0</td>\n",
       "      <td>-5571.0</td>\n",
       "    </tr>\n",
       "    <tr>\n",
       "      <th>545</th>\n",
       "      <td>2018-10-08</td>\n",
       "      <td>2896</td>\n",
       "      <td>1.1</td>\n",
       "      <td>3</td>\n",
       "      <td>65756.0</td>\n",
       "      <td>42937.0</td>\n",
       "      <td>57.0</td>\n",
       "      <td>-62860.0</td>\n",
       "    </tr>\n",
       "    <tr>\n",
       "      <th>546</th>\n",
       "      <td>2018-10-07</td>\n",
       "      <td>8752</td>\n",
       "      <td>4.0</td>\n",
       "      <td>1</td>\n",
       "      <td>4171.0</td>\n",
       "      <td>0.0</td>\n",
       "      <td>42880.0</td>\n",
       "      <td>4581.0</td>\n",
       "    </tr>\n",
       "    <tr>\n",
       "      <th>549</th>\n",
       "      <td>2018-10-04</td>\n",
       "      <td>5215</td>\n",
       "      <td>2.2</td>\n",
       "      <td>2</td>\n",
       "      <td>39324.0</td>\n",
       "      <td>4561.0</td>\n",
       "      <td>615.0</td>\n",
       "      <td>-34109.0</td>\n",
       "    </tr>\n",
       "    <tr>\n",
       "      <th>550</th>\n",
       "      <td>2018-10-03</td>\n",
       "      <td>4339</td>\n",
       "      <td>1.7</td>\n",
       "      <td>4</td>\n",
       "      <td>4409.0</td>\n",
       "      <td>59378.0</td>\n",
       "      <td>4409.0</td>\n",
       "      <td>-70.0</td>\n",
       "    </tr>\n",
       "    <tr>\n",
       "      <th>551</th>\n",
       "      <td>2018-10-02</td>\n",
       "      <td>10342</td>\n",
       "      <td>4.3</td>\n",
       "      <td>7</td>\n",
       "      <td>2353.0</td>\n",
       "      <td>0.0</td>\n",
       "      <td>58915.0</td>\n",
       "      <td>7989.0</td>\n",
       "    </tr>\n",
       "    <tr>\n",
       "      <th>556</th>\n",
       "      <td>2018-09-27</td>\n",
       "      <td>5103</td>\n",
       "      <td>2.1</td>\n",
       "      <td>0</td>\n",
       "      <td>56741.0</td>\n",
       "      <td>5797.0</td>\n",
       "      <td>179.0</td>\n",
       "      <td>-51638.0</td>\n",
       "    </tr>\n",
       "  </tbody>\n",
       "</table>\n",
       "</div>"
      ],
      "text/plain": [
       "          Date  Steps  Distance  Floors Ascended  start_value  create_value  \\\n",
       "302 2019-06-08  25356      11.1                0      25324.0       25079.0   \n",
       "508 2018-11-14  10660       5.2                6      10414.0       31002.0   \n",
       "510 2018-11-12  13999       6.3                6      20808.0       31892.0   \n",
       "512 2018-11-10  16555       8.0                8      30535.0        5407.0   \n",
       "519 2018-11-03   7190       3.1                5      20643.0       34547.0   \n",
       "524 2018-10-29  10829       5.5                5      29373.0          55.0   \n",
       "525 2018-10-28  17420       8.1                7        281.0       71870.0   \n",
       "531 2018-10-22   5363       2.3                3      73234.0       34313.0   \n",
       "532 2018-10-21   9355       4.5                2        591.0           0.0   \n",
       "534 2018-10-19   5245       2.3                3      32512.0       18505.0   \n",
       "537 2018-10-16  11431       5.4                7      17002.0       65736.0   \n",
       "545 2018-10-08   2896       1.1                3      65756.0       42937.0   \n",
       "546 2018-10-07   8752       4.0                1       4171.0           0.0   \n",
       "549 2018-10-04   5215       2.2                2      39324.0        4561.0   \n",
       "550 2018-10-03   4339       1.7                4       4409.0       59378.0   \n",
       "551 2018-10-02  10342       4.3                7       2353.0           0.0   \n",
       "556 2018-09-27   5103       2.1                0      56741.0        5797.0   \n",
       "\n",
       "     end_value  start_dif  \n",
       "302    25324.0       32.0  \n",
       "508    10414.0      246.0  \n",
       "510    31892.0    -6809.0  \n",
       "512      926.0   -13980.0  \n",
       "519    34547.0   -13453.0  \n",
       "524       55.0   -18544.0  \n",
       "525    71870.0    17139.0  \n",
       "531     1645.0   -67871.0  \n",
       "532    32668.0     8764.0  \n",
       "534      435.0   -27267.0  \n",
       "537    65736.0    -5571.0  \n",
       "545       57.0   -62860.0  \n",
       "546    42880.0     4581.0  \n",
       "549      615.0   -34109.0  \n",
       "550     4409.0      -70.0  \n",
       "551    58915.0     7989.0  \n",
       "556      179.0   -51638.0  "
      ]
     },
     "execution_count": 39,
     "metadata": {},
     "output_type": "execute_result"
    }
   ],
   "source": [
    "df_validate[(df_validate.start_value >= 24639) |  (df_validate.end_value >= 24639) | (df_validate.create_value >= 24639)]"
   ]
  },
  {
   "cell_type": "code",
   "execution_count": 40,
   "metadata": {},
   "outputs": [
    {
     "data": {
      "text/plain": [
       "Steps               9956.735144\n",
       "Distance               4.388964\n",
       "Floors Ascended        1.298812\n",
       "start_value        10078.709677\n",
       "create_value       10079.281834\n",
       "end_value          10078.680815\n",
       "start_dif           -121.974533\n",
       "dtype: float64"
      ]
     },
     "execution_count": 40,
     "metadata": {},
     "output_type": "execute_result"
    }
   ],
   "source": [
    "df_validate.mean()"
   ]
  },
  {
   "cell_type": "markdown",
   "metadata": {},
   "source": [
    "### Look at the hourly breakdown of steps to find out where data is bad"
   ]
  },
  {
   "cell_type": "code",
   "execution_count": 41,
   "metadata": {},
   "outputs": [],
   "source": [
    "df_steps = df[df.type == 'HKQuantityTypeIdentifierStepCount']"
   ]
  },
  {
   "cell_type": "code",
   "execution_count": 42,
   "metadata": {},
   "outputs": [],
   "source": [
    "hourly = pd.DataFrame(df_steps.resample(\"h\").value.sum())"
   ]
  },
  {
   "cell_type": "code",
   "execution_count": 43,
   "metadata": {},
   "outputs": [
    {
     "name": "stdout",
     "output_type": "stream",
     "text": [
      "These are the outliers\n"
     ]
    },
    {
     "data": {
      "text/plain": [
       "startDate\n",
       "2018-10-22 16:00:00    71589.0\n",
       "2018-10-08 07:00:00    65756.0\n",
       "2018-09-27 09:00:00    56614.0\n",
       "2018-10-04 11:00:00    39099.0\n",
       "2018-10-19 14:00:00    32309.0\n",
       "2018-11-10 09:00:00    30485.0\n",
       "2018-10-29 05:00:00    29373.0\n",
       "2018-11-12 19:00:00    18525.0\n",
       "2018-10-16 13:00:00    17002.0\n",
       "2018-11-06 13:00:00    15795.0\n",
       "2018-11-03 17:00:00    15757.0\n",
       "Name: value, dtype: float64"
      ]
     },
     "execution_count": 43,
     "metadata": {},
     "output_type": "execute_result"
    }
   ],
   "source": [
    "print(\"These are the outliers\")\n",
    "hourly.value.nlargest(11)"
   ]
  },
  {
   "cell_type": "code",
   "execution_count": 44,
   "metadata": {},
   "outputs": [],
   "source": [
    "df_miles = df[df.unit == 'mi']"
   ]
  },
  {
   "cell_type": "code",
   "execution_count": 45,
   "metadata": {},
   "outputs": [],
   "source": [
    "miles = pd.DataFrame(df_miles.resample(\"h\").value.sum())"
   ]
  },
  {
   "cell_type": "code",
   "execution_count": 46,
   "metadata": {},
   "outputs": [
    {
     "data": {
      "text/plain": [
       "startDate\n",
       "2018-10-22 16:00:00    32.675700\n",
       "2018-10-08 07:00:00    28.717293\n",
       "2018-09-27 09:00:00    23.572441\n",
       "2018-10-04 11:00:00    16.237458\n",
       "2018-11-10 09:00:00    15.029286\n",
       "2018-10-19 14:00:00    14.555415\n",
       "2018-10-29 05:00:00    14.286375\n",
       "2018-11-12 19:00:00     8.112110\n",
       "2018-10-16 13:00:00     7.980541\n",
       "2018-11-06 13:00:00     6.858139\n",
       "2018-11-03 17:00:00     6.674560\n",
       "Name: value, dtype: float64"
      ]
     },
     "execution_count": 46,
     "metadata": {},
     "output_type": "execute_result"
    }
   ],
   "source": [
    "miles.value.nlargest(11)"
   ]
  },
  {
   "cell_type": "code",
   "execution_count": 47,
   "metadata": {},
   "outputs": [
    {
     "data": {
      "text/plain": [
       "startDate\n",
       "2018-10-22 16:07:27    71589.0\n",
       "2018-10-08 07:46:00    65699.0\n",
       "2018-09-27 09:10:19    56562.0\n",
       "2018-10-04 11:43:34    38709.0\n",
       "2018-10-19 14:23:17    32077.0\n",
       "2018-11-10 09:22:40    29609.0\n",
       "2018-10-29 05:58:07    29318.0\n",
       "2018-11-12 19:07:48    18525.0\n",
       "2018-10-16 13:58:54    16965.0\n",
       "2018-11-06 13:48:08    15615.0\n",
       "2018-11-03 17:35:35    15414.0\n",
       "Name: value, dtype: float64"
      ]
     },
     "execution_count": 47,
     "metadata": {},
     "output_type": "execute_result"
    }
   ],
   "source": [
    "df.value.nlargest(11)"
   ]
  },
  {
   "cell_type": "code",
   "execution_count": 48,
   "metadata": {},
   "outputs": [
    {
     "ename": "KeyError",
     "evalue": "'index'",
     "output_type": "error",
     "traceback": [
      "\u001b[0;31m---------------------------------------------------------------------------\u001b[0m",
      "\u001b[0;31mKeyError\u001b[0m                                  Traceback (most recent call last)",
      "\u001b[0;32m<ipython-input-48-439e980f0ab3>\u001b[0m in \u001b[0;36m<module>\u001b[0;34m\u001b[0m\n\u001b[0;32m----> 1\u001b[0;31m \u001b[0mdf\u001b[0m\u001b[0;34m.\u001b[0m\u001b[0msort_values\u001b[0m\u001b[0;34m(\u001b[0m\u001b[0;34m\"index\"\u001b[0m\u001b[0;34m)\u001b[0m\u001b[0;34m\u001b[0m\u001b[0;34m\u001b[0m\u001b[0m\n\u001b[0m",
      "\u001b[0;32m/usr/local/anaconda3/lib/python3.7/site-packages/pandas/core/frame.py\u001b[0m in \u001b[0;36msort_values\u001b[0;34m(self, by, axis, ascending, inplace, kind, na_position, ignore_index)\u001b[0m\n\u001b[1;32m   4925\u001b[0m \u001b[0;34m\u001b[0m\u001b[0m\n\u001b[1;32m   4926\u001b[0m             \u001b[0mby\u001b[0m \u001b[0;34m=\u001b[0m \u001b[0mby\u001b[0m\u001b[0;34m[\u001b[0m\u001b[0;36m0\u001b[0m\u001b[0;34m]\u001b[0m\u001b[0;34m\u001b[0m\u001b[0;34m\u001b[0m\u001b[0m\n\u001b[0;32m-> 4927\u001b[0;31m             \u001b[0mk\u001b[0m \u001b[0;34m=\u001b[0m \u001b[0mself\u001b[0m\u001b[0;34m.\u001b[0m\u001b[0m_get_label_or_level_values\u001b[0m\u001b[0;34m(\u001b[0m\u001b[0mby\u001b[0m\u001b[0;34m,\u001b[0m \u001b[0maxis\u001b[0m\u001b[0;34m=\u001b[0m\u001b[0maxis\u001b[0m\u001b[0;34m)\u001b[0m\u001b[0;34m\u001b[0m\u001b[0;34m\u001b[0m\u001b[0m\n\u001b[0m\u001b[1;32m   4928\u001b[0m \u001b[0;34m\u001b[0m\u001b[0m\n\u001b[1;32m   4929\u001b[0m             \u001b[0;32mif\u001b[0m \u001b[0misinstance\u001b[0m\u001b[0;34m(\u001b[0m\u001b[0mascending\u001b[0m\u001b[0;34m,\u001b[0m \u001b[0;34m(\u001b[0m\u001b[0mtuple\u001b[0m\u001b[0;34m,\u001b[0m \u001b[0mlist\u001b[0m\u001b[0;34m)\u001b[0m\u001b[0;34m)\u001b[0m\u001b[0;34m:\u001b[0m\u001b[0;34m\u001b[0m\u001b[0;34m\u001b[0m\u001b[0m\n",
      "\u001b[0;32m/usr/local/anaconda3/lib/python3.7/site-packages/pandas/core/generic.py\u001b[0m in \u001b[0;36m_get_label_or_level_values\u001b[0;34m(self, key, axis)\u001b[0m\n\u001b[1;32m   1690\u001b[0m             \u001b[0mvalues\u001b[0m \u001b[0;34m=\u001b[0m \u001b[0mself\u001b[0m\u001b[0;34m.\u001b[0m\u001b[0maxes\u001b[0m\u001b[0;34m[\u001b[0m\u001b[0maxis\u001b[0m\u001b[0;34m]\u001b[0m\u001b[0;34m.\u001b[0m\u001b[0mget_level_values\u001b[0m\u001b[0;34m(\u001b[0m\u001b[0mkey\u001b[0m\u001b[0;34m)\u001b[0m\u001b[0;34m.\u001b[0m\u001b[0m_values\u001b[0m\u001b[0;34m\u001b[0m\u001b[0;34m\u001b[0m\u001b[0m\n\u001b[1;32m   1691\u001b[0m         \u001b[0;32melse\u001b[0m\u001b[0;34m:\u001b[0m\u001b[0;34m\u001b[0m\u001b[0;34m\u001b[0m\u001b[0m\n\u001b[0;32m-> 1692\u001b[0;31m             \u001b[0;32mraise\u001b[0m \u001b[0mKeyError\u001b[0m\u001b[0;34m(\u001b[0m\u001b[0mkey\u001b[0m\u001b[0;34m)\u001b[0m\u001b[0;34m\u001b[0m\u001b[0;34m\u001b[0m\u001b[0m\n\u001b[0m\u001b[1;32m   1693\u001b[0m \u001b[0;34m\u001b[0m\u001b[0m\n\u001b[1;32m   1694\u001b[0m         \u001b[0;31m# Check for duplicates\u001b[0m\u001b[0;34m\u001b[0m\u001b[0;34m\u001b[0m\u001b[0;34m\u001b[0m\u001b[0m\n",
      "\u001b[0;31mKeyError\u001b[0m: 'index'"
     ]
    }
   ],
   "source": [
    "df.sort_values(\"index\")"
   ]
  },
  {
   "cell_type": "code",
   "execution_count": 49,
   "metadata": {},
   "outputs": [],
   "source": [
    "steps = df[df.type == 'HKQuantityTypeIdentifierStepCount'].reset_index().sort_values('startDate')"
   ]
  },
  {
   "cell_type": "code",
   "execution_count": 50,
   "metadata": {},
   "outputs": [],
   "source": [
    "steps['next_record'] = steps.startDate.shift(-1) - steps.startDate"
   ]
  },
  {
   "cell_type": "code",
   "execution_count": 51,
   "metadata": {},
   "outputs": [
    {
     "data": {
      "text/plain": [
       "39838   8 days 06:04:14\n",
       "39887   6 days 03:26:09\n",
       "39794   5 days 13:18:47\n",
       "39893   5 days 02:51:01\n",
       "39828   3 days 07:27:44\n",
       "39967   2 days 06:51:15\n",
       "39934   2 days 06:26:24\n",
       "39863   2 days 03:48:13\n",
       "39920   2 days 02:17:57\n",
       "39840   1 days 21:41:42\n",
       "39980   1 days 03:23:54\n",
       "Name: next_record, dtype: timedelta64[ns]"
      ]
     },
     "execution_count": 51,
     "metadata": {},
     "output_type": "execute_result"
    }
   ],
   "source": [
    "steps.next_record.nlargest(11)"
   ]
  },
  {
   "cell_type": "code",
   "execution_count": 52,
   "metadata": {},
   "outputs": [],
   "source": [
    "distance = df[df.type == 'HKQuantityTypeIdentifierDistanceWalkingRunning'].reset_index().sort_values('startDate')"
   ]
  },
  {
   "cell_type": "code",
   "execution_count": 53,
   "metadata": {},
   "outputs": [
    {
     "data": {
      "text/html": [
       "<div>\n",
       "<style scoped>\n",
       "    .dataframe tbody tr th:only-of-type {\n",
       "        vertical-align: middle;\n",
       "    }\n",
       "\n",
       "    .dataframe tbody tr th {\n",
       "        vertical-align: top;\n",
       "    }\n",
       "\n",
       "    .dataframe thead th {\n",
       "        text-align: right;\n",
       "    }\n",
       "</style>\n",
       "<table border=\"1\" class=\"dataframe\">\n",
       "  <thead>\n",
       "    <tr style=\"text-align: right;\">\n",
       "      <th></th>\n",
       "      <th>startDate</th>\n",
       "      <th>creationDate</th>\n",
       "      <th>device</th>\n",
       "      <th>endDate</th>\n",
       "      <th>sourceName</th>\n",
       "      <th>sourceVersion</th>\n",
       "      <th>type</th>\n",
       "      <th>unit</th>\n",
       "      <th>value</th>\n",
       "    </tr>\n",
       "  </thead>\n",
       "  <tbody>\n",
       "    <tr>\n",
       "      <th>0</th>\n",
       "      <td>2016-06-03 16:40:09</td>\n",
       "      <td>2016-06-03 17:38:46</td>\n",
       "      <td>&lt;&lt;HKDevice: 0x282513d90&gt;, name:iPhone, manufac...</td>\n",
       "      <td>2016-06-03 16:40:52</td>\n",
       "      <td>Noah's iPhone</td>\n",
       "      <td>9.3.1</td>\n",
       "      <td>HKQuantityTypeIdentifierDistanceWalkingRunning</td>\n",
       "      <td>mi</td>\n",
       "      <td>0.035120</td>\n",
       "    </tr>\n",
       "    <tr>\n",
       "      <th>1</th>\n",
       "      <td>2016-06-03 16:57:23</td>\n",
       "      <td>2016-06-03 17:38:46</td>\n",
       "      <td>&lt;&lt;HKDevice: 0x282510fa0&gt;, name:iPhone, manufac...</td>\n",
       "      <td>2016-06-03 16:58:26</td>\n",
       "      <td>Noah's iPhone</td>\n",
       "      <td>9.3.1</td>\n",
       "      <td>HKQuantityTypeIdentifierDistanceWalkingRunning</td>\n",
       "      <td>mi</td>\n",
       "      <td>0.030553</td>\n",
       "    </tr>\n",
       "    <tr>\n",
       "      <th>2</th>\n",
       "      <td>2016-06-03 17:34:29</td>\n",
       "      <td>2016-06-03 18:39:21</td>\n",
       "      <td>&lt;&lt;HKDevice: 0x282513570&gt;, name:iPhone, manufac...</td>\n",
       "      <td>2016-06-03 17:35:45</td>\n",
       "      <td>Noah's iPhone</td>\n",
       "      <td>9.3.1</td>\n",
       "      <td>HKQuantityTypeIdentifierDistanceWalkingRunning</td>\n",
       "      <td>mi</td>\n",
       "      <td>0.021984</td>\n",
       "    </tr>\n",
       "    <tr>\n",
       "      <th>3</th>\n",
       "      <td>2016-06-03 17:43:01</td>\n",
       "      <td>2016-06-03 18:39:21</td>\n",
       "      <td>&lt;&lt;HKDevice: 0x2825132a0&gt;, name:iPhone, manufac...</td>\n",
       "      <td>2016-06-03 17:48:03</td>\n",
       "      <td>Noah's iPhone</td>\n",
       "      <td>9.3.1</td>\n",
       "      <td>HKQuantityTypeIdentifierDistanceWalkingRunning</td>\n",
       "      <td>mi</td>\n",
       "      <td>0.014975</td>\n",
       "    </tr>\n",
       "    <tr>\n",
       "      <th>4</th>\n",
       "      <td>2016-06-03 17:48:03</td>\n",
       "      <td>2016-06-03 18:39:21</td>\n",
       "      <td>&lt;&lt;HKDevice: 0x2825132f0&gt;, name:iPhone, manufac...</td>\n",
       "      <td>2016-06-03 17:49:54</td>\n",
       "      <td>Noah's iPhone</td>\n",
       "      <td>9.3.1</td>\n",
       "      <td>HKQuantityTypeIdentifierDistanceWalkingRunning</td>\n",
       "      <td>mi</td>\n",
       "      <td>0.016354</td>\n",
       "    </tr>\n",
       "  </tbody>\n",
       "</table>\n",
       "</div>"
      ],
      "text/plain": [
       "            startDate        creationDate  \\\n",
       "0 2016-06-03 16:40:09 2016-06-03 17:38:46   \n",
       "1 2016-06-03 16:57:23 2016-06-03 17:38:46   \n",
       "2 2016-06-03 17:34:29 2016-06-03 18:39:21   \n",
       "3 2016-06-03 17:43:01 2016-06-03 18:39:21   \n",
       "4 2016-06-03 17:48:03 2016-06-03 18:39:21   \n",
       "\n",
       "                                              device             endDate  \\\n",
       "0  <<HKDevice: 0x282513d90>, name:iPhone, manufac... 2016-06-03 16:40:52   \n",
       "1  <<HKDevice: 0x282510fa0>, name:iPhone, manufac... 2016-06-03 16:58:26   \n",
       "2  <<HKDevice: 0x282513570>, name:iPhone, manufac... 2016-06-03 17:35:45   \n",
       "3  <<HKDevice: 0x2825132a0>, name:iPhone, manufac... 2016-06-03 17:48:03   \n",
       "4  <<HKDevice: 0x2825132f0>, name:iPhone, manufac... 2016-06-03 17:49:54   \n",
       "\n",
       "      sourceName sourceVersion  \\\n",
       "0  Noah's iPhone         9.3.1   \n",
       "1  Noah's iPhone         9.3.1   \n",
       "2  Noah's iPhone         9.3.1   \n",
       "3  Noah's iPhone         9.3.1   \n",
       "4  Noah's iPhone         9.3.1   \n",
       "\n",
       "                                             type unit     value  \n",
       "0  HKQuantityTypeIdentifierDistanceWalkingRunning   mi  0.035120  \n",
       "1  HKQuantityTypeIdentifierDistanceWalkingRunning   mi  0.030553  \n",
       "2  HKQuantityTypeIdentifierDistanceWalkingRunning   mi  0.021984  \n",
       "3  HKQuantityTypeIdentifierDistanceWalkingRunning   mi  0.014975  \n",
       "4  HKQuantityTypeIdentifierDistanceWalkingRunning   mi  0.016354  "
      ]
     },
     "execution_count": 53,
     "metadata": {},
     "output_type": "execute_result"
    }
   ],
   "source": [
    "distance.head()"
   ]
  },
  {
   "cell_type": "code",
   "execution_count": 54,
   "metadata": {},
   "outputs": [
    {
     "data": {
      "text/html": [
       "<div>\n",
       "<style scoped>\n",
       "    .dataframe tbody tr th:only-of-type {\n",
       "        vertical-align: middle;\n",
       "    }\n",
       "\n",
       "    .dataframe tbody tr th {\n",
       "        vertical-align: top;\n",
       "    }\n",
       "\n",
       "    .dataframe thead th {\n",
       "        text-align: right;\n",
       "    }\n",
       "</style>\n",
       "<table border=\"1\" class=\"dataframe\">\n",
       "  <thead>\n",
       "    <tr style=\"text-align: right;\">\n",
       "      <th></th>\n",
       "      <th>startDate</th>\n",
       "      <th>creationDate</th>\n",
       "      <th>device</th>\n",
       "      <th>endDate</th>\n",
       "      <th>sourceName</th>\n",
       "      <th>sourceVersion</th>\n",
       "      <th>type</th>\n",
       "      <th>unit</th>\n",
       "      <th>value</th>\n",
       "      <th>next_record</th>\n",
       "    </tr>\n",
       "  </thead>\n",
       "  <tbody>\n",
       "    <tr>\n",
       "      <th>0</th>\n",
       "      <td>2016-06-03 16:40:09</td>\n",
       "      <td>2016-06-03 17:38:46</td>\n",
       "      <td>&lt;&lt;HKDevice: 0x2825a8410&gt;, name:iPhone, manufac...</td>\n",
       "      <td>2016-06-03 16:40:52</td>\n",
       "      <td>Noah's iPhone</td>\n",
       "      <td>9.3.1</td>\n",
       "      <td>HKQuantityTypeIdentifierStepCount</td>\n",
       "      <td>count</td>\n",
       "      <td>70.0</td>\n",
       "      <td>00:17:14</td>\n",
       "    </tr>\n",
       "    <tr>\n",
       "      <th>1</th>\n",
       "      <td>2016-06-03 16:57:23</td>\n",
       "      <td>2016-06-03 17:38:46</td>\n",
       "      <td>&lt;&lt;HKDevice: 0x2825a83c0&gt;, name:iPhone, manufac...</td>\n",
       "      <td>2016-06-03 16:58:26</td>\n",
       "      <td>Noah's iPhone</td>\n",
       "      <td>9.3.1</td>\n",
       "      <td>HKQuantityTypeIdentifierStepCount</td>\n",
       "      <td>count</td>\n",
       "      <td>68.0</td>\n",
       "      <td>00:37:06</td>\n",
       "    </tr>\n",
       "    <tr>\n",
       "      <th>2</th>\n",
       "      <td>2016-06-03 17:34:29</td>\n",
       "      <td>2016-06-03 18:39:21</td>\n",
       "      <td>&lt;&lt;HKDevice: 0x2825a9270&gt;, name:iPhone, manufac...</td>\n",
       "      <td>2016-06-03 17:35:45</td>\n",
       "      <td>Noah's iPhone</td>\n",
       "      <td>9.3.1</td>\n",
       "      <td>HKQuantityTypeIdentifierStepCount</td>\n",
       "      <td>count</td>\n",
       "      <td>55.0</td>\n",
       "      <td>00:08:32</td>\n",
       "    </tr>\n",
       "    <tr>\n",
       "      <th>3</th>\n",
       "      <td>2016-06-03 17:43:01</td>\n",
       "      <td>2016-06-03 18:39:21</td>\n",
       "      <td>&lt;&lt;HKDevice: 0x2825aa030&gt;, name:iPhone, manufac...</td>\n",
       "      <td>2016-06-03 17:48:03</td>\n",
       "      <td>Noah's iPhone</td>\n",
       "      <td>9.3.1</td>\n",
       "      <td>HKQuantityTypeIdentifierStepCount</td>\n",
       "      <td>count</td>\n",
       "      <td>42.0</td>\n",
       "      <td>00:05:02</td>\n",
       "    </tr>\n",
       "    <tr>\n",
       "      <th>4</th>\n",
       "      <td>2016-06-03 17:48:03</td>\n",
       "      <td>2016-06-03 18:39:21</td>\n",
       "      <td>&lt;&lt;HKDevice: 0x2825a8cd0&gt;, name:iPhone, manufac...</td>\n",
       "      <td>2016-06-03 17:49:54</td>\n",
       "      <td>Noah's iPhone</td>\n",
       "      <td>9.3.1</td>\n",
       "      <td>HKQuantityTypeIdentifierStepCount</td>\n",
       "      <td>count</td>\n",
       "      <td>43.0</td>\n",
       "      <td>00:29:22</td>\n",
       "    </tr>\n",
       "  </tbody>\n",
       "</table>\n",
       "</div>"
      ],
      "text/plain": [
       "            startDate        creationDate  \\\n",
       "0 2016-06-03 16:40:09 2016-06-03 17:38:46   \n",
       "1 2016-06-03 16:57:23 2016-06-03 17:38:46   \n",
       "2 2016-06-03 17:34:29 2016-06-03 18:39:21   \n",
       "3 2016-06-03 17:43:01 2016-06-03 18:39:21   \n",
       "4 2016-06-03 17:48:03 2016-06-03 18:39:21   \n",
       "\n",
       "                                              device             endDate  \\\n",
       "0  <<HKDevice: 0x2825a8410>, name:iPhone, manufac... 2016-06-03 16:40:52   \n",
       "1  <<HKDevice: 0x2825a83c0>, name:iPhone, manufac... 2016-06-03 16:58:26   \n",
       "2  <<HKDevice: 0x2825a9270>, name:iPhone, manufac... 2016-06-03 17:35:45   \n",
       "3  <<HKDevice: 0x2825aa030>, name:iPhone, manufac... 2016-06-03 17:48:03   \n",
       "4  <<HKDevice: 0x2825a8cd0>, name:iPhone, manufac... 2016-06-03 17:49:54   \n",
       "\n",
       "      sourceName sourceVersion                               type   unit  \\\n",
       "0  Noah's iPhone         9.3.1  HKQuantityTypeIdentifierStepCount  count   \n",
       "1  Noah's iPhone         9.3.1  HKQuantityTypeIdentifierStepCount  count   \n",
       "2  Noah's iPhone         9.3.1  HKQuantityTypeIdentifierStepCount  count   \n",
       "3  Noah's iPhone         9.3.1  HKQuantityTypeIdentifierStepCount  count   \n",
       "4  Noah's iPhone         9.3.1  HKQuantityTypeIdentifierStepCount  count   \n",
       "\n",
       "   value next_record  \n",
       "0   70.0    00:17:14  \n",
       "1   68.0    00:37:06  \n",
       "2   55.0    00:08:32  \n",
       "3   42.0    00:05:02  \n",
       "4   43.0    00:29:22  "
      ]
     },
     "execution_count": 54,
     "metadata": {},
     "output_type": "execute_result"
    }
   ],
   "source": [
    "steps.head()"
   ]
  },
  {
   "cell_type": "code",
   "execution_count": 55,
   "metadata": {},
   "outputs": [
    {
     "data": {
      "text/html": [
       "<div>\n",
       "<style scoped>\n",
       "    .dataframe tbody tr th:only-of-type {\n",
       "        vertical-align: middle;\n",
       "    }\n",
       "\n",
       "    .dataframe tbody tr th {\n",
       "        vertical-align: top;\n",
       "    }\n",
       "\n",
       "    .dataframe thead th {\n",
       "        text-align: right;\n",
       "    }\n",
       "</style>\n",
       "<table border=\"1\" class=\"dataframe\">\n",
       "  <thead>\n",
       "    <tr style=\"text-align: right;\">\n",
       "      <th></th>\n",
       "      <th>startDate</th>\n",
       "      <th>creationDate</th>\n",
       "      <th>device</th>\n",
       "      <th>endDate</th>\n",
       "      <th>sourceName</th>\n",
       "      <th>sourceVersion</th>\n",
       "      <th>type</th>\n",
       "      <th>unit</th>\n",
       "      <th>value</th>\n",
       "      <th>next_record</th>\n",
       "    </tr>\n",
       "  </thead>\n",
       "  <tbody>\n",
       "    <tr>\n",
       "      <th>39790</th>\n",
       "      <td>2018-09-27 05:22:03</td>\n",
       "      <td>2018-09-27 08:08:01</td>\n",
       "      <td>&lt;&lt;HKDevice: 0x28258ab70&gt;, name:iPhone, manufac...</td>\n",
       "      <td>2018-09-27 05:22:15</td>\n",
       "      <td>Noah's iPhone</td>\n",
       "      <td>12.0</td>\n",
       "      <td>HKQuantityTypeIdentifierStepCount</td>\n",
       "      <td>count</td>\n",
       "      <td>17.0</td>\n",
       "      <td>0 days 00:42:28</td>\n",
       "    </tr>\n",
       "    <tr>\n",
       "      <th>39791</th>\n",
       "      <td>2018-09-27 06:04:31</td>\n",
       "      <td>2018-09-27 08:08:01</td>\n",
       "      <td>&lt;&lt;HKDevice: 0x282589810&gt;, name:iPhone, manufac...</td>\n",
       "      <td>2018-09-27 06:11:52</td>\n",
       "      <td>Noah's iPhone</td>\n",
       "      <td>12.0</td>\n",
       "      <td>HKQuantityTypeIdentifierStepCount</td>\n",
       "      <td>count</td>\n",
       "      <td>80.0</td>\n",
       "      <td>0 days 01:36:02</td>\n",
       "    </tr>\n",
       "    <tr>\n",
       "      <th>39792</th>\n",
       "      <td>2018-09-27 07:40:33</td>\n",
       "      <td>2018-09-27 08:08:01</td>\n",
       "      <td>&lt;&lt;HKDevice: 0x28258b020&gt;, name:iPhone, manufac...</td>\n",
       "      <td>2018-09-27 07:40:46</td>\n",
       "      <td>Noah's iPhone</td>\n",
       "      <td>12.0</td>\n",
       "      <td>HKQuantityTypeIdentifierStepCount</td>\n",
       "      <td>count</td>\n",
       "      <td>30.0</td>\n",
       "      <td>0 days 01:19:46</td>\n",
       "    </tr>\n",
       "    <tr>\n",
       "      <th>39793</th>\n",
       "      <td>2018-09-27 09:00:19</td>\n",
       "      <td>2018-09-27 09:12:22</td>\n",
       "      <td>&lt;&lt;HKDevice: 0x28258ac10&gt;, name:iPhone, manufac...</td>\n",
       "      <td>2018-09-27 09:10:19</td>\n",
       "      <td>Noah's iPhone</td>\n",
       "      <td>12.0</td>\n",
       "      <td>HKQuantityTypeIdentifierStepCount</td>\n",
       "      <td>count</td>\n",
       "      <td>52.0</td>\n",
       "      <td>0 days 00:10:00</td>\n",
       "    </tr>\n",
       "    <tr>\n",
       "      <th>39794</th>\n",
       "      <td>2018-09-27 09:10:19</td>\n",
       "      <td>2018-10-03 12:01:23</td>\n",
       "      <td>&lt;&lt;HKDevice: 0x282588730&gt;, name:iPhone, manufac...</td>\n",
       "      <td>2018-10-02 22:29:06</td>\n",
       "      <td>Noah's iPhone</td>\n",
       "      <td>12.0</td>\n",
       "      <td>HKQuantityTypeIdentifierStepCount</td>\n",
       "      <td>count</td>\n",
       "      <td>56562.0</td>\n",
       "      <td>5 days 13:18:47</td>\n",
       "    </tr>\n",
       "    <tr>\n",
       "      <th>...</th>\n",
       "      <td>...</td>\n",
       "      <td>...</td>\n",
       "      <td>...</td>\n",
       "      <td>...</td>\n",
       "      <td>...</td>\n",
       "      <td>...</td>\n",
       "      <td>...</td>\n",
       "      <td>...</td>\n",
       "      <td>...</td>\n",
       "      <td>...</td>\n",
       "    </tr>\n",
       "    <tr>\n",
       "      <th>39976</th>\n",
       "      <td>2018-11-12 18:22:01</td>\n",
       "      <td>2018-11-12 18:57:02</td>\n",
       "      <td>&lt;&lt;HKDevice: 0x282507c50&gt;, name:iPhone, manufac...</td>\n",
       "      <td>2018-11-12 18:31:23</td>\n",
       "      <td>Noah's iPhone</td>\n",
       "      <td>12.0.1</td>\n",
       "      <td>HKQuantityTypeIdentifierStepCount</td>\n",
       "      <td>count</td>\n",
       "      <td>135.0</td>\n",
       "      <td>0 days 00:10:28</td>\n",
       "    </tr>\n",
       "    <tr>\n",
       "      <th>39977</th>\n",
       "      <td>2018-11-12 18:32:29</td>\n",
       "      <td>2018-11-12 18:57:02</td>\n",
       "      <td>&lt;&lt;HKDevice: 0x282507bb0&gt;, name:iPhone, manufac...</td>\n",
       "      <td>2018-11-12 18:38:45</td>\n",
       "      <td>Noah's iPhone</td>\n",
       "      <td>12.0.1</td>\n",
       "      <td>HKQuantityTypeIdentifierStepCount</td>\n",
       "      <td>count</td>\n",
       "      <td>172.0</td>\n",
       "      <td>0 days 00:13:22</td>\n",
       "    </tr>\n",
       "    <tr>\n",
       "      <th>39978</th>\n",
       "      <td>2018-11-12 18:45:51</td>\n",
       "      <td>2018-11-12 18:57:02</td>\n",
       "      <td>&lt;&lt;HKDevice: 0x2825079d0&gt;, name:iPhone, manufac...</td>\n",
       "      <td>2018-11-12 18:52:30</td>\n",
       "      <td>Noah's iPhone</td>\n",
       "      <td>12.0.1</td>\n",
       "      <td>HKQuantityTypeIdentifierStepCount</td>\n",
       "      <td>count</td>\n",
       "      <td>62.0</td>\n",
       "      <td>0 days 00:12:01</td>\n",
       "    </tr>\n",
       "    <tr>\n",
       "      <th>39979</th>\n",
       "      <td>2018-11-12 18:57:52</td>\n",
       "      <td>2018-11-12 19:18:19</td>\n",
       "      <td>&lt;&lt;HKDevice: 0x282506e40&gt;, name:iPhone, manufac...</td>\n",
       "      <td>2018-11-12 19:07:48</td>\n",
       "      <td>Noah's iPhone</td>\n",
       "      <td>12.0.1</td>\n",
       "      <td>HKQuantityTypeIdentifierStepCount</td>\n",
       "      <td>count</td>\n",
       "      <td>157.0</td>\n",
       "      <td>0 days 00:09:56</td>\n",
       "    </tr>\n",
       "    <tr>\n",
       "      <th>39980</th>\n",
       "      <td>2018-11-12 19:07:48</td>\n",
       "      <td>2018-11-14 10:54:16</td>\n",
       "      <td>&lt;&lt;HKDevice: 0x282507660&gt;, name:iPhone, manufac...</td>\n",
       "      <td>2018-11-13 22:31:42</td>\n",
       "      <td>Noah's iPhone</td>\n",
       "      <td>12.1</td>\n",
       "      <td>HKQuantityTypeIdentifierStepCount</td>\n",
       "      <td>count</td>\n",
       "      <td>18525.0</td>\n",
       "      <td>1 days 03:23:54</td>\n",
       "    </tr>\n",
       "  </tbody>\n",
       "</table>\n",
       "<p>191 rows × 10 columns</p>\n",
       "</div>"
      ],
      "text/plain": [
       "                startDate        creationDate  \\\n",
       "39790 2018-09-27 05:22:03 2018-09-27 08:08:01   \n",
       "39791 2018-09-27 06:04:31 2018-09-27 08:08:01   \n",
       "39792 2018-09-27 07:40:33 2018-09-27 08:08:01   \n",
       "39793 2018-09-27 09:00:19 2018-09-27 09:12:22   \n",
       "39794 2018-09-27 09:10:19 2018-10-03 12:01:23   \n",
       "...                   ...                 ...   \n",
       "39976 2018-11-12 18:22:01 2018-11-12 18:57:02   \n",
       "39977 2018-11-12 18:32:29 2018-11-12 18:57:02   \n",
       "39978 2018-11-12 18:45:51 2018-11-12 18:57:02   \n",
       "39979 2018-11-12 18:57:52 2018-11-12 19:18:19   \n",
       "39980 2018-11-12 19:07:48 2018-11-14 10:54:16   \n",
       "\n",
       "                                                  device             endDate  \\\n",
       "39790  <<HKDevice: 0x28258ab70>, name:iPhone, manufac... 2018-09-27 05:22:15   \n",
       "39791  <<HKDevice: 0x282589810>, name:iPhone, manufac... 2018-09-27 06:11:52   \n",
       "39792  <<HKDevice: 0x28258b020>, name:iPhone, manufac... 2018-09-27 07:40:46   \n",
       "39793  <<HKDevice: 0x28258ac10>, name:iPhone, manufac... 2018-09-27 09:10:19   \n",
       "39794  <<HKDevice: 0x282588730>, name:iPhone, manufac... 2018-10-02 22:29:06   \n",
       "...                                                  ...                 ...   \n",
       "39976  <<HKDevice: 0x282507c50>, name:iPhone, manufac... 2018-11-12 18:31:23   \n",
       "39977  <<HKDevice: 0x282507bb0>, name:iPhone, manufac... 2018-11-12 18:38:45   \n",
       "39978  <<HKDevice: 0x2825079d0>, name:iPhone, manufac... 2018-11-12 18:52:30   \n",
       "39979  <<HKDevice: 0x282506e40>, name:iPhone, manufac... 2018-11-12 19:07:48   \n",
       "39980  <<HKDevice: 0x282507660>, name:iPhone, manufac... 2018-11-13 22:31:42   \n",
       "\n",
       "          sourceName sourceVersion                               type   unit  \\\n",
       "39790  Noah's iPhone          12.0  HKQuantityTypeIdentifierStepCount  count   \n",
       "39791  Noah's iPhone          12.0  HKQuantityTypeIdentifierStepCount  count   \n",
       "39792  Noah's iPhone          12.0  HKQuantityTypeIdentifierStepCount  count   \n",
       "39793  Noah's iPhone          12.0  HKQuantityTypeIdentifierStepCount  count   \n",
       "39794  Noah's iPhone          12.0  HKQuantityTypeIdentifierStepCount  count   \n",
       "...              ...           ...                                ...    ...   \n",
       "39976  Noah's iPhone        12.0.1  HKQuantityTypeIdentifierStepCount  count   \n",
       "39977  Noah's iPhone        12.0.1  HKQuantityTypeIdentifierStepCount  count   \n",
       "39978  Noah's iPhone        12.0.1  HKQuantityTypeIdentifierStepCount  count   \n",
       "39979  Noah's iPhone        12.0.1  HKQuantityTypeIdentifierStepCount  count   \n",
       "39980  Noah's iPhone          12.1  HKQuantityTypeIdentifierStepCount  count   \n",
       "\n",
       "         value     next_record  \n",
       "39790     17.0 0 days 00:42:28  \n",
       "39791     80.0 0 days 01:36:02  \n",
       "39792     30.0 0 days 01:19:46  \n",
       "39793     52.0 0 days 00:10:00  \n",
       "39794  56562.0 5 days 13:18:47  \n",
       "...        ...             ...  \n",
       "39976    135.0 0 days 00:10:28  \n",
       "39977    172.0 0 days 00:13:22  \n",
       "39978     62.0 0 days 00:12:01  \n",
       "39979    157.0 0 days 00:09:56  \n",
       "39980  18525.0 1 days 03:23:54  \n",
       "\n",
       "[191 rows x 10 columns]"
      ]
     },
     "execution_count": 55,
     "metadata": {},
     "output_type": "execute_result"
    }
   ],
   "source": [
    "steps[(steps.startDate > \"2018-09-27 00:00:00\") & (steps.startDate < \"2018-11-13 00:00:00\")]"
   ]
  },
  {
   "cell_type": "code",
   "execution_count": 56,
   "metadata": {},
   "outputs": [
    {
     "data": {
      "text/html": [
       "<div>\n",
       "<style scoped>\n",
       "    .dataframe tbody tr th:only-of-type {\n",
       "        vertical-align: middle;\n",
       "    }\n",
       "\n",
       "    .dataframe tbody tr th {\n",
       "        vertical-align: top;\n",
       "    }\n",
       "\n",
       "    .dataframe thead th {\n",
       "        text-align: right;\n",
       "    }\n",
       "</style>\n",
       "<table border=\"1\" class=\"dataframe\">\n",
       "  <thead>\n",
       "    <tr style=\"text-align: right;\">\n",
       "      <th></th>\n",
       "      <th>startDate</th>\n",
       "      <th>creationDate</th>\n",
       "      <th>device</th>\n",
       "      <th>endDate</th>\n",
       "      <th>sourceName</th>\n",
       "      <th>sourceVersion</th>\n",
       "      <th>type</th>\n",
       "      <th>unit</th>\n",
       "      <th>value</th>\n",
       "      <th>next_record</th>\n",
       "    </tr>\n",
       "  </thead>\n",
       "  <tbody>\n",
       "    <tr>\n",
       "      <th>39887</th>\n",
       "      <td>2018-10-22 16:07:27</td>\n",
       "      <td>2018-10-28 19:30:28</td>\n",
       "      <td>&lt;&lt;HKDevice: 0x282541360&gt;, name:iPhone, manufac...</td>\n",
       "      <td>2018-10-28 19:23:29</td>\n",
       "      <td>Noah's iPhone</td>\n",
       "      <td>12.0.1</td>\n",
       "      <td>HKQuantityTypeIdentifierStepCount</td>\n",
       "      <td>count</td>\n",
       "      <td>71589.0</td>\n",
       "      <td>6 days 03:26:09</td>\n",
       "    </tr>\n",
       "    <tr>\n",
       "      <th>39838</th>\n",
       "      <td>2018-10-08 07:46:00</td>\n",
       "      <td>2018-10-16 13:30:53</td>\n",
       "      <td>&lt;&lt;HKDevice: 0x2825625d0&gt;, name:iPhone, manufac...</td>\n",
       "      <td>2018-10-16 13:02:24</td>\n",
       "      <td>Noah's iPhone</td>\n",
       "      <td>12.0</td>\n",
       "      <td>HKQuantityTypeIdentifierStepCount</td>\n",
       "      <td>count</td>\n",
       "      <td>65699.0</td>\n",
       "      <td>8 days 06:04:14</td>\n",
       "    </tr>\n",
       "    <tr>\n",
       "      <th>39794</th>\n",
       "      <td>2018-09-27 09:10:19</td>\n",
       "      <td>2018-10-03 12:01:23</td>\n",
       "      <td>&lt;&lt;HKDevice: 0x282588730&gt;, name:iPhone, manufac...</td>\n",
       "      <td>2018-10-02 22:29:06</td>\n",
       "      <td>Noah's iPhone</td>\n",
       "      <td>12.0</td>\n",
       "      <td>HKQuantityTypeIdentifierStepCount</td>\n",
       "      <td>count</td>\n",
       "      <td>56562.0</td>\n",
       "      <td>5 days 13:18:47</td>\n",
       "    </tr>\n",
       "    <tr>\n",
       "      <th>39828</th>\n",
       "      <td>2018-10-04 11:43:34</td>\n",
       "      <td>2018-10-08 06:32:22</td>\n",
       "      <td>&lt;&lt;HKDevice: 0x28259c1e0&gt;, name:iPhone, manufac...</td>\n",
       "      <td>2018-10-07 19:11:18</td>\n",
       "      <td>Noah's iPhone</td>\n",
       "      <td>12.0</td>\n",
       "      <td>HKQuantityTypeIdentifierStepCount</td>\n",
       "      <td>count</td>\n",
       "      <td>38709.0</td>\n",
       "      <td>3 days 07:27:44</td>\n",
       "    </tr>\n",
       "    <tr>\n",
       "      <th>39863</th>\n",
       "      <td>2018-10-19 14:23:17</td>\n",
       "      <td>2018-10-22 12:03:59</td>\n",
       "      <td>&lt;&lt;HKDevice: 0x28256b840&gt;, name:iPhone, manufac...</td>\n",
       "      <td>2018-10-21 17:42:20</td>\n",
       "      <td>Noah's iPhone</td>\n",
       "      <td>12.0.1</td>\n",
       "      <td>HKQuantityTypeIdentifierStepCount</td>\n",
       "      <td>count</td>\n",
       "      <td>32077.0</td>\n",
       "      <td>2 days 03:48:13</td>\n",
       "    </tr>\n",
       "    <tr>\n",
       "      <th>...</th>\n",
       "      <td>...</td>\n",
       "      <td>...</td>\n",
       "      <td>...</td>\n",
       "      <td>...</td>\n",
       "      <td>...</td>\n",
       "      <td>...</td>\n",
       "      <td>...</td>\n",
       "      <td>...</td>\n",
       "      <td>...</td>\n",
       "      <td>...</td>\n",
       "    </tr>\n",
       "    <tr>\n",
       "      <th>20978</th>\n",
       "      <td>2017-08-28 22:24:00</td>\n",
       "      <td>2017-08-28 23:28:00</td>\n",
       "      <td>&lt;&lt;HKDevice: 0x2826ba120&gt;, name:iPhone, manufac...</td>\n",
       "      <td>2017-08-28 22:29:56</td>\n",
       "      <td>Noah's iPhone</td>\n",
       "      <td>10.3.3</td>\n",
       "      <td>HKQuantityTypeIdentifierStepCount</td>\n",
       "      <td>count</td>\n",
       "      <td>1.0</td>\n",
       "      <td>0 days 06:47:16</td>\n",
       "    </tr>\n",
       "    <tr>\n",
       "      <th>20979</th>\n",
       "      <td>2017-08-29 05:11:16</td>\n",
       "      <td>2017-08-29 05:28:26</td>\n",
       "      <td>&lt;&lt;HKDevice: 0x2826ba1c0&gt;, name:iPhone, manufac...</td>\n",
       "      <td>2017-08-29 05:18:20</td>\n",
       "      <td>Noah's iPhone</td>\n",
       "      <td>10.3.3</td>\n",
       "      <td>HKQuantityTypeIdentifierStepCount</td>\n",
       "      <td>count</td>\n",
       "      <td>1.0</td>\n",
       "      <td>0 days 00:25:32</td>\n",
       "    </tr>\n",
       "    <tr>\n",
       "      <th>21026</th>\n",
       "      <td>2017-08-29 20:22:56</td>\n",
       "      <td>2017-08-29 21:26:08</td>\n",
       "      <td>&lt;&lt;HKDevice: 0x28257d680&gt;, name:iPhone, manufac...</td>\n",
       "      <td>2017-08-29 20:29:44</td>\n",
       "      <td>Noah's iPhone</td>\n",
       "      <td>10.3.3</td>\n",
       "      <td>HKQuantityTypeIdentifierStepCount</td>\n",
       "      <td>count</td>\n",
       "      <td>1.0</td>\n",
       "      <td>0 days 00:12:01</td>\n",
       "    </tr>\n",
       "    <tr>\n",
       "      <th>38197</th>\n",
       "      <td>2018-08-22 19:22:43</td>\n",
       "      <td>2018-08-22 20:37:59</td>\n",
       "      <td>&lt;&lt;HKDevice: 0x2826c58b0&gt;, name:iPhone, manufac...</td>\n",
       "      <td>2018-08-22 19:30:48</td>\n",
       "      <td>Noah's iPhone</td>\n",
       "      <td>11.4.1</td>\n",
       "      <td>HKQuantityTypeIdentifierStepCount</td>\n",
       "      <td>count</td>\n",
       "      <td>1.0</td>\n",
       "      <td>0 days 00:15:22</td>\n",
       "    </tr>\n",
       "    <tr>\n",
       "      <th>26295</th>\n",
       "      <td>2017-12-13 18:36:25</td>\n",
       "      <td>2017-12-13 19:08:12</td>\n",
       "      <td>&lt;&lt;HKDevice: 0x2826d2490&gt;, name:iPhone, manufac...</td>\n",
       "      <td>2017-12-13 18:43:05</td>\n",
       "      <td>Noah's iPhone</td>\n",
       "      <td>11.1.2</td>\n",
       "      <td>HKQuantityTypeIdentifierStepCount</td>\n",
       "      <td>count</td>\n",
       "      <td>1.0</td>\n",
       "      <td>0 days 00:07:12</td>\n",
       "    </tr>\n",
       "  </tbody>\n",
       "</table>\n",
       "<p>67915 rows × 10 columns</p>\n",
       "</div>"
      ],
      "text/plain": [
       "                startDate        creationDate  \\\n",
       "39887 2018-10-22 16:07:27 2018-10-28 19:30:28   \n",
       "39838 2018-10-08 07:46:00 2018-10-16 13:30:53   \n",
       "39794 2018-09-27 09:10:19 2018-10-03 12:01:23   \n",
       "39828 2018-10-04 11:43:34 2018-10-08 06:32:22   \n",
       "39863 2018-10-19 14:23:17 2018-10-22 12:03:59   \n",
       "...                   ...                 ...   \n",
       "20978 2017-08-28 22:24:00 2017-08-28 23:28:00   \n",
       "20979 2017-08-29 05:11:16 2017-08-29 05:28:26   \n",
       "21026 2017-08-29 20:22:56 2017-08-29 21:26:08   \n",
       "38197 2018-08-22 19:22:43 2018-08-22 20:37:59   \n",
       "26295 2017-12-13 18:36:25 2017-12-13 19:08:12   \n",
       "\n",
       "                                                  device             endDate  \\\n",
       "39887  <<HKDevice: 0x282541360>, name:iPhone, manufac... 2018-10-28 19:23:29   \n",
       "39838  <<HKDevice: 0x2825625d0>, name:iPhone, manufac... 2018-10-16 13:02:24   \n",
       "39794  <<HKDevice: 0x282588730>, name:iPhone, manufac... 2018-10-02 22:29:06   \n",
       "39828  <<HKDevice: 0x28259c1e0>, name:iPhone, manufac... 2018-10-07 19:11:18   \n",
       "39863  <<HKDevice: 0x28256b840>, name:iPhone, manufac... 2018-10-21 17:42:20   \n",
       "...                                                  ...                 ...   \n",
       "20978  <<HKDevice: 0x2826ba120>, name:iPhone, manufac... 2017-08-28 22:29:56   \n",
       "20979  <<HKDevice: 0x2826ba1c0>, name:iPhone, manufac... 2017-08-29 05:18:20   \n",
       "21026  <<HKDevice: 0x28257d680>, name:iPhone, manufac... 2017-08-29 20:29:44   \n",
       "38197  <<HKDevice: 0x2826c58b0>, name:iPhone, manufac... 2018-08-22 19:30:48   \n",
       "26295  <<HKDevice: 0x2826d2490>, name:iPhone, manufac... 2017-12-13 18:43:05   \n",
       "\n",
       "          sourceName sourceVersion                               type   unit  \\\n",
       "39887  Noah's iPhone        12.0.1  HKQuantityTypeIdentifierStepCount  count   \n",
       "39838  Noah's iPhone          12.0  HKQuantityTypeIdentifierStepCount  count   \n",
       "39794  Noah's iPhone          12.0  HKQuantityTypeIdentifierStepCount  count   \n",
       "39828  Noah's iPhone          12.0  HKQuantityTypeIdentifierStepCount  count   \n",
       "39863  Noah's iPhone        12.0.1  HKQuantityTypeIdentifierStepCount  count   \n",
       "...              ...           ...                                ...    ...   \n",
       "20978  Noah's iPhone        10.3.3  HKQuantityTypeIdentifierStepCount  count   \n",
       "20979  Noah's iPhone        10.3.3  HKQuantityTypeIdentifierStepCount  count   \n",
       "21026  Noah's iPhone        10.3.3  HKQuantityTypeIdentifierStepCount  count   \n",
       "38197  Noah's iPhone        11.4.1  HKQuantityTypeIdentifierStepCount  count   \n",
       "26295  Noah's iPhone        11.1.2  HKQuantityTypeIdentifierStepCount  count   \n",
       "\n",
       "         value     next_record  \n",
       "39887  71589.0 6 days 03:26:09  \n",
       "39838  65699.0 8 days 06:04:14  \n",
       "39794  56562.0 5 days 13:18:47  \n",
       "39828  38709.0 3 days 07:27:44  \n",
       "39863  32077.0 2 days 03:48:13  \n",
       "...        ...             ...  \n",
       "20978      1.0 0 days 06:47:16  \n",
       "20979      1.0 0 days 00:25:32  \n",
       "21026      1.0 0 days 00:12:01  \n",
       "38197      1.0 0 days 00:15:22  \n",
       "26295      1.0 0 days 00:07:12  \n",
       "\n",
       "[67915 rows x 10 columns]"
      ]
     },
     "execution_count": 56,
     "metadata": {},
     "output_type": "execute_result"
    }
   ],
   "source": [
    "steps.sort_values('value', ascending=False)"
   ]
  },
  {
   "cell_type": "code",
   "execution_count": 57,
   "metadata": {},
   "outputs": [],
   "source": [
    "hourly['hour'] = hourly.index.hour"
   ]
  },
  {
   "cell_type": "code",
   "execution_count": 58,
   "metadata": {},
   "outputs": [
    {
     "data": {
      "text/html": [
       "<div>\n",
       "<style scoped>\n",
       "    .dataframe tbody tr th:only-of-type {\n",
       "        vertical-align: middle;\n",
       "    }\n",
       "\n",
       "    .dataframe tbody tr th {\n",
       "        vertical-align: top;\n",
       "    }\n",
       "\n",
       "    .dataframe thead th {\n",
       "        text-align: right;\n",
       "    }\n",
       "</style>\n",
       "<table border=\"1\" class=\"dataframe\">\n",
       "  <thead>\n",
       "    <tr style=\"text-align: right;\">\n",
       "      <th></th>\n",
       "      <th>value</th>\n",
       "      <th>hour</th>\n",
       "    </tr>\n",
       "    <tr>\n",
       "      <th>startDate</th>\n",
       "      <th></th>\n",
       "      <th></th>\n",
       "    </tr>\n",
       "  </thead>\n",
       "  <tbody>\n",
       "    <tr>\n",
       "      <th>2016-06-03 16:00:00</th>\n",
       "      <td>138.0</td>\n",
       "      <td>16</td>\n",
       "    </tr>\n",
       "    <tr>\n",
       "      <th>2016-06-03 17:00:00</th>\n",
       "      <td>140.0</td>\n",
       "      <td>17</td>\n",
       "    </tr>\n",
       "    <tr>\n",
       "      <th>2016-06-03 18:00:00</th>\n",
       "      <td>160.0</td>\n",
       "      <td>18</td>\n",
       "    </tr>\n",
       "    <tr>\n",
       "      <th>2016-06-03 19:00:00</th>\n",
       "      <td>0.0</td>\n",
       "      <td>19</td>\n",
       "    </tr>\n",
       "    <tr>\n",
       "      <th>2016-06-03 20:00:00</th>\n",
       "      <td>13.0</td>\n",
       "      <td>20</td>\n",
       "    </tr>\n",
       "    <tr>\n",
       "      <th>...</th>\n",
       "      <td>...</td>\n",
       "      <td>...</td>\n",
       "    </tr>\n",
       "    <tr>\n",
       "      <th>2020-08-18 16:00:00</th>\n",
       "      <td>110.0</td>\n",
       "      <td>16</td>\n",
       "    </tr>\n",
       "    <tr>\n",
       "      <th>2020-08-18 17:00:00</th>\n",
       "      <td>38.0</td>\n",
       "      <td>17</td>\n",
       "    </tr>\n",
       "    <tr>\n",
       "      <th>2020-08-18 18:00:00</th>\n",
       "      <td>111.0</td>\n",
       "      <td>18</td>\n",
       "    </tr>\n",
       "    <tr>\n",
       "      <th>2020-08-18 19:00:00</th>\n",
       "      <td>79.0</td>\n",
       "      <td>19</td>\n",
       "    </tr>\n",
       "    <tr>\n",
       "      <th>2020-08-18 20:00:00</th>\n",
       "      <td>173.0</td>\n",
       "      <td>20</td>\n",
       "    </tr>\n",
       "  </tbody>\n",
       "</table>\n",
       "<p>36893 rows × 2 columns</p>\n",
       "</div>"
      ],
      "text/plain": [
       "                     value  hour\n",
       "startDate                       \n",
       "2016-06-03 16:00:00  138.0    16\n",
       "2016-06-03 17:00:00  140.0    17\n",
       "2016-06-03 18:00:00  160.0    18\n",
       "2016-06-03 19:00:00    0.0    19\n",
       "2016-06-03 20:00:00   13.0    20\n",
       "...                    ...   ...\n",
       "2020-08-18 16:00:00  110.0    16\n",
       "2020-08-18 17:00:00   38.0    17\n",
       "2020-08-18 18:00:00  111.0    18\n",
       "2020-08-18 19:00:00   79.0    19\n",
       "2020-08-18 20:00:00  173.0    20\n",
       "\n",
       "[36893 rows x 2 columns]"
      ]
     },
     "execution_count": 58,
     "metadata": {},
     "output_type": "execute_result"
    }
   ],
   "source": [
    "hourly"
   ]
  },
  {
   "cell_type": "code",
   "execution_count": 59,
   "metadata": {},
   "outputs": [],
   "source": [
    "hourly['new_value'] = hourly.value.apply(lambda x: 1000 if x > 10000 else x)"
   ]
  },
  {
   "cell_type": "code",
   "execution_count": 60,
   "metadata": {},
   "outputs": [
    {
     "data": {
      "text/plain": [
       "372.23009785054074"
      ]
     },
     "execution_count": 60,
     "metadata": {},
     "output_type": "execute_result"
    }
   ],
   "source": [
    "hourly.value.mean()"
   ]
  },
  {
   "cell_type": "code",
   "execution_count": 61,
   "metadata": {},
   "outputs": [
    {
     "data": {
      "text/plain": [
       "361.8946954706855"
      ]
     },
     "execution_count": 61,
     "metadata": {},
     "output_type": "execute_result"
    }
   ],
   "source": [
    "hourly.new_value.mean()"
   ]
  },
  {
   "cell_type": "code",
   "execution_count": 62,
   "metadata": {},
   "outputs": [
    {
     "data": {
      "text/plain": [
       "<matplotlib.axes._subplots.AxesSubplot at 0x1242047d0>"
      ]
     },
     "execution_count": 62,
     "metadata": {},
     "output_type": "execute_result"
    },
    {
     "data": {
      "image/png": "[encoded data removed]",
      "text/plain": [
       "<Figure size 432x288 with 1 Axes>"
      ]
     },
     "metadata": {
      "needs_background": "light"
     },
     "output_type": "display_data"
    }
   ],
   "source": [
    "hourly.groupby('hour').new_value.sum().plot.bar()"
   ]
  },
  {
   "cell_type": "code",
   "execution_count": 64,
   "metadata": {},
   "outputs": [
    {
     "data": {
      "text/plain": [
       "<matplotlib.axes._subplots.AxesSubplot at 0x124c92390>"
      ]
     },
     "execution_count": 64,
     "metadata": {},
     "output_type": "execute_result"
    },
    {
     "data": {
      "image/png": "[encoded data removed]",
      "text/plain": [
       "<Figure size 432x288 with 1 Axes>"
      ]
     },
     "metadata": {
      "needs_background": "light"
     },
     "output_type": "display_data"
    }
   ],
   "source": [
    "hourly.groupby('hour').new_value.mean().plot.bar()"
   ]
  },
  {
   "cell_type": "code",
   "execution_count": 65,
   "metadata": {},
   "outputs": [
    {
     "data": {
      "text/plain": [
       "<matplotlib.axes._subplots.AxesSubplot at 0x11f81bd10>"
      ]
     },
     "execution_count": 65,
     "metadata": {},
     "output_type": "execute_result"
    },
    {
     "data": {
      "image/png": "[encoded data removed]",
      "text/plain": [
       "<Figure size 432x288 with 1 Axes>"
      ]
     },
     "metadata": {
      "needs_background": "light"
     },
     "output_type": "display_data"
    }
   ],
   "source": [
    "hourly.groupby('hour').new_value.median().plot.bar()"
   ]
  },
  {
   "cell_type": "code",
   "execution_count": null,
   "metadata": {},
   "outputs": [],
   "source": []
  }
 ],
 "metadata": {
  "kernelspec": {
   "display_name": "Python 3",
   "language": "python",
   "name": "python3"
  },
  "language_info": {
   "codemirror_mode": {
    "name": "ipython",
    "version": 3
   },
   "file_extension": ".py",
   "mimetype": "text/x-python",
   "name": "python",
   "nbconvert_exporter": "python",
   "pygments_lexer": "ipython3",
   "version": "3.7.4"
  }
 },
 "nbformat": 4,
 "nbformat_minor": 2
}
