{
 "cells": [
  {
   "cell_type": "code",
   "execution_count": 1,
   "metadata": {},
   "outputs": [],
   "source": [
    "import pandas as pd\n",
    "import numpy as np\n",
    "import datetime\n",
    "\n",
    "import matplotlib.pyplot as plt\n",
    "import seaborn as sns"
   ]
  },
  {
   "cell_type": "code",
   "execution_count": 2,
   "metadata": {},
   "outputs": [],
   "source": [
    "import pandas_read_xml as pdx"
   ]
  },
  {
   "cell_type": "code",
   "execution_count": 3,
   "metadata": {},
   "outputs": [],
   "source": [
    "import xml.etree.ElementTree as etree"
   ]
  },
  {
   "cell_type": "code",
   "execution_count": 4,
   "metadata": {},
   "outputs": [],
   "source": [
    "tree = etree.parse(\"export.xml\")"
   ]
  },
  {
   "cell_type": "code",
   "execution_count": 5,
   "metadata": {},
   "outputs": [],
   "source": [
    "root = tree.getroot()"
   ]
  },
  {
   "cell_type": "code",
   "execution_count": null,
   "metadata": {},
   "outputs": [],
   "source": [
    "df = pd.DataFrame(root[4].attrib, index=[0])"
   ]
  },
  {
   "cell_type": "code",
   "execution_count": null,
   "metadata": {},
   "outputs": [],
   "source": [
    "root[5].attrib['type']"
   ]
  },
  {
   "cell_type": "code",
   "execution_count": null,
   "metadata": {
    "scrolled": false
   },
   "outputs": [],
   "source": [
    "## check to see if attribute is step counter\n",
    "i = 4\n",
    "while i < 67920:\n",
    "    if root[i].attrib['type'] == 'HKQuantityTypeIdentifierStepCount':\n",
    "    else:\n",
    "        print(i)\n",
    "        break\n",
    "    i += 1\n",
    "    "
   ]
  },
  {
   "cell_type": "code",
   "execution_count": null,
   "metadata": {},
   "outputs": [],
   "source": [
    "root[67919].attrib"
   ]
  },
  {
   "cell_type": "code",
   "execution_count": null,
   "metadata": {},
   "outputs": [],
   "source": [
    "i = 67919\n",
    "while i < 1_000_000:\n",
    "    if root[i].attrib['type'] == 'HKQuantityTypeIdentifierDistanceWalkingRunning':\n",
    "    else:\n",
    "        print(f'{i} is false and break')\n",
    "        break\n",
    "    i += 1"
   ]
  },
  {
   "cell_type": "code",
   "execution_count": null,
   "metadata": {},
   "outputs": [],
   "source": [
    "root[135827].attrib"
   ]
  },
  {
   "cell_type": "code",
   "execution_count": null,
   "metadata": {},
   "outputs": [],
   "source": [
    "i = 135827\n",
    "while i < 1_000_000:\n",
    "    if root[i].attrib['type'] == 'HKQuantityTypeIdentifierFlightsClimbed':\n",
    "    else:\n",
    "        print(f'{i} is false and break')\n",
    "        break\n",
    "    i += 1"
   ]
  },
  {
   "cell_type": "code",
   "execution_count": null,
   "metadata": {},
   "outputs": [],
   "source": [
    "root[137028].attrib"
   ]
  },
  {
   "cell_type": "code",
   "execution_count": null,
   "metadata": {},
   "outputs": [],
   "source": [
    "i = 4\n",
    "type_list = []\n",
    "while i < 1_000_000:\n",
    "    if root[i].attrib['type'] in type_list:\n",
    "\n",
    "    else:\n",
    "        type_list.append(root[i].attrib['type'])\n",
    "    i +=1\n",
    "        "
   ]
  },
  {
   "cell_type": "code",
   "execution_count": 8,
   "metadata": {},
   "outputs": [
    {
     "ename": "NameError",
     "evalue": "name 'type_list' is not defined",
     "output_type": "error",
     "traceback": [
      "\u001b[0;31m---------------------------------------------------------------------------\u001b[0m",
      "\u001b[0;31mNameError\u001b[0m                                 Traceback (most recent call last)",
      "\u001b[0;32m<ipython-input-8-794a2c6450f8>\u001b[0m in \u001b[0;36m<module>\u001b[0;34m\u001b[0m\n\u001b[0;32m----> 1\u001b[0;31m \u001b[0mtype_list\u001b[0m\u001b[0;34m\u001b[0m\u001b[0;34m\u001b[0m\u001b[0m\n\u001b[0m",
      "\u001b[0;31mNameError\u001b[0m: name 'type_list' is not defined"
     ]
    }
   ],
   "source": [
    "type_list"
   ]
  },
  {
   "cell_type": "code",
   "execution_count": null,
   "metadata": {},
   "outputs": [],
   "source": [
    "def build_df()\n",
    "df = pd.DataFrame()\n",
    "for i in range(4,137028):\n",
    "    dict_new = root[i].attrib\n",
    "    df = df.append(dict_new, ignore_index=True)\n"
   ]
  },
  {
   "cell_type": "code",
   "execution_count": null,
   "metadata": {},
   "outputs": [],
   "source": []
  },
  {
   "cell_type": "code",
   "execution_count": null,
   "metadata": {},
   "outputs": [],
   "source": [
    "df.to_csv('xml.csv')"
   ]
  },
  {
   "cell_type": "code",
   "execution_count": null,
   "metadata": {},
   "outputs": [],
   "source": [
    "df['endDate'] = pd.to_datetime(df.endDate)\n",
    "df['startDate'] = pd.to_datetime(df.startDate)\n",
    "df['creationDate'] = pd.to_datetime(df.creationDate)"
   ]
  },
  {
   "cell_type": "code",
   "execution_count": null,
   "metadata": {},
   "outputs": [],
   "source": [
    "df = df.set_index('startDate')"
   ]
  },
  {
   "cell_type": "code",
   "execution_count": null,
   "metadata": {},
   "outputs": [],
   "source": [
    "df.value.resample('D').sum()"
   ]
  },
  {
   "cell_type": "code",
   "execution_count": null,
   "metadata": {},
   "outputs": [],
   "source": [
    "df.type.value_counts()"
   ]
  },
  {
   "cell_type": "code",
   "execution_count": 12,
   "metadata": {},
   "outputs": [],
   "source": [
    "df = pd.read_csv(\"xml.csv\")"
   ]
  },
  {
   "cell_type": "code",
   "execution_count": 14,
   "metadata": {},
   "outputs": [
    {
     "data": {
      "text/plain": [
       "HKQuantityTypeIdentifierStepCount                 67915\n",
       "HKQuantityTypeIdentifierDistanceWalkingRunning    67908\n",
       "HKQuantityTypeIdentifierFlightsClimbed             1201\n",
       "Name: type, dtype: int64"
      ]
     },
     "execution_count": 14,
     "metadata": {},
     "output_type": "execute_result"
    }
   ],
   "source": [
    "df.type.value_counts()"
   ]
  },
  {
   "cell_type": "code",
   "execution_count": 15,
   "metadata": {},
   "outputs": [],
   "source": [
    "df_steps = df[df.type == 'HKQuantityTypeIdentifierStepCount']"
   ]
  },
  {
   "cell_type": "code",
   "execution_count": 18,
   "metadata": {},
   "outputs": [
    {
     "data": {
      "text/html": [
       "<div>\n",
       "<style scoped>\n",
       "    .dataframe tbody tr th:only-of-type {\n",
       "        vertical-align: middle;\n",
       "    }\n",
       "\n",
       "    .dataframe tbody tr th {\n",
       "        vertical-align: top;\n",
       "    }\n",
       "\n",
       "    .dataframe thead th {\n",
       "        text-align: right;\n",
       "    }\n",
       "</style>\n",
       "<table border=\"1\" class=\"dataframe\">\n",
       "  <thead>\n",
       "    <tr style=\"text-align: right;\">\n",
       "      <th></th>\n",
       "      <th>Unnamed: 0</th>\n",
       "      <th>creationDate</th>\n",
       "      <th>device</th>\n",
       "      <th>endDate</th>\n",
       "      <th>sourceName</th>\n",
       "      <th>sourceVersion</th>\n",
       "      <th>startDate</th>\n",
       "      <th>type</th>\n",
       "      <th>unit</th>\n",
       "      <th>value</th>\n",
       "    </tr>\n",
       "  </thead>\n",
       "  <tbody>\n",
       "    <tr>\n",
       "      <th>0</th>\n",
       "      <td>0</td>\n",
       "      <td>2016-06-03 17:38:46 -0500</td>\n",
       "      <td>&lt;&lt;HKDevice: 0x2825a8410&gt;, name:iPhone, manufac...</td>\n",
       "      <td>2016-06-03 16:40:52 -0500</td>\n",
       "      <td>Noah's iPhone</td>\n",
       "      <td>9.3.1</td>\n",
       "      <td>2016-06-03 16:40:09 -0500</td>\n",
       "      <td>HKQuantityTypeIdentifierStepCount</td>\n",
       "      <td>count</td>\n",
       "      <td>70.0</td>\n",
       "    </tr>\n",
       "    <tr>\n",
       "      <th>1</th>\n",
       "      <td>1</td>\n",
       "      <td>2016-06-03 17:38:46 -0500</td>\n",
       "      <td>&lt;&lt;HKDevice: 0x2825a83c0&gt;, name:iPhone, manufac...</td>\n",
       "      <td>2016-06-03 16:58:26 -0500</td>\n",
       "      <td>Noah's iPhone</td>\n",
       "      <td>9.3.1</td>\n",
       "      <td>2016-06-03 16:57:23 -0500</td>\n",
       "      <td>HKQuantityTypeIdentifierStepCount</td>\n",
       "      <td>count</td>\n",
       "      <td>68.0</td>\n",
       "    </tr>\n",
       "    <tr>\n",
       "      <th>2</th>\n",
       "      <td>2</td>\n",
       "      <td>2016-06-03 18:39:21 -0500</td>\n",
       "      <td>&lt;&lt;HKDevice: 0x2825a9270&gt;, name:iPhone, manufac...</td>\n",
       "      <td>2016-06-03 17:35:45 -0500</td>\n",
       "      <td>Noah's iPhone</td>\n",
       "      <td>9.3.1</td>\n",
       "      <td>2016-06-03 17:34:29 -0500</td>\n",
       "      <td>HKQuantityTypeIdentifierStepCount</td>\n",
       "      <td>count</td>\n",
       "      <td>55.0</td>\n",
       "    </tr>\n",
       "    <tr>\n",
       "      <th>3</th>\n",
       "      <td>3</td>\n",
       "      <td>2016-06-03 18:39:21 -0500</td>\n",
       "      <td>&lt;&lt;HKDevice: 0x2825aa030&gt;, name:iPhone, manufac...</td>\n",
       "      <td>2016-06-03 17:48:03 -0500</td>\n",
       "      <td>Noah's iPhone</td>\n",
       "      <td>9.3.1</td>\n",
       "      <td>2016-06-03 17:43:01 -0500</td>\n",
       "      <td>HKQuantityTypeIdentifierStepCount</td>\n",
       "      <td>count</td>\n",
       "      <td>42.0</td>\n",
       "    </tr>\n",
       "    <tr>\n",
       "      <th>4</th>\n",
       "      <td>4</td>\n",
       "      <td>2016-06-03 18:39:21 -0500</td>\n",
       "      <td>&lt;&lt;HKDevice: 0x2825a8cd0&gt;, name:iPhone, manufac...</td>\n",
       "      <td>2016-06-03 17:49:54 -0500</td>\n",
       "      <td>Noah's iPhone</td>\n",
       "      <td>9.3.1</td>\n",
       "      <td>2016-06-03 17:48:03 -0500</td>\n",
       "      <td>HKQuantityTypeIdentifierStepCount</td>\n",
       "      <td>count</td>\n",
       "      <td>43.0</td>\n",
       "    </tr>\n",
       "    <tr>\n",
       "      <th>...</th>\n",
       "      <td>...</td>\n",
       "      <td>...</td>\n",
       "      <td>...</td>\n",
       "      <td>...</td>\n",
       "      <td>...</td>\n",
       "      <td>...</td>\n",
       "      <td>...</td>\n",
       "      <td>...</td>\n",
       "      <td>...</td>\n",
       "      <td>...</td>\n",
       "    </tr>\n",
       "    <tr>\n",
       "      <th>67910</th>\n",
       "      <td>67910</td>\n",
       "      <td>2020-08-18 20:55:57 -0500</td>\n",
       "      <td>&lt;&lt;HKDevice: 0x282510be0&gt;, name:iPhone, manufac...</td>\n",
       "      <td>2020-08-18 20:48:09 -0500</td>\n",
       "      <td>Noah's iPhone</td>\n",
       "      <td>13.6</td>\n",
       "      <td>2020-08-18 20:48:04 -0500</td>\n",
       "      <td>HKQuantityTypeIdentifierStepCount</td>\n",
       "      <td>count</td>\n",
       "      <td>9.0</td>\n",
       "    </tr>\n",
       "    <tr>\n",
       "      <th>67911</th>\n",
       "      <td>67911</td>\n",
       "      <td>2020-08-18 20:55:57 -0500</td>\n",
       "      <td>&lt;&lt;HKDevice: 0x282510c80&gt;, name:iPhone, manufac...</td>\n",
       "      <td>2020-08-18 20:48:14 -0500</td>\n",
       "      <td>Noah's iPhone</td>\n",
       "      <td>13.6</td>\n",
       "      <td>2020-08-18 20:48:09 -0500</td>\n",
       "      <td>HKQuantityTypeIdentifierStepCount</td>\n",
       "      <td>count</td>\n",
       "      <td>7.0</td>\n",
       "    </tr>\n",
       "    <tr>\n",
       "      <th>67912</th>\n",
       "      <td>67912</td>\n",
       "      <td>2020-08-18 20:55:57 -0500</td>\n",
       "      <td>&lt;&lt;HKDevice: 0x2825107d0&gt;, name:iPhone, manufac...</td>\n",
       "      <td>2020-08-18 20:49:31 -0500</td>\n",
       "      <td>Noah's iPhone</td>\n",
       "      <td>13.6</td>\n",
       "      <td>2020-08-18 20:49:26 -0500</td>\n",
       "      <td>HKQuantityTypeIdentifierStepCount</td>\n",
       "      <td>count</td>\n",
       "      <td>12.0</td>\n",
       "    </tr>\n",
       "    <tr>\n",
       "      <th>67913</th>\n",
       "      <td>67913</td>\n",
       "      <td>2020-08-18 20:55:57 -0500</td>\n",
       "      <td>&lt;&lt;HKDevice: 0x282513ca0&gt;, name:iPhone, manufac...</td>\n",
       "      <td>2020-08-18 20:49:36 -0500</td>\n",
       "      <td>Noah's iPhone</td>\n",
       "      <td>13.6</td>\n",
       "      <td>2020-08-18 20:49:31 -0500</td>\n",
       "      <td>HKQuantityTypeIdentifierStepCount</td>\n",
       "      <td>count</td>\n",
       "      <td>9.0</td>\n",
       "    </tr>\n",
       "    <tr>\n",
       "      <th>67914</th>\n",
       "      <td>67914</td>\n",
       "      <td>2020-08-18 20:55:57 -0500</td>\n",
       "      <td>&lt;&lt;HKDevice: 0x2825136b0&gt;, name:iPhone, manufac...</td>\n",
       "      <td>2020-08-18 20:49:39 -0500</td>\n",
       "      <td>Noah's iPhone</td>\n",
       "      <td>13.6</td>\n",
       "      <td>2020-08-18 20:49:36 -0500</td>\n",
       "      <td>HKQuantityTypeIdentifierStepCount</td>\n",
       "      <td>count</td>\n",
       "      <td>3.0</td>\n",
       "    </tr>\n",
       "  </tbody>\n",
       "</table>\n",
       "<p>67915 rows × 10 columns</p>\n",
       "</div>"
      ],
      "text/plain": [
       "       Unnamed: 0               creationDate  \\\n",
       "0               0  2016-06-03 17:38:46 -0500   \n",
       "1               1  2016-06-03 17:38:46 -0500   \n",
       "2               2  2016-06-03 18:39:21 -0500   \n",
       "3               3  2016-06-03 18:39:21 -0500   \n",
       "4               4  2016-06-03 18:39:21 -0500   \n",
       "...           ...                        ...   \n",
       "67910       67910  2020-08-18 20:55:57 -0500   \n",
       "67911       67911  2020-08-18 20:55:57 -0500   \n",
       "67912       67912  2020-08-18 20:55:57 -0500   \n",
       "67913       67913  2020-08-18 20:55:57 -0500   \n",
       "67914       67914  2020-08-18 20:55:57 -0500   \n",
       "\n",
       "                                                  device  \\\n",
       "0      <<HKDevice: 0x2825a8410>, name:iPhone, manufac...   \n",
       "1      <<HKDevice: 0x2825a83c0>, name:iPhone, manufac...   \n",
       "2      <<HKDevice: 0x2825a9270>, name:iPhone, manufac...   \n",
       "3      <<HKDevice: 0x2825aa030>, name:iPhone, manufac...   \n",
       "4      <<HKDevice: 0x2825a8cd0>, name:iPhone, manufac...   \n",
       "...                                                  ...   \n",
       "67910  <<HKDevice: 0x282510be0>, name:iPhone, manufac...   \n",
       "67911  <<HKDevice: 0x282510c80>, name:iPhone, manufac...   \n",
       "67912  <<HKDevice: 0x2825107d0>, name:iPhone, manufac...   \n",
       "67913  <<HKDevice: 0x282513ca0>, name:iPhone, manufac...   \n",
       "67914  <<HKDevice: 0x2825136b0>, name:iPhone, manufac...   \n",
       "\n",
       "                         endDate     sourceName sourceVersion  \\\n",
       "0      2016-06-03 16:40:52 -0500  Noah's iPhone         9.3.1   \n",
       "1      2016-06-03 16:58:26 -0500  Noah's iPhone         9.3.1   \n",
       "2      2016-06-03 17:35:45 -0500  Noah's iPhone         9.3.1   \n",
       "3      2016-06-03 17:48:03 -0500  Noah's iPhone         9.3.1   \n",
       "4      2016-06-03 17:49:54 -0500  Noah's iPhone         9.3.1   \n",
       "...                          ...            ...           ...   \n",
       "67910  2020-08-18 20:48:09 -0500  Noah's iPhone          13.6   \n",
       "67911  2020-08-18 20:48:14 -0500  Noah's iPhone          13.6   \n",
       "67912  2020-08-18 20:49:31 -0500  Noah's iPhone          13.6   \n",
       "67913  2020-08-18 20:49:36 -0500  Noah's iPhone          13.6   \n",
       "67914  2020-08-18 20:49:39 -0500  Noah's iPhone          13.6   \n",
       "\n",
       "                       startDate                               type   unit  \\\n",
       "0      2016-06-03 16:40:09 -0500  HKQuantityTypeIdentifierStepCount  count   \n",
       "1      2016-06-03 16:57:23 -0500  HKQuantityTypeIdentifierStepCount  count   \n",
       "2      2016-06-03 17:34:29 -0500  HKQuantityTypeIdentifierStepCount  count   \n",
       "3      2016-06-03 17:43:01 -0500  HKQuantityTypeIdentifierStepCount  count   \n",
       "4      2016-06-03 17:48:03 -0500  HKQuantityTypeIdentifierStepCount  count   \n",
       "...                          ...                                ...    ...   \n",
       "67910  2020-08-18 20:48:04 -0500  HKQuantityTypeIdentifierStepCount  count   \n",
       "67911  2020-08-18 20:48:09 -0500  HKQuantityTypeIdentifierStepCount  count   \n",
       "67912  2020-08-18 20:49:26 -0500  HKQuantityTypeIdentifierStepCount  count   \n",
       "67913  2020-08-18 20:49:31 -0500  HKQuantityTypeIdentifierStepCount  count   \n",
       "67914  2020-08-18 20:49:36 -0500  HKQuantityTypeIdentifierStepCount  count   \n",
       "\n",
       "       value  \n",
       "0       70.0  \n",
       "1       68.0  \n",
       "2       55.0  \n",
       "3       42.0  \n",
       "4       43.0  \n",
       "...      ...  \n",
       "67910    9.0  \n",
       "67911    7.0  \n",
       "67912   12.0  \n",
       "67913    9.0  \n",
       "67914    3.0  \n",
       "\n",
       "[67915 rows x 10 columns]"
      ]
     },
     "execution_count": 18,
     "metadata": {},
     "output_type": "execute_result"
    }
   ],
   "source": [
    "df_steps"
   ]
  },
  {
   "cell_type": "code",
   "execution_count": 20,
   "metadata": {},
   "outputs": [
    {
     "name": "stderr",
     "output_type": "stream",
     "text": [
      "/usr/local/anaconda3/lib/python3.7/site-packages/ipykernel_launcher.py:1: SettingWithCopyWarning: \n",
      "A value is trying to be set on a copy of a slice from a DataFrame.\n",
      "Try using .loc[row_indexer,col_indexer] = value instead\n",
      "\n",
      "See the caveats in the documentation: https://pandas.pydata.org/pandas-docs/stable/user_guide/indexing.html#returning-a-view-versus-a-copy\n",
      "  \"\"\"Entry point for launching an IPython kernel.\n",
      "/usr/local/anaconda3/lib/python3.7/site-packages/ipykernel_launcher.py:2: SettingWithCopyWarning: \n",
      "A value is trying to be set on a copy of a slice from a DataFrame.\n",
      "Try using .loc[row_indexer,col_indexer] = value instead\n",
      "\n",
      "See the caveats in the documentation: https://pandas.pydata.org/pandas-docs/stable/user_guide/indexing.html#returning-a-view-versus-a-copy\n",
      "  \n",
      "/usr/local/anaconda3/lib/python3.7/site-packages/ipykernel_launcher.py:3: SettingWithCopyWarning: \n",
      "A value is trying to be set on a copy of a slice from a DataFrame.\n",
      "Try using .loc[row_indexer,col_indexer] = value instead\n",
      "\n",
      "See the caveats in the documentation: https://pandas.pydata.org/pandas-docs/stable/user_guide/indexing.html#returning-a-view-versus-a-copy\n",
      "  This is separate from the ipykernel package so we can avoid doing imports until\n"
     ]
    }
   ],
   "source": [
    "df_steps['endDate'] = pd.to_datetime(df_steps.endDate)\n",
    "df_steps['startDate'] = pd.to_datetime(df_steps.startDate)\n",
    "df_steps['creationDate'] = pd.to_datetime(df_steps.creationDate)"
   ]
  },
  {
   "cell_type": "code",
   "execution_count": 23,
   "metadata": {},
   "outputs": [],
   "source": [
    "df_steps = df_steps[['creationDate', 'endDate', 'startDate', 'value']]"
   ]
  },
  {
   "cell_type": "code",
   "execution_count": 33,
   "metadata": {},
   "outputs": [],
   "source": [
    "df_start = pd.DataFrame(df_steps.set_index('startDate').resample('d').value.sum())"
   ]
  },
  {
   "cell_type": "code",
   "execution_count": 34,
   "metadata": {},
   "outputs": [
    {
     "data": {
      "text/html": [
       "<div>\n",
       "<style scoped>\n",
       "    .dataframe tbody tr th:only-of-type {\n",
       "        vertical-align: middle;\n",
       "    }\n",
       "\n",
       "    .dataframe tbody tr th {\n",
       "        vertical-align: top;\n",
       "    }\n",
       "\n",
       "    .dataframe thead th {\n",
       "        text-align: right;\n",
       "    }\n",
       "</style>\n",
       "<table border=\"1\" class=\"dataframe\">\n",
       "  <thead>\n",
       "    <tr style=\"text-align: right;\">\n",
       "      <th></th>\n",
       "      <th>value</th>\n",
       "    </tr>\n",
       "    <tr>\n",
       "      <th>startDate</th>\n",
       "      <th></th>\n",
       "    </tr>\n",
       "  </thead>\n",
       "  <tbody>\n",
       "    <tr>\n",
       "      <th>2016-06-03 00:00:00-05:00</th>\n",
       "      <td>469.0</td>\n",
       "    </tr>\n",
       "    <tr>\n",
       "      <th>2016-06-04 00:00:00-05:00</th>\n",
       "      <td>4355.0</td>\n",
       "    </tr>\n",
       "    <tr>\n",
       "      <th>2016-06-05 00:00:00-05:00</th>\n",
       "      <td>4395.0</td>\n",
       "    </tr>\n",
       "    <tr>\n",
       "      <th>2016-06-06 00:00:00-05:00</th>\n",
       "      <td>6535.0</td>\n",
       "    </tr>\n",
       "    <tr>\n",
       "      <th>2016-06-07 00:00:00-05:00</th>\n",
       "      <td>6588.0</td>\n",
       "    </tr>\n",
       "    <tr>\n",
       "      <th>...</th>\n",
       "      <td>...</td>\n",
       "    </tr>\n",
       "    <tr>\n",
       "      <th>2020-08-14 00:00:00-05:00</th>\n",
       "      <td>10513.0</td>\n",
       "    </tr>\n",
       "    <tr>\n",
       "      <th>2020-08-15 00:00:00-05:00</th>\n",
       "      <td>10103.0</td>\n",
       "    </tr>\n",
       "    <tr>\n",
       "      <th>2020-08-16 00:00:00-05:00</th>\n",
       "      <td>14705.0</td>\n",
       "    </tr>\n",
       "    <tr>\n",
       "      <th>2020-08-17 00:00:00-05:00</th>\n",
       "      <td>10014.0</td>\n",
       "    </tr>\n",
       "    <tr>\n",
       "      <th>2020-08-18 00:00:00-05:00</th>\n",
       "      <td>9214.0</td>\n",
       "    </tr>\n",
       "  </tbody>\n",
       "</table>\n",
       "<p>1538 rows × 1 columns</p>\n",
       "</div>"
      ],
      "text/plain": [
       "                             value\n",
       "startDate                         \n",
       "2016-06-03 00:00:00-05:00    469.0\n",
       "2016-06-04 00:00:00-05:00   4355.0\n",
       "2016-06-05 00:00:00-05:00   4395.0\n",
       "2016-06-06 00:00:00-05:00   6535.0\n",
       "2016-06-07 00:00:00-05:00   6588.0\n",
       "...                            ...\n",
       "2020-08-14 00:00:00-05:00  10513.0\n",
       "2020-08-15 00:00:00-05:00  10103.0\n",
       "2020-08-16 00:00:00-05:00  14705.0\n",
       "2020-08-17 00:00:00-05:00  10014.0\n",
       "2020-08-18 00:00:00-05:00   9214.0\n",
       "\n",
       "[1538 rows x 1 columns]"
      ]
     },
     "execution_count": 34,
     "metadata": {},
     "output_type": "execute_result"
    }
   ],
   "source": [
    "df_start"
   ]
  },
  {
   "cell_type": "code",
   "execution_count": null,
   "metadata": {},
   "outputs": [],
   "source": []
  }
 ],
 "metadata": {
  "kernelspec": {
   "display_name": "Python 3",
   "language": "python",
   "name": "python3"
  },
  "language_info": {
   "codemirror_mode": {
    "name": "ipython",
    "version": 3
   },
   "file_extension": ".py",
   "mimetype": "text/x-python",
   "name": "python",
   "nbconvert_exporter": "python",
   "pygments_lexer": "ipython3",
   "version": "3.7.4"
  }
 },
 "nbformat": 4,
 "nbformat_minor": 2
}
