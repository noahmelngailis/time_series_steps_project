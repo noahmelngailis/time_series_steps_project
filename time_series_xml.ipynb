{
 "cells": [
  {
   "cell_type": "code",
   "execution_count": 1,
   "metadata": {},
   "outputs": [],
   "source": [
    "import pandas as pd\n",
    "import numpy as np\n",
    "import datetime\n",
    "\n",
    "import matplotlib.pyplot as plt\n",
    "import seaborn as sns"
   ]
  },
  {
   "cell_type": "code",
   "execution_count": 2,
   "metadata": {},
   "outputs": [],
   "source": [
    "from wrangle_xml import wrangle_xml, preprocessing_xml"
   ]
  },
  {
   "cell_type": "code",
   "execution_count": 3,
   "metadata": {},
   "outputs": [],
   "source": [
    "df = wrangle_xml()"
   ]
  },
  {
   "cell_type": "code",
   "execution_count": 4,
   "metadata": {},
   "outputs": [
    {
     "data": {
      "text/html": [
       "<div>\n",
       "<style scoped>\n",
       "    .dataframe tbody tr th:only-of-type {\n",
       "        vertical-align: middle;\n",
       "    }\n",
       "\n",
       "    .dataframe tbody tr th {\n",
       "        vertical-align: top;\n",
       "    }\n",
       "\n",
       "    .dataframe thead th {\n",
       "        text-align: right;\n",
       "    }\n",
       "</style>\n",
       "<table border=\"1\" class=\"dataframe\">\n",
       "  <thead>\n",
       "    <tr style=\"text-align: right;\">\n",
       "      <th></th>\n",
       "      <th>creationDate</th>\n",
       "      <th>device</th>\n",
       "      <th>endDate</th>\n",
       "      <th>sourceName</th>\n",
       "      <th>sourceVersion</th>\n",
       "      <th>startDate</th>\n",
       "      <th>type</th>\n",
       "      <th>unit</th>\n",
       "      <th>value</th>\n",
       "    </tr>\n",
       "  </thead>\n",
       "  <tbody>\n",
       "    <tr>\n",
       "      <th>0</th>\n",
       "      <td>2016-06-03 17:38:46 -0500</td>\n",
       "      <td>&lt;&lt;HKDevice: 0x2825a8410&gt;, name:iPhone, manufac...</td>\n",
       "      <td>2016-06-03 16:40:52 -0500</td>\n",
       "      <td>Noah's iPhone</td>\n",
       "      <td>9.3.1</td>\n",
       "      <td>2016-06-03 16:40:09 -0500</td>\n",
       "      <td>HKQuantityTypeIdentifierStepCount</td>\n",
       "      <td>count</td>\n",
       "      <td>70.0</td>\n",
       "    </tr>\n",
       "    <tr>\n",
       "      <th>1</th>\n",
       "      <td>2016-06-03 17:38:46 -0500</td>\n",
       "      <td>&lt;&lt;HKDevice: 0x2825a83c0&gt;, name:iPhone, manufac...</td>\n",
       "      <td>2016-06-03 16:58:26 -0500</td>\n",
       "      <td>Noah's iPhone</td>\n",
       "      <td>9.3.1</td>\n",
       "      <td>2016-06-03 16:57:23 -0500</td>\n",
       "      <td>HKQuantityTypeIdentifierStepCount</td>\n",
       "      <td>count</td>\n",
       "      <td>68.0</td>\n",
       "    </tr>\n",
       "  </tbody>\n",
       "</table>\n",
       "</div>"
      ],
      "text/plain": [
       "                creationDate  \\\n",
       "0  2016-06-03 17:38:46 -0500   \n",
       "1  2016-06-03 17:38:46 -0500   \n",
       "\n",
       "                                              device  \\\n",
       "0  <<HKDevice: 0x2825a8410>, name:iPhone, manufac...   \n",
       "1  <<HKDevice: 0x2825a83c0>, name:iPhone, manufac...   \n",
       "\n",
       "                     endDate     sourceName sourceVersion  \\\n",
       "0  2016-06-03 16:40:52 -0500  Noah's iPhone         9.3.1   \n",
       "1  2016-06-03 16:58:26 -0500  Noah's iPhone         9.3.1   \n",
       "\n",
       "                   startDate                               type   unit  value  \n",
       "0  2016-06-03 16:40:09 -0500  HKQuantityTypeIdentifierStepCount  count   70.0  \n",
       "1  2016-06-03 16:57:23 -0500  HKQuantityTypeIdentifierStepCount  count   68.0  "
      ]
     },
     "execution_count": 4,
     "metadata": {},
     "output_type": "execute_result"
    }
   ],
   "source": [
    "df.head(2)"
   ]
  },
  {
   "cell_type": "code",
   "execution_count": 5,
   "metadata": {},
   "outputs": [],
   "source": [
    "df = preprocessing_xml(df)"
   ]
  },
  {
   "cell_type": "code",
   "execution_count": 6,
   "metadata": {},
   "outputs": [
    {
     "data": {
      "text/html": [
       "<div>\n",
       "<style scoped>\n",
       "    .dataframe tbody tr th:only-of-type {\n",
       "        vertical-align: middle;\n",
       "    }\n",
       "\n",
       "    .dataframe tbody tr th {\n",
       "        vertical-align: top;\n",
       "    }\n",
       "\n",
       "    .dataframe thead th {\n",
       "        text-align: right;\n",
       "    }\n",
       "</style>\n",
       "<table border=\"1\" class=\"dataframe\">\n",
       "  <thead>\n",
       "    <tr style=\"text-align: right;\">\n",
       "      <th></th>\n",
       "      <th>creationDate</th>\n",
       "      <th>device</th>\n",
       "      <th>endDate</th>\n",
       "      <th>sourceName</th>\n",
       "      <th>sourceVersion</th>\n",
       "      <th>type</th>\n",
       "      <th>unit</th>\n",
       "      <th>value</th>\n",
       "    </tr>\n",
       "    <tr>\n",
       "      <th>startDate</th>\n",
       "      <th></th>\n",
       "      <th></th>\n",
       "      <th></th>\n",
       "      <th></th>\n",
       "      <th></th>\n",
       "      <th></th>\n",
       "      <th></th>\n",
       "      <th></th>\n",
       "    </tr>\n",
       "  </thead>\n",
       "  <tbody>\n",
       "    <tr>\n",
       "      <th>2016-06-03 16:40:09</th>\n",
       "      <td>2016-06-03 17:38:46</td>\n",
       "      <td>&lt;&lt;HKDevice: 0x2825a8410&gt;, name:iPhone, manufac...</td>\n",
       "      <td>2016-06-03 16:40:52</td>\n",
       "      <td>Noah's iPhone</td>\n",
       "      <td>9.3.1</td>\n",
       "      <td>HKQuantityTypeIdentifierStepCount</td>\n",
       "      <td>count</td>\n",
       "      <td>70.0</td>\n",
       "    </tr>\n",
       "    <tr>\n",
       "      <th>2016-06-03 16:57:23</th>\n",
       "      <td>2016-06-03 17:38:46</td>\n",
       "      <td>&lt;&lt;HKDevice: 0x2825a83c0&gt;, name:iPhone, manufac...</td>\n",
       "      <td>2016-06-03 16:58:26</td>\n",
       "      <td>Noah's iPhone</td>\n",
       "      <td>9.3.1</td>\n",
       "      <td>HKQuantityTypeIdentifierStepCount</td>\n",
       "      <td>count</td>\n",
       "      <td>68.0</td>\n",
       "    </tr>\n",
       "  </tbody>\n",
       "</table>\n",
       "</div>"
      ],
      "text/plain": [
       "                           creationDate  \\\n",
       "startDate                                 \n",
       "2016-06-03 16:40:09 2016-06-03 17:38:46   \n",
       "2016-06-03 16:57:23 2016-06-03 17:38:46   \n",
       "\n",
       "                                                                device  \\\n",
       "startDate                                                                \n",
       "2016-06-03 16:40:09  <<HKDevice: 0x2825a8410>, name:iPhone, manufac...   \n",
       "2016-06-03 16:57:23  <<HKDevice: 0x2825a83c0>, name:iPhone, manufac...   \n",
       "\n",
       "                                endDate     sourceName sourceVersion  \\\n",
       "startDate                                                              \n",
       "2016-06-03 16:40:09 2016-06-03 16:40:52  Noah's iPhone         9.3.1   \n",
       "2016-06-03 16:57:23 2016-06-03 16:58:26  Noah's iPhone         9.3.1   \n",
       "\n",
       "                                                  type   unit  value  \n",
       "startDate                                                             \n",
       "2016-06-03 16:40:09  HKQuantityTypeIdentifierStepCount  count   70.0  \n",
       "2016-06-03 16:57:23  HKQuantityTypeIdentifierStepCount  count   68.0  "
      ]
     },
     "execution_count": 6,
     "metadata": {},
     "output_type": "execute_result"
    }
   ],
   "source": [
    "df.head(2)"
   ]
  },
  {
   "cell_type": "code",
   "execution_count": 7,
   "metadata": {},
   "outputs": [],
   "source": [
    "df_2 = pd.read_csv(\"Export.csv\")"
   ]
  },
  {
   "cell_type": "code",
   "execution_count": 8,
   "metadata": {},
   "outputs": [],
   "source": [
    "df_2['Date'] = pd.to_datetime(df_2.Date)"
   ]
  },
  {
   "cell_type": "code",
   "execution_count": 9,
   "metadata": {},
   "outputs": [
    {
     "data": {
      "text/plain": [
       "min   2018-08-26\n",
       "max   2020-08-16\n",
       "Name: Date, dtype: datetime64[ns]"
      ]
     },
     "execution_count": 9,
     "metadata": {},
     "output_type": "execute_result"
    }
   ],
   "source": [
    "df_2.Date.agg([min, max])"
   ]
  },
  {
   "cell_type": "code",
   "execution_count": 10,
   "metadata": {},
   "outputs": [
    {
     "data": {
      "text/plain": [
       "0       True\n",
       "1       True\n",
       "2       True\n",
       "3       True\n",
       "4       True\n",
       "       ...  \n",
       "584    False\n",
       "585    False\n",
       "586    False\n",
       "587    False\n",
       "588    False\n",
       "Name: Date, Length: 589, dtype: bool"
      ]
     },
     "execution_count": 10,
     "metadata": {},
     "output_type": "execute_result"
    }
   ],
   "source": [
    "df_2.Date > \"2020-01-01\""
   ]
  },
  {
   "cell_type": "code",
   "execution_count": 11,
   "metadata": {},
   "outputs": [
    {
     "data": {
      "text/plain": [
       "HKQuantityTypeIdentifierStepCount                 67915\n",
       "HKQuantityTypeIdentifierDistanceWalkingRunning    67908\n",
       "HKQuantityTypeIdentifierFlightsClimbed             1201\n",
       "Name: type, dtype: int64"
      ]
     },
     "execution_count": 11,
     "metadata": {},
     "output_type": "execute_result"
    }
   ],
   "source": [
    "df.type.value_counts()"
   ]
  },
  {
   "cell_type": "code",
   "execution_count": 12,
   "metadata": {},
   "outputs": [],
   "source": [
    "df = pd.read_csv(\"xml.csv\")"
   ]
  },
  {
   "cell_type": "code",
   "execution_count": 13,
   "metadata": {},
   "outputs": [
    {
     "data": {
      "text/plain": [
       "HKQuantityTypeIdentifierStepCount                 67915\n",
       "HKQuantityTypeIdentifierDistanceWalkingRunning    67908\n",
       "HKQuantityTypeIdentifierFlightsClimbed             1201\n",
       "Name: type, dtype: int64"
      ]
     },
     "execution_count": 13,
     "metadata": {},
     "output_type": "execute_result"
    }
   ],
   "source": [
    "df.type.value_counts()"
   ]
  },
  {
   "cell_type": "code",
   "execution_count": 24,
   "metadata": {},
   "outputs": [],
   "source": [
    "df = wrangle_xml()"
   ]
  },
  {
   "cell_type": "code",
   "execution_count": 117,
   "metadata": {},
   "outputs": [],
   "source": [
    "df_steps = df[df.type == 'HKQuantityTypeIdentifierStepCount']"
   ]
  },
  {
   "cell_type": "code",
   "execution_count": 118,
   "metadata": {},
   "outputs": [
    {
     "name": "stderr",
     "output_type": "stream",
     "text": [
      "/Users/noahsdisk/codeup-data-science/time_series_steps_project/wrangle_xml.py:103: SettingWithCopyWarning: \n",
      "A value is trying to be set on a copy of a slice from a DataFrame.\n",
      "Try using .loc[row_indexer,col_indexer] = value instead\n",
      "\n",
      "See the caveats in the documentation: https://pandas.pydata.org/pandas-docs/stable/user_guide/indexing.html#returning-a-view-versus-a-copy\n",
      "  df['endDate'] = df.endDate.str.replace(\"-0500\", \"\")\n",
      "/Users/noahsdisk/codeup-data-science/time_series_steps_project/wrangle_xml.py:104: SettingWithCopyWarning: \n",
      "A value is trying to be set on a copy of a slice from a DataFrame.\n",
      "Try using .loc[row_indexer,col_indexer] = value instead\n",
      "\n",
      "See the caveats in the documentation: https://pandas.pydata.org/pandas-docs/stable/user_guide/indexing.html#returning-a-view-versus-a-copy\n",
      "  df['startDate'] = df.startDate.str.replace(\"-0500\", \"\")\n",
      "/Users/noahsdisk/codeup-data-science/time_series_steps_project/wrangle_xml.py:105: SettingWithCopyWarning: \n",
      "A value is trying to be set on a copy of a slice from a DataFrame.\n",
      "Try using .loc[row_indexer,col_indexer] = value instead\n",
      "\n",
      "See the caveats in the documentation: https://pandas.pydata.org/pandas-docs/stable/user_guide/indexing.html#returning-a-view-versus-a-copy\n",
      "  df['creationDate'] = df.creationDate.str.replace(\"-0500\", \"\")\n",
      "/Users/noahsdisk/codeup-data-science/time_series_steps_project/wrangle_xml.py:108: SettingWithCopyWarning: \n",
      "A value is trying to be set on a copy of a slice from a DataFrame.\n",
      "Try using .loc[row_indexer,col_indexer] = value instead\n",
      "\n",
      "See the caveats in the documentation: https://pandas.pydata.org/pandas-docs/stable/user_guide/indexing.html#returning-a-view-versus-a-copy\n",
      "  df['endDate'] = pd.to_datetime(df.endDate)\n",
      "/Users/noahsdisk/codeup-data-science/time_series_steps_project/wrangle_xml.py:109: SettingWithCopyWarning: \n",
      "A value is trying to be set on a copy of a slice from a DataFrame.\n",
      "Try using .loc[row_indexer,col_indexer] = value instead\n",
      "\n",
      "See the caveats in the documentation: https://pandas.pydata.org/pandas-docs/stable/user_guide/indexing.html#returning-a-view-versus-a-copy\n",
      "  df['startDate'] = pd.to_datetime(df.startDate)\n",
      "/Users/noahsdisk/codeup-data-science/time_series_steps_project/wrangle_xml.py:110: SettingWithCopyWarning: \n",
      "A value is trying to be set on a copy of a slice from a DataFrame.\n",
      "Try using .loc[row_indexer,col_indexer] = value instead\n",
      "\n",
      "See the caveats in the documentation: https://pandas.pydata.org/pandas-docs/stable/user_guide/indexing.html#returning-a-view-versus-a-copy\n",
      "  df['creationDate'] = pd.to_datetime(df.creationDate)\n"
     ]
    }
   ],
   "source": [
    "df_steps = preprocessing_xml(df_steps)"
   ]
  },
  {
   "cell_type": "code",
   "execution_count": 119,
   "metadata": {},
   "outputs": [],
   "source": [
    "df_steps = df_steps.reset_index()"
   ]
  },
  {
   "cell_type": "code",
   "execution_count": 120,
   "metadata": {},
   "outputs": [
    {
     "data": {
      "text/html": [
       "<div>\n",
       "<style scoped>\n",
       "    .dataframe tbody tr th:only-of-type {\n",
       "        vertical-align: middle;\n",
       "    }\n",
       "\n",
       "    .dataframe tbody tr th {\n",
       "        vertical-align: top;\n",
       "    }\n",
       "\n",
       "    .dataframe thead th {\n",
       "        text-align: right;\n",
       "    }\n",
       "</style>\n",
       "<table border=\"1\" class=\"dataframe\">\n",
       "  <thead>\n",
       "    <tr style=\"text-align: right;\">\n",
       "      <th></th>\n",
       "      <th>creationDate</th>\n",
       "      <th>create_value</th>\n",
       "    </tr>\n",
       "  </thead>\n",
       "  <tbody>\n",
       "    <tr>\n",
       "      <th>0</th>\n",
       "      <td>2016-06-03</td>\n",
       "      <td>469.0</td>\n",
       "    </tr>\n",
       "    <tr>\n",
       "      <th>1</th>\n",
       "      <td>2016-06-04</td>\n",
       "      <td>4355.0</td>\n",
       "    </tr>\n",
       "    <tr>\n",
       "      <th>2</th>\n",
       "      <td>2016-06-05</td>\n",
       "      <td>4395.0</td>\n",
       "    </tr>\n",
       "    <tr>\n",
       "      <th>3</th>\n",
       "      <td>2016-06-06</td>\n",
       "      <td>6535.0</td>\n",
       "    </tr>\n",
       "    <tr>\n",
       "      <th>4</th>\n",
       "      <td>2016-06-07</td>\n",
       "      <td>6588.0</td>\n",
       "    </tr>\n",
       "  </tbody>\n",
       "</table>\n",
       "</div>"
      ],
      "text/plain": [
       "  creationDate  create_value\n",
       "0   2016-06-03         469.0\n",
       "1   2016-06-04        4355.0\n",
       "2   2016-06-05        4395.0\n",
       "3   2016-06-06        6535.0\n",
       "4   2016-06-07        6588.0"
      ]
     },
     "execution_count": 120,
     "metadata": {},
     "output_type": "execute_result"
    }
   ],
   "source": [
    "create = df_steps.set_index('creationDate').resample(\"D\").value.sum()\n",
    "create = pd.DataFrame(create)\n",
    "create.reset_index(inplace=True)\n",
    "create = create.rename(columns={'value': 'create_value'})\n",
    "create.head()"
   ]
  },
  {
   "cell_type": "code",
   "execution_count": 121,
   "metadata": {},
   "outputs": [],
   "source": [
    "start = df_steps.set_index('startDate').resample(\"D\").value.sum()\n",
    "start = pd.DataFrame(start)\n",
    "start.reset_index(inplace=True)\n",
    "start = start.rename(columns={'value': 'start_value'})"
   ]
  },
  {
   "cell_type": "code",
   "execution_count": 122,
   "metadata": {},
   "outputs": [],
   "source": [
    "end = df_steps.set_index('endDate').resample(\"D\").value.sum()\n",
    "end= pd.DataFrame(end)\n",
    "end.reset_index(inplace=True)\n",
    "end = end.rename(columns={'value': 'end_value'})"
   ]
  },
  {
   "cell_type": "code",
   "execution_count": 123,
   "metadata": {},
   "outputs": [],
   "source": [
    "df_validate = pd.read_csv(\"Export.csv\")"
   ]
  },
  {
   "cell_type": "code",
   "execution_count": 124,
   "metadata": {},
   "outputs": [],
   "source": [
    "df_validate['Date'] = pd.to_datetime(df_validate.Date)"
   ]
  },
  {
   "cell_type": "code",
   "execution_count": null,
   "metadata": {},
   "outputs": [],
   "source": [
    "df_validate = (df_validate.merge(start, left_on='Date', right_on='startDate')\n",
    "    .merge(create, left_on='Date', right_on='creationDate')\n",
    "    .merge(end, left_on='Date', right_on='endDate')\n",
    ")"
   ]
  },
  {
   "cell_type": "code",
   "execution_count": 128,
   "metadata": {},
   "outputs": [],
   "source": [
    "df_validate.drop(columns=(['startDate', 'endDate', 'creationDate']), inplace=True)"
   ]
  },
  {
   "cell_type": "code",
   "execution_count": 129,
   "metadata": {},
   "outputs": [
    {
     "name": "stdout",
     "output_type": "stream",
     "text": [
      "<class 'pandas.core.frame.DataFrame'>\n",
      "Int64Index: 589 entries, 0 to 588\n",
      "Data columns (total 7 columns):\n",
      " #   Column           Non-Null Count  Dtype         \n",
      "---  ------           --------------  -----         \n",
      " 0   Date             589 non-null    datetime64[ns]\n",
      " 1   Steps            589 non-null    int64         \n",
      " 2   Distance         589 non-null    float64       \n",
      " 3   Floors Ascended  589 non-null    int64         \n",
      " 4   start_value      589 non-null    float64       \n",
      " 5   create_value     589 non-null    float64       \n",
      " 6   end_value        589 non-null    float64       \n",
      "dtypes: datetime64[ns](1), float64(4), int64(2)\n",
      "memory usage: 36.8 KB\n"
     ]
    }
   ],
   "source": [
    "df_validate.info()"
   ]
  },
  {
   "cell_type": "code",
   "execution_count": 130,
   "metadata": {},
   "outputs": [
    {
     "data": {
      "text/html": [
       "<div>\n",
       "<style scoped>\n",
       "    .dataframe tbody tr th:only-of-type {\n",
       "        vertical-align: middle;\n",
       "    }\n",
       "\n",
       "    .dataframe tbody tr th {\n",
       "        vertical-align: top;\n",
       "    }\n",
       "\n",
       "    .dataframe thead th {\n",
       "        text-align: right;\n",
       "    }\n",
       "</style>\n",
       "<table border=\"1\" class=\"dataframe\">\n",
       "  <thead>\n",
       "    <tr style=\"text-align: right;\">\n",
       "      <th></th>\n",
       "      <th>Date</th>\n",
       "      <th>Steps</th>\n",
       "      <th>Distance</th>\n",
       "      <th>Floors Ascended</th>\n",
       "      <th>start_value</th>\n",
       "      <th>create_value</th>\n",
       "      <th>end_value</th>\n",
       "    </tr>\n",
       "  </thead>\n",
       "  <tbody>\n",
       "    <tr>\n",
       "      <th>0</th>\n",
       "      <td>2020-08-16</td>\n",
       "      <td>14656</td>\n",
       "      <td>6.7</td>\n",
       "      <td>0</td>\n",
       "      <td>14705.0</td>\n",
       "      <td>14705.0</td>\n",
       "      <td>14705.0</td>\n",
       "    </tr>\n",
       "    <tr>\n",
       "      <th>1</th>\n",
       "      <td>2020-08-15</td>\n",
       "      <td>10103</td>\n",
       "      <td>4.7</td>\n",
       "      <td>8</td>\n",
       "      <td>10103.0</td>\n",
       "      <td>10103.0</td>\n",
       "      <td>10103.0</td>\n",
       "    </tr>\n",
       "    <tr>\n",
       "      <th>2</th>\n",
       "      <td>2020-08-14</td>\n",
       "      <td>10554</td>\n",
       "      <td>4.9</td>\n",
       "      <td>0</td>\n",
       "      <td>10513.0</td>\n",
       "      <td>10513.0</td>\n",
       "      <td>10513.0</td>\n",
       "    </tr>\n",
       "    <tr>\n",
       "      <th>3</th>\n",
       "      <td>2020-08-13</td>\n",
       "      <td>8839</td>\n",
       "      <td>4.2</td>\n",
       "      <td>0</td>\n",
       "      <td>8839.0</td>\n",
       "      <td>8839.0</td>\n",
       "      <td>8839.0</td>\n",
       "    </tr>\n",
       "    <tr>\n",
       "      <th>4</th>\n",
       "      <td>2020-08-12</td>\n",
       "      <td>10937</td>\n",
       "      <td>5.2</td>\n",
       "      <td>0</td>\n",
       "      <td>10869.0</td>\n",
       "      <td>10869.0</td>\n",
       "      <td>10869.0</td>\n",
       "    </tr>\n",
       "    <tr>\n",
       "      <th>...</th>\n",
       "      <td>...</td>\n",
       "      <td>...</td>\n",
       "      <td>...</td>\n",
       "      <td>...</td>\n",
       "      <td>...</td>\n",
       "      <td>...</td>\n",
       "      <td>...</td>\n",
       "    </tr>\n",
       "    <tr>\n",
       "      <th>584</th>\n",
       "      <td>2018-08-30</td>\n",
       "      <td>3816</td>\n",
       "      <td>1.5</td>\n",
       "      <td>0</td>\n",
       "      <td>3797.0</td>\n",
       "      <td>3812.0</td>\n",
       "      <td>3797.0</td>\n",
       "    </tr>\n",
       "    <tr>\n",
       "      <th>585</th>\n",
       "      <td>2018-08-29</td>\n",
       "      <td>5965</td>\n",
       "      <td>2.4</td>\n",
       "      <td>0</td>\n",
       "      <td>5984.0</td>\n",
       "      <td>5964.0</td>\n",
       "      <td>5984.0</td>\n",
       "    </tr>\n",
       "    <tr>\n",
       "      <th>586</th>\n",
       "      <td>2018-08-28</td>\n",
       "      <td>3590</td>\n",
       "      <td>1.5</td>\n",
       "      <td>1</td>\n",
       "      <td>3571.0</td>\n",
       "      <td>3571.0</td>\n",
       "      <td>3571.0</td>\n",
       "    </tr>\n",
       "    <tr>\n",
       "      <th>587</th>\n",
       "      <td>2018-08-27</td>\n",
       "      <td>3147</td>\n",
       "      <td>1.3</td>\n",
       "      <td>1</td>\n",
       "      <td>3166.0</td>\n",
       "      <td>3166.0</td>\n",
       "      <td>3166.0</td>\n",
       "    </tr>\n",
       "    <tr>\n",
       "      <th>588</th>\n",
       "      <td>2018-08-26</td>\n",
       "      <td>4714</td>\n",
       "      <td>1.9</td>\n",
       "      <td>0</td>\n",
       "      <td>4712.0</td>\n",
       "      <td>4712.0</td>\n",
       "      <td>4712.0</td>\n",
       "    </tr>\n",
       "  </tbody>\n",
       "</table>\n",
       "<p>589 rows × 7 columns</p>\n",
       "</div>"
      ],
      "text/plain": [
       "          Date  Steps  Distance  Floors Ascended  start_value  create_value  \\\n",
       "0   2020-08-16  14656       6.7                0      14705.0       14705.0   \n",
       "1   2020-08-15  10103       4.7                8      10103.0       10103.0   \n",
       "2   2020-08-14  10554       4.9                0      10513.0       10513.0   \n",
       "3   2020-08-13   8839       4.2                0       8839.0        8839.0   \n",
       "4   2020-08-12  10937       5.2                0      10869.0       10869.0   \n",
       "..         ...    ...       ...              ...          ...           ...   \n",
       "584 2018-08-30   3816       1.5                0       3797.0        3812.0   \n",
       "585 2018-08-29   5965       2.4                0       5984.0        5964.0   \n",
       "586 2018-08-28   3590       1.5                1       3571.0        3571.0   \n",
       "587 2018-08-27   3147       1.3                1       3166.0        3166.0   \n",
       "588 2018-08-26   4714       1.9                0       4712.0        4712.0   \n",
       "\n",
       "     end_value  \n",
       "0      14705.0  \n",
       "1      10103.0  \n",
       "2      10513.0  \n",
       "3       8839.0  \n",
       "4      10869.0  \n",
       "..         ...  \n",
       "584     3797.0  \n",
       "585     5984.0  \n",
       "586     3571.0  \n",
       "587     3166.0  \n",
       "588     4712.0  \n",
       "\n",
       "[589 rows x 7 columns]"
      ]
     },
     "execution_count": 130,
     "metadata": {},
     "output_type": "execute_result"
    }
   ],
   "source": [
    "df_validate"
   ]
  },
  {
   "cell_type": "code",
   "execution_count": 131,
   "metadata": {},
   "outputs": [
    {
     "data": {
      "text/plain": [
       "Steps              5864517.0\n",
       "Distance              2585.1\n",
       "Floors Ascended        765.0\n",
       "start_value        5936360.0\n",
       "create_value       5936697.0\n",
       "end_value          5936343.0\n",
       "dtype: float64"
      ]
     },
     "execution_count": 131,
     "metadata": {},
     "output_type": "execute_result"
    }
   ],
   "source": [
    "df_validate.sum()"
   ]
  },
  {
   "cell_type": "code",
   "execution_count": 133,
   "metadata": {},
   "outputs": [
    {
     "data": {
      "text/plain": [
       "0.12700425850184288"
      ]
     },
     "execution_count": 133,
     "metadata": {},
     "output_type": "execute_result"
    }
   ],
   "source": [
    "abs(df_validate.Steps - df_validate.start_value).sum() / df_validate.start_value.sum()"
   ]
  },
  {
   "cell_type": "code",
   "execution_count": null,
   "metadata": {},
   "outputs": [],
   "source": []
  }
 ],
 "metadata": {
  "kernelspec": {
   "display_name": "Python 3",
   "language": "python",
   "name": "python3"
  },
  "language_info": {
   "codemirror_mode": {
    "name": "ipython",
    "version": 3
   },
   "file_extension": ".py",
   "mimetype": "text/x-python",
   "name": "python",
   "nbconvert_exporter": "python",
   "pygments_lexer": "ipython3",
   "version": "3.7.4"
  }
 },
 "nbformat": 4,
 "nbformat_minor": 2
}
